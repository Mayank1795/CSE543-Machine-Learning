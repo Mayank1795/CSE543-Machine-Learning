{
 "cells": [
  {
   "cell_type": "code",
   "execution_count": 352,
   "metadata": {},
   "outputs": [],
   "source": [
    "import numpy as np\n",
    "import pandas as pd\n",
    "import seaborn as sns\n",
    "import matplotlib\n",
    "from matplotlib import pyplot as plt\n",
    "import plotly.express as px\n",
    "from sklearn.linear_model import Ridge, Lasso\n",
    "from sklearn.metrics import make_scorer, mean_squared_error\n",
    "from sklearn.model_selection import GridSearchCV\n",
    "import os\n",
    "sns.set(style = \"darkgrid\")\n",
    "%matplotlib inline"
   ]
  },
  {
   "cell_type": "code",
   "execution_count": 353,
   "metadata": {},
   "outputs": [],
   "source": [
    "dataset_path = os.getcwd() + '/abalone/Dataset.data'\n",
    "attributes = ['sex', 'length', 'diam', 'height', 'whole_weight', \n",
    "              'shucked_weight', 'viscera_weight', 'shell_weight', 'rings']"
   ]
  },
  {
   "cell_type": "code",
   "execution_count": 354,
   "metadata": {},
   "outputs": [],
   "source": [
    "data = pd.read_csv(dataset_path, delim_whitespace=True, header=None, names=attributes)"
   ]
  },
  {
   "cell_type": "code",
   "execution_count": 355,
   "metadata": {},
   "outputs": [
    {
     "data": {
      "text/html": [
       "<div>\n",
       "<style scoped>\n",
       "    .dataframe tbody tr th:only-of-type {\n",
       "        vertical-align: middle;\n",
       "    }\n",
       "\n",
       "    .dataframe tbody tr th {\n",
       "        vertical-align: top;\n",
       "    }\n",
       "\n",
       "    .dataframe thead th {\n",
       "        text-align: right;\n",
       "    }\n",
       "</style>\n",
       "<table border=\"1\" class=\"dataframe\">\n",
       "  <thead>\n",
       "    <tr style=\"text-align: right;\">\n",
       "      <th></th>\n",
       "      <th>sex_F</th>\n",
       "      <th>sex_I</th>\n",
       "      <th>sex_M</th>\n",
       "      <th>length</th>\n",
       "      <th>diam</th>\n",
       "      <th>height</th>\n",
       "      <th>whole_weight</th>\n",
       "      <th>shucked_weight</th>\n",
       "      <th>viscera_weight</th>\n",
       "      <th>shell_weight</th>\n",
       "      <th>rings</th>\n",
       "    </tr>\n",
       "  </thead>\n",
       "  <tbody>\n",
       "    <tr>\n",
       "      <td>0</td>\n",
       "      <td>0</td>\n",
       "      <td>0</td>\n",
       "      <td>1</td>\n",
       "      <td>0.455</td>\n",
       "      <td>0.365</td>\n",
       "      <td>0.095</td>\n",
       "      <td>0.5140</td>\n",
       "      <td>0.2245</td>\n",
       "      <td>0.1010</td>\n",
       "      <td>0.150</td>\n",
       "      <td>15</td>\n",
       "    </tr>\n",
       "    <tr>\n",
       "      <td>1</td>\n",
       "      <td>0</td>\n",
       "      <td>0</td>\n",
       "      <td>1</td>\n",
       "      <td>0.350</td>\n",
       "      <td>0.265</td>\n",
       "      <td>0.090</td>\n",
       "      <td>0.2255</td>\n",
       "      <td>0.0995</td>\n",
       "      <td>0.0485</td>\n",
       "      <td>0.070</td>\n",
       "      <td>7</td>\n",
       "    </tr>\n",
       "    <tr>\n",
       "      <td>2</td>\n",
       "      <td>1</td>\n",
       "      <td>0</td>\n",
       "      <td>0</td>\n",
       "      <td>0.530</td>\n",
       "      <td>0.420</td>\n",
       "      <td>0.135</td>\n",
       "      <td>0.6770</td>\n",
       "      <td>0.2565</td>\n",
       "      <td>0.1415</td>\n",
       "      <td>0.210</td>\n",
       "      <td>9</td>\n",
       "    </tr>\n",
       "    <tr>\n",
       "      <td>3</td>\n",
       "      <td>0</td>\n",
       "      <td>0</td>\n",
       "      <td>1</td>\n",
       "      <td>0.440</td>\n",
       "      <td>0.365</td>\n",
       "      <td>0.125</td>\n",
       "      <td>0.5160</td>\n",
       "      <td>0.2155</td>\n",
       "      <td>0.1140</td>\n",
       "      <td>0.155</td>\n",
       "      <td>10</td>\n",
       "    </tr>\n",
       "    <tr>\n",
       "      <td>4</td>\n",
       "      <td>0</td>\n",
       "      <td>1</td>\n",
       "      <td>0</td>\n",
       "      <td>0.330</td>\n",
       "      <td>0.255</td>\n",
       "      <td>0.080</td>\n",
       "      <td>0.2050</td>\n",
       "      <td>0.0895</td>\n",
       "      <td>0.0395</td>\n",
       "      <td>0.055</td>\n",
       "      <td>7</td>\n",
       "    </tr>\n",
       "  </tbody>\n",
       "</table>\n",
       "</div>"
      ],
      "text/plain": [
       "   sex_F  sex_I  sex_M  length   diam  height  whole_weight  shucked_weight  \\\n",
       "0      0      0      1   0.455  0.365   0.095        0.5140          0.2245   \n",
       "1      0      0      1   0.350  0.265   0.090        0.2255          0.0995   \n",
       "2      1      0      0   0.530  0.420   0.135        0.6770          0.2565   \n",
       "3      0      0      1   0.440  0.365   0.125        0.5160          0.2155   \n",
       "4      0      1      0   0.330  0.255   0.080        0.2050          0.0895   \n",
       "\n",
       "   viscera_weight  shell_weight  rings  \n",
       "0          0.1010         0.150     15  \n",
       "1          0.0485         0.070      7  \n",
       "2          0.1415         0.210      9  \n",
       "3          0.1140         0.155     10  \n",
       "4          0.0395         0.055      7  "
      ]
     },
     "execution_count": 355,
     "metadata": {},
     "output_type": "execute_result"
    }
   ],
   "source": [
    "data = pd.concat([pd.get_dummies(data['sex'], prefix='sex'), data], axis=1)\n",
    "data.drop(columns=['sex'], inplace=True)\n",
    "data.head()"
   ]
  },
  {
   "cell_type": "code",
   "execution_count": 356,
   "metadata": {},
   "outputs": [
    {
     "data": {
      "text/html": [
       "<div>\n",
       "<style scoped>\n",
       "    .dataframe tbody tr th:only-of-type {\n",
       "        vertical-align: middle;\n",
       "    }\n",
       "\n",
       "    .dataframe tbody tr th {\n",
       "        vertical-align: top;\n",
       "    }\n",
       "\n",
       "    .dataframe thead th {\n",
       "        text-align: right;\n",
       "    }\n",
       "</style>\n",
       "<table border=\"1\" class=\"dataframe\">\n",
       "  <thead>\n",
       "    <tr style=\"text-align: right;\">\n",
       "      <th></th>\n",
       "      <th>sex_F</th>\n",
       "      <th>sex_I</th>\n",
       "      <th>sex_M</th>\n",
       "      <th>length</th>\n",
       "      <th>diam</th>\n",
       "      <th>height</th>\n",
       "      <th>whole_weight</th>\n",
       "      <th>shucked_weight</th>\n",
       "      <th>viscera_weight</th>\n",
       "      <th>shell_weight</th>\n",
       "      <th>rings</th>\n",
       "    </tr>\n",
       "  </thead>\n",
       "  <tbody>\n",
       "    <tr>\n",
       "      <td>0</td>\n",
       "      <td>1</td>\n",
       "      <td>0</td>\n",
       "      <td>0</td>\n",
       "      <td>0.440</td>\n",
       "      <td>0.340</td>\n",
       "      <td>0.100</td>\n",
       "      <td>0.4510</td>\n",
       "      <td>0.1880</td>\n",
       "      <td>0.0870</td>\n",
       "      <td>0.130</td>\n",
       "      <td>10</td>\n",
       "    </tr>\n",
       "    <tr>\n",
       "      <td>1</td>\n",
       "      <td>0</td>\n",
       "      <td>0</td>\n",
       "      <td>1</td>\n",
       "      <td>0.565</td>\n",
       "      <td>0.435</td>\n",
       "      <td>0.150</td>\n",
       "      <td>0.9900</td>\n",
       "      <td>0.5795</td>\n",
       "      <td>0.1825</td>\n",
       "      <td>0.206</td>\n",
       "      <td>8</td>\n",
       "    </tr>\n",
       "    <tr>\n",
       "      <td>2</td>\n",
       "      <td>0</td>\n",
       "      <td>0</td>\n",
       "      <td>1</td>\n",
       "      <td>0.370</td>\n",
       "      <td>0.280</td>\n",
       "      <td>0.105</td>\n",
       "      <td>0.2340</td>\n",
       "      <td>0.0905</td>\n",
       "      <td>0.0585</td>\n",
       "      <td>0.075</td>\n",
       "      <td>9</td>\n",
       "    </tr>\n",
       "    <tr>\n",
       "      <td>3</td>\n",
       "      <td>0</td>\n",
       "      <td>0</td>\n",
       "      <td>1</td>\n",
       "      <td>0.580</td>\n",
       "      <td>0.455</td>\n",
       "      <td>0.135</td>\n",
       "      <td>0.7955</td>\n",
       "      <td>0.4050</td>\n",
       "      <td>0.1670</td>\n",
       "      <td>0.204</td>\n",
       "      <td>10</td>\n",
       "    </tr>\n",
       "    <tr>\n",
       "      <td>4</td>\n",
       "      <td>1</td>\n",
       "      <td>0</td>\n",
       "      <td>0</td>\n",
       "      <td>0.525</td>\n",
       "      <td>0.390</td>\n",
       "      <td>0.135</td>\n",
       "      <td>0.6005</td>\n",
       "      <td>0.2265</td>\n",
       "      <td>0.1310</td>\n",
       "      <td>0.210</td>\n",
       "      <td>16</td>\n",
       "    </tr>\n",
       "  </tbody>\n",
       "</table>\n",
       "</div>"
      ],
      "text/plain": [
       "   sex_F  sex_I  sex_M  length   diam  height  whole_weight  shucked_weight  \\\n",
       "0      1      0      0   0.440  0.340   0.100        0.4510          0.1880   \n",
       "1      0      0      1   0.565  0.435   0.150        0.9900          0.5795   \n",
       "2      0      0      1   0.370  0.280   0.105        0.2340          0.0905   \n",
       "3      0      0      1   0.580  0.455   0.135        0.7955          0.4050   \n",
       "4      1      0      0   0.525  0.390   0.135        0.6005          0.2265   \n",
       "\n",
       "   viscera_weight  shell_weight  rings  \n",
       "0          0.0870         0.130     10  \n",
       "1          0.1825         0.206      8  \n",
       "2          0.0585         0.075      9  \n",
       "3          0.1670         0.204     10  \n",
       "4          0.1310         0.210     16  "
      ]
     },
     "execution_count": 356,
     "metadata": {},
     "output_type": "execute_result"
    }
   ],
   "source": [
    "data = data.sample(frac=1, axis=0, random_state=1)\n",
    "data.reset_index(drop=True, inplace=True)\n",
    "data.head()"
   ]
  },
  {
   "cell_type": "code",
   "execution_count": 357,
   "metadata": {},
   "outputs": [],
   "source": [
    "def gradient_descent(X, y, coeff, eta, niter): # theta_i\n",
    "    \"\"\"\n",
    "        eta: step size\n",
    "        X: training set\n",
    "        y: given predicted values for X\n",
    "        return: coeff\n",
    "    \"\"\"\n",
    "    n_iteration = 0\n",
    "    \n",
    "    while n_iteration < niter:\n",
    "        h_theta = predict(X, coeff) - y\n",
    "        gradient = np.zeros(coeff.shape[0]) # theta_0 included\n",
    "        \n",
    "        for i in range(0, coeff.shape[0]): # theta_i\n",
    "            gradient[i] = np.sum(np.dot(h_theta, X[:, i]))\n",
    "        \n",
    "#         print(gradient)\n",
    "        coeff = coeff - (2/X.shape[0])*eta*gradient\n",
    "        \n",
    "#         print('Iteration', n_iteration,' : ', loss(X, y, coeff)) # RMSE\n",
    "        n_iteration = n_iteration + 1\n",
    "    \n",
    "    return coeff"
   ]
  },
  {
   "cell_type": "code",
   "execution_count": 358,
   "metadata": {},
   "outputs": [],
   "source": [
    "def gradient_descent_l1(X, y, coeff, eta, alpha, niter): # theta_i\n",
    "    \"\"\"\n",
    "        eta: step size\n",
    "        X: training set\n",
    "        y: given predicted values for X\n",
    "        return: coeff\n",
    "    \"\"\"\n",
    "    n_iteration = 0\n",
    "    \n",
    "    while n_iteration < niter:\n",
    "        h_theta = predict(X, coeff) - y\n",
    "        gradient = np.zeros(coeff.shape[0]) # theta_0 included\n",
    "        \n",
    "        for i in range(0, coeff.shape[0]): # theta_i\n",
    "            gradient[i] = np.sum(np.dot(h_theta, X[:, i])) + alpha*np.sign(coeff[i])\n",
    "        \n",
    "#         print(gradient)\n",
    "        coeff = coeff - (2/X.shape[0])*eta*gradient\n",
    "        \n",
    "#         print('Iteration', n_iteration,' : ', loss(X, y, coeff)) # RMSE\n",
    "        n_iteration = n_iteration + 1\n",
    "    \n",
    "    return coeff"
   ]
  },
  {
   "cell_type": "code",
   "execution_count": 359,
   "metadata": {},
   "outputs": [],
   "source": [
    "def gradient_descent_l2(X, y, coeff, eta, alpha, niter): # theta_i\n",
    "    \"\"\"\n",
    "        eta: step size\n",
    "        X: training set\n",
    "        y: given predicted values for X\n",
    "        return: coeff\n",
    "    \"\"\"\n",
    "    n_iteration = 0\n",
    "    \n",
    "    while n_iteration < niter:\n",
    "        h_theta = predict(X, coeff) - y\n",
    "        gradient = np.zeros(coeff.shape[0]) # theta_0 included\n",
    "        \n",
    "        for i in range(0, coeff.shape[0]): # theta_i\n",
    "            gradient[i] = np.sum(np.dot(h_theta, X[:, i])) + 2*alpha*coeff[i] \n",
    "        \n",
    "#         print(gradient)\n",
    "        coeff = coeff - (2/X.shape[0])*eta*gradient\n",
    "        \n",
    "#         print('Iteration', n_iteration,' : ', loss(X, y, coeff)) # RMSE\n",
    "        n_iteration = n_iteration + 1\n",
    "    \n",
    "    return coeff"
   ]
  },
  {
   "cell_type": "code",
   "execution_count": 360,
   "metadata": {},
   "outputs": [],
   "source": [
    "def zscore_normalization(X, nu, std):\n",
    "    \"\"\"\n",
    "        X: data 2d array\n",
    "        nu: 1d mean vector\n",
    "        std: 1d std vector\n",
    "    \"\"\"\n",
    "    X = (X - nu)/std\n",
    "    return X"
   ]
  },
  {
   "cell_type": "code",
   "execution_count": 361,
   "metadata": {},
   "outputs": [],
   "source": [
    "def loss(X, y, coeff): # J_theta is loss function : rmse\n",
    "    \"\"\"\n",
    "        X: training set 2-d array\n",
    "        y: given predicted values for X 1-d array\n",
    "        return : root mean squared error\n",
    "    \"\"\"\n",
    "    h_theta = predict(X, coeff) - y\n",
    "    jtheta = (1/X.shape[0])*np.sum(np.power(h_theta, 2))\n",
    "    return np.sqrt(jtheta) # RMSE = sqrt(Mean(residual^2))"
   ]
  },
  {
   "cell_type": "code",
   "execution_count": 362,
   "metadata": {},
   "outputs": [],
   "source": [
    "def loss_l1(X, y, coeff, alpha): # loss function : logistic loss\n",
    "    \"\"\"\n",
    "        X: training set 2-d array\n",
    "        y: given predicted values for X 1-d array\n",
    "        return : total loss\n",
    "    \"\"\"\n",
    "    h_theta = predict(X, coeff) - y\n",
    "    jtheta = (1/X.shape[0])*np.sum(np.power(h_theta, 2))\n",
    "    return np.sqrt(jtheta) + alpha*np.sum(np.abs(coeff)) # RMSE = sqrt(Mean(residual^2)) + Regularization loss"
   ]
  },
  {
   "cell_type": "code",
   "execution_count": 363,
   "metadata": {},
   "outputs": [],
   "source": [
    "def loss_l2(X, y, coeff, alpha): # loss function : logistic loss\n",
    "    \"\"\"\n",
    "        X: training set 2-d array\n",
    "        y: given predicted values for X 1-d array\n",
    "        return : total loss\n",
    "    \"\"\"\n",
    "    h_theta = predict(X, coeff) - y\n",
    "    jtheta = (1/X.shape[0])*np.sum(np.power(h_theta, 2))\n",
    "    return np.sqrt(jtheta) + alpha*np.sum(np.power(coeff, 2))"
   ]
  },
  {
   "cell_type": "code",
   "execution_count": 364,
   "metadata": {},
   "outputs": [],
   "source": [
    "def predict(X, coeff): # H_theta(x) \n",
    "    \"\"\"\n",
    "        x: Data point 1-d array\n",
    "        coeff: 1-d array\n",
    "        returns: prediction for all data points 1-d array\n",
    "    \"\"\"\n",
    "    return np.dot(X, coeff)"
   ]
  },
  {
   "cell_type": "code",
   "execution_count": 365,
   "metadata": {},
   "outputs": [],
   "source": [
    "def plot_error(result, alpha): # Plot alpha vs erro for both training and validation data\n",
    "    matplotlib.rc('figure', figsize=(8, 5))\n",
    "    ax = sns.lineplot(x='param_alpha', y='mean_train_score', data=result, label='mean_train_score', color='b')\n",
    "    sns.lineplot(x='param_alpha', y='mean_test_score', data=result, color='r', label='mean_test_score', ax=ax)\n",
    "    ax.set_title('Error vs alpha')\n",
    "    ax.legend()\n",
    "    ax.set_ylabel('Error')\n",
    "    plt.axvline(alpha, 0, 1, linestyle='--')\n",
    "    plt.show()\n",
    "    return"
   ]
  },
  {
   "cell_type": "markdown",
   "metadata": {},
   "source": [
    "### Regularization\n",
    ">From the previous part, identify the validation set that has the lowest RMSE, and\n",
    "hold it out as the test set. Use the remaining 80% of the data as the new training +\n",
    "validation set. Note that your model should never see the test set (neither\n",
    "for training, nor for validation)."
   ]
  },
  {
   "cell_type": "code",
   "execution_count": 366,
   "metadata": {},
   "outputs": [],
   "source": [
    "def kfold(X, k, eta, niter):\n",
    "    \"\"\"\n",
    "    X: 2d numpy array with y\n",
    "    k: no. of splits of X    \n",
    "    \n",
    "    returns: loss_kcv = 2d array (normal eq solution)\n",
    "             avgrmse for training  & validation\n",
    "    \"\"\"\n",
    "    \n",
    "    n = X.shape[1] # LR Coefficients\n",
    "    fold = np.array_split(X, k)\n",
    "    \n",
    "    fold_rmse = np.inf # current fold validation rmse \n",
    "    X_test_new = 0\n",
    "    y_test_new = 0\n",
    "    X_train_plus_vad = 0\n",
    "    y_train_plus_vad = 0    \n",
    "    \n",
    "    for i in range(0, k): # ith fold is for validation \n",
    "        coeff = np.zeros(n)\n",
    "        vald = fold[i]\n",
    "        pos = list(range(0, k))\n",
    "        pos.remove(i)\n",
    "        \n",
    "        train_folds = [fold[j] for j in pos]\n",
    "        train_set = np.vstack(tuple(train_folds))\n",
    "#         print(train_set.shape, vald.shape)\n",
    "        \n",
    "        y_train = train_set[:, -1]    # actual y values\n",
    "        X_train = train_set[:, :-1]\n",
    "        y_test = vald[:, -1]     \n",
    "        X_test = vald[:, :-1]\n",
    "        \n",
    "        # normalization using zscore before adding offset\n",
    "        current_mean = np.mean(X_train, axis=0)\n",
    "        current_std = np.std(X_train, axis=0)\n",
    "        X_train = zscore_normalization(X_train, current_mean, current_std)\n",
    "        X_test = zscore_normalization(X_test, current_mean, current_std)  # using same mean, std of training set\n",
    "        \n",
    "        # bias = 1 in the training set and validation set - 1*theta_0\n",
    "        X_train = np.hstack((np.ones(X_train.shape[0])[:, np.newaxis], X_train))\n",
    "        X_test = np.hstack((np.ones(X_test.shape[0])[:, np.newaxis], X_test))\n",
    "        \n",
    "        # train on current training set\n",
    "        theta = gradient_descent(X_train, y_train, coeff, eta, niter)\n",
    "        \n",
    "        # test on current validation set\n",
    "        test_rmse = loss(X_test, y_test, theta)\n",
    "        print(test_rmse)\n",
    "        if(test_rmse < fold_rmse):\n",
    "            fold_rmse = test_rmse\n",
    "            X_test_new = vald[:, :-1]\n",
    "            y_test_new = vald[:, -1] \n",
    "            X_train_plus_vad = train_set[:, :-1] \n",
    "            y_train_plus_vad =  train_set[:, -1] \n",
    "            \n",
    "    return X_train_plus_vad, y_train_plus_vad, X_test_new, y_test\n",
    "    "
   ]
  },
  {
   "cell_type": "code",
   "execution_count": 367,
   "metadata": {},
   "outputs": [
    {
     "name": "stdout",
     "output_type": "stream",
     "text": [
      "2.206640210386414\n",
      "2.3606164470496185\n",
      "2.2271400533296535\n",
      "2.286804449240762\n",
      "2.1022723488423365\n"
     ]
    }
   ],
   "source": [
    "eta = 0.14  # at 0.15 error blows up\n",
    "niter = 250\n",
    "X_train, y_train, X_test, y_test = kfold(data.to_numpy(), 5, eta, niter) #  new train+plus_Vald and test set"
   ]
  },
  {
   "cell_type": "code",
   "execution_count": 368,
   "metadata": {},
   "outputs": [],
   "source": [
    "# Normalize \n",
    "current_mean = np.mean(X_train, axis=0)\n",
    "current_std = np.std(X_train, axis=0)\n",
    "X_train = zscore_normalization(X_train, current_mean, current_std)\n",
    "X_test = zscore_normalization(X_test, current_mean, current_std)  # using same mean, std of training set"
   ]
  },
  {
   "cell_type": "code",
   "execution_count": 369,
   "metadata": {},
   "outputs": [],
   "source": [
    "# Add bias = 1 \n",
    "X_train = np.hstack((np.ones(X_train.shape[0])[:, np.newaxis], X_train))\n",
    "X_test = np.hstack((np.ones(X_test.shape[0])[:, np.newaxis], X_test))"
   ]
  },
  {
   "cell_type": "markdown",
   "metadata": {},
   "source": [
    "### Ridge regression"
   ]
  },
  {
   "cell_type": "code",
   "execution_count": 370,
   "metadata": {},
   "outputs": [],
   "source": [
    "# design score function\n",
    "def rmse_func(y, y_pred):\n",
    "    return np.sqrt(mean_squared_error(y, y_pred))\n",
    "\n",
    "rmse_scorer = make_scorer(rmse_func, greater_is_better=False)"
   ]
  },
  {
   "cell_type": "code",
   "execution_count": 371,
   "metadata": {},
   "outputs": [],
   "source": [
    "def regularization_result(clf):\n",
    "    z = pd.DataFrame(clf.cv_results_)\n",
    "    z[['mean_train_score', 'mean_test_score']] = -1*z[['mean_train_score', 'mean_test_score']] \n",
    "    return z[[ 'param_alpha', 'mean_train_score', 'mean_test_score']]\n",
    "    "
   ]
  },
  {
   "cell_type": "code",
   "execution_count": 376,
   "metadata": {},
   "outputs": [
    {
     "data": {
      "text/plain": [
       "GridSearchCV(cv=5, error_score='raise-deprecating',\n",
       "             estimator=Ridge(alpha=1.0, copy_X=True, fit_intercept=True,\n",
       "                             max_iter=None, normalize=False, random_state=1,\n",
       "                             solver='auto', tol=0.001),\n",
       "             iid='warn', n_jobs=-1,\n",
       "             param_grid={'alpha': [0.0001, 0.001, 0.1, 0.2, 1, 1.5, 2, 2.25,\n",
       "                                   2.4, 2.5, 3, 4, 5, 6, 7]},\n",
       "             pre_dispatch='2*n_jobs', refit=True, return_train_score=True,\n",
       "             scoring=make_scorer(rmse_func, greater_is_better=False),\n",
       "             verbose=0)"
      ]
     },
     "execution_count": 376,
     "metadata": {},
     "output_type": "execute_result"
    }
   ],
   "source": [
    "params = {\n",
    "    'alpha':[0.0001, 0.001, 0.1, 0.2, 1, 1.5, 2, 2.25, 2.4, 2.5, 3, 4, 5, 6, 7] # l2 regularization strength\n",
    "}\n",
    "ridge = Ridge(random_state=1, fit_intercept=True)\n",
    "clf = GridSearchCV(ridge, params, scoring=rmse_scorer,\n",
    "                   n_jobs=-1, cv=5, return_train_score=True)\n",
    "clf.fit(X_train, y_train)"
   ]
  },
  {
   "cell_type": "code",
   "execution_count": 377,
   "metadata": {},
   "outputs": [
    {
     "data": {
      "text/html": [
       "<div>\n",
       "<style scoped>\n",
       "    .dataframe tbody tr th:only-of-type {\n",
       "        vertical-align: middle;\n",
       "    }\n",
       "\n",
       "    .dataframe tbody tr th {\n",
       "        vertical-align: top;\n",
       "    }\n",
       "\n",
       "    .dataframe thead th {\n",
       "        text-align: right;\n",
       "    }\n",
       "</style>\n",
       "<table border=\"1\" class=\"dataframe\">\n",
       "  <thead>\n",
       "    <tr style=\"text-align: right;\">\n",
       "      <th></th>\n",
       "      <th>param_alpha</th>\n",
       "      <th>mean_train_score</th>\n",
       "      <th>mean_test_score</th>\n",
       "    </tr>\n",
       "  </thead>\n",
       "  <tbody>\n",
       "    <tr>\n",
       "      <td>0</td>\n",
       "      <td>0.0001</td>\n",
       "      <td>2.215828</td>\n",
       "      <td>2.250817</td>\n",
       "    </tr>\n",
       "    <tr>\n",
       "      <td>1</td>\n",
       "      <td>0.001</td>\n",
       "      <td>2.215828</td>\n",
       "      <td>2.250816</td>\n",
       "    </tr>\n",
       "    <tr>\n",
       "      <td>2</td>\n",
       "      <td>0.1</td>\n",
       "      <td>2.215829</td>\n",
       "      <td>2.250761</td>\n",
       "    </tr>\n",
       "    <tr>\n",
       "      <td>3</td>\n",
       "      <td>0.2</td>\n",
       "      <td>2.215833</td>\n",
       "      <td>2.250709</td>\n",
       "    </tr>\n",
       "    <tr>\n",
       "      <td>4</td>\n",
       "      <td>1</td>\n",
       "      <td>2.215951</td>\n",
       "      <td>2.250403</td>\n",
       "    </tr>\n",
       "    <tr>\n",
       "      <td>5</td>\n",
       "      <td>1.5</td>\n",
       "      <td>2.216090</td>\n",
       "      <td>2.250300</td>\n",
       "    </tr>\n",
       "    <tr>\n",
       "      <td>6</td>\n",
       "      <td>2</td>\n",
       "      <td>2.216272</td>\n",
       "      <td>2.250252</td>\n",
       "    </tr>\n",
       "    <tr>\n",
       "      <td>7</td>\n",
       "      <td>2.25</td>\n",
       "      <td>2.216376</td>\n",
       "      <td>2.250247</td>\n",
       "    </tr>\n",
       "    <tr>\n",
       "      <td>8</td>\n",
       "      <td>2.4</td>\n",
       "      <td>2.216443</td>\n",
       "      <td>2.250249</td>\n",
       "    </tr>\n",
       "    <tr>\n",
       "      <td>9</td>\n",
       "      <td>2.5</td>\n",
       "      <td>2.216489</td>\n",
       "      <td>2.250253</td>\n",
       "    </tr>\n",
       "    <tr>\n",
       "      <td>10</td>\n",
       "      <td>3</td>\n",
       "      <td>2.216736</td>\n",
       "      <td>2.250296</td>\n",
       "    </tr>\n",
       "    <tr>\n",
       "      <td>11</td>\n",
       "      <td>4</td>\n",
       "      <td>2.217301</td>\n",
       "      <td>2.250486</td>\n",
       "    </tr>\n",
       "    <tr>\n",
       "      <td>12</td>\n",
       "      <td>5</td>\n",
       "      <td>2.217938</td>\n",
       "      <td>2.250786</td>\n",
       "    </tr>\n",
       "    <tr>\n",
       "      <td>13</td>\n",
       "      <td>6</td>\n",
       "      <td>2.218624</td>\n",
       "      <td>2.251167</td>\n",
       "    </tr>\n",
       "    <tr>\n",
       "      <td>14</td>\n",
       "      <td>7</td>\n",
       "      <td>2.219343</td>\n",
       "      <td>2.251609</td>\n",
       "    </tr>\n",
       "  </tbody>\n",
       "</table>\n",
       "</div>"
      ],
      "text/plain": [
       "   param_alpha  mean_train_score  mean_test_score\n",
       "0       0.0001          2.215828         2.250817\n",
       "1        0.001          2.215828         2.250816\n",
       "2          0.1          2.215829         2.250761\n",
       "3          0.2          2.215833         2.250709\n",
       "4            1          2.215951         2.250403\n",
       "5          1.5          2.216090         2.250300\n",
       "6            2          2.216272         2.250252\n",
       "7         2.25          2.216376         2.250247\n",
       "8          2.4          2.216443         2.250249\n",
       "9          2.5          2.216489         2.250253\n",
       "10           3          2.216736         2.250296\n",
       "11           4          2.217301         2.250486\n",
       "12           5          2.217938         2.250786\n",
       "13           6          2.218624         2.251167\n",
       "14           7          2.219343         2.251609"
      ]
     },
     "execution_count": 377,
     "metadata": {},
     "output_type": "execute_result"
    }
   ],
   "source": [
    "regularization_df = regularization_result(clf) # this test_score is not the Actual test data score.\n",
    "regularization_df"
   ]
  },
  {
   "cell_type": "code",
   "execution_count": 378,
   "metadata": {},
   "outputs": [
    {
     "name": "stdout",
     "output_type": "stream",
     "text": [
      "Test rmse score:  2.2502470797888114\n",
      "Optimal L2 parameter:  {'alpha': 2.25}\n"
     ]
    },
    {
     "data": {
      "image/png": "[encoded data removed]",
      "text/plain": [
       "<Figure size 576x360 with 1 Axes>"
      ]
     },
     "metadata": {
      "needs_background": "light"
     },
     "output_type": "display_data"
    }
   ],
   "source": [
    "print('Test rmse score: ', np.abs(clf.best_score_))\n",
    "print('Optimal L2 parameter: ', clf.best_params_)\n",
    "plot_error(regularization_df, clf.best_params_['alpha'])"
   ]
  },
  {
   "cell_type": "markdown",
   "metadata": {},
   "source": [
    "### Lasso "
   ]
  },
  {
   "cell_type": "code",
   "execution_count": 379,
   "metadata": {},
   "outputs": [
    {
     "data": {
      "text/plain": [
       "GridSearchCV(cv=5, error_score='raise-deprecating',\n",
       "             estimator=Lasso(alpha=1.0, copy_X=True, fit_intercept=True,\n",
       "                             max_iter=1000, normalize=False, positive=False,\n",
       "                             precompute=False, random_state=1,\n",
       "                             selection='cyclic', tol=0.0001, warm_start=False),\n",
       "             iid='warn', n_jobs=-1,\n",
       "             param_grid={'alpha': [0.0001, 0.001, 0.0015, 0.002, 0.004, 0.008]},\n",
       "             pre_dispatch='2*n_jobs', refit=True, return_train_score=True,\n",
       "             scoring=make_scorer(rmse_func, greater_is_better=False),\n",
       "             verbose=0)"
      ]
     },
     "execution_count": 379,
     "metadata": {},
     "output_type": "execute_result"
    }
   ],
   "source": [
    "params = {\n",
    "    'alpha':[0.0001, 0.001, 0.0015, 0.002, 0.004, 0.008] # l1 regularization strength\n",
    "}\n",
    "lasso = Lasso(random_state=1, fit_intercept=True)\n",
    "clf2 = GridSearchCV(lasso, params, scoring=rmse_scorer,\n",
    "                   n_jobs=-1, cv=5, return_train_score=True)\n",
    "clf2.fit(X_train, y_train)"
   ]
  },
  {
   "cell_type": "code",
   "execution_count": 380,
   "metadata": {},
   "outputs": [
    {
     "data": {
      "text/html": [
       "<div>\n",
       "<style scoped>\n",
       "    .dataframe tbody tr th:only-of-type {\n",
       "        vertical-align: middle;\n",
       "    }\n",
       "\n",
       "    .dataframe tbody tr th {\n",
       "        vertical-align: top;\n",
       "    }\n",
       "\n",
       "    .dataframe thead th {\n",
       "        text-align: right;\n",
       "    }\n",
       "</style>\n",
       "<table border=\"1\" class=\"dataframe\">\n",
       "  <thead>\n",
       "    <tr style=\"text-align: right;\">\n",
       "      <th></th>\n",
       "      <th>param_alpha</th>\n",
       "      <th>mean_train_score</th>\n",
       "      <th>mean_test_score</th>\n",
       "    </tr>\n",
       "  </thead>\n",
       "  <tbody>\n",
       "    <tr>\n",
       "      <td>0</td>\n",
       "      <td>0.0001</td>\n",
       "      <td>2.215828</td>\n",
       "      <td>2.250770</td>\n",
       "    </tr>\n",
       "    <tr>\n",
       "      <td>1</td>\n",
       "      <td>0.001</td>\n",
       "      <td>2.215884</td>\n",
       "      <td>2.250373</td>\n",
       "    </tr>\n",
       "    <tr>\n",
       "      <td>2</td>\n",
       "      <td>0.0015</td>\n",
       "      <td>2.215954</td>\n",
       "      <td>2.250194</td>\n",
       "    </tr>\n",
       "    <tr>\n",
       "      <td>3</td>\n",
       "      <td>0.002</td>\n",
       "      <td>2.216053</td>\n",
       "      <td>2.250042</td>\n",
       "    </tr>\n",
       "    <tr>\n",
       "      <td>4</td>\n",
       "      <td>0.004</td>\n",
       "      <td>2.216657</td>\n",
       "      <td>2.250084</td>\n",
       "    </tr>\n",
       "    <tr>\n",
       "      <td>5</td>\n",
       "      <td>0.008</td>\n",
       "      <td>2.219052</td>\n",
       "      <td>2.251417</td>\n",
       "    </tr>\n",
       "  </tbody>\n",
       "</table>\n",
       "</div>"
      ],
      "text/plain": [
       "  param_alpha  mean_train_score  mean_test_score\n",
       "0      0.0001          2.215828         2.250770\n",
       "1       0.001          2.215884         2.250373\n",
       "2      0.0015          2.215954         2.250194\n",
       "3       0.002          2.216053         2.250042\n",
       "4       0.004          2.216657         2.250084\n",
       "5       0.008          2.219052         2.251417"
      ]
     },
     "execution_count": 380,
     "metadata": {},
     "output_type": "execute_result"
    }
   ],
   "source": [
    "regularization_df2 = regularization_result(clf2) # this test_score is not the Actual test data score.\n",
    "regularization_df2"
   ]
  },
  {
   "cell_type": "code",
   "execution_count": 381,
   "metadata": {},
   "outputs": [
    {
     "name": "stdout",
     "output_type": "stream",
     "text": [
      "Test rmse score:  2.2500423284869013\n",
      "Optimal L1 parameter:  {'alpha': 0.002}\n"
     ]
    },
    {
     "data": {
      "image/png": "[encoded data removed]",
      "text/plain": [
       "<Figure size 576x360 with 1 Axes>"
      ]
     },
     "metadata": {
      "needs_background": "light"
     },
     "output_type": "display_data"
    }
   ],
   "source": [
    "print('Test rmse score: ', np.abs(clf2.best_score_))\n",
    "print('Optimal L1 parameter: ', clf2.best_params_)\n",
    "plot_error(regularization_df2, clf2.best_params_['alpha'])"
   ]
  },
  {
   "cell_type": "code",
   "execution_count": 382,
   "metadata": {},
   "outputs": [
    {
     "name": "stdout",
     "output_type": "stream",
     "text": [
      "Coefficient of best estimator Lasso : [ 0.          0.00511671 -0.37338153 -0.          0.05394752  1.07921171\n",
      "  0.42836072  4.08521016 -4.19114038 -1.12899578  1.27626829]\n"
     ]
    }
   ],
   "source": [
    "print('Coefficient of best estimator Lasso :', clf2.best_estimator_.coef_)"
   ]
  },
  {
   "cell_type": "markdown",
   "metadata": {},
   "source": [
    "## Optimal value of alpha for L1 and L2 is 0.002 and 2.25"
   ]
  },
  {
   "cell_type": "code",
   "execution_count": 383,
   "metadata": {},
   "outputs": [],
   "source": [
    "## Using these values of l1 and l2 with modified gradient descent.\n",
    "\n",
    "def modifiedGradientDescent(eta, alpha1, alpha2,  niter):\n",
    "    \"\"\"\n",
    "    X: 2d numpy array with y\n",
    "    k: no. of splits of X    \n",
    "    \n",
    "    returns: loss_kcv = 2d array (normal eq solution)\n",
    "             avgrmse for training  & validation\n",
    "    \"\"\"\n",
    "    global X_train, X_test, y_train, y_test\n",
    "    n = X_train.shape[1] # LR Coefficients\n",
    "    coeff = np.zeros(n)\n",
    "    \n",
    "    rmse_l1 = np.zeros((niter)) # training 1st col,  validation 2nd col\n",
    "    rmse_l2 = np.zeros((niter)) # training 1st col,  validation 2nd col\n",
    "    \n",
    "    for j in range(0, niter):\n",
    "        # train on current training set\n",
    "        theta_l1 = gradient_descent_l1(X_train, y_train, coeff, eta, alpha1, j)\n",
    "        rmse_l1[j] = np.array([loss(X_train, y_train, theta_l1)])\n",
    "            \n",
    "        theta_l2 = gradient_descent_l2(X_train, y_train, coeff, eta, alpha2, j)\n",
    "        rmse_l2[j] = np.array([loss(X_train, y_train, theta_l2)])\n",
    "    \n",
    "    theta2 = gradient_descent_l2(X_train, y_train, coeff, eta, alpha2, niter)\n",
    "    print('RMSE on test set using L2 : ', loss(X_test, y_test, theta2))\n",
    "   \n",
    "    theta1 = gradient_descent_l2(X_train, y_train, coeff, eta, alpha1, niter)\n",
    "    print('RMSE on test set using L1 : ', loss(X_test, y_test, theta1))\n",
    "    return rmse_l1, rmse_l2"
   ]
  },
  {
   "cell_type": "code",
   "execution_count": 384,
   "metadata": {},
   "outputs": [
    {
     "name": "stdout",
     "output_type": "stream",
     "text": [
      "RMSE on test set using L2 :  2.103649280153166\n",
      "RMSE on test set using L1 :  2.102273511885876\n"
     ]
    }
   ],
   "source": [
    "eta = 0.14  # above 0.15 loss blows up at 250 iter\n",
    "niter = 250\n",
    "alpha1 = 0.002\n",
    "alpha2 = 2.25\n",
    "gradient_rmse_l1, gradient_rmse_l2 = modifiedGradientDescent(eta, alpha1, alpha2, niter)"
   ]
  },
  {
   "cell_type": "code",
   "execution_count": 385,
   "metadata": {},
   "outputs": [],
   "source": [
    "seperate_training_l1 = np.hstack((np.arange(niter)[:, np.newaxis]+1, gradient_rmse_l1[:, np.newaxis]))\n",
    "training_rmse_l1 = pd.DataFrame(seperate_training_l1, columns=['iteration_number', 'rmse'])"
   ]
  },
  {
   "cell_type": "code",
   "execution_count": 386,
   "metadata": {},
   "outputs": [],
   "source": [
    "seperate_training_l2 = np.hstack((np.arange(niter)[:, np.newaxis]+1, gradient_rmse_l2[:, np.newaxis]))\n",
    "training_rmse_l2 = pd.DataFrame(seperate_training_l2, columns=['iteration_number', 'rmse'])"
   ]
  },
  {
   "cell_type": "code",
   "execution_count": 388,
   "metadata": {},
   "outputs": [
    {
     "data": {
      "application/vnd.plotly.v1+json": {
       "config": {
        "plotlyServerURL": "https://plot.ly"
       },
       "data": [
        {
         "customdata": [
          [
           10.453968519643379,
           1
          ],
          [
           7.816876687813887,
           2
          ],
          [
           5.993694016194758,
           3
          ],
          [
           4.762258258822357,
           4
          ],
          [
           3.9555310185240398,
           5
          ],
          [
           3.44176102505883,
           6
          ],
          [
           3.1215400593428844,
           7
          ],
          [
           2.9210551197490586,
           8
          ],
          [
           2.7931269915946237,
           9
          ],
          [
           2.7067719695286603,
           10
          ],
          [
           2.6456789371784084,
           11
          ],
          [
           2.5988879087156556,
           12
          ],
          [
           2.561899479379722,
           13
          ],
          [
           2.530622021170881,
           14
          ],
          [
           2.5041976918746625,
           15
          ],
          [
           2.480684698915699,
           16
          ],
          [
           2.4602434504687616,
           17
          ],
          [
           2.4416453155633873,
           18
          ],
          [
           2.425304977721655,
           19
          ],
          [
           2.41028456087477,
           20
          ],
          [
           2.397037938037378,
           21
          ],
          [
           2.3847880713734306,
           22
          ],
          [
           2.3739688859169656,
           23
          ],
          [
           2.363917514662012,
           24
          ],
          [
           2.3550328027258915,
           25
          ],
          [
           2.3467437591353937,
           26
          ],
          [
           2.33941159162871,
           27
          ],
          [
           2.332542816062841,
           28
          ],
          [
           2.3264621627520556,
           29
          ],
          [
           2.3207425553662913,
           30
          ],
          [
           2.315674560547119,
           31
          ],
          [
           2.3108882793343426,
           32
          ],
          [
           2.3066427852340707,
           33
          ],
          [
           2.302617491706461,
           34
          ],
          [
           2.2990427206967072,
           35
          ],
          [
           2.295640449970968,
           36
          ],
          [
           2.2926149375311646,
           37
          ],
          [
           2.2897249254970355,
           38
          ],
          [
           2.2871511766444117,
           39
          ],
          [
           2.2846842100713904,
           40
          ],
          [
           2.282483706868804,
           41
          ],
          [
           2.2803676729005957,
           42
          ],
          [
           2.2784769466369235,
           43
          ],
          [
           2.2766533282107844,
           44
          ],
          [
           2.2750208700465144,
           45
          ],
          [
           2.273441986164543,
           46
          ],
          [
           2.2720258167909213,
           47
          ],
          [
           2.2706526481474105,
           48
          ],
          [
           2.269418404446353,
           49
          ],
          [
           2.268218878343224,
           50
          ],
          [
           2.2671383051026455,
           51
          ],
          [
           2.2660859403950755,
           52
          ],
          [
           2.265135699159134,
           53
          ],
          [
           2.26420853334135,
           54
          ],
          [
           2.2633692595471153,
           55
          ],
          [
           2.262548997010369,
           56
          ],
          [
           2.2618045516131193,
           57
          ],
          [
           2.261075885436257,
           58
          ],
          [
           2.26041275904513,
           59
          ],
          [
           2.2597628291306764,
           60
          ],
          [
           2.2591696659232396,
           61
          ],
          [
           2.2585876244619603,
           62
          ],
          [
           2.258054840359819,
           63
          ],
          [
           2.2575315019774047,
           64
          ],
          [
           2.257050977181001,
           65
          ],
          [
           2.2565785360800157,
           66
          ],
          [
           2.2561433664272426,
           67
          ],
          [
           2.255715166694574,
           68
          ],
          [
           2.255319461700412,
           69
          ],
          [
           2.2549298099490636,
           70
          ],
          [
           2.2545685280187557,
           71
          ],
          [
           2.25421253986422,
           72
          ],
          [
           2.2538813532202524,
           73
          ],
          [
           2.253554826905355,
           74
          ],
          [
           2.253250010360726,
           75
          ],
          [
           2.2529493222551236,
           76
          ],
          [
           2.2526676612048235,
           77
          ],
          [
           2.2523896790065248,
           78
          ],
          [
           2.252128392975339,
           79
          ],
          [
           2.2518704033017927,
           80
          ],
          [
           2.2516270821410953,
           81
          ],
          [
           2.251386729870578,
           82
          ],
          [
           2.2511592802873275,
           83
          ],
          [
           2.2509345175395787,
           84
          ],
          [
           2.250721118104029,
           85
          ],
          [
           2.2505101611645957,
           86
          ],
          [
           2.250309224307738,
           87
          ],
          [
           2.2501105171283617,
           88
          ],
          [
           2.2499206569277264,
           89
          ],
          [
           2.2497328400946914,
           90
          ],
          [
           2.2495528448749034,
           91
          ],
          [
           2.2493747291434727,
           92
          ],
          [
           2.249203538098895,
           93
          ],
          [
           2.2490340817564456,
           94
          ],
          [
           2.248870764947622,
           95
          ],
          [
           2.2487090543997956,
           96
          ],
          [
           2.2485527955910034,
           97
          ],
          [
           2.248398028671086,
           98
          ],
          [
           2.248248110569323,
           99
          ],
          [
           2.248099582156612,
           100
          ],
          [
           2.2479553736874602,
           101
          ],
          [
           2.247812463289779,
           102
          ],
          [
           2.2476734086065586,
           103
          ],
          [
           2.2475355696186226,
           104
          ],
          [
           2.247401178590967,
           105
          ],
          [
           2.24726792898663,
           106
          ],
          [
           2.2471377689553074,
           107
          ],
          [
           2.247008683209805,
           108
          ],
          [
           2.2468823718281143,
           109
          ],
          [
           2.246757073897875,
           110
          ],
          [
           2.246634272907637,
           111
          ],
          [
           2.2465124301213835,
           112
          ],
          [
           2.246392839934512,
           113
          ],
          [
           2.2462741576711114,
           114
          ],
          [
           2.246157512646925,
           115
          ],
          [
           2.246041729693698,
           116
          ],
          [
           2.2459277940181797,
           117
          ],
          [
           2.245814678518658,
           118
          ],
          [
           2.245703242605342,
           119
          ],
          [
           2.2455925885184085,
           120
          ],
          [
           2.245483465861953,
           121
          ],
          [
           2.245375089865206,
           122
          ],
          [
           2.2452681142883564,
           123
          ],
          [
           2.245161853067824,
           124
          ],
          [
           2.2450568763106276,
           125
          ],
          [
           2.2449525841868736,
           126
          ],
          [
           2.2448494737940075,
           127
          ],
          [
           2.2447470206414115,
           128
          ],
          [
           2.2446456581094103,
           129
          ],
          [
           2.2445449275311926,
           130
          ],
          [
           2.244445206682491,
           131
          ],
          [
           2.2443460944090194,
           132
          ],
          [
           2.2442479199640872,
           133
          ],
          [
           2.2441503324462655,
           134
          ],
          [
           2.244053618768896,
           135
          ],
          [
           2.2439574719421262,
           136
          ],
          [
           2.2438621419361797,
           137
          ],
          [
           2.2437673601335573,
           138
          ],
          [
           2.2436733442722705,
           139
          ],
          [
           2.243579859268435,
           140
          ],
          [
           2.2434870947398435,
           141
          ],
          [
           2.243394844909272,
           142
          ],
          [
           2.2433032748633903,
           143
          ],
          [
           2.2432122044390033,
           144
          ],
          [
           2.243121777324229,
           145
          ],
          [
           2.2430318357439574,
           146
          ],
          [
           2.242942504721767,
           147
          ],
          [
           2.2428536460523016,
           148
          ],
          [
           2.242765368480665,
           149
          ],
          [
           2.242677550908954,
           150
          ],
          [
           2.2425902878861086,
           151
          ],
          [
           2.2425034732703577,
           152
          ],
          [
           2.242417189231625,
           153
          ],
          [
           2.242331342704582,
           154
          ],
          [
           2.2422460050658155,
           155
          ],
          [
           2.2421610946840205,
           156
          ],
          [
           2.242076673526072,
           157
          ],
          [
           2.241992669959536,
           158
          ],
          [
           2.2419091377488316,
           159
          ],
          [
           2.2418260140062904,
           160
          ],
          [
           2.2417433453471878,
           161
          ],
          [
           2.2416610765326803,
           162
          ],
          [
           2.2415792479478425,
           163
          ],
          [
           2.2414978110448773,
           164
          ],
          [
           2.2414168007803297,
           165
          ],
          [
           2.241336174460373,
           166
          ],
          [
           2.2412559623123354,
           167
          ],
          [
           2.2411761267647385,
           168
          ],
          [
           2.2410966939256767,
           169
          ],
          [
           2.2410176307065224,
           170
          ],
          [
           2.240938959628164,
           171
          ],
          [
           2.2408606515258147,
           172
          ],
          [
           2.2407827257971538,
           173
          ],
          [
           2.2407051567125547,
           174
          ],
          [
           2.2406279609511115,
           175
          ],
          [
           2.2405511157911238,
           176
          ],
          [
           2.240474635545927,
           177
          ],
          [
           2.2403985001282005,
           178
          ],
          [
           2.2403227217931425,
           179
          ],
          [
           2.240247282761186,
           180
          ],
          [
           2.2401721934975747,
           181
          ],
          [
           2.240097438244865,
           182
          ],
          [
           2.2400230259121185,
           183
          ],
          [
           2.2399489425142125,
           184
          ],
          [
           2.2398751956077843,
           185
          ],
          [
           2.2398017727615382,
           186
          ],
          [
           2.2397286803572527,
           187
          ],
          [
           2.2396559073263336,
           188
          ],
          [
           2.239583459030425,
           189
          ],
          [
           2.239511325596424,
           190
          ],
          [
           2.2394395115006374,
           191
          ],
          [
           2.239368007919154,
           192
          ],
          [
           2.23929681856036,
           193
          ],
          [
           2.2392259355215067,
           194
          ],
          [
           2.239155361845327,
           195
          ],
          [
           2.2390850904381803,
           196
          ],
          [
           2.2390151237661886,
           197
          ],
          [
           2.2389454554467396,
           198
          ],
          [
           2.238876087446865,
           199
          ],
          [
           2.2388070140091045,
           200
          ],
          [
           2.238738236668873,
           201
          ],
          [
           2.238669750218668,
           202
          ],
          [
           2.2386015558209995,
           203
          ],
          [
           2.238533648752465,
           204
          ],
          [
           2.2384660298537464,
           205
          ],
          [
           2.238398694827849,
           206
          ],
          [
           2.238331644238047,
           207
          ],
          [
           2.2382648741632054,
           208
          ],
          [
           2.2381983849278098,
           209
          ],
          [
           2.2381321729422843,
           210
          ],
          [
           2.2380662383258927,
           211
          ],
          [
           2.238000577781782,
           212
          ],
          [
           2.2379351912531553,
           213
          ],
          [
           2.237870075701832,
           214
          ],
          [
           2.23780523092028,
           215
          ],
          [
           2.237740654099122,
           216
          ],
          [
           2.237676344902078,
           217
          ],
          [
           2.237612300722367,
           218
          ],
          [
           2.237548521114037,
           219
          ],
          [
           2.2374850036499048,
           220
          ],
          [
           2.2374217477908886,
           221
          ],
          [
           2.2373587512692077,
           222
          ],
          [
           2.237296013466993,
           223
          ],
          [
           2.2372335322581276,
           224
          ],
          [
           2.2371713069583743,
           225
          ],
          [
           2.2371093355676974,
           226
          ],
          [
           2.2370476173462404,
           227
          ],
          [
           2.2369861504063495,
           228
          ],
          [
           2.2369249339618493,
           229
          ],
          [
           2.2368639662254193,
           230
          ],
          [
           2.236803246372599,
           231
          ],
          [
           2.236742772705799,
           232
          ],
          [
           2.236682544369215,
           233
          ],
          [
           2.236622559745657,
           234
          ],
          [
           2.236562817953959,
           235
          ],
          [
           2.2365033174491082,
           236
          ],
          [
           2.2364440573297353,
           237
          ],
          [
           2.236385036115758,
           238
          ],
          [
           2.236326252890039,
           239
          ],
          [
           2.236267706231037,
           240
          ],
          [
           2.2362093952096602,
           241
          ],
          [
           2.236151318457265,
           242
          ],
          [
           2.2360934750360766,
           243
          ],
          [
           2.2360358636253665,
           244
          ],
          [
           2.2359784832814786,
           245
          ],
          [
           2.235921332727197,
           246
          ],
          [
           2.235864411015375,
           247
          ],
          [
           2.235807716908415,
           248
          ],
          [
           2.235751249457721,
           249
          ],
          [
           2.2356950074618633,
           250
          ]
         ],
         "hoverlabel": {
          "namelength": 0
         },
         "hovertemplate": "<b>%{hovertext}</b><br><br>iteration_number=%{customdata[1]}<br>rmse=%{customdata[0]}",
         "hovertext": [
          10.453968519643379,
          7.816876687813887,
          5.993694016194758,
          4.762258258822357,
          3.9555310185240398,
          3.44176102505883,
          3.1215400593428844,
          2.9210551197490586,
          2.7931269915946237,
          2.7067719695286603,
          2.6456789371784084,
          2.5988879087156556,
          2.561899479379722,
          2.530622021170881,
          2.5041976918746625,
          2.480684698915699,
          2.4602434504687616,
          2.4416453155633873,
          2.425304977721655,
          2.41028456087477,
          2.397037938037378,
          2.3847880713734306,
          2.3739688859169656,
          2.363917514662012,
          2.3550328027258915,
          2.3467437591353937,
          2.33941159162871,
          2.332542816062841,
          2.3264621627520556,
          2.3207425553662913,
          2.315674560547119,
          2.3108882793343426,
          2.3066427852340707,
          2.302617491706461,
          2.2990427206967072,
          2.295640449970968,
          2.2926149375311646,
          2.2897249254970355,
          2.2871511766444117,
          2.2846842100713904,
          2.282483706868804,
          2.2803676729005957,
          2.2784769466369235,
          2.2766533282107844,
          2.2750208700465144,
          2.273441986164543,
          2.2720258167909213,
          2.2706526481474105,
          2.269418404446353,
          2.268218878343224,
          2.2671383051026455,
          2.2660859403950755,
          2.265135699159134,
          2.26420853334135,
          2.2633692595471153,
          2.262548997010369,
          2.2618045516131193,
          2.261075885436257,
          2.26041275904513,
          2.2597628291306764,
          2.2591696659232396,
          2.2585876244619603,
          2.258054840359819,
          2.2575315019774047,
          2.257050977181001,
          2.2565785360800157,
          2.2561433664272426,
          2.255715166694574,
          2.255319461700412,
          2.2549298099490636,
          2.2545685280187557,
          2.25421253986422,
          2.2538813532202524,
          2.253554826905355,
          2.253250010360726,
          2.2529493222551236,
          2.2526676612048235,
          2.2523896790065248,
          2.252128392975339,
          2.2518704033017927,
          2.2516270821410953,
          2.251386729870578,
          2.2511592802873275,
          2.2509345175395787,
          2.250721118104029,
          2.2505101611645957,
          2.250309224307738,
          2.2501105171283617,
          2.2499206569277264,
          2.2497328400946914,
          2.2495528448749034,
          2.2493747291434727,
          2.249203538098895,
          2.2490340817564456,
          2.248870764947622,
          2.2487090543997956,
          2.2485527955910034,
          2.248398028671086,
          2.248248110569323,
          2.248099582156612,
          2.2479553736874602,
          2.247812463289779,
          2.2476734086065586,
          2.2475355696186226,
          2.247401178590967,
          2.24726792898663,
          2.2471377689553074,
          2.247008683209805,
          2.2468823718281143,
          2.246757073897875,
          2.246634272907637,
          2.2465124301213835,
          2.246392839934512,
          2.2462741576711114,
          2.246157512646925,
          2.246041729693698,
          2.2459277940181797,
          2.245814678518658,
          2.245703242605342,
          2.2455925885184085,
          2.245483465861953,
          2.245375089865206,
          2.2452681142883564,
          2.245161853067824,
          2.2450568763106276,
          2.2449525841868736,
          2.2448494737940075,
          2.2447470206414115,
          2.2446456581094103,
          2.2445449275311926,
          2.244445206682491,
          2.2443460944090194,
          2.2442479199640872,
          2.2441503324462655,
          2.244053618768896,
          2.2439574719421262,
          2.2438621419361797,
          2.2437673601335573,
          2.2436733442722705,
          2.243579859268435,
          2.2434870947398435,
          2.243394844909272,
          2.2433032748633903,
          2.2432122044390033,
          2.243121777324229,
          2.2430318357439574,
          2.242942504721767,
          2.2428536460523016,
          2.242765368480665,
          2.242677550908954,
          2.2425902878861086,
          2.2425034732703577,
          2.242417189231625,
          2.242331342704582,
          2.2422460050658155,
          2.2421610946840205,
          2.242076673526072,
          2.241992669959536,
          2.2419091377488316,
          2.2418260140062904,
          2.2417433453471878,
          2.2416610765326803,
          2.2415792479478425,
          2.2414978110448773,
          2.2414168007803297,
          2.241336174460373,
          2.2412559623123354,
          2.2411761267647385,
          2.2410966939256767,
          2.2410176307065224,
          2.240938959628164,
          2.2408606515258147,
          2.2407827257971538,
          2.2407051567125547,
          2.2406279609511115,
          2.2405511157911238,
          2.240474635545927,
          2.2403985001282005,
          2.2403227217931425,
          2.240247282761186,
          2.2401721934975747,
          2.240097438244865,
          2.2400230259121185,
          2.2399489425142125,
          2.2398751956077843,
          2.2398017727615382,
          2.2397286803572527,
          2.2396559073263336,
          2.239583459030425,
          2.239511325596424,
          2.2394395115006374,
          2.239368007919154,
          2.23929681856036,
          2.2392259355215067,
          2.239155361845327,
          2.2390850904381803,
          2.2390151237661886,
          2.2389454554467396,
          2.238876087446865,
          2.2388070140091045,
          2.238738236668873,
          2.238669750218668,
          2.2386015558209995,
          2.238533648752465,
          2.2384660298537464,
          2.238398694827849,
          2.238331644238047,
          2.2382648741632054,
          2.2381983849278098,
          2.2381321729422843,
          2.2380662383258927,
          2.238000577781782,
          2.2379351912531553,
          2.237870075701832,
          2.23780523092028,
          2.237740654099122,
          2.237676344902078,
          2.237612300722367,
          2.237548521114037,
          2.2374850036499048,
          2.2374217477908886,
          2.2373587512692077,
          2.237296013466993,
          2.2372335322581276,
          2.2371713069583743,
          2.2371093355676974,
          2.2370476173462404,
          2.2369861504063495,
          2.2369249339618493,
          2.2368639662254193,
          2.236803246372599,
          2.236742772705799,
          2.236682544369215,
          2.236622559745657,
          2.236562817953959,
          2.2365033174491082,
          2.2364440573297353,
          2.236385036115758,
          2.236326252890039,
          2.236267706231037,
          2.2362093952096602,
          2.236151318457265,
          2.2360934750360766,
          2.2360358636253665,
          2.2359784832814786,
          2.235921332727197,
          2.235864411015375,
          2.235807716908415,
          2.235751249457721,
          2.2356950074618633
         ],
         "legendgroup": "",
         "line": {
          "color": "#636efa",
          "dash": "solid"
         },
         "mode": "lines",
         "name": "",
         "showlegend": false,
         "type": "scatter",
         "x": [
          1,
          2,
          3,
          4,
          5,
          6,
          7,
          8,
          9,
          10,
          11,
          12,
          13,
          14,
          15,
          16,
          17,
          18,
          19,
          20,
          21,
          22,
          23,
          24,
          25,
          26,
          27,
          28,
          29,
          30,
          31,
          32,
          33,
          34,
          35,
          36,
          37,
          38,
          39,
          40,
          41,
          42,
          43,
          44,
          45,
          46,
          47,
          48,
          49,
          50,
          51,
          52,
          53,
          54,
          55,
          56,
          57,
          58,
          59,
          60,
          61,
          62,
          63,
          64,
          65,
          66,
          67,
          68,
          69,
          70,
          71,
          72,
          73,
          74,
          75,
          76,
          77,
          78,
          79,
          80,
          81,
          82,
          83,
          84,
          85,
          86,
          87,
          88,
          89,
          90,
          91,
          92,
          93,
          94,
          95,
          96,
          97,
          98,
          99,
          100,
          101,
          102,
          103,
          104,
          105,
          106,
          107,
          108,
          109,
          110,
          111,
          112,
          113,
          114,
          115,
          116,
          117,
          118,
          119,
          120,
          121,
          122,
          123,
          124,
          125,
          126,
          127,
          128,
          129,
          130,
          131,
          132,
          133,
          134,
          135,
          136,
          137,
          138,
          139,
          140,
          141,
          142,
          143,
          144,
          145,
          146,
          147,
          148,
          149,
          150,
          151,
          152,
          153,
          154,
          155,
          156,
          157,
          158,
          159,
          160,
          161,
          162,
          163,
          164,
          165,
          166,
          167,
          168,
          169,
          170,
          171,
          172,
          173,
          174,
          175,
          176,
          177,
          178,
          179,
          180,
          181,
          182,
          183,
          184,
          185,
          186,
          187,
          188,
          189,
          190,
          191,
          192,
          193,
          194,
          195,
          196,
          197,
          198,
          199,
          200,
          201,
          202,
          203,
          204,
          205,
          206,
          207,
          208,
          209,
          210,
          211,
          212,
          213,
          214,
          215,
          216,
          217,
          218,
          219,
          220,
          221,
          222,
          223,
          224,
          225,
          226,
          227,
          228,
          229,
          230,
          231,
          232,
          233,
          234,
          235,
          236,
          237,
          238,
          239,
          240,
          241,
          242,
          243,
          244,
          245,
          246,
          247,
          248,
          249,
          250
         ],
         "xaxis": "x",
         "y": [
          10.453968519643379,
          7.816876687813887,
          5.993694016194758,
          4.762258258822357,
          3.9555310185240398,
          3.44176102505883,
          3.1215400593428844,
          2.9210551197490586,
          2.7931269915946237,
          2.7067719695286603,
          2.6456789371784084,
          2.5988879087156556,
          2.561899479379722,
          2.530622021170881,
          2.5041976918746625,
          2.480684698915699,
          2.4602434504687616,
          2.4416453155633873,
          2.425304977721655,
          2.41028456087477,
          2.397037938037378,
          2.3847880713734306,
          2.3739688859169656,
          2.363917514662012,
          2.3550328027258915,
          2.3467437591353937,
          2.33941159162871,
          2.332542816062841,
          2.3264621627520556,
          2.3207425553662913,
          2.315674560547119,
          2.3108882793343426,
          2.3066427852340707,
          2.302617491706461,
          2.2990427206967072,
          2.295640449970968,
          2.2926149375311646,
          2.2897249254970355,
          2.2871511766444117,
          2.2846842100713904,
          2.282483706868804,
          2.2803676729005957,
          2.2784769466369235,
          2.2766533282107844,
          2.2750208700465144,
          2.273441986164543,
          2.2720258167909213,
          2.2706526481474105,
          2.269418404446353,
          2.268218878343224,
          2.2671383051026455,
          2.2660859403950755,
          2.265135699159134,
          2.26420853334135,
          2.2633692595471153,
          2.262548997010369,
          2.2618045516131193,
          2.261075885436257,
          2.26041275904513,
          2.2597628291306764,
          2.2591696659232396,
          2.2585876244619603,
          2.258054840359819,
          2.2575315019774047,
          2.257050977181001,
          2.2565785360800157,
          2.2561433664272426,
          2.255715166694574,
          2.255319461700412,
          2.2549298099490636,
          2.2545685280187557,
          2.25421253986422,
          2.2538813532202524,
          2.253554826905355,
          2.253250010360726,
          2.2529493222551236,
          2.2526676612048235,
          2.2523896790065248,
          2.252128392975339,
          2.2518704033017927,
          2.2516270821410953,
          2.251386729870578,
          2.2511592802873275,
          2.2509345175395787,
          2.250721118104029,
          2.2505101611645957,
          2.250309224307738,
          2.2501105171283617,
          2.2499206569277264,
          2.2497328400946914,
          2.2495528448749034,
          2.2493747291434727,
          2.249203538098895,
          2.2490340817564456,
          2.248870764947622,
          2.2487090543997956,
          2.2485527955910034,
          2.248398028671086,
          2.248248110569323,
          2.248099582156612,
          2.2479553736874602,
          2.247812463289779,
          2.2476734086065586,
          2.2475355696186226,
          2.247401178590967,
          2.24726792898663,
          2.2471377689553074,
          2.247008683209805,
          2.2468823718281143,
          2.246757073897875,
          2.246634272907637,
          2.2465124301213835,
          2.246392839934512,
          2.2462741576711114,
          2.246157512646925,
          2.246041729693698,
          2.2459277940181797,
          2.245814678518658,
          2.245703242605342,
          2.2455925885184085,
          2.245483465861953,
          2.245375089865206,
          2.2452681142883564,
          2.245161853067824,
          2.2450568763106276,
          2.2449525841868736,
          2.2448494737940075,
          2.2447470206414115,
          2.2446456581094103,
          2.2445449275311926,
          2.244445206682491,
          2.2443460944090194,
          2.2442479199640872,
          2.2441503324462655,
          2.244053618768896,
          2.2439574719421262,
          2.2438621419361797,
          2.2437673601335573,
          2.2436733442722705,
          2.243579859268435,
          2.2434870947398435,
          2.243394844909272,
          2.2433032748633903,
          2.2432122044390033,
          2.243121777324229,
          2.2430318357439574,
          2.242942504721767,
          2.2428536460523016,
          2.242765368480665,
          2.242677550908954,
          2.2425902878861086,
          2.2425034732703577,
          2.242417189231625,
          2.242331342704582,
          2.2422460050658155,
          2.2421610946840205,
          2.242076673526072,
          2.241992669959536,
          2.2419091377488316,
          2.2418260140062904,
          2.2417433453471878,
          2.2416610765326803,
          2.2415792479478425,
          2.2414978110448773,
          2.2414168007803297,
          2.241336174460373,
          2.2412559623123354,
          2.2411761267647385,
          2.2410966939256767,
          2.2410176307065224,
          2.240938959628164,
          2.2408606515258147,
          2.2407827257971538,
          2.2407051567125547,
          2.2406279609511115,
          2.2405511157911238,
          2.240474635545927,
          2.2403985001282005,
          2.2403227217931425,
          2.240247282761186,
          2.2401721934975747,
          2.240097438244865,
          2.2400230259121185,
          2.2399489425142125,
          2.2398751956077843,
          2.2398017727615382,
          2.2397286803572527,
          2.2396559073263336,
          2.239583459030425,
          2.239511325596424,
          2.2394395115006374,
          2.239368007919154,
          2.23929681856036,
          2.2392259355215067,
          2.239155361845327,
          2.2390850904381803,
          2.2390151237661886,
          2.2389454554467396,
          2.238876087446865,
          2.2388070140091045,
          2.238738236668873,
          2.238669750218668,
          2.2386015558209995,
          2.238533648752465,
          2.2384660298537464,
          2.238398694827849,
          2.238331644238047,
          2.2382648741632054,
          2.2381983849278098,
          2.2381321729422843,
          2.2380662383258927,
          2.238000577781782,
          2.2379351912531553,
          2.237870075701832,
          2.23780523092028,
          2.237740654099122,
          2.237676344902078,
          2.237612300722367,
          2.237548521114037,
          2.2374850036499048,
          2.2374217477908886,
          2.2373587512692077,
          2.237296013466993,
          2.2372335322581276,
          2.2371713069583743,
          2.2371093355676974,
          2.2370476173462404,
          2.2369861504063495,
          2.2369249339618493,
          2.2368639662254193,
          2.236803246372599,
          2.236742772705799,
          2.236682544369215,
          2.236622559745657,
          2.236562817953959,
          2.2365033174491082,
          2.2364440573297353,
          2.236385036115758,
          2.236326252890039,
          2.236267706231037,
          2.2362093952096602,
          2.236151318457265,
          2.2360934750360766,
          2.2360358636253665,
          2.2359784832814786,
          2.235921332727197,
          2.235864411015375,
          2.235807716908415,
          2.235751249457721,
          2.2356950074618633
         ],
         "yaxis": "y"
        }
       ],
       "layout": {
        "autosize": true,
        "legend": {
         "tracegroupgap": 0
        },
        "template": {
         "data": {
          "bar": [
           {
            "error_x": {
             "color": "#2a3f5f"
            },
            "error_y": {
             "color": "#2a3f5f"
            },
            "marker": {
             "line": {
              "color": "#E5ECF6",
              "width": 0.5
             }
            },
            "type": "bar"
           }
          ],
          "barpolar": [
           {
            "marker": {
             "line": {
              "color": "#E5ECF6",
              "width": 0.5
             }
            },
            "type": "barpolar"
           }
          ],
          "carpet": [
           {
            "aaxis": {
             "endlinecolor": "#2a3f5f",
             "gridcolor": "white",
             "linecolor": "white",
             "minorgridcolor": "white",
             "startlinecolor": "#2a3f5f"
            },
            "baxis": {
             "endlinecolor": "#2a3f5f",
             "gridcolor": "white",
             "linecolor": "white",
             "minorgridcolor": "white",
             "startlinecolor": "#2a3f5f"
            },
            "type": "carpet"
           }
          ],
          "choropleth": [
           {
            "colorbar": {
             "outlinewidth": 0,
             "ticks": ""
            },
            "type": "choropleth"
           }
          ],
          "contour": [
           {
            "colorbar": {
             "outlinewidth": 0,
             "ticks": ""
            },
            "colorscale": [
             [
              0,
              "#0d0887"
             ],
             [
              0.1111111111111111,
              "#46039f"
             ],
             [
              0.2222222222222222,
              "#7201a8"
             ],
             [
              0.3333333333333333,
              "#9c179e"
             ],
             [
              0.4444444444444444,
              "#bd3786"
             ],
             [
              0.5555555555555556,
              "#d8576b"
             ],
             [
              0.6666666666666666,
              "#ed7953"
             ],
             [
              0.7777777777777778,
              "#fb9f3a"
             ],
             [
              0.8888888888888888,
              "#fdca26"
             ],
             [
              1,
              "#f0f921"
             ]
            ],
            "type": "contour"
           }
          ],
          "contourcarpet": [
           {
            "colorbar": {
             "outlinewidth": 0,
             "ticks": ""
            },
            "type": "contourcarpet"
           }
          ],
          "heatmap": [
           {
            "colorbar": {
             "outlinewidth": 0,
             "ticks": ""
            },
            "colorscale": [
             [
              0,
              "#0d0887"
             ],
             [
              0.1111111111111111,
              "#46039f"
             ],
             [
              0.2222222222222222,
              "#7201a8"
             ],
             [
              0.3333333333333333,
              "#9c179e"
             ],
             [
              0.4444444444444444,
              "#bd3786"
             ],
             [
              0.5555555555555556,
              "#d8576b"
             ],
             [
              0.6666666666666666,
              "#ed7953"
             ],
             [
              0.7777777777777778,
              "#fb9f3a"
             ],
             [
              0.8888888888888888,
              "#fdca26"
             ],
             [
              1,
              "#f0f921"
             ]
            ],
            "type": "heatmap"
           }
          ],
          "heatmapgl": [
           {
            "colorbar": {
             "outlinewidth": 0,
             "ticks": ""
            },
            "colorscale": [
             [
              0,
              "#0d0887"
             ],
             [
              0.1111111111111111,
              "#46039f"
             ],
             [
              0.2222222222222222,
              "#7201a8"
             ],
             [
              0.3333333333333333,
              "#9c179e"
             ],
             [
              0.4444444444444444,
              "#bd3786"
             ],
             [
              0.5555555555555556,
              "#d8576b"
             ],
             [
              0.6666666666666666,
              "#ed7953"
             ],
             [
              0.7777777777777778,
              "#fb9f3a"
             ],
             [
              0.8888888888888888,
              "#fdca26"
             ],
             [
              1,
              "#f0f921"
             ]
            ],
            "type": "heatmapgl"
           }
          ],
          "histogram": [
           {
            "marker": {
             "colorbar": {
              "outlinewidth": 0,
              "ticks": ""
             }
            },
            "type": "histogram"
           }
          ],
          "histogram2d": [
           {
            "colorbar": {
             "outlinewidth": 0,
             "ticks": ""
            },
            "colorscale": [
             [
              0,
              "#0d0887"
             ],
             [
              0.1111111111111111,
              "#46039f"
             ],
             [
              0.2222222222222222,
              "#7201a8"
             ],
             [
              0.3333333333333333,
              "#9c179e"
             ],
             [
              0.4444444444444444,
              "#bd3786"
             ],
             [
              0.5555555555555556,
              "#d8576b"
             ],
             [
              0.6666666666666666,
              "#ed7953"
             ],
             [
              0.7777777777777778,
              "#fb9f3a"
             ],
             [
              0.8888888888888888,
              "#fdca26"
             ],
             [
              1,
              "#f0f921"
             ]
            ],
            "type": "histogram2d"
           }
          ],
          "histogram2dcontour": [
           {
            "colorbar": {
             "outlinewidth": 0,
             "ticks": ""
            },
            "colorscale": [
             [
              0,
              "#0d0887"
             ],
             [
              0.1111111111111111,
              "#46039f"
             ],
             [
              0.2222222222222222,
              "#7201a8"
             ],
             [
              0.3333333333333333,
              "#9c179e"
             ],
             [
              0.4444444444444444,
              "#bd3786"
             ],
             [
              0.5555555555555556,
              "#d8576b"
             ],
             [
              0.6666666666666666,
              "#ed7953"
             ],
             [
              0.7777777777777778,
              "#fb9f3a"
             ],
             [
              0.8888888888888888,
              "#fdca26"
             ],
             [
              1,
              "#f0f921"
             ]
            ],
            "type": "histogram2dcontour"
           }
          ],
          "mesh3d": [
           {
            "colorbar": {
             "outlinewidth": 0,
             "ticks": ""
            },
            "type": "mesh3d"
           }
          ],
          "parcoords": [
           {
            "line": {
             "colorbar": {
              "outlinewidth": 0,
              "ticks": ""
             }
            },
            "type": "parcoords"
           }
          ],
          "scatter": [
           {
            "marker": {
             "colorbar": {
              "outlinewidth": 0,
              "ticks": ""
             }
            },
            "type": "scatter"
           }
          ],
          "scatter3d": [
           {
            "line": {
             "colorbar": {
              "outlinewidth": 0,
              "ticks": ""
             }
            },
            "marker": {
             "colorbar": {
              "outlinewidth": 0,
              "ticks": ""
             }
            },
            "type": "scatter3d"
           }
          ],
          "scattercarpet": [
           {
            "marker": {
             "colorbar": {
              "outlinewidth": 0,
              "ticks": ""
             }
            },
            "type": "scattercarpet"
           }
          ],
          "scattergeo": [
           {
            "marker": {
             "colorbar": {
              "outlinewidth": 0,
              "ticks": ""
             }
            },
            "type": "scattergeo"
           }
          ],
          "scattergl": [
           {
            "marker": {
             "colorbar": {
              "outlinewidth": 0,
              "ticks": ""
             }
            },
            "type": "scattergl"
           }
          ],
          "scattermapbox": [
           {
            "marker": {
             "colorbar": {
              "outlinewidth": 0,
              "ticks": ""
             }
            },
            "type": "scattermapbox"
           }
          ],
          "scatterpolar": [
           {
            "marker": {
             "colorbar": {
              "outlinewidth": 0,
              "ticks": ""
             }
            },
            "type": "scatterpolar"
           }
          ],
          "scatterpolargl": [
           {
            "marker": {
             "colorbar": {
              "outlinewidth": 0,
              "ticks": ""
             }
            },
            "type": "scatterpolargl"
           }
          ],
          "scatterternary": [
           {
            "marker": {
             "colorbar": {
              "outlinewidth": 0,
              "ticks": ""
             }
            },
            "type": "scatterternary"
           }
          ],
          "surface": [
           {
            "colorbar": {
             "outlinewidth": 0,
             "ticks": ""
            },
            "colorscale": [
             [
              0,
              "#0d0887"
             ],
             [
              0.1111111111111111,
              "#46039f"
             ],
             [
              0.2222222222222222,
              "#7201a8"
             ],
             [
              0.3333333333333333,
              "#9c179e"
             ],
             [
              0.4444444444444444,
              "#bd3786"
             ],
             [
              0.5555555555555556,
              "#d8576b"
             ],
             [
              0.6666666666666666,
              "#ed7953"
             ],
             [
              0.7777777777777778,
              "#fb9f3a"
             ],
             [
              0.8888888888888888,
              "#fdca26"
             ],
             [
              1,
              "#f0f921"
             ]
            ],
            "type": "surface"
           }
          ],
          "table": [
           {
            "cells": {
             "fill": {
              "color": "#EBF0F8"
             },
             "line": {
              "color": "white"
             }
            },
            "header": {
             "fill": {
              "color": "#C8D4E3"
             },
             "line": {
              "color": "white"
             }
            },
            "type": "table"
           }
          ]
         },
         "layout": {
          "annotationdefaults": {
           "arrowcolor": "#2a3f5f",
           "arrowhead": 0,
           "arrowwidth": 1
          },
          "colorscale": {
           "diverging": [
            [
             0,
             "#8e0152"
            ],
            [
             0.1,
             "#c51b7d"
            ],
            [
             0.2,
             "#de77ae"
            ],
            [
             0.3,
             "#f1b6da"
            ],
            [
             0.4,
             "#fde0ef"
            ],
            [
             0.5,
             "#f7f7f7"
            ],
            [
             0.6,
             "#e6f5d0"
            ],
            [
             0.7,
             "#b8e186"
            ],
            [
             0.8,
             "#7fbc41"
            ],
            [
             0.9,
             "#4d9221"
            ],
            [
             1,
             "#276419"
            ]
           ],
           "sequential": [
            [
             0,
             "#0d0887"
            ],
            [
             0.1111111111111111,
             "#46039f"
            ],
            [
             0.2222222222222222,
             "#7201a8"
            ],
            [
             0.3333333333333333,
             "#9c179e"
            ],
            [
             0.4444444444444444,
             "#bd3786"
            ],
            [
             0.5555555555555556,
             "#d8576b"
            ],
            [
             0.6666666666666666,
             "#ed7953"
            ],
            [
             0.7777777777777778,
             "#fb9f3a"
            ],
            [
             0.8888888888888888,
             "#fdca26"
            ],
            [
             1,
             "#f0f921"
            ]
           ],
           "sequentialminus": [
            [
             0,
             "#0d0887"
            ],
            [
             0.1111111111111111,
             "#46039f"
            ],
            [
             0.2222222222222222,
             "#7201a8"
            ],
            [
             0.3333333333333333,
             "#9c179e"
            ],
            [
             0.4444444444444444,
             "#bd3786"
            ],
            [
             0.5555555555555556,
             "#d8576b"
            ],
            [
             0.6666666666666666,
             "#ed7953"
            ],
            [
             0.7777777777777778,
             "#fb9f3a"
            ],
            [
             0.8888888888888888,
             "#fdca26"
            ],
            [
             1,
             "#f0f921"
            ]
           ]
          },
          "colorway": [
           "#636efa",
           "#EF553B",
           "#00cc96",
           "#ab63fa",
           "#FFA15A",
           "#19d3f3",
           "#FF6692",
           "#B6E880",
           "#FF97FF",
           "#FECB52"
          ],
          "font": {
           "color": "#2a3f5f"
          },
          "geo": {
           "bgcolor": "white",
           "lakecolor": "white",
           "landcolor": "#E5ECF6",
           "showlakes": true,
           "showland": true,
           "subunitcolor": "white"
          },
          "hoverlabel": {
           "align": "left"
          },
          "hovermode": "closest",
          "mapbox": {
           "style": "light"
          },
          "paper_bgcolor": "white",
          "plot_bgcolor": "#E5ECF6",
          "polar": {
           "angularaxis": {
            "gridcolor": "white",
            "linecolor": "white",
            "ticks": ""
           },
           "bgcolor": "#E5ECF6",
           "radialaxis": {
            "gridcolor": "white",
            "linecolor": "white",
            "ticks": ""
           }
          },
          "scene": {
           "xaxis": {
            "backgroundcolor": "#E5ECF6",
            "gridcolor": "white",
            "gridwidth": 2,
            "linecolor": "white",
            "showbackground": true,
            "ticks": "",
            "zerolinecolor": "white"
           },
           "yaxis": {
            "backgroundcolor": "#E5ECF6",
            "gridcolor": "white",
            "gridwidth": 2,
            "linecolor": "white",
            "showbackground": true,
            "ticks": "",
            "zerolinecolor": "white"
           },
           "zaxis": {
            "backgroundcolor": "#E5ECF6",
            "gridcolor": "white",
            "gridwidth": 2,
            "linecolor": "white",
            "showbackground": true,
            "ticks": "",
            "zerolinecolor": "white"
           }
          },
          "shapedefaults": {
           "line": {
            "color": "#2a3f5f"
           }
          },
          "ternary": {
           "aaxis": {
            "gridcolor": "white",
            "linecolor": "white",
            "ticks": ""
           },
           "baxis": {
            "gridcolor": "white",
            "linecolor": "white",
            "ticks": ""
           },
           "bgcolor": "#E5ECF6",
           "caxis": {
            "gridcolor": "white",
            "linecolor": "white",
            "ticks": ""
           }
          },
          "title": {
           "x": 0.05
          },
          "xaxis": {
           "automargin": true,
           "gridcolor": "white",
           "linecolor": "white",
           "ticks": "",
           "zerolinecolor": "white",
           "zerolinewidth": 2
          },
          "yaxis": {
           "automargin": true,
           "gridcolor": "white",
           "linecolor": "white",
           "ticks": "",
           "zerolinecolor": "white",
           "zerolinewidth": 2
          }
         }
        },
        "title": {
         "text": "Training plus validation set RMSE vs Gradient descent iterations with L2 regularization"
        },
        "xaxis": {
         "anchor": "y",
         "autorange": true,
         "domain": [
          0,
          0.98
         ],
         "range": [
          1,
          250
         ],
         "title": {
          "text": "iteration_number"
         },
         "type": "linear"
        },
        "yaxis": {
         "anchor": "x",
         "autorange": true,
         "domain": [
          0,
          1
         ],
         "range": [
          1.7791242567851124,
          10.910539270320129
         ],
         "title": {
          "text": "rmse"
         },
         "type": "linear"
        }
       }
      },
      "image/png": "[encoded data removed]",
      "text/html": [
       "<div>\n",
       "        \n",
       "        \n",
       "            <div id=\"6fcfe318-ab1d-4cab-ad07-d8157214a434\" class=\"plotly-graph-div\" style=\"height:600px; width:100%;\"></div>\n",
       "            <script type=\"text/javascript\">\n",
       "                require([\"plotly\"], function(Plotly) {\n",
       "                    window.PLOTLYENV=window.PLOTLYENV || {};\n",
       "                    \n",
       "                if (document.getElementById(\"6fcfe318-ab1d-4cab-ad07-d8157214a434\")) {\n",
       "                    Plotly.newPlot(\n",
       "                        '6fcfe318-ab1d-4cab-ad07-d8157214a434',\n",
       "                        [{\"customdata\": [[10.453968519643379, 1.0], [7.816876687813887, 2.0], [5.993694016194758, 3.0], [4.762258258822357, 4.0], [3.9555310185240398, 5.0], [3.44176102505883, 6.0], [3.1215400593428844, 7.0], [2.9210551197490586, 8.0], [2.7931269915946237, 9.0], [2.7067719695286603, 10.0], [2.6456789371784084, 11.0], [2.5988879087156556, 12.0], [2.561899479379722, 13.0], [2.530622021170881, 14.0], [2.5041976918746625, 15.0], [2.480684698915699, 16.0], [2.4602434504687616, 17.0], [2.4416453155633873, 18.0], [2.425304977721655, 19.0], [2.41028456087477, 20.0], [2.397037938037378, 21.0], [2.3847880713734306, 22.0], [2.3739688859169656, 23.0], [2.363917514662012, 24.0], [2.3550328027258915, 25.0], [2.3467437591353937, 26.0], [2.33941159162871, 27.0], [2.332542816062841, 28.0], [2.3264621627520556, 29.0], [2.3207425553662913, 30.0], [2.315674560547119, 31.0], [2.3108882793343426, 32.0], [2.3066427852340707, 33.0], [2.302617491706461, 34.0], [2.2990427206967072, 35.0], [2.295640449970968, 36.0], [2.2926149375311646, 37.0], [2.2897249254970355, 38.0], [2.2871511766444117, 39.0], [2.2846842100713904, 40.0], [2.282483706868804, 41.0], [2.2803676729005957, 42.0], [2.2784769466369235, 43.0], [2.2766533282107844, 44.0], [2.2750208700465144, 45.0], [2.273441986164543, 46.0], [2.2720258167909213, 47.0], [2.2706526481474105, 48.0], [2.269418404446353, 49.0], [2.268218878343224, 50.0], [2.2671383051026455, 51.0], [2.2660859403950755, 52.0], [2.265135699159134, 53.0], [2.26420853334135, 54.0], [2.2633692595471153, 55.0], [2.262548997010369, 56.0], [2.2618045516131193, 57.0], [2.261075885436257, 58.0], [2.26041275904513, 59.0], [2.2597628291306764, 60.0], [2.2591696659232396, 61.0], [2.2585876244619603, 62.0], [2.258054840359819, 63.0], [2.2575315019774047, 64.0], [2.257050977181001, 65.0], [2.2565785360800157, 66.0], [2.2561433664272426, 67.0], [2.255715166694574, 68.0], [2.255319461700412, 69.0], [2.2549298099490636, 70.0], [2.2545685280187557, 71.0], [2.25421253986422, 72.0], [2.2538813532202524, 73.0], [2.253554826905355, 74.0], [2.253250010360726, 75.0], [2.2529493222551236, 76.0], [2.2526676612048235, 77.0], [2.2523896790065248, 78.0], [2.252128392975339, 79.0], [2.2518704033017927, 80.0], [2.2516270821410953, 81.0], [2.251386729870578, 82.0], [2.2511592802873275, 83.0], [2.2509345175395787, 84.0], [2.250721118104029, 85.0], [2.2505101611645957, 86.0], [2.250309224307738, 87.0], [2.2501105171283617, 88.0], [2.2499206569277264, 89.0], [2.2497328400946914, 90.0], [2.2495528448749034, 91.0], [2.2493747291434727, 92.0], [2.249203538098895, 93.0], [2.2490340817564456, 94.0], [2.248870764947622, 95.0], [2.2487090543997956, 96.0], [2.2485527955910034, 97.0], [2.248398028671086, 98.0], [2.248248110569323, 99.0], [2.248099582156612, 100.0], [2.2479553736874602, 101.0], [2.247812463289779, 102.0], [2.2476734086065586, 103.0], [2.2475355696186226, 104.0], [2.247401178590967, 105.0], [2.24726792898663, 106.0], [2.2471377689553074, 107.0], [2.247008683209805, 108.0], [2.2468823718281143, 109.0], [2.246757073897875, 110.0], [2.246634272907637, 111.0], [2.2465124301213835, 112.0], [2.246392839934512, 113.0], [2.2462741576711114, 114.0], [2.246157512646925, 115.0], [2.246041729693698, 116.0], [2.2459277940181797, 117.0], [2.245814678518658, 118.0], [2.245703242605342, 119.0], [2.2455925885184085, 120.0], [2.245483465861953, 121.0], [2.245375089865206, 122.0], [2.2452681142883564, 123.0], [2.245161853067824, 124.0], [2.2450568763106276, 125.0], [2.2449525841868736, 126.0], [2.2448494737940075, 127.0], [2.2447470206414115, 128.0], [2.2446456581094103, 129.0], [2.2445449275311926, 130.0], [2.244445206682491, 131.0], [2.2443460944090194, 132.0], [2.2442479199640872, 133.0], [2.2441503324462655, 134.0], [2.244053618768896, 135.0], [2.2439574719421262, 136.0], [2.2438621419361797, 137.0], [2.2437673601335573, 138.0], [2.2436733442722705, 139.0], [2.243579859268435, 140.0], [2.2434870947398435, 141.0], [2.243394844909272, 142.0], [2.2433032748633903, 143.0], [2.2432122044390033, 144.0], [2.243121777324229, 145.0], [2.2430318357439574, 146.0], [2.242942504721767, 147.0], [2.2428536460523016, 148.0], [2.242765368480665, 149.0], [2.242677550908954, 150.0], [2.2425902878861086, 151.0], [2.2425034732703577, 152.0], [2.242417189231625, 153.0], [2.242331342704582, 154.0], [2.2422460050658155, 155.0], [2.2421610946840205, 156.0], [2.242076673526072, 157.0], [2.241992669959536, 158.0], [2.2419091377488316, 159.0], [2.2418260140062904, 160.0], [2.2417433453471878, 161.0], [2.2416610765326803, 162.0], [2.2415792479478425, 163.0], [2.2414978110448773, 164.0], [2.2414168007803297, 165.0], [2.241336174460373, 166.0], [2.2412559623123354, 167.0], [2.2411761267647385, 168.0], [2.2410966939256767, 169.0], [2.2410176307065224, 170.0], [2.240938959628164, 171.0], [2.2408606515258147, 172.0], [2.2407827257971538, 173.0], [2.2407051567125547, 174.0], [2.2406279609511115, 175.0], [2.2405511157911238, 176.0], [2.240474635545927, 177.0], [2.2403985001282005, 178.0], [2.2403227217931425, 179.0], [2.240247282761186, 180.0], [2.2401721934975747, 181.0], [2.240097438244865, 182.0], [2.2400230259121185, 183.0], [2.2399489425142125, 184.0], [2.2398751956077843, 185.0], [2.2398017727615382, 186.0], [2.2397286803572527, 187.0], [2.2396559073263336, 188.0], [2.239583459030425, 189.0], [2.239511325596424, 190.0], [2.2394395115006374, 191.0], [2.239368007919154, 192.0], [2.23929681856036, 193.0], [2.2392259355215067, 194.0], [2.239155361845327, 195.0], [2.2390850904381803, 196.0], [2.2390151237661886, 197.0], [2.2389454554467396, 198.0], [2.238876087446865, 199.0], [2.2388070140091045, 200.0], [2.238738236668873, 201.0], [2.238669750218668, 202.0], [2.2386015558209995, 203.0], [2.238533648752465, 204.0], [2.2384660298537464, 205.0], [2.238398694827849, 206.0], [2.238331644238047, 207.0], [2.2382648741632054, 208.0], [2.2381983849278098, 209.0], [2.2381321729422843, 210.0], [2.2380662383258927, 211.0], [2.238000577781782, 212.0], [2.2379351912531553, 213.0], [2.237870075701832, 214.0], [2.23780523092028, 215.0], [2.237740654099122, 216.0], [2.237676344902078, 217.0], [2.237612300722367, 218.0], [2.237548521114037, 219.0], [2.2374850036499048, 220.0], [2.2374217477908886, 221.0], [2.2373587512692077, 222.0], [2.237296013466993, 223.0], [2.2372335322581276, 224.0], [2.2371713069583743, 225.0], [2.2371093355676974, 226.0], [2.2370476173462404, 227.0], [2.2369861504063495, 228.0], [2.2369249339618493, 229.0], [2.2368639662254193, 230.0], [2.236803246372599, 231.0], [2.236742772705799, 232.0], [2.236682544369215, 233.0], [2.236622559745657, 234.0], [2.236562817953959, 235.0], [2.2365033174491082, 236.0], [2.2364440573297353, 237.0], [2.236385036115758, 238.0], [2.236326252890039, 239.0], [2.236267706231037, 240.0], [2.2362093952096602, 241.0], [2.236151318457265, 242.0], [2.2360934750360766, 243.0], [2.2360358636253665, 244.0], [2.2359784832814786, 245.0], [2.235921332727197, 246.0], [2.235864411015375, 247.0], [2.235807716908415, 248.0], [2.235751249457721, 249.0], [2.2356950074618633, 250.0]], \"hoverlabel\": {\"namelength\": 0}, \"hovertemplate\": \"<b>%{hovertext}</b><br><br>iteration_number=%{customdata[1]}<br>rmse=%{customdata[0]}\", \"hovertext\": [10.453968519643379, 7.816876687813887, 5.993694016194758, 4.762258258822357, 3.9555310185240398, 3.44176102505883, 3.1215400593428844, 2.9210551197490586, 2.7931269915946237, 2.7067719695286603, 2.6456789371784084, 2.5988879087156556, 2.561899479379722, 2.530622021170881, 2.5041976918746625, 2.480684698915699, 2.4602434504687616, 2.4416453155633873, 2.425304977721655, 2.41028456087477, 2.397037938037378, 2.3847880713734306, 2.3739688859169656, 2.363917514662012, 2.3550328027258915, 2.3467437591353937, 2.33941159162871, 2.332542816062841, 2.3264621627520556, 2.3207425553662913, 2.315674560547119, 2.3108882793343426, 2.3066427852340707, 2.302617491706461, 2.2990427206967072, 2.295640449970968, 2.2926149375311646, 2.2897249254970355, 2.2871511766444117, 2.2846842100713904, 2.282483706868804, 2.2803676729005957, 2.2784769466369235, 2.2766533282107844, 2.2750208700465144, 2.273441986164543, 2.2720258167909213, 2.2706526481474105, 2.269418404446353, 2.268218878343224, 2.2671383051026455, 2.2660859403950755, 2.265135699159134, 2.26420853334135, 2.2633692595471153, 2.262548997010369, 2.2618045516131193, 2.261075885436257, 2.26041275904513, 2.2597628291306764, 2.2591696659232396, 2.2585876244619603, 2.258054840359819, 2.2575315019774047, 2.257050977181001, 2.2565785360800157, 2.2561433664272426, 2.255715166694574, 2.255319461700412, 2.2549298099490636, 2.2545685280187557, 2.25421253986422, 2.2538813532202524, 2.253554826905355, 2.253250010360726, 2.2529493222551236, 2.2526676612048235, 2.2523896790065248, 2.252128392975339, 2.2518704033017927, 2.2516270821410953, 2.251386729870578, 2.2511592802873275, 2.2509345175395787, 2.250721118104029, 2.2505101611645957, 2.250309224307738, 2.2501105171283617, 2.2499206569277264, 2.2497328400946914, 2.2495528448749034, 2.2493747291434727, 2.249203538098895, 2.2490340817564456, 2.248870764947622, 2.2487090543997956, 2.2485527955910034, 2.248398028671086, 2.248248110569323, 2.248099582156612, 2.2479553736874602, 2.247812463289779, 2.2476734086065586, 2.2475355696186226, 2.247401178590967, 2.24726792898663, 2.2471377689553074, 2.247008683209805, 2.2468823718281143, 2.246757073897875, 2.246634272907637, 2.2465124301213835, 2.246392839934512, 2.2462741576711114, 2.246157512646925, 2.246041729693698, 2.2459277940181797, 2.245814678518658, 2.245703242605342, 2.2455925885184085, 2.245483465861953, 2.245375089865206, 2.2452681142883564, 2.245161853067824, 2.2450568763106276, 2.2449525841868736, 2.2448494737940075, 2.2447470206414115, 2.2446456581094103, 2.2445449275311926, 2.244445206682491, 2.2443460944090194, 2.2442479199640872, 2.2441503324462655, 2.244053618768896, 2.2439574719421262, 2.2438621419361797, 2.2437673601335573, 2.2436733442722705, 2.243579859268435, 2.2434870947398435, 2.243394844909272, 2.2433032748633903, 2.2432122044390033, 2.243121777324229, 2.2430318357439574, 2.242942504721767, 2.2428536460523016, 2.242765368480665, 2.242677550908954, 2.2425902878861086, 2.2425034732703577, 2.242417189231625, 2.242331342704582, 2.2422460050658155, 2.2421610946840205, 2.242076673526072, 2.241992669959536, 2.2419091377488316, 2.2418260140062904, 2.2417433453471878, 2.2416610765326803, 2.2415792479478425, 2.2414978110448773, 2.2414168007803297, 2.241336174460373, 2.2412559623123354, 2.2411761267647385, 2.2410966939256767, 2.2410176307065224, 2.240938959628164, 2.2408606515258147, 2.2407827257971538, 2.2407051567125547, 2.2406279609511115, 2.2405511157911238, 2.240474635545927, 2.2403985001282005, 2.2403227217931425, 2.240247282761186, 2.2401721934975747, 2.240097438244865, 2.2400230259121185, 2.2399489425142125, 2.2398751956077843, 2.2398017727615382, 2.2397286803572527, 2.2396559073263336, 2.239583459030425, 2.239511325596424, 2.2394395115006374, 2.239368007919154, 2.23929681856036, 2.2392259355215067, 2.239155361845327, 2.2390850904381803, 2.2390151237661886, 2.2389454554467396, 2.238876087446865, 2.2388070140091045, 2.238738236668873, 2.238669750218668, 2.2386015558209995, 2.238533648752465, 2.2384660298537464, 2.238398694827849, 2.238331644238047, 2.2382648741632054, 2.2381983849278098, 2.2381321729422843, 2.2380662383258927, 2.238000577781782, 2.2379351912531553, 2.237870075701832, 2.23780523092028, 2.237740654099122, 2.237676344902078, 2.237612300722367, 2.237548521114037, 2.2374850036499048, 2.2374217477908886, 2.2373587512692077, 2.237296013466993, 2.2372335322581276, 2.2371713069583743, 2.2371093355676974, 2.2370476173462404, 2.2369861504063495, 2.2369249339618493, 2.2368639662254193, 2.236803246372599, 2.236742772705799, 2.236682544369215, 2.236622559745657, 2.236562817953959, 2.2365033174491082, 2.2364440573297353, 2.236385036115758, 2.236326252890039, 2.236267706231037, 2.2362093952096602, 2.236151318457265, 2.2360934750360766, 2.2360358636253665, 2.2359784832814786, 2.235921332727197, 2.235864411015375, 2.235807716908415, 2.235751249457721, 2.2356950074618633], \"legendgroup\": \"\", \"line\": {\"color\": \"#636efa\", \"dash\": \"solid\"}, \"mode\": \"lines\", \"name\": \"\", \"showlegend\": false, \"type\": \"scatter\", \"x\": [1.0, 2.0, 3.0, 4.0, 5.0, 6.0, 7.0, 8.0, 9.0, 10.0, 11.0, 12.0, 13.0, 14.0, 15.0, 16.0, 17.0, 18.0, 19.0, 20.0, 21.0, 22.0, 23.0, 24.0, 25.0, 26.0, 27.0, 28.0, 29.0, 30.0, 31.0, 32.0, 33.0, 34.0, 35.0, 36.0, 37.0, 38.0, 39.0, 40.0, 41.0, 42.0, 43.0, 44.0, 45.0, 46.0, 47.0, 48.0, 49.0, 50.0, 51.0, 52.0, 53.0, 54.0, 55.0, 56.0, 57.0, 58.0, 59.0, 60.0, 61.0, 62.0, 63.0, 64.0, 65.0, 66.0, 67.0, 68.0, 69.0, 70.0, 71.0, 72.0, 73.0, 74.0, 75.0, 76.0, 77.0, 78.0, 79.0, 80.0, 81.0, 82.0, 83.0, 84.0, 85.0, 86.0, 87.0, 88.0, 89.0, 90.0, 91.0, 92.0, 93.0, 94.0, 95.0, 96.0, 97.0, 98.0, 99.0, 100.0, 101.0, 102.0, 103.0, 104.0, 105.0, 106.0, 107.0, 108.0, 109.0, 110.0, 111.0, 112.0, 113.0, 114.0, 115.0, 116.0, 117.0, 118.0, 119.0, 120.0, 121.0, 122.0, 123.0, 124.0, 125.0, 126.0, 127.0, 128.0, 129.0, 130.0, 131.0, 132.0, 133.0, 134.0, 135.0, 136.0, 137.0, 138.0, 139.0, 140.0, 141.0, 142.0, 143.0, 144.0, 145.0, 146.0, 147.0, 148.0, 149.0, 150.0, 151.0, 152.0, 153.0, 154.0, 155.0, 156.0, 157.0, 158.0, 159.0, 160.0, 161.0, 162.0, 163.0, 164.0, 165.0, 166.0, 167.0, 168.0, 169.0, 170.0, 171.0, 172.0, 173.0, 174.0, 175.0, 176.0, 177.0, 178.0, 179.0, 180.0, 181.0, 182.0, 183.0, 184.0, 185.0, 186.0, 187.0, 188.0, 189.0, 190.0, 191.0, 192.0, 193.0, 194.0, 195.0, 196.0, 197.0, 198.0, 199.0, 200.0, 201.0, 202.0, 203.0, 204.0, 205.0, 206.0, 207.0, 208.0, 209.0, 210.0, 211.0, 212.0, 213.0, 214.0, 215.0, 216.0, 217.0, 218.0, 219.0, 220.0, 221.0, 222.0, 223.0, 224.0, 225.0, 226.0, 227.0, 228.0, 229.0, 230.0, 231.0, 232.0, 233.0, 234.0, 235.0, 236.0, 237.0, 238.0, 239.0, 240.0, 241.0, 242.0, 243.0, 244.0, 245.0, 246.0, 247.0, 248.0, 249.0, 250.0], \"xaxis\": \"x\", \"y\": [10.453968519643379, 7.816876687813887, 5.993694016194758, 4.762258258822357, 3.9555310185240398, 3.44176102505883, 3.1215400593428844, 2.9210551197490586, 2.7931269915946237, 2.7067719695286603, 2.6456789371784084, 2.5988879087156556, 2.561899479379722, 2.530622021170881, 2.5041976918746625, 2.480684698915699, 2.4602434504687616, 2.4416453155633873, 2.425304977721655, 2.41028456087477, 2.397037938037378, 2.3847880713734306, 2.3739688859169656, 2.363917514662012, 2.3550328027258915, 2.3467437591353937, 2.33941159162871, 2.332542816062841, 2.3264621627520556, 2.3207425553662913, 2.315674560547119, 2.3108882793343426, 2.3066427852340707, 2.302617491706461, 2.2990427206967072, 2.295640449970968, 2.2926149375311646, 2.2897249254970355, 2.2871511766444117, 2.2846842100713904, 2.282483706868804, 2.2803676729005957, 2.2784769466369235, 2.2766533282107844, 2.2750208700465144, 2.273441986164543, 2.2720258167909213, 2.2706526481474105, 2.269418404446353, 2.268218878343224, 2.2671383051026455, 2.2660859403950755, 2.265135699159134, 2.26420853334135, 2.2633692595471153, 2.262548997010369, 2.2618045516131193, 2.261075885436257, 2.26041275904513, 2.2597628291306764, 2.2591696659232396, 2.2585876244619603, 2.258054840359819, 2.2575315019774047, 2.257050977181001, 2.2565785360800157, 2.2561433664272426, 2.255715166694574, 2.255319461700412, 2.2549298099490636, 2.2545685280187557, 2.25421253986422, 2.2538813532202524, 2.253554826905355, 2.253250010360726, 2.2529493222551236, 2.2526676612048235, 2.2523896790065248, 2.252128392975339, 2.2518704033017927, 2.2516270821410953, 2.251386729870578, 2.2511592802873275, 2.2509345175395787, 2.250721118104029, 2.2505101611645957, 2.250309224307738, 2.2501105171283617, 2.2499206569277264, 2.2497328400946914, 2.2495528448749034, 2.2493747291434727, 2.249203538098895, 2.2490340817564456, 2.248870764947622, 2.2487090543997956, 2.2485527955910034, 2.248398028671086, 2.248248110569323, 2.248099582156612, 2.2479553736874602, 2.247812463289779, 2.2476734086065586, 2.2475355696186226, 2.247401178590967, 2.24726792898663, 2.2471377689553074, 2.247008683209805, 2.2468823718281143, 2.246757073897875, 2.246634272907637, 2.2465124301213835, 2.246392839934512, 2.2462741576711114, 2.246157512646925, 2.246041729693698, 2.2459277940181797, 2.245814678518658, 2.245703242605342, 2.2455925885184085, 2.245483465861953, 2.245375089865206, 2.2452681142883564, 2.245161853067824, 2.2450568763106276, 2.2449525841868736, 2.2448494737940075, 2.2447470206414115, 2.2446456581094103, 2.2445449275311926, 2.244445206682491, 2.2443460944090194, 2.2442479199640872, 2.2441503324462655, 2.244053618768896, 2.2439574719421262, 2.2438621419361797, 2.2437673601335573, 2.2436733442722705, 2.243579859268435, 2.2434870947398435, 2.243394844909272, 2.2433032748633903, 2.2432122044390033, 2.243121777324229, 2.2430318357439574, 2.242942504721767, 2.2428536460523016, 2.242765368480665, 2.242677550908954, 2.2425902878861086, 2.2425034732703577, 2.242417189231625, 2.242331342704582, 2.2422460050658155, 2.2421610946840205, 2.242076673526072, 2.241992669959536, 2.2419091377488316, 2.2418260140062904, 2.2417433453471878, 2.2416610765326803, 2.2415792479478425, 2.2414978110448773, 2.2414168007803297, 2.241336174460373, 2.2412559623123354, 2.2411761267647385, 2.2410966939256767, 2.2410176307065224, 2.240938959628164, 2.2408606515258147, 2.2407827257971538, 2.2407051567125547, 2.2406279609511115, 2.2405511157911238, 2.240474635545927, 2.2403985001282005, 2.2403227217931425, 2.240247282761186, 2.2401721934975747, 2.240097438244865, 2.2400230259121185, 2.2399489425142125, 2.2398751956077843, 2.2398017727615382, 2.2397286803572527, 2.2396559073263336, 2.239583459030425, 2.239511325596424, 2.2394395115006374, 2.239368007919154, 2.23929681856036, 2.2392259355215067, 2.239155361845327, 2.2390850904381803, 2.2390151237661886, 2.2389454554467396, 2.238876087446865, 2.2388070140091045, 2.238738236668873, 2.238669750218668, 2.2386015558209995, 2.238533648752465, 2.2384660298537464, 2.238398694827849, 2.238331644238047, 2.2382648741632054, 2.2381983849278098, 2.2381321729422843, 2.2380662383258927, 2.238000577781782, 2.2379351912531553, 2.237870075701832, 2.23780523092028, 2.237740654099122, 2.237676344902078, 2.237612300722367, 2.237548521114037, 2.2374850036499048, 2.2374217477908886, 2.2373587512692077, 2.237296013466993, 2.2372335322581276, 2.2371713069583743, 2.2371093355676974, 2.2370476173462404, 2.2369861504063495, 2.2369249339618493, 2.2368639662254193, 2.236803246372599, 2.236742772705799, 2.236682544369215, 2.236622559745657, 2.236562817953959, 2.2365033174491082, 2.2364440573297353, 2.236385036115758, 2.236326252890039, 2.236267706231037, 2.2362093952096602, 2.236151318457265, 2.2360934750360766, 2.2360358636253665, 2.2359784832814786, 2.235921332727197, 2.235864411015375, 2.235807716908415, 2.235751249457721, 2.2356950074618633], \"yaxis\": \"y\"}],\n",
       "                        {\"height\": 600, \"legend\": {\"tracegroupgap\": 0}, \"template\": {\"data\": {\"bar\": [{\"error_x\": {\"color\": \"#2a3f5f\"}, \"error_y\": {\"color\": \"#2a3f5f\"}, \"marker\": {\"line\": {\"color\": \"#E5ECF6\", \"width\": 0.5}}, \"type\": \"bar\"}], \"barpolar\": [{\"marker\": {\"line\": {\"color\": \"#E5ECF6\", \"width\": 0.5}}, \"type\": \"barpolar\"}], \"carpet\": [{\"aaxis\": {\"endlinecolor\": \"#2a3f5f\", \"gridcolor\": \"white\", \"linecolor\": \"white\", \"minorgridcolor\": \"white\", \"startlinecolor\": \"#2a3f5f\"}, \"baxis\": {\"endlinecolor\": \"#2a3f5f\", \"gridcolor\": \"white\", \"linecolor\": \"white\", \"minorgridcolor\": \"white\", \"startlinecolor\": \"#2a3f5f\"}, \"type\": \"carpet\"}], \"choropleth\": [{\"colorbar\": {\"outlinewidth\": 0, \"ticks\": \"\"}, \"type\": \"choropleth\"}], \"contour\": [{\"colorbar\": {\"outlinewidth\": 0, \"ticks\": \"\"}, \"colorscale\": [[0.0, \"#0d0887\"], [0.1111111111111111, \"#46039f\"], [0.2222222222222222, \"#7201a8\"], [0.3333333333333333, \"#9c179e\"], [0.4444444444444444, \"#bd3786\"], [0.5555555555555556, \"#d8576b\"], [0.6666666666666666, \"#ed7953\"], [0.7777777777777778, \"#fb9f3a\"], [0.8888888888888888, \"#fdca26\"], [1.0, \"#f0f921\"]], \"type\": \"contour\"}], \"contourcarpet\": [{\"colorbar\": {\"outlinewidth\": 0, \"ticks\": \"\"}, \"type\": \"contourcarpet\"}], \"heatmap\": [{\"colorbar\": {\"outlinewidth\": 0, \"ticks\": \"\"}, \"colorscale\": [[0.0, \"#0d0887\"], [0.1111111111111111, \"#46039f\"], [0.2222222222222222, \"#7201a8\"], [0.3333333333333333, \"#9c179e\"], [0.4444444444444444, \"#bd3786\"], [0.5555555555555556, \"#d8576b\"], [0.6666666666666666, \"#ed7953\"], [0.7777777777777778, \"#fb9f3a\"], [0.8888888888888888, \"#fdca26\"], [1.0, \"#f0f921\"]], \"type\": \"heatmap\"}], \"heatmapgl\": [{\"colorbar\": {\"outlinewidth\": 0, \"ticks\": \"\"}, \"colorscale\": [[0.0, \"#0d0887\"], [0.1111111111111111, \"#46039f\"], [0.2222222222222222, \"#7201a8\"], [0.3333333333333333, \"#9c179e\"], [0.4444444444444444, \"#bd3786\"], [0.5555555555555556, \"#d8576b\"], [0.6666666666666666, \"#ed7953\"], [0.7777777777777778, \"#fb9f3a\"], [0.8888888888888888, \"#fdca26\"], [1.0, \"#f0f921\"]], \"type\": \"heatmapgl\"}], \"histogram\": [{\"marker\": {\"colorbar\": {\"outlinewidth\": 0, \"ticks\": \"\"}}, \"type\": \"histogram\"}], \"histogram2d\": [{\"colorbar\": {\"outlinewidth\": 0, \"ticks\": \"\"}, \"colorscale\": [[0.0, \"#0d0887\"], [0.1111111111111111, \"#46039f\"], [0.2222222222222222, \"#7201a8\"], [0.3333333333333333, \"#9c179e\"], [0.4444444444444444, \"#bd3786\"], [0.5555555555555556, \"#d8576b\"], [0.6666666666666666, \"#ed7953\"], [0.7777777777777778, \"#fb9f3a\"], [0.8888888888888888, \"#fdca26\"], [1.0, \"#f0f921\"]], \"type\": \"histogram2d\"}], \"histogram2dcontour\": [{\"colorbar\": {\"outlinewidth\": 0, \"ticks\": \"\"}, \"colorscale\": [[0.0, \"#0d0887\"], [0.1111111111111111, \"#46039f\"], [0.2222222222222222, \"#7201a8\"], [0.3333333333333333, \"#9c179e\"], [0.4444444444444444, \"#bd3786\"], [0.5555555555555556, \"#d8576b\"], [0.6666666666666666, \"#ed7953\"], [0.7777777777777778, \"#fb9f3a\"], [0.8888888888888888, \"#fdca26\"], [1.0, \"#f0f921\"]], \"type\": \"histogram2dcontour\"}], \"mesh3d\": [{\"colorbar\": {\"outlinewidth\": 0, \"ticks\": \"\"}, \"type\": \"mesh3d\"}], \"parcoords\": [{\"line\": {\"colorbar\": {\"outlinewidth\": 0, \"ticks\": \"\"}}, \"type\": \"parcoords\"}], \"scatter\": [{\"marker\": {\"colorbar\": {\"outlinewidth\": 0, \"ticks\": \"\"}}, \"type\": \"scatter\"}], \"scatter3d\": [{\"line\": {\"colorbar\": {\"outlinewidth\": 0, \"ticks\": \"\"}}, \"marker\": {\"colorbar\": {\"outlinewidth\": 0, \"ticks\": \"\"}}, \"type\": \"scatter3d\"}], \"scattercarpet\": [{\"marker\": {\"colorbar\": {\"outlinewidth\": 0, \"ticks\": \"\"}}, \"type\": \"scattercarpet\"}], \"scattergeo\": [{\"marker\": {\"colorbar\": {\"outlinewidth\": 0, \"ticks\": \"\"}}, \"type\": \"scattergeo\"}], \"scattergl\": [{\"marker\": {\"colorbar\": {\"outlinewidth\": 0, \"ticks\": \"\"}}, \"type\": \"scattergl\"}], \"scattermapbox\": [{\"marker\": {\"colorbar\": {\"outlinewidth\": 0, \"ticks\": \"\"}}, \"type\": \"scattermapbox\"}], \"scatterpolar\": [{\"marker\": {\"colorbar\": {\"outlinewidth\": 0, \"ticks\": \"\"}}, \"type\": \"scatterpolar\"}], \"scatterpolargl\": [{\"marker\": {\"colorbar\": {\"outlinewidth\": 0, \"ticks\": \"\"}}, \"type\": \"scatterpolargl\"}], \"scatterternary\": [{\"marker\": {\"colorbar\": {\"outlinewidth\": 0, \"ticks\": \"\"}}, \"type\": \"scatterternary\"}], \"surface\": [{\"colorbar\": {\"outlinewidth\": 0, \"ticks\": \"\"}, \"colorscale\": [[0.0, \"#0d0887\"], [0.1111111111111111, \"#46039f\"], [0.2222222222222222, \"#7201a8\"], [0.3333333333333333, \"#9c179e\"], [0.4444444444444444, \"#bd3786\"], [0.5555555555555556, \"#d8576b\"], [0.6666666666666666, \"#ed7953\"], [0.7777777777777778, \"#fb9f3a\"], [0.8888888888888888, \"#fdca26\"], [1.0, \"#f0f921\"]], \"type\": \"surface\"}], \"table\": [{\"cells\": {\"fill\": {\"color\": \"#EBF0F8\"}, \"line\": {\"color\": \"white\"}}, \"header\": {\"fill\": {\"color\": \"#C8D4E3\"}, \"line\": {\"color\": \"white\"}}, \"type\": \"table\"}]}, \"layout\": {\"annotationdefaults\": {\"arrowcolor\": \"#2a3f5f\", \"arrowhead\": 0, \"arrowwidth\": 1}, \"colorscale\": {\"diverging\": [[0, \"#8e0152\"], [0.1, \"#c51b7d\"], [0.2, \"#de77ae\"], [0.3, \"#f1b6da\"], [0.4, \"#fde0ef\"], [0.5, \"#f7f7f7\"], [0.6, \"#e6f5d0\"], [0.7, \"#b8e186\"], [0.8, \"#7fbc41\"], [0.9, \"#4d9221\"], [1, \"#276419\"]], \"sequential\": [[0.0, \"#0d0887\"], [0.1111111111111111, \"#46039f\"], [0.2222222222222222, \"#7201a8\"], [0.3333333333333333, \"#9c179e\"], [0.4444444444444444, \"#bd3786\"], [0.5555555555555556, \"#d8576b\"], [0.6666666666666666, \"#ed7953\"], [0.7777777777777778, \"#fb9f3a\"], [0.8888888888888888, \"#fdca26\"], [1.0, \"#f0f921\"]], \"sequentialminus\": [[0.0, \"#0d0887\"], [0.1111111111111111, \"#46039f\"], [0.2222222222222222, \"#7201a8\"], [0.3333333333333333, \"#9c179e\"], [0.4444444444444444, \"#bd3786\"], [0.5555555555555556, \"#d8576b\"], [0.6666666666666666, \"#ed7953\"], [0.7777777777777778, \"#fb9f3a\"], [0.8888888888888888, \"#fdca26\"], [1.0, \"#f0f921\"]]}, \"colorway\": [\"#636efa\", \"#EF553B\", \"#00cc96\", \"#ab63fa\", \"#FFA15A\", \"#19d3f3\", \"#FF6692\", \"#B6E880\", \"#FF97FF\", \"#FECB52\"], \"font\": {\"color\": \"#2a3f5f\"}, \"geo\": {\"bgcolor\": \"white\", \"lakecolor\": \"white\", \"landcolor\": \"#E5ECF6\", \"showlakes\": true, \"showland\": true, \"subunitcolor\": \"white\"}, \"hoverlabel\": {\"align\": \"left\"}, \"hovermode\": \"closest\", \"mapbox\": {\"style\": \"light\"}, \"paper_bgcolor\": \"white\", \"plot_bgcolor\": \"#E5ECF6\", \"polar\": {\"angularaxis\": {\"gridcolor\": \"white\", \"linecolor\": \"white\", \"ticks\": \"\"}, \"bgcolor\": \"#E5ECF6\", \"radialaxis\": {\"gridcolor\": \"white\", \"linecolor\": \"white\", \"ticks\": \"\"}}, \"scene\": {\"xaxis\": {\"backgroundcolor\": \"#E5ECF6\", \"gridcolor\": \"white\", \"gridwidth\": 2, \"linecolor\": \"white\", \"showbackground\": true, \"ticks\": \"\", \"zerolinecolor\": \"white\"}, \"yaxis\": {\"backgroundcolor\": \"#E5ECF6\", \"gridcolor\": \"white\", \"gridwidth\": 2, \"linecolor\": \"white\", \"showbackground\": true, \"ticks\": \"\", \"zerolinecolor\": \"white\"}, \"zaxis\": {\"backgroundcolor\": \"#E5ECF6\", \"gridcolor\": \"white\", \"gridwidth\": 2, \"linecolor\": \"white\", \"showbackground\": true, \"ticks\": \"\", \"zerolinecolor\": \"white\"}}, \"shapedefaults\": {\"line\": {\"color\": \"#2a3f5f\"}}, \"ternary\": {\"aaxis\": {\"gridcolor\": \"white\", \"linecolor\": \"white\", \"ticks\": \"\"}, \"baxis\": {\"gridcolor\": \"white\", \"linecolor\": \"white\", \"ticks\": \"\"}, \"bgcolor\": \"#E5ECF6\", \"caxis\": {\"gridcolor\": \"white\", \"linecolor\": \"white\", \"ticks\": \"\"}}, \"title\": {\"x\": 0.05}, \"xaxis\": {\"automargin\": true, \"gridcolor\": \"white\", \"linecolor\": \"white\", \"ticks\": \"\", \"zerolinecolor\": \"white\", \"zerolinewidth\": 2}, \"yaxis\": {\"automargin\": true, \"gridcolor\": \"white\", \"linecolor\": \"white\", \"ticks\": \"\", \"zerolinecolor\": \"white\", \"zerolinewidth\": 2}}}, \"title\": {\"text\": \"Training plus validation set RMSE vs Gradient descent iterations with L2 regularization\"}, \"xaxis\": {\"anchor\": \"y\", \"domain\": [0.0, 0.98], \"title\": {\"text\": \"iteration_number\"}}, \"yaxis\": {\"anchor\": \"x\", \"domain\": [0.0, 1.0], \"title\": {\"text\": \"rmse\"}}},\n",
       "                        {\"responsive\": true}\n",
       "                    ).then(function(){\n",
       "                            \n",
       "var gd = document.getElementById('6fcfe318-ab1d-4cab-ad07-d8157214a434');\n",
       "var x = new MutationObserver(function (mutations, observer) {{\n",
       "        var display = window.getComputedStyle(gd).display;\n",
       "        if (!display || display === 'none') {{\n",
       "            console.log([gd, 'removed!']);\n",
       "            Plotly.purge(gd);\n",
       "            observer.disconnect();\n",
       "        }}\n",
       "}});\n",
       "\n",
       "// Listen for the removal of the full notebook cells\n",
       "var notebookContainer = gd.closest('#notebook-container');\n",
       "if (notebookContainer) {{\n",
       "    x.observe(notebookContainer, {childList: true});\n",
       "}}\n",
       "\n",
       "// Listen for the clearing of the current output cell\n",
       "var outputEl = gd.closest('.output');\n",
       "if (outputEl) {{\n",
       "    x.observe(outputEl, {childList: true});\n",
       "}}\n",
       "\n",
       "                        })\n",
       "                };\n",
       "                });\n",
       "            </script>\n",
       "        </div>"
      ]
     },
     "metadata": {},
     "output_type": "display_data"
    },
    {
     "data": {
      "application/vnd.plotly.v1+json": {
       "config": {
        "plotlyServerURL": "https://plot.ly"
       },
       "data": [
        {
         "customdata": [
          [
           10.453968519643379,
           1
          ],
          [
           7.816876687813887,
           2
          ],
          [
           5.992412162274231,
           3
          ],
          [
           4.759864593534463,
           4
          ],
          [
           3.9517948692017786,
           5
          ],
          [
           3.4376723990874702,
           6
          ],
          [
           3.116998006987579,
           7
          ],
          [
           2.916972099170282,
           8
          ],
          [
           2.7890920813192004,
           9
          ],
          [
           2.703411810994674,
           10
          ],
          [
           2.6424292792958686,
           11
          ],
          [
           2.5962335663636953,
           12
          ],
          [
           2.559285753914939,
           13
          ],
          [
           2.5284753193412364,
           14
          ],
          [
           2.5020234258374674,
           15
          ],
          [
           2.478872820439031,
           16
          ],
          [
           2.4583634268393015,
           17
          ],
          [
           2.440053130265129,
           18
          ],
          [
           2.4236265517946944,
           19
          ],
          [
           2.4088415184807697,
           20
          ],
          [
           2.395504235038992,
           21
          ],
          [
           2.3834515158269762,
           22
          ],
          [
           2.3725444485872753,
           23
          ],
          [
           2.3626609384010235,
           24
          ],
          [
           2.353694466017944,
           25
          ],
          [
           2.3455498302844138,
           26
          ],
          [
           2.338143297254237,
           27
          ],
          [
           2.3313995397162928,
           28
          ],
          [
           2.3252521575992824,
           29
          ],
          [
           2.319641225373363,
           30
          ],
          [
           2.3145139007674875,
           31
          ],
          [
           2.309822380502313,
           32
          ],
          [
           2.3055245152971624,
           33
          ],
          [
           2.3015820842473205,
           34
          ],
          [
           2.2979613893266357,
           35
          ],
          [
           2.294631792667432,
           36
          ],
          [
           2.291566279786962,
           37
          ],
          [
           2.28874021740836,
           38
          ],
          [
           2.286131880178253,
           39
          ],
          [
           2.2837213942510814,
           40
          ],
          [
           2.281491224908511,
           41
          ],
          [
           2.2794252767603083,
           42
          ],
          [
           2.2775093413684755,
           43
          ],
          [
           2.2757303295727582,
           44
          ],
          [
           2.2740766794508196,
           45
          ],
          [
           2.2725377002187654,
           46
          ],
          [
           2.2711039417580046,
           47
          ],
          [
           2.2697666328748127,
           48
          ],
          [
           2.268518014254989,
           49
          ],
          [
           2.2673508566672336,
           50
          ],
          [
           2.2662587596159574,
           51
          ],
          [
           2.2652357374129863,
           52
          ],
          [
           2.2642764860316706,
           53
          ],
          [
           2.263376026918804,
           54
          ],
          [
           2.2625299446504212,
           55
          ],
          [
           2.2617340799736128,
           56
          ],
          [
           2.2609847408615074,
           57
          ],
          [
           2.2602784376182252,
           58
          ],
          [
           2.259612069856723,
           59
          ],
          [
           2.258982697616842,
           60
          ],
          [
           2.258387706668276,
           61
          ],
          [
           2.2578246105213324,
           62
          ],
          [
           2.257291196306227,
           63
          ],
          [
           2.25678535333186,
           64
          ],
          [
           2.256305201625446,
           65
          ],
          [
           2.2558489433434787,
           66
          ],
          [
           2.2554149758822493,
           67
          ],
          [
           2.2550017629895214,
           68
          ],
          [
           2.254607934183732,
           69
          ],
          [
           2.25423217287292,
           70
          ],
          [
           2.2538733036531395,
           71
          ],
          [
           2.25353019512769,
           72
          ],
          [
           2.2532018364966073,
           73
          ],
          [
           2.2528872530963624,
           74
          ],
          [
           2.252585573544069,
           75
          ],
          [
           2.252295956295462,
           76
          ],
          [
           2.2520176484706194,
           77
          ],
          [
           2.2517499219643167,
           78
          ],
          [
           2.2514921249549205,
           79
          ],
          [
           2.2512436263027977,
           80
          ],
          [
           2.2510038606304534,
           81
          ],
          [
           2.250772279917072,
           82
          ],
          [
           2.2505483929355075,
           83
          ],
          [
           2.250331723098762,
           84
          ],
          [
           2.2501218429474794,
           85
          ],
          [
           2.2499183374310427,
           86
          ],
          [
           2.2497208340570154,
           87
          ],
          [
           2.249528970898666,
           88
          ],
          [
           2.2493424229446055,
           89
          ],
          [
           2.2491608742185822,
           90
          ],
          [
           2.2489840408025437,
           91
          ],
          [
           2.248811646535699,
           92
          ],
          [
           2.248643443126637,
           93
          ],
          [
           2.248479188968759,
           94
          ],
          [
           2.2483186667061914,
           95
          ],
          [
           2.24816166476334,
           96
          ],
          [
           2.2480079926844048,
           97
          ],
          [
           2.2478574650273355,
           98
          ],
          [
           2.2477099147571833,
           99
          ],
          [
           2.2475651792002562,
           100
          ],
          [
           2.2474231117367265,
           101
          ],
          [
           2.2472835695502753,
           102
          ],
          [
           2.247146423834764,
           103
          ],
          [
           2.2470115491089455,
           104
          ],
          [
           2.246878832125149,
           105
          ],
          [
           2.2467481625483985,
           106
          ],
          [
           2.2466194407314934,
           107
          ],
          [
           2.246492569583771,
           108
          ],
          [
           2.2463674613562907,
           109
          ],
          [
           2.2462440305479805,
           110
          ],
          [
           2.2461221998265435,
           111
          ],
          [
           2.24600189383931,
           112
          ],
          [
           2.2458830443796254,
           113
          ],
          [
           2.2457655849867724,
           114
          ],
          [
           2.245649455453737,
           115
          ],
          [
           2.245534597115394,
           116
          ],
          [
           2.245420956781418,
           117
          ],
          [
           2.2453084826248446,
           118
          ],
          [
           2.245197127613276,
           119
          ],
          [
           2.2450868459211963,
           120
          ],
          [
           2.2449775959233413,
           121
          ],
          [
           2.2448693370639448,
           122
          ],
          [
           2.2447620324680386,
           123
          ],
          [
           2.244655646209358,
           124
          ],
          [
           2.2445501455882524,
           125
          ],
          [
           2.2444454987474187,
           126
          ],
          [
           2.2443416766589217,
           127
          ],
          [
           2.2442386510434162,
           128
          ],
          [
           2.244136396103371,
           129
          ],
          [
           2.244034886707102,
           130
          ],
          [
           2.2439340999005695,
           131
          ],
          [
           2.243834013322486,
           132
          ],
          [
           2.2437346065229344,
           133
          ],
          [
           2.2436358595801176,
           134
          ],
          [
           2.2435377542504473,
           135
          ],
          [
           2.243440272761252,
           136
          ],
          [
           2.243343398813854,
           137
          ],
          [
           2.243247116529825,
           138
          ],
          [
           2.2431514113258215,
           139
          ],
          [
           2.2430562689938363,
           140
          ],
          [
           2.242961676464168,
           141
          ],
          [
           2.2428676210026155,
           142
          ],
          [
           2.2427740908758635,
           143
          ],
          [
           2.2426810746507364,
           144
          ],
          [
           2.242588561774462,
           145
          ],
          [
           2.2424965419630043,
           146
          ],
          [
           2.242405005707076,
           147
          ],
          [
           2.242313943738209,
           148
          ],
          [
           2.2422233474700137,
           149
          ],
          [
           2.2421332085320897,
           150
          ],
          [
           2.242043519154808,
           151
          ],
          [
           2.2419542717624354,
           152
          ],
          [
           2.241865459308654,
           153
          ],
          [
           2.24177707492137,
           154
          ],
          [
           2.2416891121952647,
           155
          ],
          [
           2.2416015648817176,
           156
          ],
          [
           2.2415144271438847,
           157
          ],
          [
           2.2414276932859902,
           158
          ],
          [
           2.2413413579757298,
           159
          ],
          [
           2.2412554160079297,
           160
          ],
          [
           2.2411698624984457,
           161
          ],
          [
           2.241084692677821,
           162
          ],
          [
           2.240999902060332,
           163
          ],
          [
           2.240915486263829,
           164
          ],
          [
           2.240831441157107,
           165
          ],
          [
           2.2407477627026022,
           166
          ],
          [
           2.240664447084863,
           167
          ],
          [
           2.240581490573196,
           168
          ],
          [
           2.2404988896336544,
           169
          ],
          [
           2.240416640809102,
           170
          ],
          [
           2.2403347408168277,
           171
          ],
          [
           2.2402531864438124,
           172
          ],
          [
           2.2401719746318114,
           173
          ],
          [
           2.2400911023858945,
           174
          ],
          [
           2.2400105668485994,
           175
          ],
          [
           2.239930365220059,
           176
          ],
          [
           2.239850494822625,
           177
          ],
          [
           2.239770953031113,
           178
          ],
          [
           2.239691737329118,
           179
          ],
          [
           2.239612845248086,
           180
          ],
          [
           2.239534274416394,
           181
          ],
          [
           2.2394560225061277,
           182
          ],
          [
           2.2393780872758438,
           183
          ],
          [
           2.2393004665240843,
           184
          ],
          [
           2.2392231581266318,
           185
          ],
          [
           2.239146159995901,
           186
          ],
          [
           2.2390694701133915,
           187
          ],
          [
           2.2389930864942187,
           188
          ],
          [
           2.238917007215377,
           189
          ],
          [
           2.238841230384751,
           190
          ],
          [
           2.238765754165739,
           191
          ],
          [
           2.238690576750168,
           192
          ],
          [
           2.238615696379745,
           193
          ],
          [
           2.2385411113223843,
           194
          ],
          [
           2.238466819890893,
           195
          ],
          [
           2.23839282042228,
           196
          ],
          [
           2.238319111294024,
           197
          ],
          [
           2.238245690905994,
           198
          ],
          [
           2.238172557694607,
           199
          ],
          [
           2.238099710117029,
           200
          ],
          [
           2.238027146663497,
           201
          ],
          [
           2.2379548658435082,
           202
          ],
          [
           2.237882866196543,
           203
          ],
          [
           2.2378111462799906,
           204
          ],
          [
           2.2377397046784817,
           205
          ],
          [
           2.2376685399933285,
           206
          ],
          [
           2.2375976508506454,
           207
          ],
          [
           2.237527035892112,
           208
          ],
          [
           2.2374566937820406,
           209
          ],
          [
           2.2373866231992934,
           210
          ],
          [
           2.2373168228434306,
           211
          ],
          [
           2.2372472914276376,
           212
          ],
          [
           2.2371780276840734,
           213
          ],
          [
           2.2371090303576815,
           214
          ],
          [
           2.237040298210835,
           215
          ],
          [
           2.2369718300179264,
           216
          ],
          [
           2.2369036245694005,
           217
          ],
          [
           2.2368356806670184,
           218
          ],
          [
           2.2367679971273646,
           219
          ],
          [
           2.236700572777696,
           220
          ],
          [
           2.2366334064589894,
           221
          ],
          [
           2.2365664970223094,
           222
          ],
          [
           2.2364998433314507,
           223
          ],
          [
           2.236433444259756,
           224
          ],
          [
           2.2363672986924126,
           225
          ],
          [
           2.2363014055236605,
           226
          ],
          [
           2.236235763658787,
           227
          ],
          [
           2.23617037201168,
           228
          ],
          [
           2.2361052295065544,
           229
          ],
          [
           2.2360403350758107,
           230
          ],
          [
           2.2359756876615298,
           231
          ],
          [
           2.235911286213593,
           232
          ],
          [
           2.235847129690979,
           233
          ],
          [
           2.2357832170601144,
           234
          ],
          [
           2.2357195472959948,
           235
          ],
          [
           2.2356561193807383,
           236
          ],
          [
           2.235592932304554,
           237
          ],
          [
           2.2355299850644736,
           238
          ],
          [
           2.2354672766651875,
           239
          ],
          [
           2.2354048061179292,
           240
          ],
          [
           2.2353425724411995,
           241
          ],
          [
           2.2352805746597837,
           242
          ],
          [
           2.235218811805379,
           243
          ],
          [
           2.235157282915729,
           244
          ],
          [
           2.235095987035163,
           245
          ],
          [
           2.2350349232138367,
           246
          ],
          [
           2.234974090508194,
           247
          ],
          [
           2.2349134879803008,
           248
          ],
          [
           2.234853114698241,
           249
          ],
          [
           2.234792969735529,
           250
          ]
         ],
         "hoverlabel": {
          "namelength": 0
         },
         "hovertemplate": "<b>%{hovertext}</b><br><br>iteration_number=%{customdata[1]}<br>rmse=%{customdata[0]}",
         "hovertext": [
          10.453968519643379,
          7.816876687813887,
          5.992412162274231,
          4.759864593534463,
          3.9517948692017786,
          3.4376723990874702,
          3.116998006987579,
          2.916972099170282,
          2.7890920813192004,
          2.703411810994674,
          2.6424292792958686,
          2.5962335663636953,
          2.559285753914939,
          2.5284753193412364,
          2.5020234258374674,
          2.478872820439031,
          2.4583634268393015,
          2.440053130265129,
          2.4236265517946944,
          2.4088415184807697,
          2.395504235038992,
          2.3834515158269762,
          2.3725444485872753,
          2.3626609384010235,
          2.353694466017944,
          2.3455498302844138,
          2.338143297254237,
          2.3313995397162928,
          2.3252521575992824,
          2.319641225373363,
          2.3145139007674875,
          2.309822380502313,
          2.3055245152971624,
          2.3015820842473205,
          2.2979613893266357,
          2.294631792667432,
          2.291566279786962,
          2.28874021740836,
          2.286131880178253,
          2.2837213942510814,
          2.281491224908511,
          2.2794252767603083,
          2.2775093413684755,
          2.2757303295727582,
          2.2740766794508196,
          2.2725377002187654,
          2.2711039417580046,
          2.2697666328748127,
          2.268518014254989,
          2.2673508566672336,
          2.2662587596159574,
          2.2652357374129863,
          2.2642764860316706,
          2.263376026918804,
          2.2625299446504212,
          2.2617340799736128,
          2.2609847408615074,
          2.2602784376182252,
          2.259612069856723,
          2.258982697616842,
          2.258387706668276,
          2.2578246105213324,
          2.257291196306227,
          2.25678535333186,
          2.256305201625446,
          2.2558489433434787,
          2.2554149758822493,
          2.2550017629895214,
          2.254607934183732,
          2.25423217287292,
          2.2538733036531395,
          2.25353019512769,
          2.2532018364966073,
          2.2528872530963624,
          2.252585573544069,
          2.252295956295462,
          2.2520176484706194,
          2.2517499219643167,
          2.2514921249549205,
          2.2512436263027977,
          2.2510038606304534,
          2.250772279917072,
          2.2505483929355075,
          2.250331723098762,
          2.2501218429474794,
          2.2499183374310427,
          2.2497208340570154,
          2.249528970898666,
          2.2493424229446055,
          2.2491608742185822,
          2.2489840408025437,
          2.248811646535699,
          2.248643443126637,
          2.248479188968759,
          2.2483186667061914,
          2.24816166476334,
          2.2480079926844048,
          2.2478574650273355,
          2.2477099147571833,
          2.2475651792002562,
          2.2474231117367265,
          2.2472835695502753,
          2.247146423834764,
          2.2470115491089455,
          2.246878832125149,
          2.2467481625483985,
          2.2466194407314934,
          2.246492569583771,
          2.2463674613562907,
          2.2462440305479805,
          2.2461221998265435,
          2.24600189383931,
          2.2458830443796254,
          2.2457655849867724,
          2.245649455453737,
          2.245534597115394,
          2.245420956781418,
          2.2453084826248446,
          2.245197127613276,
          2.2450868459211963,
          2.2449775959233413,
          2.2448693370639448,
          2.2447620324680386,
          2.244655646209358,
          2.2445501455882524,
          2.2444454987474187,
          2.2443416766589217,
          2.2442386510434162,
          2.244136396103371,
          2.244034886707102,
          2.2439340999005695,
          2.243834013322486,
          2.2437346065229344,
          2.2436358595801176,
          2.2435377542504473,
          2.243440272761252,
          2.243343398813854,
          2.243247116529825,
          2.2431514113258215,
          2.2430562689938363,
          2.242961676464168,
          2.2428676210026155,
          2.2427740908758635,
          2.2426810746507364,
          2.242588561774462,
          2.2424965419630043,
          2.242405005707076,
          2.242313943738209,
          2.2422233474700137,
          2.2421332085320897,
          2.242043519154808,
          2.2419542717624354,
          2.241865459308654,
          2.24177707492137,
          2.2416891121952647,
          2.2416015648817176,
          2.2415144271438847,
          2.2414276932859902,
          2.2413413579757298,
          2.2412554160079297,
          2.2411698624984457,
          2.241084692677821,
          2.240999902060332,
          2.240915486263829,
          2.240831441157107,
          2.2407477627026022,
          2.240664447084863,
          2.240581490573196,
          2.2404988896336544,
          2.240416640809102,
          2.2403347408168277,
          2.2402531864438124,
          2.2401719746318114,
          2.2400911023858945,
          2.2400105668485994,
          2.239930365220059,
          2.239850494822625,
          2.239770953031113,
          2.239691737329118,
          2.239612845248086,
          2.239534274416394,
          2.2394560225061277,
          2.2393780872758438,
          2.2393004665240843,
          2.2392231581266318,
          2.239146159995901,
          2.2390694701133915,
          2.2389930864942187,
          2.238917007215377,
          2.238841230384751,
          2.238765754165739,
          2.238690576750168,
          2.238615696379745,
          2.2385411113223843,
          2.238466819890893,
          2.23839282042228,
          2.238319111294024,
          2.238245690905994,
          2.238172557694607,
          2.238099710117029,
          2.238027146663497,
          2.2379548658435082,
          2.237882866196543,
          2.2378111462799906,
          2.2377397046784817,
          2.2376685399933285,
          2.2375976508506454,
          2.237527035892112,
          2.2374566937820406,
          2.2373866231992934,
          2.2373168228434306,
          2.2372472914276376,
          2.2371780276840734,
          2.2371090303576815,
          2.237040298210835,
          2.2369718300179264,
          2.2369036245694005,
          2.2368356806670184,
          2.2367679971273646,
          2.236700572777696,
          2.2366334064589894,
          2.2365664970223094,
          2.2364998433314507,
          2.236433444259756,
          2.2363672986924126,
          2.2363014055236605,
          2.236235763658787,
          2.23617037201168,
          2.2361052295065544,
          2.2360403350758107,
          2.2359756876615298,
          2.235911286213593,
          2.235847129690979,
          2.2357832170601144,
          2.2357195472959948,
          2.2356561193807383,
          2.235592932304554,
          2.2355299850644736,
          2.2354672766651875,
          2.2354048061179292,
          2.2353425724411995,
          2.2352805746597837,
          2.235218811805379,
          2.235157282915729,
          2.235095987035163,
          2.2350349232138367,
          2.234974090508194,
          2.2349134879803008,
          2.234853114698241,
          2.234792969735529
         ],
         "legendgroup": "",
         "line": {
          "color": "#636efa",
          "dash": "solid"
         },
         "mode": "lines",
         "name": "",
         "showlegend": false,
         "type": "scatter",
         "x": [
          1,
          2,
          3,
          4,
          5,
          6,
          7,
          8,
          9,
          10,
          11,
          12,
          13,
          14,
          15,
          16,
          17,
          18,
          19,
          20,
          21,
          22,
          23,
          24,
          25,
          26,
          27,
          28,
          29,
          30,
          31,
          32,
          33,
          34,
          35,
          36,
          37,
          38,
          39,
          40,
          41,
          42,
          43,
          44,
          45,
          46,
          47,
          48,
          49,
          50,
          51,
          52,
          53,
          54,
          55,
          56,
          57,
          58,
          59,
          60,
          61,
          62,
          63,
          64,
          65,
          66,
          67,
          68,
          69,
          70,
          71,
          72,
          73,
          74,
          75,
          76,
          77,
          78,
          79,
          80,
          81,
          82,
          83,
          84,
          85,
          86,
          87,
          88,
          89,
          90,
          91,
          92,
          93,
          94,
          95,
          96,
          97,
          98,
          99,
          100,
          101,
          102,
          103,
          104,
          105,
          106,
          107,
          108,
          109,
          110,
          111,
          112,
          113,
          114,
          115,
          116,
          117,
          118,
          119,
          120,
          121,
          122,
          123,
          124,
          125,
          126,
          127,
          128,
          129,
          130,
          131,
          132,
          133,
          134,
          135,
          136,
          137,
          138,
          139,
          140,
          141,
          142,
          143,
          144,
          145,
          146,
          147,
          148,
          149,
          150,
          151,
          152,
          153,
          154,
          155,
          156,
          157,
          158,
          159,
          160,
          161,
          162,
          163,
          164,
          165,
          166,
          167,
          168,
          169,
          170,
          171,
          172,
          173,
          174,
          175,
          176,
          177,
          178,
          179,
          180,
          181,
          182,
          183,
          184,
          185,
          186,
          187,
          188,
          189,
          190,
          191,
          192,
          193,
          194,
          195,
          196,
          197,
          198,
          199,
          200,
          201,
          202,
          203,
          204,
          205,
          206,
          207,
          208,
          209,
          210,
          211,
          212,
          213,
          214,
          215,
          216,
          217,
          218,
          219,
          220,
          221,
          222,
          223,
          224,
          225,
          226,
          227,
          228,
          229,
          230,
          231,
          232,
          233,
          234,
          235,
          236,
          237,
          238,
          239,
          240,
          241,
          242,
          243,
          244,
          245,
          246,
          247,
          248,
          249,
          250
         ],
         "xaxis": "x",
         "y": [
          10.453968519643379,
          7.816876687813887,
          5.992412162274231,
          4.759864593534463,
          3.9517948692017786,
          3.4376723990874702,
          3.116998006987579,
          2.916972099170282,
          2.7890920813192004,
          2.703411810994674,
          2.6424292792958686,
          2.5962335663636953,
          2.559285753914939,
          2.5284753193412364,
          2.5020234258374674,
          2.478872820439031,
          2.4583634268393015,
          2.440053130265129,
          2.4236265517946944,
          2.4088415184807697,
          2.395504235038992,
          2.3834515158269762,
          2.3725444485872753,
          2.3626609384010235,
          2.353694466017944,
          2.3455498302844138,
          2.338143297254237,
          2.3313995397162928,
          2.3252521575992824,
          2.319641225373363,
          2.3145139007674875,
          2.309822380502313,
          2.3055245152971624,
          2.3015820842473205,
          2.2979613893266357,
          2.294631792667432,
          2.291566279786962,
          2.28874021740836,
          2.286131880178253,
          2.2837213942510814,
          2.281491224908511,
          2.2794252767603083,
          2.2775093413684755,
          2.2757303295727582,
          2.2740766794508196,
          2.2725377002187654,
          2.2711039417580046,
          2.2697666328748127,
          2.268518014254989,
          2.2673508566672336,
          2.2662587596159574,
          2.2652357374129863,
          2.2642764860316706,
          2.263376026918804,
          2.2625299446504212,
          2.2617340799736128,
          2.2609847408615074,
          2.2602784376182252,
          2.259612069856723,
          2.258982697616842,
          2.258387706668276,
          2.2578246105213324,
          2.257291196306227,
          2.25678535333186,
          2.256305201625446,
          2.2558489433434787,
          2.2554149758822493,
          2.2550017629895214,
          2.254607934183732,
          2.25423217287292,
          2.2538733036531395,
          2.25353019512769,
          2.2532018364966073,
          2.2528872530963624,
          2.252585573544069,
          2.252295956295462,
          2.2520176484706194,
          2.2517499219643167,
          2.2514921249549205,
          2.2512436263027977,
          2.2510038606304534,
          2.250772279917072,
          2.2505483929355075,
          2.250331723098762,
          2.2501218429474794,
          2.2499183374310427,
          2.2497208340570154,
          2.249528970898666,
          2.2493424229446055,
          2.2491608742185822,
          2.2489840408025437,
          2.248811646535699,
          2.248643443126637,
          2.248479188968759,
          2.2483186667061914,
          2.24816166476334,
          2.2480079926844048,
          2.2478574650273355,
          2.2477099147571833,
          2.2475651792002562,
          2.2474231117367265,
          2.2472835695502753,
          2.247146423834764,
          2.2470115491089455,
          2.246878832125149,
          2.2467481625483985,
          2.2466194407314934,
          2.246492569583771,
          2.2463674613562907,
          2.2462440305479805,
          2.2461221998265435,
          2.24600189383931,
          2.2458830443796254,
          2.2457655849867724,
          2.245649455453737,
          2.245534597115394,
          2.245420956781418,
          2.2453084826248446,
          2.245197127613276,
          2.2450868459211963,
          2.2449775959233413,
          2.2448693370639448,
          2.2447620324680386,
          2.244655646209358,
          2.2445501455882524,
          2.2444454987474187,
          2.2443416766589217,
          2.2442386510434162,
          2.244136396103371,
          2.244034886707102,
          2.2439340999005695,
          2.243834013322486,
          2.2437346065229344,
          2.2436358595801176,
          2.2435377542504473,
          2.243440272761252,
          2.243343398813854,
          2.243247116529825,
          2.2431514113258215,
          2.2430562689938363,
          2.242961676464168,
          2.2428676210026155,
          2.2427740908758635,
          2.2426810746507364,
          2.242588561774462,
          2.2424965419630043,
          2.242405005707076,
          2.242313943738209,
          2.2422233474700137,
          2.2421332085320897,
          2.242043519154808,
          2.2419542717624354,
          2.241865459308654,
          2.24177707492137,
          2.2416891121952647,
          2.2416015648817176,
          2.2415144271438847,
          2.2414276932859902,
          2.2413413579757298,
          2.2412554160079297,
          2.2411698624984457,
          2.241084692677821,
          2.240999902060332,
          2.240915486263829,
          2.240831441157107,
          2.2407477627026022,
          2.240664447084863,
          2.240581490573196,
          2.2404988896336544,
          2.240416640809102,
          2.2403347408168277,
          2.2402531864438124,
          2.2401719746318114,
          2.2400911023858945,
          2.2400105668485994,
          2.239930365220059,
          2.239850494822625,
          2.239770953031113,
          2.239691737329118,
          2.239612845248086,
          2.239534274416394,
          2.2394560225061277,
          2.2393780872758438,
          2.2393004665240843,
          2.2392231581266318,
          2.239146159995901,
          2.2390694701133915,
          2.2389930864942187,
          2.238917007215377,
          2.238841230384751,
          2.238765754165739,
          2.238690576750168,
          2.238615696379745,
          2.2385411113223843,
          2.238466819890893,
          2.23839282042228,
          2.238319111294024,
          2.238245690905994,
          2.238172557694607,
          2.238099710117029,
          2.238027146663497,
          2.2379548658435082,
          2.237882866196543,
          2.2378111462799906,
          2.2377397046784817,
          2.2376685399933285,
          2.2375976508506454,
          2.237527035892112,
          2.2374566937820406,
          2.2373866231992934,
          2.2373168228434306,
          2.2372472914276376,
          2.2371780276840734,
          2.2371090303576815,
          2.237040298210835,
          2.2369718300179264,
          2.2369036245694005,
          2.2368356806670184,
          2.2367679971273646,
          2.236700572777696,
          2.2366334064589894,
          2.2365664970223094,
          2.2364998433314507,
          2.236433444259756,
          2.2363672986924126,
          2.2363014055236605,
          2.236235763658787,
          2.23617037201168,
          2.2361052295065544,
          2.2360403350758107,
          2.2359756876615298,
          2.235911286213593,
          2.235847129690979,
          2.2357832170601144,
          2.2357195472959948,
          2.2356561193807383,
          2.235592932304554,
          2.2355299850644736,
          2.2354672766651875,
          2.2354048061179292,
          2.2353425724411995,
          2.2352805746597837,
          2.235218811805379,
          2.235157282915729,
          2.235095987035163,
          2.2350349232138367,
          2.234974090508194,
          2.2349134879803008,
          2.234853114698241,
          2.234792969735529
         ],
         "yaxis": "y"
        }
       ],
       "layout": {
        "autosize": true,
        "legend": {
         "tracegroupgap": 0
        },
        "template": {
         "data": {
          "bar": [
           {
            "error_x": {
             "color": "#2a3f5f"
            },
            "error_y": {
             "color": "#2a3f5f"
            },
            "marker": {
             "line": {
              "color": "#E5ECF6",
              "width": 0.5
             }
            },
            "type": "bar"
           }
          ],
          "barpolar": [
           {
            "marker": {
             "line": {
              "color": "#E5ECF6",
              "width": 0.5
             }
            },
            "type": "barpolar"
           }
          ],
          "carpet": [
           {
            "aaxis": {
             "endlinecolor": "#2a3f5f",
             "gridcolor": "white",
             "linecolor": "white",
             "minorgridcolor": "white",
             "startlinecolor": "#2a3f5f"
            },
            "baxis": {
             "endlinecolor": "#2a3f5f",
             "gridcolor": "white",
             "linecolor": "white",
             "minorgridcolor": "white",
             "startlinecolor": "#2a3f5f"
            },
            "type": "carpet"
           }
          ],
          "choropleth": [
           {
            "colorbar": {
             "outlinewidth": 0,
             "ticks": ""
            },
            "type": "choropleth"
           }
          ],
          "contour": [
           {
            "colorbar": {
             "outlinewidth": 0,
             "ticks": ""
            },
            "colorscale": [
             [
              0,
              "#0d0887"
             ],
             [
              0.1111111111111111,
              "#46039f"
             ],
             [
              0.2222222222222222,
              "#7201a8"
             ],
             [
              0.3333333333333333,
              "#9c179e"
             ],
             [
              0.4444444444444444,
              "#bd3786"
             ],
             [
              0.5555555555555556,
              "#d8576b"
             ],
             [
              0.6666666666666666,
              "#ed7953"
             ],
             [
              0.7777777777777778,
              "#fb9f3a"
             ],
             [
              0.8888888888888888,
              "#fdca26"
             ],
             [
              1,
              "#f0f921"
             ]
            ],
            "type": "contour"
           }
          ],
          "contourcarpet": [
           {
            "colorbar": {
             "outlinewidth": 0,
             "ticks": ""
            },
            "type": "contourcarpet"
           }
          ],
          "heatmap": [
           {
            "colorbar": {
             "outlinewidth": 0,
             "ticks": ""
            },
            "colorscale": [
             [
              0,
              "#0d0887"
             ],
             [
              0.1111111111111111,
              "#46039f"
             ],
             [
              0.2222222222222222,
              "#7201a8"
             ],
             [
              0.3333333333333333,
              "#9c179e"
             ],
             [
              0.4444444444444444,
              "#bd3786"
             ],
             [
              0.5555555555555556,
              "#d8576b"
             ],
             [
              0.6666666666666666,
              "#ed7953"
             ],
             [
              0.7777777777777778,
              "#fb9f3a"
             ],
             [
              0.8888888888888888,
              "#fdca26"
             ],
             [
              1,
              "#f0f921"
             ]
            ],
            "type": "heatmap"
           }
          ],
          "heatmapgl": [
           {
            "colorbar": {
             "outlinewidth": 0,
             "ticks": ""
            },
            "colorscale": [
             [
              0,
              "#0d0887"
             ],
             [
              0.1111111111111111,
              "#46039f"
             ],
             [
              0.2222222222222222,
              "#7201a8"
             ],
             [
              0.3333333333333333,
              "#9c179e"
             ],
             [
              0.4444444444444444,
              "#bd3786"
             ],
             [
              0.5555555555555556,
              "#d8576b"
             ],
             [
              0.6666666666666666,
              "#ed7953"
             ],
             [
              0.7777777777777778,
              "#fb9f3a"
             ],
             [
              0.8888888888888888,
              "#fdca26"
             ],
             [
              1,
              "#f0f921"
             ]
            ],
            "type": "heatmapgl"
           }
          ],
          "histogram": [
           {
            "marker": {
             "colorbar": {
              "outlinewidth": 0,
              "ticks": ""
             }
            },
            "type": "histogram"
           }
          ],
          "histogram2d": [
           {
            "colorbar": {
             "outlinewidth": 0,
             "ticks": ""
            },
            "colorscale": [
             [
              0,
              "#0d0887"
             ],
             [
              0.1111111111111111,
              "#46039f"
             ],
             [
              0.2222222222222222,
              "#7201a8"
             ],
             [
              0.3333333333333333,
              "#9c179e"
             ],
             [
              0.4444444444444444,
              "#bd3786"
             ],
             [
              0.5555555555555556,
              "#d8576b"
             ],
             [
              0.6666666666666666,
              "#ed7953"
             ],
             [
              0.7777777777777778,
              "#fb9f3a"
             ],
             [
              0.8888888888888888,
              "#fdca26"
             ],
             [
              1,
              "#f0f921"
             ]
            ],
            "type": "histogram2d"
           }
          ],
          "histogram2dcontour": [
           {
            "colorbar": {
             "outlinewidth": 0,
             "ticks": ""
            },
            "colorscale": [
             [
              0,
              "#0d0887"
             ],
             [
              0.1111111111111111,
              "#46039f"
             ],
             [
              0.2222222222222222,
              "#7201a8"
             ],
             [
              0.3333333333333333,
              "#9c179e"
             ],
             [
              0.4444444444444444,
              "#bd3786"
             ],
             [
              0.5555555555555556,
              "#d8576b"
             ],
             [
              0.6666666666666666,
              "#ed7953"
             ],
             [
              0.7777777777777778,
              "#fb9f3a"
             ],
             [
              0.8888888888888888,
              "#fdca26"
             ],
             [
              1,
              "#f0f921"
             ]
            ],
            "type": "histogram2dcontour"
           }
          ],
          "mesh3d": [
           {
            "colorbar": {
             "outlinewidth": 0,
             "ticks": ""
            },
            "type": "mesh3d"
           }
          ],
          "parcoords": [
           {
            "line": {
             "colorbar": {
              "outlinewidth": 0,
              "ticks": ""
             }
            },
            "type": "parcoords"
           }
          ],
          "scatter": [
           {
            "marker": {
             "colorbar": {
              "outlinewidth": 0,
              "ticks": ""
             }
            },
            "type": "scatter"
           }
          ],
          "scatter3d": [
           {
            "line": {
             "colorbar": {
              "outlinewidth": 0,
              "ticks": ""
             }
            },
            "marker": {
             "colorbar": {
              "outlinewidth": 0,
              "ticks": ""
             }
            },
            "type": "scatter3d"
           }
          ],
          "scattercarpet": [
           {
            "marker": {
             "colorbar": {
              "outlinewidth": 0,
              "ticks": ""
             }
            },
            "type": "scattercarpet"
           }
          ],
          "scattergeo": [
           {
            "marker": {
             "colorbar": {
              "outlinewidth": 0,
              "ticks": ""
             }
            },
            "type": "scattergeo"
           }
          ],
          "scattergl": [
           {
            "marker": {
             "colorbar": {
              "outlinewidth": 0,
              "ticks": ""
             }
            },
            "type": "scattergl"
           }
          ],
          "scattermapbox": [
           {
            "marker": {
             "colorbar": {
              "outlinewidth": 0,
              "ticks": ""
             }
            },
            "type": "scattermapbox"
           }
          ],
          "scatterpolar": [
           {
            "marker": {
             "colorbar": {
              "outlinewidth": 0,
              "ticks": ""
             }
            },
            "type": "scatterpolar"
           }
          ],
          "scatterpolargl": [
           {
            "marker": {
             "colorbar": {
              "outlinewidth": 0,
              "ticks": ""
             }
            },
            "type": "scatterpolargl"
           }
          ],
          "scatterternary": [
           {
            "marker": {
             "colorbar": {
              "outlinewidth": 0,
              "ticks": ""
             }
            },
            "type": "scatterternary"
           }
          ],
          "surface": [
           {
            "colorbar": {
             "outlinewidth": 0,
             "ticks": ""
            },
            "colorscale": [
             [
              0,
              "#0d0887"
             ],
             [
              0.1111111111111111,
              "#46039f"
             ],
             [
              0.2222222222222222,
              "#7201a8"
             ],
             [
              0.3333333333333333,
              "#9c179e"
             ],
             [
              0.4444444444444444,
              "#bd3786"
             ],
             [
              0.5555555555555556,
              "#d8576b"
             ],
             [
              0.6666666666666666,
              "#ed7953"
             ],
             [
              0.7777777777777778,
              "#fb9f3a"
             ],
             [
              0.8888888888888888,
              "#fdca26"
             ],
             [
              1,
              "#f0f921"
             ]
            ],
            "type": "surface"
           }
          ],
          "table": [
           {
            "cells": {
             "fill": {
              "color": "#EBF0F8"
             },
             "line": {
              "color": "white"
             }
            },
            "header": {
             "fill": {
              "color": "#C8D4E3"
             },
             "line": {
              "color": "white"
             }
            },
            "type": "table"
           }
          ]
         },
         "layout": {
          "annotationdefaults": {
           "arrowcolor": "#2a3f5f",
           "arrowhead": 0,
           "arrowwidth": 1
          },
          "colorscale": {
           "diverging": [
            [
             0,
             "#8e0152"
            ],
            [
             0.1,
             "#c51b7d"
            ],
            [
             0.2,
             "#de77ae"
            ],
            [
             0.3,
             "#f1b6da"
            ],
            [
             0.4,
             "#fde0ef"
            ],
            [
             0.5,
             "#f7f7f7"
            ],
            [
             0.6,
             "#e6f5d0"
            ],
            [
             0.7,
             "#b8e186"
            ],
            [
             0.8,
             "#7fbc41"
            ],
            [
             0.9,
             "#4d9221"
            ],
            [
             1,
             "#276419"
            ]
           ],
           "sequential": [
            [
             0,
             "#0d0887"
            ],
            [
             0.1111111111111111,
             "#46039f"
            ],
            [
             0.2222222222222222,
             "#7201a8"
            ],
            [
             0.3333333333333333,
             "#9c179e"
            ],
            [
             0.4444444444444444,
             "#bd3786"
            ],
            [
             0.5555555555555556,
             "#d8576b"
            ],
            [
             0.6666666666666666,
             "#ed7953"
            ],
            [
             0.7777777777777778,
             "#fb9f3a"
            ],
            [
             0.8888888888888888,
             "#fdca26"
            ],
            [
             1,
             "#f0f921"
            ]
           ],
           "sequentialminus": [
            [
             0,
             "#0d0887"
            ],
            [
             0.1111111111111111,
             "#46039f"
            ],
            [
             0.2222222222222222,
             "#7201a8"
            ],
            [
             0.3333333333333333,
             "#9c179e"
            ],
            [
             0.4444444444444444,
             "#bd3786"
            ],
            [
             0.5555555555555556,
             "#d8576b"
            ],
            [
             0.6666666666666666,
             "#ed7953"
            ],
            [
             0.7777777777777778,
             "#fb9f3a"
            ],
            [
             0.8888888888888888,
             "#fdca26"
            ],
            [
             1,
             "#f0f921"
            ]
           ]
          },
          "colorway": [
           "#636efa",
           "#EF553B",
           "#00cc96",
           "#ab63fa",
           "#FFA15A",
           "#19d3f3",
           "#FF6692",
           "#B6E880",
           "#FF97FF",
           "#FECB52"
          ],
          "font": {
           "color": "#2a3f5f"
          },
          "geo": {
           "bgcolor": "white",
           "lakecolor": "white",
           "landcolor": "#E5ECF6",
           "showlakes": true,
           "showland": true,
           "subunitcolor": "white"
          },
          "hoverlabel": {
           "align": "left"
          },
          "hovermode": "closest",
          "mapbox": {
           "style": "light"
          },
          "paper_bgcolor": "white",
          "plot_bgcolor": "#E5ECF6",
          "polar": {
           "angularaxis": {
            "gridcolor": "white",
            "linecolor": "white",
            "ticks": ""
           },
           "bgcolor": "#E5ECF6",
           "radialaxis": {
            "gridcolor": "white",
            "linecolor": "white",
            "ticks": ""
           }
          },
          "scene": {
           "xaxis": {
            "backgroundcolor": "#E5ECF6",
            "gridcolor": "white",
            "gridwidth": 2,
            "linecolor": "white",
            "showbackground": true,
            "ticks": "",
            "zerolinecolor": "white"
           },
           "yaxis": {
            "backgroundcolor": "#E5ECF6",
            "gridcolor": "white",
            "gridwidth": 2,
            "linecolor": "white",
            "showbackground": true,
            "ticks": "",
            "zerolinecolor": "white"
           },
           "zaxis": {
            "backgroundcolor": "#E5ECF6",
            "gridcolor": "white",
            "gridwidth": 2,
            "linecolor": "white",
            "showbackground": true,
            "ticks": "",
            "zerolinecolor": "white"
           }
          },
          "shapedefaults": {
           "line": {
            "color": "#2a3f5f"
           }
          },
          "ternary": {
           "aaxis": {
            "gridcolor": "white",
            "linecolor": "white",
            "ticks": ""
           },
           "baxis": {
            "gridcolor": "white",
            "linecolor": "white",
            "ticks": ""
           },
           "bgcolor": "#E5ECF6",
           "caxis": {
            "gridcolor": "white",
            "linecolor": "white",
            "ticks": ""
           }
          },
          "title": {
           "x": 0.05
          },
          "xaxis": {
           "automargin": true,
           "gridcolor": "white",
           "linecolor": "white",
           "ticks": "",
           "zerolinecolor": "white",
           "zerolinewidth": 2
          },
          "yaxis": {
           "automargin": true,
           "gridcolor": "white",
           "linecolor": "white",
           "ticks": "",
           "zerolinecolor": "white",
           "zerolinewidth": 2
          }
         }
        },
        "title": {
         "text": "Training plus validation set RMSE vs Gradient descent iterations with L1 regularization"
        },
        "xaxis": {
         "anchor": "y",
         "autorange": true,
         "domain": [
          0,
          0.98
         ],
         "range": [
          1,
          250
         ],
         "title": {
          "text": "iteration_number"
         },
         "type": "linear"
        },
        "yaxis": {
         "anchor": "x",
         "autorange": true,
         "domain": [
          0,
          1
         ],
         "range": [
          1.7781721058517594,
          10.910589383527148
         ],
         "title": {
          "text": "rmse"
         },
         "type": "linear"
        }
       }
      },
      "image/png": "[encoded data removed]",
      "text/html": [
       "<div>\n",
       "        \n",
       "        \n",
       "            <div id=\"55fd9dcc-c1e4-4348-a895-1df665391431\" class=\"plotly-graph-div\" style=\"height:600px; width:100%;\"></div>\n",
       "            <script type=\"text/javascript\">\n",
       "                require([\"plotly\"], function(Plotly) {\n",
       "                    window.PLOTLYENV=window.PLOTLYENV || {};\n",
       "                    \n",
       "                if (document.getElementById(\"55fd9dcc-c1e4-4348-a895-1df665391431\")) {\n",
       "                    Plotly.newPlot(\n",
       "                        '55fd9dcc-c1e4-4348-a895-1df665391431',\n",
       "                        [{\"customdata\": [[10.453968519643379, 1.0], [7.816876687813887, 2.0], [5.992412162274231, 3.0], [4.759864593534463, 4.0], [3.9517948692017786, 5.0], [3.4376723990874702, 6.0], [3.116998006987579, 7.0], [2.916972099170282, 8.0], [2.7890920813192004, 9.0], [2.703411810994674, 10.0], [2.6424292792958686, 11.0], [2.5962335663636953, 12.0], [2.559285753914939, 13.0], [2.5284753193412364, 14.0], [2.5020234258374674, 15.0], [2.478872820439031, 16.0], [2.4583634268393015, 17.0], [2.440053130265129, 18.0], [2.4236265517946944, 19.0], [2.4088415184807697, 20.0], [2.395504235038992, 21.0], [2.3834515158269762, 22.0], [2.3725444485872753, 23.0], [2.3626609384010235, 24.0], [2.353694466017944, 25.0], [2.3455498302844138, 26.0], [2.338143297254237, 27.0], [2.3313995397162928, 28.0], [2.3252521575992824, 29.0], [2.319641225373363, 30.0], [2.3145139007674875, 31.0], [2.309822380502313, 32.0], [2.3055245152971624, 33.0], [2.3015820842473205, 34.0], [2.2979613893266357, 35.0], [2.294631792667432, 36.0], [2.291566279786962, 37.0], [2.28874021740836, 38.0], [2.286131880178253, 39.0], [2.2837213942510814, 40.0], [2.281491224908511, 41.0], [2.2794252767603083, 42.0], [2.2775093413684755, 43.0], [2.2757303295727582, 44.0], [2.2740766794508196, 45.0], [2.2725377002187654, 46.0], [2.2711039417580046, 47.0], [2.2697666328748127, 48.0], [2.268518014254989, 49.0], [2.2673508566672336, 50.0], [2.2662587596159574, 51.0], [2.2652357374129863, 52.0], [2.2642764860316706, 53.0], [2.263376026918804, 54.0], [2.2625299446504212, 55.0], [2.2617340799736128, 56.0], [2.2609847408615074, 57.0], [2.2602784376182252, 58.0], [2.259612069856723, 59.0], [2.258982697616842, 60.0], [2.258387706668276, 61.0], [2.2578246105213324, 62.0], [2.257291196306227, 63.0], [2.25678535333186, 64.0], [2.256305201625446, 65.0], [2.2558489433434787, 66.0], [2.2554149758822493, 67.0], [2.2550017629895214, 68.0], [2.254607934183732, 69.0], [2.25423217287292, 70.0], [2.2538733036531395, 71.0], [2.25353019512769, 72.0], [2.2532018364966073, 73.0], [2.2528872530963624, 74.0], [2.252585573544069, 75.0], [2.252295956295462, 76.0], [2.2520176484706194, 77.0], [2.2517499219643167, 78.0], [2.2514921249549205, 79.0], [2.2512436263027977, 80.0], [2.2510038606304534, 81.0], [2.250772279917072, 82.0], [2.2505483929355075, 83.0], [2.250331723098762, 84.0], [2.2501218429474794, 85.0], [2.2499183374310427, 86.0], [2.2497208340570154, 87.0], [2.249528970898666, 88.0], [2.2493424229446055, 89.0], [2.2491608742185822, 90.0], [2.2489840408025437, 91.0], [2.248811646535699, 92.0], [2.248643443126637, 93.0], [2.248479188968759, 94.0], [2.2483186667061914, 95.0], [2.24816166476334, 96.0], [2.2480079926844048, 97.0], [2.2478574650273355, 98.0], [2.2477099147571833, 99.0], [2.2475651792002562, 100.0], [2.2474231117367265, 101.0], [2.2472835695502753, 102.0], [2.247146423834764, 103.0], [2.2470115491089455, 104.0], [2.246878832125149, 105.0], [2.2467481625483985, 106.0], [2.2466194407314934, 107.0], [2.246492569583771, 108.0], [2.2463674613562907, 109.0], [2.2462440305479805, 110.0], [2.2461221998265435, 111.0], [2.24600189383931, 112.0], [2.2458830443796254, 113.0], [2.2457655849867724, 114.0], [2.245649455453737, 115.0], [2.245534597115394, 116.0], [2.245420956781418, 117.0], [2.2453084826248446, 118.0], [2.245197127613276, 119.0], [2.2450868459211963, 120.0], [2.2449775959233413, 121.0], [2.2448693370639448, 122.0], [2.2447620324680386, 123.0], [2.244655646209358, 124.0], [2.2445501455882524, 125.0], [2.2444454987474187, 126.0], [2.2443416766589217, 127.0], [2.2442386510434162, 128.0], [2.244136396103371, 129.0], [2.244034886707102, 130.0], [2.2439340999005695, 131.0], [2.243834013322486, 132.0], [2.2437346065229344, 133.0], [2.2436358595801176, 134.0], [2.2435377542504473, 135.0], [2.243440272761252, 136.0], [2.243343398813854, 137.0], [2.243247116529825, 138.0], [2.2431514113258215, 139.0], [2.2430562689938363, 140.0], [2.242961676464168, 141.0], [2.2428676210026155, 142.0], [2.2427740908758635, 143.0], [2.2426810746507364, 144.0], [2.242588561774462, 145.0], [2.2424965419630043, 146.0], [2.242405005707076, 147.0], [2.242313943738209, 148.0], [2.2422233474700137, 149.0], [2.2421332085320897, 150.0], [2.242043519154808, 151.0], [2.2419542717624354, 152.0], [2.241865459308654, 153.0], [2.24177707492137, 154.0], [2.2416891121952647, 155.0], [2.2416015648817176, 156.0], [2.2415144271438847, 157.0], [2.2414276932859902, 158.0], [2.2413413579757298, 159.0], [2.2412554160079297, 160.0], [2.2411698624984457, 161.0], [2.241084692677821, 162.0], [2.240999902060332, 163.0], [2.240915486263829, 164.0], [2.240831441157107, 165.0], [2.2407477627026022, 166.0], [2.240664447084863, 167.0], [2.240581490573196, 168.0], [2.2404988896336544, 169.0], [2.240416640809102, 170.0], [2.2403347408168277, 171.0], [2.2402531864438124, 172.0], [2.2401719746318114, 173.0], [2.2400911023858945, 174.0], [2.2400105668485994, 175.0], [2.239930365220059, 176.0], [2.239850494822625, 177.0], [2.239770953031113, 178.0], [2.239691737329118, 179.0], [2.239612845248086, 180.0], [2.239534274416394, 181.0], [2.2394560225061277, 182.0], [2.2393780872758438, 183.0], [2.2393004665240843, 184.0], [2.2392231581266318, 185.0], [2.239146159995901, 186.0], [2.2390694701133915, 187.0], [2.2389930864942187, 188.0], [2.238917007215377, 189.0], [2.238841230384751, 190.0], [2.238765754165739, 191.0], [2.238690576750168, 192.0], [2.238615696379745, 193.0], [2.2385411113223843, 194.0], [2.238466819890893, 195.0], [2.23839282042228, 196.0], [2.238319111294024, 197.0], [2.238245690905994, 198.0], [2.238172557694607, 199.0], [2.238099710117029, 200.0], [2.238027146663497, 201.0], [2.2379548658435082, 202.0], [2.237882866196543, 203.0], [2.2378111462799906, 204.0], [2.2377397046784817, 205.0], [2.2376685399933285, 206.0], [2.2375976508506454, 207.0], [2.237527035892112, 208.0], [2.2374566937820406, 209.0], [2.2373866231992934, 210.0], [2.2373168228434306, 211.0], [2.2372472914276376, 212.0], [2.2371780276840734, 213.0], [2.2371090303576815, 214.0], [2.237040298210835, 215.0], [2.2369718300179264, 216.0], [2.2369036245694005, 217.0], [2.2368356806670184, 218.0], [2.2367679971273646, 219.0], [2.236700572777696, 220.0], [2.2366334064589894, 221.0], [2.2365664970223094, 222.0], [2.2364998433314507, 223.0], [2.236433444259756, 224.0], [2.2363672986924126, 225.0], [2.2363014055236605, 226.0], [2.236235763658787, 227.0], [2.23617037201168, 228.0], [2.2361052295065544, 229.0], [2.2360403350758107, 230.0], [2.2359756876615298, 231.0], [2.235911286213593, 232.0], [2.235847129690979, 233.0], [2.2357832170601144, 234.0], [2.2357195472959948, 235.0], [2.2356561193807383, 236.0], [2.235592932304554, 237.0], [2.2355299850644736, 238.0], [2.2354672766651875, 239.0], [2.2354048061179292, 240.0], [2.2353425724411995, 241.0], [2.2352805746597837, 242.0], [2.235218811805379, 243.0], [2.235157282915729, 244.0], [2.235095987035163, 245.0], [2.2350349232138367, 246.0], [2.234974090508194, 247.0], [2.2349134879803008, 248.0], [2.234853114698241, 249.0], [2.234792969735529, 250.0]], \"hoverlabel\": {\"namelength\": 0}, \"hovertemplate\": \"<b>%{hovertext}</b><br><br>iteration_number=%{customdata[1]}<br>rmse=%{customdata[0]}\", \"hovertext\": [10.453968519643379, 7.816876687813887, 5.992412162274231, 4.759864593534463, 3.9517948692017786, 3.4376723990874702, 3.116998006987579, 2.916972099170282, 2.7890920813192004, 2.703411810994674, 2.6424292792958686, 2.5962335663636953, 2.559285753914939, 2.5284753193412364, 2.5020234258374674, 2.478872820439031, 2.4583634268393015, 2.440053130265129, 2.4236265517946944, 2.4088415184807697, 2.395504235038992, 2.3834515158269762, 2.3725444485872753, 2.3626609384010235, 2.353694466017944, 2.3455498302844138, 2.338143297254237, 2.3313995397162928, 2.3252521575992824, 2.319641225373363, 2.3145139007674875, 2.309822380502313, 2.3055245152971624, 2.3015820842473205, 2.2979613893266357, 2.294631792667432, 2.291566279786962, 2.28874021740836, 2.286131880178253, 2.2837213942510814, 2.281491224908511, 2.2794252767603083, 2.2775093413684755, 2.2757303295727582, 2.2740766794508196, 2.2725377002187654, 2.2711039417580046, 2.2697666328748127, 2.268518014254989, 2.2673508566672336, 2.2662587596159574, 2.2652357374129863, 2.2642764860316706, 2.263376026918804, 2.2625299446504212, 2.2617340799736128, 2.2609847408615074, 2.2602784376182252, 2.259612069856723, 2.258982697616842, 2.258387706668276, 2.2578246105213324, 2.257291196306227, 2.25678535333186, 2.256305201625446, 2.2558489433434787, 2.2554149758822493, 2.2550017629895214, 2.254607934183732, 2.25423217287292, 2.2538733036531395, 2.25353019512769, 2.2532018364966073, 2.2528872530963624, 2.252585573544069, 2.252295956295462, 2.2520176484706194, 2.2517499219643167, 2.2514921249549205, 2.2512436263027977, 2.2510038606304534, 2.250772279917072, 2.2505483929355075, 2.250331723098762, 2.2501218429474794, 2.2499183374310427, 2.2497208340570154, 2.249528970898666, 2.2493424229446055, 2.2491608742185822, 2.2489840408025437, 2.248811646535699, 2.248643443126637, 2.248479188968759, 2.2483186667061914, 2.24816166476334, 2.2480079926844048, 2.2478574650273355, 2.2477099147571833, 2.2475651792002562, 2.2474231117367265, 2.2472835695502753, 2.247146423834764, 2.2470115491089455, 2.246878832125149, 2.2467481625483985, 2.2466194407314934, 2.246492569583771, 2.2463674613562907, 2.2462440305479805, 2.2461221998265435, 2.24600189383931, 2.2458830443796254, 2.2457655849867724, 2.245649455453737, 2.245534597115394, 2.245420956781418, 2.2453084826248446, 2.245197127613276, 2.2450868459211963, 2.2449775959233413, 2.2448693370639448, 2.2447620324680386, 2.244655646209358, 2.2445501455882524, 2.2444454987474187, 2.2443416766589217, 2.2442386510434162, 2.244136396103371, 2.244034886707102, 2.2439340999005695, 2.243834013322486, 2.2437346065229344, 2.2436358595801176, 2.2435377542504473, 2.243440272761252, 2.243343398813854, 2.243247116529825, 2.2431514113258215, 2.2430562689938363, 2.242961676464168, 2.2428676210026155, 2.2427740908758635, 2.2426810746507364, 2.242588561774462, 2.2424965419630043, 2.242405005707076, 2.242313943738209, 2.2422233474700137, 2.2421332085320897, 2.242043519154808, 2.2419542717624354, 2.241865459308654, 2.24177707492137, 2.2416891121952647, 2.2416015648817176, 2.2415144271438847, 2.2414276932859902, 2.2413413579757298, 2.2412554160079297, 2.2411698624984457, 2.241084692677821, 2.240999902060332, 2.240915486263829, 2.240831441157107, 2.2407477627026022, 2.240664447084863, 2.240581490573196, 2.2404988896336544, 2.240416640809102, 2.2403347408168277, 2.2402531864438124, 2.2401719746318114, 2.2400911023858945, 2.2400105668485994, 2.239930365220059, 2.239850494822625, 2.239770953031113, 2.239691737329118, 2.239612845248086, 2.239534274416394, 2.2394560225061277, 2.2393780872758438, 2.2393004665240843, 2.2392231581266318, 2.239146159995901, 2.2390694701133915, 2.2389930864942187, 2.238917007215377, 2.238841230384751, 2.238765754165739, 2.238690576750168, 2.238615696379745, 2.2385411113223843, 2.238466819890893, 2.23839282042228, 2.238319111294024, 2.238245690905994, 2.238172557694607, 2.238099710117029, 2.238027146663497, 2.2379548658435082, 2.237882866196543, 2.2378111462799906, 2.2377397046784817, 2.2376685399933285, 2.2375976508506454, 2.237527035892112, 2.2374566937820406, 2.2373866231992934, 2.2373168228434306, 2.2372472914276376, 2.2371780276840734, 2.2371090303576815, 2.237040298210835, 2.2369718300179264, 2.2369036245694005, 2.2368356806670184, 2.2367679971273646, 2.236700572777696, 2.2366334064589894, 2.2365664970223094, 2.2364998433314507, 2.236433444259756, 2.2363672986924126, 2.2363014055236605, 2.236235763658787, 2.23617037201168, 2.2361052295065544, 2.2360403350758107, 2.2359756876615298, 2.235911286213593, 2.235847129690979, 2.2357832170601144, 2.2357195472959948, 2.2356561193807383, 2.235592932304554, 2.2355299850644736, 2.2354672766651875, 2.2354048061179292, 2.2353425724411995, 2.2352805746597837, 2.235218811805379, 2.235157282915729, 2.235095987035163, 2.2350349232138367, 2.234974090508194, 2.2349134879803008, 2.234853114698241, 2.234792969735529], \"legendgroup\": \"\", \"line\": {\"color\": \"#636efa\", \"dash\": \"solid\"}, \"mode\": \"lines\", \"name\": \"\", \"showlegend\": false, \"type\": \"scatter\", \"x\": [1.0, 2.0, 3.0, 4.0, 5.0, 6.0, 7.0, 8.0, 9.0, 10.0, 11.0, 12.0, 13.0, 14.0, 15.0, 16.0, 17.0, 18.0, 19.0, 20.0, 21.0, 22.0, 23.0, 24.0, 25.0, 26.0, 27.0, 28.0, 29.0, 30.0, 31.0, 32.0, 33.0, 34.0, 35.0, 36.0, 37.0, 38.0, 39.0, 40.0, 41.0, 42.0, 43.0, 44.0, 45.0, 46.0, 47.0, 48.0, 49.0, 50.0, 51.0, 52.0, 53.0, 54.0, 55.0, 56.0, 57.0, 58.0, 59.0, 60.0, 61.0, 62.0, 63.0, 64.0, 65.0, 66.0, 67.0, 68.0, 69.0, 70.0, 71.0, 72.0, 73.0, 74.0, 75.0, 76.0, 77.0, 78.0, 79.0, 80.0, 81.0, 82.0, 83.0, 84.0, 85.0, 86.0, 87.0, 88.0, 89.0, 90.0, 91.0, 92.0, 93.0, 94.0, 95.0, 96.0, 97.0, 98.0, 99.0, 100.0, 101.0, 102.0, 103.0, 104.0, 105.0, 106.0, 107.0, 108.0, 109.0, 110.0, 111.0, 112.0, 113.0, 114.0, 115.0, 116.0, 117.0, 118.0, 119.0, 120.0, 121.0, 122.0, 123.0, 124.0, 125.0, 126.0, 127.0, 128.0, 129.0, 130.0, 131.0, 132.0, 133.0, 134.0, 135.0, 136.0, 137.0, 138.0, 139.0, 140.0, 141.0, 142.0, 143.0, 144.0, 145.0, 146.0, 147.0, 148.0, 149.0, 150.0, 151.0, 152.0, 153.0, 154.0, 155.0, 156.0, 157.0, 158.0, 159.0, 160.0, 161.0, 162.0, 163.0, 164.0, 165.0, 166.0, 167.0, 168.0, 169.0, 170.0, 171.0, 172.0, 173.0, 174.0, 175.0, 176.0, 177.0, 178.0, 179.0, 180.0, 181.0, 182.0, 183.0, 184.0, 185.0, 186.0, 187.0, 188.0, 189.0, 190.0, 191.0, 192.0, 193.0, 194.0, 195.0, 196.0, 197.0, 198.0, 199.0, 200.0, 201.0, 202.0, 203.0, 204.0, 205.0, 206.0, 207.0, 208.0, 209.0, 210.0, 211.0, 212.0, 213.0, 214.0, 215.0, 216.0, 217.0, 218.0, 219.0, 220.0, 221.0, 222.0, 223.0, 224.0, 225.0, 226.0, 227.0, 228.0, 229.0, 230.0, 231.0, 232.0, 233.0, 234.0, 235.0, 236.0, 237.0, 238.0, 239.0, 240.0, 241.0, 242.0, 243.0, 244.0, 245.0, 246.0, 247.0, 248.0, 249.0, 250.0], \"xaxis\": \"x\", \"y\": [10.453968519643379, 7.816876687813887, 5.992412162274231, 4.759864593534463, 3.9517948692017786, 3.4376723990874702, 3.116998006987579, 2.916972099170282, 2.7890920813192004, 2.703411810994674, 2.6424292792958686, 2.5962335663636953, 2.559285753914939, 2.5284753193412364, 2.5020234258374674, 2.478872820439031, 2.4583634268393015, 2.440053130265129, 2.4236265517946944, 2.4088415184807697, 2.395504235038992, 2.3834515158269762, 2.3725444485872753, 2.3626609384010235, 2.353694466017944, 2.3455498302844138, 2.338143297254237, 2.3313995397162928, 2.3252521575992824, 2.319641225373363, 2.3145139007674875, 2.309822380502313, 2.3055245152971624, 2.3015820842473205, 2.2979613893266357, 2.294631792667432, 2.291566279786962, 2.28874021740836, 2.286131880178253, 2.2837213942510814, 2.281491224908511, 2.2794252767603083, 2.2775093413684755, 2.2757303295727582, 2.2740766794508196, 2.2725377002187654, 2.2711039417580046, 2.2697666328748127, 2.268518014254989, 2.2673508566672336, 2.2662587596159574, 2.2652357374129863, 2.2642764860316706, 2.263376026918804, 2.2625299446504212, 2.2617340799736128, 2.2609847408615074, 2.2602784376182252, 2.259612069856723, 2.258982697616842, 2.258387706668276, 2.2578246105213324, 2.257291196306227, 2.25678535333186, 2.256305201625446, 2.2558489433434787, 2.2554149758822493, 2.2550017629895214, 2.254607934183732, 2.25423217287292, 2.2538733036531395, 2.25353019512769, 2.2532018364966073, 2.2528872530963624, 2.252585573544069, 2.252295956295462, 2.2520176484706194, 2.2517499219643167, 2.2514921249549205, 2.2512436263027977, 2.2510038606304534, 2.250772279917072, 2.2505483929355075, 2.250331723098762, 2.2501218429474794, 2.2499183374310427, 2.2497208340570154, 2.249528970898666, 2.2493424229446055, 2.2491608742185822, 2.2489840408025437, 2.248811646535699, 2.248643443126637, 2.248479188968759, 2.2483186667061914, 2.24816166476334, 2.2480079926844048, 2.2478574650273355, 2.2477099147571833, 2.2475651792002562, 2.2474231117367265, 2.2472835695502753, 2.247146423834764, 2.2470115491089455, 2.246878832125149, 2.2467481625483985, 2.2466194407314934, 2.246492569583771, 2.2463674613562907, 2.2462440305479805, 2.2461221998265435, 2.24600189383931, 2.2458830443796254, 2.2457655849867724, 2.245649455453737, 2.245534597115394, 2.245420956781418, 2.2453084826248446, 2.245197127613276, 2.2450868459211963, 2.2449775959233413, 2.2448693370639448, 2.2447620324680386, 2.244655646209358, 2.2445501455882524, 2.2444454987474187, 2.2443416766589217, 2.2442386510434162, 2.244136396103371, 2.244034886707102, 2.2439340999005695, 2.243834013322486, 2.2437346065229344, 2.2436358595801176, 2.2435377542504473, 2.243440272761252, 2.243343398813854, 2.243247116529825, 2.2431514113258215, 2.2430562689938363, 2.242961676464168, 2.2428676210026155, 2.2427740908758635, 2.2426810746507364, 2.242588561774462, 2.2424965419630043, 2.242405005707076, 2.242313943738209, 2.2422233474700137, 2.2421332085320897, 2.242043519154808, 2.2419542717624354, 2.241865459308654, 2.24177707492137, 2.2416891121952647, 2.2416015648817176, 2.2415144271438847, 2.2414276932859902, 2.2413413579757298, 2.2412554160079297, 2.2411698624984457, 2.241084692677821, 2.240999902060332, 2.240915486263829, 2.240831441157107, 2.2407477627026022, 2.240664447084863, 2.240581490573196, 2.2404988896336544, 2.240416640809102, 2.2403347408168277, 2.2402531864438124, 2.2401719746318114, 2.2400911023858945, 2.2400105668485994, 2.239930365220059, 2.239850494822625, 2.239770953031113, 2.239691737329118, 2.239612845248086, 2.239534274416394, 2.2394560225061277, 2.2393780872758438, 2.2393004665240843, 2.2392231581266318, 2.239146159995901, 2.2390694701133915, 2.2389930864942187, 2.238917007215377, 2.238841230384751, 2.238765754165739, 2.238690576750168, 2.238615696379745, 2.2385411113223843, 2.238466819890893, 2.23839282042228, 2.238319111294024, 2.238245690905994, 2.238172557694607, 2.238099710117029, 2.238027146663497, 2.2379548658435082, 2.237882866196543, 2.2378111462799906, 2.2377397046784817, 2.2376685399933285, 2.2375976508506454, 2.237527035892112, 2.2374566937820406, 2.2373866231992934, 2.2373168228434306, 2.2372472914276376, 2.2371780276840734, 2.2371090303576815, 2.237040298210835, 2.2369718300179264, 2.2369036245694005, 2.2368356806670184, 2.2367679971273646, 2.236700572777696, 2.2366334064589894, 2.2365664970223094, 2.2364998433314507, 2.236433444259756, 2.2363672986924126, 2.2363014055236605, 2.236235763658787, 2.23617037201168, 2.2361052295065544, 2.2360403350758107, 2.2359756876615298, 2.235911286213593, 2.235847129690979, 2.2357832170601144, 2.2357195472959948, 2.2356561193807383, 2.235592932304554, 2.2355299850644736, 2.2354672766651875, 2.2354048061179292, 2.2353425724411995, 2.2352805746597837, 2.235218811805379, 2.235157282915729, 2.235095987035163, 2.2350349232138367, 2.234974090508194, 2.2349134879803008, 2.234853114698241, 2.234792969735529], \"yaxis\": \"y\"}],\n",
       "                        {\"height\": 600, \"legend\": {\"tracegroupgap\": 0}, \"template\": {\"data\": {\"bar\": [{\"error_x\": {\"color\": \"#2a3f5f\"}, \"error_y\": {\"color\": \"#2a3f5f\"}, \"marker\": {\"line\": {\"color\": \"#E5ECF6\", \"width\": 0.5}}, \"type\": \"bar\"}], \"barpolar\": [{\"marker\": {\"line\": {\"color\": \"#E5ECF6\", \"width\": 0.5}}, \"type\": \"barpolar\"}], \"carpet\": [{\"aaxis\": {\"endlinecolor\": \"#2a3f5f\", \"gridcolor\": \"white\", \"linecolor\": \"white\", \"minorgridcolor\": \"white\", \"startlinecolor\": \"#2a3f5f\"}, \"baxis\": {\"endlinecolor\": \"#2a3f5f\", \"gridcolor\": \"white\", \"linecolor\": \"white\", \"minorgridcolor\": \"white\", \"startlinecolor\": \"#2a3f5f\"}, \"type\": \"carpet\"}], \"choropleth\": [{\"colorbar\": {\"outlinewidth\": 0, \"ticks\": \"\"}, \"type\": \"choropleth\"}], \"contour\": [{\"colorbar\": {\"outlinewidth\": 0, \"ticks\": \"\"}, \"colorscale\": [[0.0, \"#0d0887\"], [0.1111111111111111, \"#46039f\"], [0.2222222222222222, \"#7201a8\"], [0.3333333333333333, \"#9c179e\"], [0.4444444444444444, \"#bd3786\"], [0.5555555555555556, \"#d8576b\"], [0.6666666666666666, \"#ed7953\"], [0.7777777777777778, \"#fb9f3a\"], [0.8888888888888888, \"#fdca26\"], [1.0, \"#f0f921\"]], \"type\": \"contour\"}], \"contourcarpet\": [{\"colorbar\": {\"outlinewidth\": 0, \"ticks\": \"\"}, \"type\": \"contourcarpet\"}], \"heatmap\": [{\"colorbar\": {\"outlinewidth\": 0, \"ticks\": \"\"}, \"colorscale\": [[0.0, \"#0d0887\"], [0.1111111111111111, \"#46039f\"], [0.2222222222222222, \"#7201a8\"], [0.3333333333333333, \"#9c179e\"], [0.4444444444444444, \"#bd3786\"], [0.5555555555555556, \"#d8576b\"], [0.6666666666666666, \"#ed7953\"], [0.7777777777777778, \"#fb9f3a\"], [0.8888888888888888, \"#fdca26\"], [1.0, \"#f0f921\"]], \"type\": \"heatmap\"}], \"heatmapgl\": [{\"colorbar\": {\"outlinewidth\": 0, \"ticks\": \"\"}, \"colorscale\": [[0.0, \"#0d0887\"], [0.1111111111111111, \"#46039f\"], [0.2222222222222222, \"#7201a8\"], [0.3333333333333333, \"#9c179e\"], [0.4444444444444444, \"#bd3786\"], [0.5555555555555556, \"#d8576b\"], [0.6666666666666666, \"#ed7953\"], [0.7777777777777778, \"#fb9f3a\"], [0.8888888888888888, \"#fdca26\"], [1.0, \"#f0f921\"]], \"type\": \"heatmapgl\"}], \"histogram\": [{\"marker\": {\"colorbar\": {\"outlinewidth\": 0, \"ticks\": \"\"}}, \"type\": \"histogram\"}], \"histogram2d\": [{\"colorbar\": {\"outlinewidth\": 0, \"ticks\": \"\"}, \"colorscale\": [[0.0, \"#0d0887\"], [0.1111111111111111, \"#46039f\"], [0.2222222222222222, \"#7201a8\"], [0.3333333333333333, \"#9c179e\"], [0.4444444444444444, \"#bd3786\"], [0.5555555555555556, \"#d8576b\"], [0.6666666666666666, \"#ed7953\"], [0.7777777777777778, \"#fb9f3a\"], [0.8888888888888888, \"#fdca26\"], [1.0, \"#f0f921\"]], \"type\": \"histogram2d\"}], \"histogram2dcontour\": [{\"colorbar\": {\"outlinewidth\": 0, \"ticks\": \"\"}, \"colorscale\": [[0.0, \"#0d0887\"], [0.1111111111111111, \"#46039f\"], [0.2222222222222222, \"#7201a8\"], [0.3333333333333333, \"#9c179e\"], [0.4444444444444444, \"#bd3786\"], [0.5555555555555556, \"#d8576b\"], [0.6666666666666666, \"#ed7953\"], [0.7777777777777778, \"#fb9f3a\"], [0.8888888888888888, \"#fdca26\"], [1.0, \"#f0f921\"]], \"type\": \"histogram2dcontour\"}], \"mesh3d\": [{\"colorbar\": {\"outlinewidth\": 0, \"ticks\": \"\"}, \"type\": \"mesh3d\"}], \"parcoords\": [{\"line\": {\"colorbar\": {\"outlinewidth\": 0, \"ticks\": \"\"}}, \"type\": \"parcoords\"}], \"scatter\": [{\"marker\": {\"colorbar\": {\"outlinewidth\": 0, \"ticks\": \"\"}}, \"type\": \"scatter\"}], \"scatter3d\": [{\"line\": {\"colorbar\": {\"outlinewidth\": 0, \"ticks\": \"\"}}, \"marker\": {\"colorbar\": {\"outlinewidth\": 0, \"ticks\": \"\"}}, \"type\": \"scatter3d\"}], \"scattercarpet\": [{\"marker\": {\"colorbar\": {\"outlinewidth\": 0, \"ticks\": \"\"}}, \"type\": \"scattercarpet\"}], \"scattergeo\": [{\"marker\": {\"colorbar\": {\"outlinewidth\": 0, \"ticks\": \"\"}}, \"type\": \"scattergeo\"}], \"scattergl\": [{\"marker\": {\"colorbar\": {\"outlinewidth\": 0, \"ticks\": \"\"}}, \"type\": \"scattergl\"}], \"scattermapbox\": [{\"marker\": {\"colorbar\": {\"outlinewidth\": 0, \"ticks\": \"\"}}, \"type\": \"scattermapbox\"}], \"scatterpolar\": [{\"marker\": {\"colorbar\": {\"outlinewidth\": 0, \"ticks\": \"\"}}, \"type\": \"scatterpolar\"}], \"scatterpolargl\": [{\"marker\": {\"colorbar\": {\"outlinewidth\": 0, \"ticks\": \"\"}}, \"type\": \"scatterpolargl\"}], \"scatterternary\": [{\"marker\": {\"colorbar\": {\"outlinewidth\": 0, \"ticks\": \"\"}}, \"type\": \"scatterternary\"}], \"surface\": [{\"colorbar\": {\"outlinewidth\": 0, \"ticks\": \"\"}, \"colorscale\": [[0.0, \"#0d0887\"], [0.1111111111111111, \"#46039f\"], [0.2222222222222222, \"#7201a8\"], [0.3333333333333333, \"#9c179e\"], [0.4444444444444444, \"#bd3786\"], [0.5555555555555556, \"#d8576b\"], [0.6666666666666666, \"#ed7953\"], [0.7777777777777778, \"#fb9f3a\"], [0.8888888888888888, \"#fdca26\"], [1.0, \"#f0f921\"]], \"type\": \"surface\"}], \"table\": [{\"cells\": {\"fill\": {\"color\": \"#EBF0F8\"}, \"line\": {\"color\": \"white\"}}, \"header\": {\"fill\": {\"color\": \"#C8D4E3\"}, \"line\": {\"color\": \"white\"}}, \"type\": \"table\"}]}, \"layout\": {\"annotationdefaults\": {\"arrowcolor\": \"#2a3f5f\", \"arrowhead\": 0, \"arrowwidth\": 1}, \"colorscale\": {\"diverging\": [[0, \"#8e0152\"], [0.1, \"#c51b7d\"], [0.2, \"#de77ae\"], [0.3, \"#f1b6da\"], [0.4, \"#fde0ef\"], [0.5, \"#f7f7f7\"], [0.6, \"#e6f5d0\"], [0.7, \"#b8e186\"], [0.8, \"#7fbc41\"], [0.9, \"#4d9221\"], [1, \"#276419\"]], \"sequential\": [[0.0, \"#0d0887\"], [0.1111111111111111, \"#46039f\"], [0.2222222222222222, \"#7201a8\"], [0.3333333333333333, \"#9c179e\"], [0.4444444444444444, \"#bd3786\"], [0.5555555555555556, \"#d8576b\"], [0.6666666666666666, \"#ed7953\"], [0.7777777777777778, \"#fb9f3a\"], [0.8888888888888888, \"#fdca26\"], [1.0, \"#f0f921\"]], \"sequentialminus\": [[0.0, \"#0d0887\"], [0.1111111111111111, \"#46039f\"], [0.2222222222222222, \"#7201a8\"], [0.3333333333333333, \"#9c179e\"], [0.4444444444444444, \"#bd3786\"], [0.5555555555555556, \"#d8576b\"], [0.6666666666666666, \"#ed7953\"], [0.7777777777777778, \"#fb9f3a\"], [0.8888888888888888, \"#fdca26\"], [1.0, \"#f0f921\"]]}, \"colorway\": [\"#636efa\", \"#EF553B\", \"#00cc96\", \"#ab63fa\", \"#FFA15A\", \"#19d3f3\", \"#FF6692\", \"#B6E880\", \"#FF97FF\", \"#FECB52\"], \"font\": {\"color\": \"#2a3f5f\"}, \"geo\": {\"bgcolor\": \"white\", \"lakecolor\": \"white\", \"landcolor\": \"#E5ECF6\", \"showlakes\": true, \"showland\": true, \"subunitcolor\": \"white\"}, \"hoverlabel\": {\"align\": \"left\"}, \"hovermode\": \"closest\", \"mapbox\": {\"style\": \"light\"}, \"paper_bgcolor\": \"white\", \"plot_bgcolor\": \"#E5ECF6\", \"polar\": {\"angularaxis\": {\"gridcolor\": \"white\", \"linecolor\": \"white\", \"ticks\": \"\"}, \"bgcolor\": \"#E5ECF6\", \"radialaxis\": {\"gridcolor\": \"white\", \"linecolor\": \"white\", \"ticks\": \"\"}}, \"scene\": {\"xaxis\": {\"backgroundcolor\": \"#E5ECF6\", \"gridcolor\": \"white\", \"gridwidth\": 2, \"linecolor\": \"white\", \"showbackground\": true, \"ticks\": \"\", \"zerolinecolor\": \"white\"}, \"yaxis\": {\"backgroundcolor\": \"#E5ECF6\", \"gridcolor\": \"white\", \"gridwidth\": 2, \"linecolor\": \"white\", \"showbackground\": true, \"ticks\": \"\", \"zerolinecolor\": \"white\"}, \"zaxis\": {\"backgroundcolor\": \"#E5ECF6\", \"gridcolor\": \"white\", \"gridwidth\": 2, \"linecolor\": \"white\", \"showbackground\": true, \"ticks\": \"\", \"zerolinecolor\": \"white\"}}, \"shapedefaults\": {\"line\": {\"color\": \"#2a3f5f\"}}, \"ternary\": {\"aaxis\": {\"gridcolor\": \"white\", \"linecolor\": \"white\", \"ticks\": \"\"}, \"baxis\": {\"gridcolor\": \"white\", \"linecolor\": \"white\", \"ticks\": \"\"}, \"bgcolor\": \"#E5ECF6\", \"caxis\": {\"gridcolor\": \"white\", \"linecolor\": \"white\", \"ticks\": \"\"}}, \"title\": {\"x\": 0.05}, \"xaxis\": {\"automargin\": true, \"gridcolor\": \"white\", \"linecolor\": \"white\", \"ticks\": \"\", \"zerolinecolor\": \"white\", \"zerolinewidth\": 2}, \"yaxis\": {\"automargin\": true, \"gridcolor\": \"white\", \"linecolor\": \"white\", \"ticks\": \"\", \"zerolinecolor\": \"white\", \"zerolinewidth\": 2}}}, \"title\": {\"text\": \"Training plus validation set RMSE vs Gradient descent iterations with L1 regularization\"}, \"xaxis\": {\"anchor\": \"y\", \"domain\": [0.0, 0.98], \"title\": {\"text\": \"iteration_number\"}}, \"yaxis\": {\"anchor\": \"x\", \"domain\": [0.0, 1.0], \"title\": {\"text\": \"rmse\"}}},\n",
       "                        {\"responsive\": true}\n",
       "                    ).then(function(){\n",
       "                            \n",
       "var gd = document.getElementById('55fd9dcc-c1e4-4348-a895-1df665391431');\n",
       "var x = new MutationObserver(function (mutations, observer) {{\n",
       "        var display = window.getComputedStyle(gd).display;\n",
       "        if (!display || display === 'none') {{\n",
       "            console.log([gd, 'removed!']);\n",
       "            Plotly.purge(gd);\n",
       "            observer.disconnect();\n",
       "        }}\n",
       "}});\n",
       "\n",
       "// Listen for the removal of the full notebook cells\n",
       "var notebookContainer = gd.closest('#notebook-container');\n",
       "if (notebookContainer) {{\n",
       "    x.observe(notebookContainer, {childList: true});\n",
       "}}\n",
       "\n",
       "// Listen for the clearing of the current output cell\n",
       "var outputEl = gd.closest('.output');\n",
       "if (outputEl) {{\n",
       "    x.observe(outputEl, {childList: true});\n",
       "}}\n",
       "\n",
       "                        })\n",
       "                };\n",
       "                });\n",
       "            </script>\n",
       "        </div>"
      ]
     },
     "metadata": {},
     "output_type": "display_data"
    }
   ],
   "source": [
    "fig = px.line(training_rmse_l2, x='iteration_number', y='rmse', hover_name='rmse', \n",
    "              hover_data=['rmse', 'iteration_number'],\n",
    "              title='Training plus validation set RMSE vs Gradient descent iterations with L2 regularization')\n",
    "\n",
    "fig.show()\n",
    "\n",
    "fig = px.line(training_rmse_l1, x='iteration_number', y='rmse', hover_name='rmse', \n",
    "              hover_data=['rmse', 'iteration_number'],\n",
    "              title='Training plus validation set RMSE vs Gradient descent iterations with L1 regularization')\n",
    "fig.show()"
   ]
  },
  {
   "cell_type": "code",
   "execution_count": 389,
   "metadata": {},
   "outputs": [
    {
     "name": "stdout",
     "output_type": "stream",
     "text": [
      "L2 Training RMSE : 2.2356950074618633\n",
      "L1 Validation RMSE : 2.234792969735529\n"
     ]
    }
   ],
   "source": [
    "print('L2 Training RMSE :',gradient_rmse_l2[-1]) # last row elements\n",
    "print('L1 Validation RMSE :', gradient_rmse_l1[-1])"
   ]
  },
  {
   "cell_type": "code",
   "execution_count": null,
   "metadata": {},
   "outputs": [],
   "source": []
  },
  {
   "cell_type": "code",
   "execution_count": null,
   "metadata": {},
   "outputs": [],
   "source": []
  }
 ],
 "metadata": {
  "kernelspec": {
   "display_name": "Python 3",
   "language": "python",
   "name": "python3"
  },
  "language_info": {
   "codemirror_mode": {
    "name": "ipython",
    "version": 3
   },
   "file_extension": ".py",
   "mimetype": "text/x-python",
   "name": "python",
   "nbconvert_exporter": "python",
   "pygments_lexer": "ipython3",
   "version": "3.6.8"
  }
 },
 "nbformat": 4,
 "nbformat_minor": 4
}
