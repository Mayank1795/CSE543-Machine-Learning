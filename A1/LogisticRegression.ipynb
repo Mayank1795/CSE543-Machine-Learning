{
 "cells": [
  {
   "cell_type": "code",
   "execution_count": 375,
   "metadata": {},
   "outputs": [],
   "source": [
    "import numpy as np\n",
    "import pandas as pd\n",
    "import seaborn as sns\n",
    "import matplotlib\n",
    "import plotly.express as px\n",
    "from matplotlib import pyplot as plt\n",
    "import os\n",
    "from tqdm import tqdm_notebook\n",
    "sns.set(style = \"darkgrid\")\n",
    "%matplotlib inline"
   ]
  },
  {
   "cell_type": "code",
   "execution_count": 376,
   "metadata": {},
   "outputs": [],
   "source": [
    "dataset_path = os.getcwd() + '/logistic_data/train.csv'\n",
    "test_dataset_path = os.getcwd() + '/logistic_data/test.csv'\n",
    "\n",
    "cont_attributes = ['fnlwgt', 'capital_loss', 'education_num', 'hours_per_week', 'age', 'capital_gain']\n",
    "\n",
    "attributes = ['age', 'workclass', 'fnlwgt', 'education', 'education_num',\n",
    "              'marital_status', 'occupation', 'relationship', 'race', 'sex', \n",
    "              'capital_gain', 'capital_loss', 'hours_per_week', 'native_country', 'price']"
   ]
  },
  {
   "cell_type": "code",
   "execution_count": 377,
   "metadata": {},
   "outputs": [],
   "source": [
    "data = pd.read_csv(dataset_path, sep=',', header=None, names=attributes)\n",
    "test_data = pd.read_csv(test_dataset_path, sep=',', header=None, names=attributes)\n",
    "# data.head()"
   ]
  },
  {
   "cell_type": "code",
   "execution_count": 378,
   "metadata": {},
   "outputs": [
    {
     "data": {
      "text/plain": [
       "-1    11360\n",
       " 1     3700\n",
       "Name: price, dtype: int64"
      ]
     },
     "execution_count": 378,
     "metadata": {},
     "output_type": "execute_result"
    }
   ],
   "source": [
    "data.replace({'price': {' <=50K': -1, ' >50K': 1}}, inplace=True)\n",
    "test_data.replace({'price': {' <=50K.': -1, ' >50K.': 1}}, inplace=True)\n",
    "test_data['price'].value_counts()"
   ]
  },
  {
   "cell_type": "code",
   "execution_count": 379,
   "metadata": {},
   "outputs": [],
   "source": [
    "data = pd.concat([pd.get_dummies(data[['workclass', 'education', 'marital_status', 'occupation',\n",
    "                                      'relationship', 'race', 'sex', 'native_country']],\n",
    "                                 prefix=['workclass', 'education', 'marital_status', 'occupation',\n",
    "                                      'relationship', 'race', 'sex', 'native_country']), data], axis=1)\n",
    "data.drop(columns=['workclass', 'education', 'marital_status', 'occupation',\n",
    "                   'relationship', 'race', 'sex', 'native_country'], inplace=True)\n",
    "\n",
    "test_data = pd.concat([pd.get_dummies(test_data[['workclass', 'education', 'marital_status', 'occupation',\n",
    "                                      'relationship', 'race', 'sex', 'native_country']],\n",
    "                                 prefix=['workclass', 'education', 'marital_status', 'occupation',\n",
    "                                      'relationship', 'race', 'sex', 'native_country']), test_data], axis=1)\n",
    "test_data.drop(columns=['workclass', 'education', 'marital_status', 'occupation',\n",
    "                   'relationship', 'race', 'sex', 'native_country'], inplace=True)"
   ]
  },
  {
   "cell_type": "code",
   "execution_count": 380,
   "metadata": {},
   "outputs": [
    {
     "data": {
      "text/plain": [
       "{'native_country_ Holand-Netherlands'}"
      ]
     },
     "execution_count": 380,
     "metadata": {},
     "output_type": "execute_result"
    }
   ],
   "source": [
    "(set(data.columns.values) - set(test_data.columns.values)) # "
   ]
  },
  {
   "cell_type": "code",
   "execution_count": 381,
   "metadata": {},
   "outputs": [
    {
     "data": {
      "text/plain": [
       "(array([71]),)"
      ]
     },
     "execution_count": 381,
     "metadata": {},
     "output_type": "execute_result"
    }
   ],
   "source": [
    "np.where(data.columns.values == 'native_country_ Holand-Netherlands')"
   ]
  },
  {
   "cell_type": "code",
   "execution_count": 382,
   "metadata": {},
   "outputs": [],
   "source": [
    "test_data.insert(71, 'native_country_ Holand-Netherlands', np.zeros(test_data.shape[0]))"
   ]
  },
  {
   "cell_type": "code",
   "execution_count": 383,
   "metadata": {},
   "outputs": [],
   "source": [
    "def shuffle(X):\n",
    "    return X.sample(frac=1, axis=0, random_state=4)\n",
    "    "
   ]
  },
  {
   "cell_type": "code",
   "execution_count": 384,
   "metadata": {},
   "outputs": [
    {
     "data": {
      "text/html": [
       "<div>\n",
       "<style scoped>\n",
       "    .dataframe tbody tr th:only-of-type {\n",
       "        vertical-align: middle;\n",
       "    }\n",
       "\n",
       "    .dataframe tbody tr th {\n",
       "        vertical-align: top;\n",
       "    }\n",
       "\n",
       "    .dataframe thead th {\n",
       "        text-align: right;\n",
       "    }\n",
       "</style>\n",
       "<table border=\"1\" class=\"dataframe\">\n",
       "  <thead>\n",
       "    <tr style=\"text-align: right;\">\n",
       "      <th></th>\n",
       "      <th>workclass_ Federal-gov</th>\n",
       "      <th>workclass_ Local-gov</th>\n",
       "      <th>workclass_ Private</th>\n",
       "      <th>workclass_ Self-emp-inc</th>\n",
       "      <th>workclass_ Self-emp-not-inc</th>\n",
       "      <th>workclass_ State-gov</th>\n",
       "      <th>workclass_ Without-pay</th>\n",
       "      <th>education_ 10th</th>\n",
       "      <th>education_ 11th</th>\n",
       "      <th>education_ 12th</th>\n",
       "      <th>...</th>\n",
       "      <th>native_country_ United-States</th>\n",
       "      <th>native_country_ Vietnam</th>\n",
       "      <th>native_country_ Yugoslavia</th>\n",
       "      <th>age</th>\n",
       "      <th>fnlwgt</th>\n",
       "      <th>education_num</th>\n",
       "      <th>capital_gain</th>\n",
       "      <th>capital_loss</th>\n",
       "      <th>hours_per_week</th>\n",
       "      <th>price</th>\n",
       "    </tr>\n",
       "  </thead>\n",
       "  <tbody>\n",
       "    <tr>\n",
       "      <td>0</td>\n",
       "      <td>0</td>\n",
       "      <td>0</td>\n",
       "      <td>1</td>\n",
       "      <td>0</td>\n",
       "      <td>0</td>\n",
       "      <td>0</td>\n",
       "      <td>0</td>\n",
       "      <td>0</td>\n",
       "      <td>1</td>\n",
       "      <td>0</td>\n",
       "      <td>...</td>\n",
       "      <td>1</td>\n",
       "      <td>0</td>\n",
       "      <td>0</td>\n",
       "      <td>33</td>\n",
       "      <td>280111</td>\n",
       "      <td>7</td>\n",
       "      <td>0</td>\n",
       "      <td>0</td>\n",
       "      <td>38</td>\n",
       "      <td>-1</td>\n",
       "    </tr>\n",
       "    <tr>\n",
       "      <td>1</td>\n",
       "      <td>0</td>\n",
       "      <td>0</td>\n",
       "      <td>1</td>\n",
       "      <td>0</td>\n",
       "      <td>0</td>\n",
       "      <td>0</td>\n",
       "      <td>0</td>\n",
       "      <td>0</td>\n",
       "      <td>0</td>\n",
       "      <td>0</td>\n",
       "      <td>...</td>\n",
       "      <td>1</td>\n",
       "      <td>0</td>\n",
       "      <td>0</td>\n",
       "      <td>32</td>\n",
       "      <td>205152</td>\n",
       "      <td>9</td>\n",
       "      <td>3103</td>\n",
       "      <td>0</td>\n",
       "      <td>40</td>\n",
       "      <td>1</td>\n",
       "    </tr>\n",
       "    <tr>\n",
       "      <td>2</td>\n",
       "      <td>0</td>\n",
       "      <td>1</td>\n",
       "      <td>0</td>\n",
       "      <td>0</td>\n",
       "      <td>0</td>\n",
       "      <td>0</td>\n",
       "      <td>0</td>\n",
       "      <td>0</td>\n",
       "      <td>0</td>\n",
       "      <td>0</td>\n",
       "      <td>...</td>\n",
       "      <td>1</td>\n",
       "      <td>0</td>\n",
       "      <td>0</td>\n",
       "      <td>28</td>\n",
       "      <td>214881</td>\n",
       "      <td>9</td>\n",
       "      <td>0</td>\n",
       "      <td>0</td>\n",
       "      <td>40</td>\n",
       "      <td>-1</td>\n",
       "    </tr>\n",
       "    <tr>\n",
       "      <td>3</td>\n",
       "      <td>0</td>\n",
       "      <td>0</td>\n",
       "      <td>1</td>\n",
       "      <td>0</td>\n",
       "      <td>0</td>\n",
       "      <td>0</td>\n",
       "      <td>0</td>\n",
       "      <td>0</td>\n",
       "      <td>0</td>\n",
       "      <td>0</td>\n",
       "      <td>...</td>\n",
       "      <td>1</td>\n",
       "      <td>0</td>\n",
       "      <td>0</td>\n",
       "      <td>31</td>\n",
       "      <td>48189</td>\n",
       "      <td>9</td>\n",
       "      <td>0</td>\n",
       "      <td>0</td>\n",
       "      <td>45</td>\n",
       "      <td>-1</td>\n",
       "    </tr>\n",
       "    <tr>\n",
       "      <td>4</td>\n",
       "      <td>0</td>\n",
       "      <td>0</td>\n",
       "      <td>1</td>\n",
       "      <td>0</td>\n",
       "      <td>0</td>\n",
       "      <td>0</td>\n",
       "      <td>0</td>\n",
       "      <td>0</td>\n",
       "      <td>0</td>\n",
       "      <td>0</td>\n",
       "      <td>...</td>\n",
       "      <td>1</td>\n",
       "      <td>0</td>\n",
       "      <td>0</td>\n",
       "      <td>26</td>\n",
       "      <td>198163</td>\n",
       "      <td>14</td>\n",
       "      <td>0</td>\n",
       "      <td>0</td>\n",
       "      <td>40</td>\n",
       "      <td>-1</td>\n",
       "    </tr>\n",
       "  </tbody>\n",
       "</table>\n",
       "<p>5 rows × 105 columns</p>\n",
       "</div>"
      ],
      "text/plain": [
       "   workclass_ Federal-gov  workclass_ Local-gov  workclass_ Private  \\\n",
       "0                       0                     0                   1   \n",
       "1                       0                     0                   1   \n",
       "2                       0                     1                   0   \n",
       "3                       0                     0                   1   \n",
       "4                       0                     0                   1   \n",
       "\n",
       "   workclass_ Self-emp-inc  workclass_ Self-emp-not-inc  workclass_ State-gov  \\\n",
       "0                        0                            0                     0   \n",
       "1                        0                            0                     0   \n",
       "2                        0                            0                     0   \n",
       "3                        0                            0                     0   \n",
       "4                        0                            0                     0   \n",
       "\n",
       "   workclass_ Without-pay  education_ 10th  education_ 11th  education_ 12th  \\\n",
       "0                       0                0                1                0   \n",
       "1                       0                0                0                0   \n",
       "2                       0                0                0                0   \n",
       "3                       0                0                0                0   \n",
       "4                       0                0                0                0   \n",
       "\n",
       "   ...  native_country_ United-States  native_country_ Vietnam  \\\n",
       "0  ...                              1                        0   \n",
       "1  ...                              1                        0   \n",
       "2  ...                              1                        0   \n",
       "3  ...                              1                        0   \n",
       "4  ...                              1                        0   \n",
       "\n",
       "   native_country_ Yugoslavia  age  fnlwgt  education_num  capital_gain  \\\n",
       "0                           0   33  280111              7             0   \n",
       "1                           0   32  205152              9          3103   \n",
       "2                           0   28  214881              9             0   \n",
       "3                           0   31   48189              9             0   \n",
       "4                           0   26  198163             14             0   \n",
       "\n",
       "   capital_loss  hours_per_week  price  \n",
       "0             0              38     -1  \n",
       "1             0              40      1  \n",
       "2             0              40     -1  \n",
       "3             0              45     -1  \n",
       "4             0              40     -1  \n",
       "\n",
       "[5 rows x 105 columns]"
      ]
     },
     "execution_count": 384,
     "metadata": {},
     "output_type": "execute_result"
    }
   ],
   "source": [
    "data = shuffle(data)\n",
    "data.reset_index(drop=True, inplace=True)\n",
    "data.head()"
   ]
  },
  {
   "cell_type": "code",
   "execution_count": 385,
   "metadata": {},
   "outputs": [],
   "source": [
    "# Stratified split\n",
    "nr = round(data.shape[0]*0.8)\n",
    "minus_one_per = data['price'].value_counts().values[0]/data.shape[0]\n",
    "plus_one_per = data['price'].value_counts().values[1]/data.shape[0]\n",
    "train_part1 = data[data['price']==-1].sample(n = round(minus_one_per*nr).astype(int), axis=0, random_state=4)"
   ]
  },
  {
   "cell_type": "code",
   "execution_count": 386,
   "metadata": {},
   "outputs": [],
   "source": [
    "data.drop(index=train_part1.index, inplace=True)\n",
    "train_part2 = data[data['price']==1].sample(n = round(plus_one_per*nr).astype(int), axis=0, random_state=4)\n",
    "data.drop(index=train_part2.index, inplace=True) # remaining data is validation set\n",
    "training_data = pd.concat([train_part1, train_part2], axis=0)\n",
    "\n",
    "training_data = shuffle(training_data)\n",
    "data = shuffle(data)\n",
    "test_data = shuffle(test_data)"
   ]
  },
  {
   "cell_type": "code",
   "execution_count": 387,
   "metadata": {},
   "outputs": [
    {
     "name": "stdout",
     "output_type": "stream",
     "text": [
      "No. of Features with very low variance:  48\n",
      "No. of continous features with very low variance : 0\n"
     ]
    }
   ],
   "source": [
    "tdata = training_data.iloc[:, :-1]\n",
    "\n",
    "statdf = tdata.iloc[:, :-1].describe()\n",
    "low_var_features = list(np.where(statdf.iloc[2,:].values<=0.1)[0])\n",
    "print('No. of Features with very low variance: ', len(low_var_features))\n",
    "\n",
    "#checking if all these 48 features are from categorical features or not. Don't want to remove any continuous feature\n",
    "# without normalizing data first.\n",
    "print('No. of continous features with very low variance :', \n",
    "      len(set(tdata.iloc[:,low_var_features].columns.values) & set(cont_attributes)))\n",
    "\n",
    "#safely delete those feaures\n",
    "selected_feat = set(tdata.columns.values) - set(tdata.iloc[:,low_var_features].columns.values)\n",
    "train_x = tdata.loc[:, list(selected_feat)]\n",
    "test_x = test_data.loc[:, list(selected_feat)]\n",
    "valid_x = data.loc[:, list(selected_feat)]"
   ]
  },
  {
   "cell_type": "code",
   "execution_count": 388,
   "metadata": {},
   "outputs": [],
   "source": [
    "training_data = training_data.to_numpy()\n",
    "data = data.to_numpy()\n",
    "test_data = test_data.to_numpy()\n",
    "\n",
    "train_x = train_x.to_numpy()\n",
    "valid_x = valid_x.to_numpy()\n",
    "test_x = test_x.to_numpy()"
   ]
  },
  {
   "cell_type": "code",
   "execution_count": 389,
   "metadata": {},
   "outputs": [],
   "source": [
    "X_train = training_data[:, :-1]\n",
    "y_train = training_data[:, -1]\n",
    "\n",
    "X_valid = data[:, :-1]\n",
    "y_valid = data[:, -1]\n",
    "\n",
    "# train_valid_set = np.vstack((training_data, data))"
   ]
  },
  {
   "cell_type": "code",
   "execution_count": 390,
   "metadata": {},
   "outputs": [
    {
     "name": "stdout",
     "output_type": "stream",
     "text": [
      "(24130, 104) (6032, 104) (15060, 104)\n",
      "(24130,) (6032,) (15060,)\n"
     ]
    }
   ],
   "source": [
    "print(X_train.shape, X_valid.shape, X_test.shape)\n",
    "print(y_train.shape, y_valid.shape, y_test.shape)"
   ]
  },
  {
   "cell_type": "code",
   "execution_count": 391,
   "metadata": {},
   "outputs": [
    {
     "name": "stdout",
     "output_type": "stream",
     "text": [
      "(24130, 56) (15060, 56) (6032, 56)\n"
     ]
    }
   ],
   "source": [
    "print(train_x.shape, test_x.shape, valid_x.shape)"
   ]
  },
  {
   "cell_type": "markdown",
   "metadata": {},
   "source": [
    "### Logistic Regression"
   ]
  },
  {
   "cell_type": "code",
   "execution_count": 392,
   "metadata": {},
   "outputs": [],
   "source": [
    "def gradient_descent(X, y, coeff, eta, niter): # theta_i\n",
    "    \"\"\"\n",
    "        eta: step size\n",
    "        X: training set\n",
    "        y: given predicted values for X\n",
    "        loss: MSE\n",
    "        return: coeff\n",
    "    \"\"\"\n",
    "    n_iteration = 0\n",
    "    \n",
    "    while n_iteration < niter:\n",
    "        \n",
    "        gz = -1*predict(-1*np.dot(X, coeff)*y) \n",
    "        g_theta = gz*y                 \n",
    "        gradient = np.zeros(coeff.shape[0]) # theta_0 included\n",
    "        \n",
    "        for i in range(0, coeff.shape[0]): # theta_i\n",
    "            gradient[i] = np.dot(g_theta, X[:, i])\n",
    "            \n",
    "        coeff = coeff - (1/X.shape[0])*eta*gradient\n",
    "        \n",
    "#         print('Iteration', n_iteration,' : ', loss(X, y, coeff)) \n",
    "        n_iteration = n_iteration + 1\n",
    "    \n",
    "    return coeff"
   ]
  },
  {
   "cell_type": "code",
   "execution_count": 393,
   "metadata": {},
   "outputs": [],
   "source": [
    "def gradient_descent_l1(X, y, coeff, eta, alpha1, niter): # theta_i\n",
    "    \"\"\"\n",
    "        eta: step size\n",
    "        X: training set\n",
    "        alpha: inverse regularization strength \n",
    "        y: given predicted values for X\n",
    "        loss: MSE\n",
    "        return: coeff\n",
    "    \"\"\"\n",
    "    n_iteration = 0\n",
    "    \n",
    "    while n_iteration < niter:\n",
    "        \n",
    "        gz = -1*predict(-1*np.dot(X, coeff)*y) \n",
    "        g_theta = gz*y                 \n",
    "        gradient = np.zeros(coeff.shape[0]) # theta_0 included\n",
    "        \n",
    "        for i in range(0, coeff.shape[0]): # theta_i\n",
    "            gradient[i] = np.dot(g_theta, X[:, i]) + alpha1*np.sign(coeff[i])\n",
    "            \n",
    "        coeff = coeff - (1/X.shape[0])*eta*gradient\n",
    "        \n",
    "#         print('Iteration', n_iteration,' : ', loss_l1(X, y, coeff, alpha)) \n",
    "        n_iteration = n_iteration + 1\n",
    "    \n",
    "    return coeff"
   ]
  },
  {
   "cell_type": "code",
   "execution_count": 394,
   "metadata": {},
   "outputs": [],
   "source": [
    "def gradient_descent_l2(X, y, coeff, eta, alpha2, niter): # theta_i\n",
    "    \"\"\"\n",
    "        eta: step size\n",
    "        X: training set\n",
    "        y: given predicted values for X\n",
    "        alpha: regularization strength \n",
    "        loss: MSE\n",
    "        return: coeff\n",
    "    \"\"\"\n",
    "    n_iteration = 0\n",
    "    \n",
    "    while n_iteration < niter:\n",
    "        \n",
    "        gz = -1*predict(-1*np.dot(X, coeff)*y) \n",
    "        g_theta = gz*y                 \n",
    "        gradient = np.zeros(coeff.shape[0]) # theta_0 included\n",
    "        \n",
    "        for i in range(0, coeff.shape[0]): # theta_i\n",
    "            gradient[i] = np.dot(g_theta, X[:, i]) + 2*alpha2*coeff[i]   # L2 Regularized\n",
    "            \n",
    "        coeff = coeff - (1/X.shape[0])*eta*gradient\n",
    "        \n",
    "#         print('Iteration', n_iteration,' : ', loss_l2(X, y, coeff, alpha)) \n",
    "        n_iteration = n_iteration + 1\n",
    "    \n",
    "    return coeff"
   ]
  },
  {
   "cell_type": "code",
   "execution_count": 395,
   "metadata": {},
   "outputs": [],
   "source": [
    "def zscore_normalization(X, nu, std):\n",
    "    \"\"\"\n",
    "        X: data 2d array\n",
    "        nu: 1d mean vector\n",
    "        std: 1d std vector\n",
    "    \"\"\"\n",
    "    X = (X - nu)/std\n",
    "    return X"
   ]
  },
  {
   "cell_type": "code",
   "execution_count": 396,
   "metadata": {},
   "outputs": [],
   "source": [
    "def loss(X, y, coeff): # loss function : logistic loss\n",
    "    \"\"\"\n",
    "        X: training set 2-d array\n",
    "        y: given values for X 1-d array {-1, +1}\n",
    "        returns : total loss of all the samples\n",
    "        beware of np.power instead use np.exp\n",
    "    \"\"\"\n",
    "    conf = -1*np.dot(X, coeff)*y\n",
    "    log_loss = np.log(1 + np.exp(conf))\n",
    "    return np.sum(log_loss)"
   ]
  },
  {
   "cell_type": "code",
   "execution_count": 397,
   "metadata": {},
   "outputs": [],
   "source": [
    "def loss_l1(X, y, coeff, alpha): # loss function : logistic loss\n",
    "    \"\"\"\n",
    "        X: training set 2-d array\n",
    "        y: given values for X 1-d array {-1, +1}\n",
    "        returns : total loss of all the samples\n",
    "        beware of np.power instead use np.exp\n",
    "    \"\"\"\n",
    "    conf = -1*np.dot(X, coeff)*y\n",
    "    log_loss = np.log(1 + np.exp(conf))\n",
    "    return np.sum(log_loss) + alpha*np.sum(np.abs(coeff))"
   ]
  },
  {
   "cell_type": "code",
   "execution_count": 398,
   "metadata": {},
   "outputs": [],
   "source": [
    "def loss_l2(X, y, coeff, alpha): # loss function : logistic loss\n",
    "    \"\"\"\n",
    "        X: training set 2-d array\n",
    "        y: given values for X 1-d array {-1, +1}\n",
    "        returns : total loss of all the samples\n",
    "        beware of np.power instead use np.exp\n",
    "    \"\"\"\n",
    "    conf = -1*np.dot(X, coeff)*y\n",
    "    log_loss = np.log(1 + np.exp(conf))\n",
    "    return np.sum(log_loss) + alpha*np.sum(np.power(coeff, 2))"
   ]
  },
  {
   "cell_type": "code",
   "execution_count": 399,
   "metadata": {},
   "outputs": [],
   "source": [
    "def predict(z): # H_theta(x) \n",
    "    \"\"\"\n",
    "        x: Data point 1-d array\n",
    "        coeff: 1-d array\n",
    "        returns: prediction for all data points 1-d array\n",
    "    \"\"\"\n",
    "    return 1/(1 + np.exp(-z)) # 1/(1 + e^-z)"
   ]
  },
  {
   "cell_type": "code",
   "execution_count": 400,
   "metadata": {},
   "outputs": [],
   "source": [
    "def accuracy(w_theta, X, y_true):\n",
    "    y_pred = np.dot(X, w_theta)\n",
    "    y_pred[y_pred > 0] = 1\n",
    "    y_pred[y_pred < 0] = -1    \n",
    "\n",
    "    return np.sum(y_pred == y_true)/X.shape[0]"
   ]
  },
  {
   "cell_type": "code",
   "execution_count": 401,
   "metadata": {},
   "outputs": [],
   "source": [
    "def showerror(result): # Plot generalization error\n",
    "    result = pd.DataFrame(result, columns=['#samples', 'training_error', 'validation_error'])\n",
    "    result['training_error'] = 1 - result['training_error']\n",
    "    result['validation_error'] = 1 - result['validation_error']\n",
    "    matplotlib.rc('figure', figsize=(10, 5))\n",
    "    ax = sns.lineplot(x='#samples', y='training_error', data=result, label='training_error', color='b')\n",
    "    sns.lineplot(x='#samples', y='validation_error', data=result, color='r', label='validation_error', ax=ax)\n",
    "    ax.set_title('Error vs No. of training samples')\n",
    "    ax.legend()\n",
    "    ax.set_ylabel('Error')\n",
    "    return"
   ]
  },
  {
   "cell_type": "code",
   "execution_count": 402,
   "metadata": {},
   "outputs": [],
   "source": [
    "def LogisticRegression(X_train, y_train, X_valid, y_valid, X_test, y_test, eta, alpha1, alpha2, niter, reg):\n",
    "        \n",
    "    global graph\n",
    "    \n",
    "    n = X_train.shape[1] + 1 # LR Coefficients\n",
    "    coeff = np.zeros(n)\n",
    "    result = np.zeros((1000, 3)) # no. of samples, training error, validation error\n",
    "    \n",
    "    acc_l1 = np.zeros((niter)) \n",
    "    acc_l2 = np.zeros((niter)) \n",
    "    \n",
    "    # normalization using zscore before adding offset\n",
    "    current_mean = np.mean(X_train, axis=0)\n",
    "    current_std = np.std(X_train, axis=0)\n",
    "    \n",
    "    X_train = zscore_normalization(X_train, current_mean, current_std)\n",
    "    X_valid = zscore_normalization(X_valid, current_mean, current_std)  # using same mean, std of training set\n",
    "    X_test = zscore_normalization(X_test, current_mean, current_std) \n",
    "    \n",
    "    # bias = 1 in the training set and validation set - 1*theta_0\n",
    "    X_train = np.hstack((np.ones(X_train.shape[0])[:, np.newaxis], X_train))\n",
    "    X_valid = np.hstack((np.ones(X_valid.shape[0])[:, np.newaxis], X_valid))\n",
    "    X_test = np.hstack((np.ones(X_test.shape[0])[:, np.newaxis], X_test))\n",
    "    \n",
    "      # checking generalization error  \n",
    "#     for i in tqdm_notebook(range(1, 1001)):\n",
    "#         w_theta = gradient_descent(X_train[:i, :], y_train[:i], coeff, eta, niter)\n",
    "#         result[i-1, :] = np.array([i, accuracy(w_theta, X_train[:i, :], y_train[:i]), accuracy(w_theta, X_valid, y_valid)])\n",
    "    \n",
    "#     showerror(result)    \n",
    "    \n",
    "    w_theta = gradient_descent(X_train, y_train, coeff, eta, niter)\n",
    "    \n",
    "\n",
    "    if(reg == 'l2'):\n",
    "        w_theta2 = gradient_descent_l2(X_train, y_train, coeff, eta, alpha2, niter)\n",
    "\n",
    "        print('alpha2', alpha2, ' L2 (Train, Validation, Test) : ',\n",
    "                                                 accuracy(w_theta2, X_train, y_train), \n",
    "                                                 accuracy(w_theta2, X_valid, y_valid),\n",
    "                                                 accuracy(w_theta2, X_test, y_test))\n",
    "        \n",
    "        if(graph):\n",
    "            for j in range(0, niter):\n",
    "                # train on current training set\n",
    "                theta_l2 = gradient_descent_l1(X_train, y_train, coeff, eta, alpha2, j)\n",
    "                acc_l2[j] = accuracy(theta_l2, X_test, y_test)\n",
    "\n",
    "            return acc_l2\n",
    "    \n",
    "    elif(reg == 'l1'):\n",
    "        w_theta1 = gradient_descent_l1(X_train, y_train, coeff, eta, alpha1, niter)\n",
    "        print('alpha1', alpha1, ' L1  (Train, Validation, Test) : ',\n",
    "                                                 accuracy(w_theta1, X_train, y_train), \n",
    "                                                 accuracy(w_theta1, X_valid, y_valid),\n",
    "                                                 accuracy(w_theta1, X_test, y_test))\n",
    "        \n",
    "        if(graph):\n",
    "            for j in range(0, niter):\n",
    "                # train on current training set\n",
    "                theta_l1 = gradient_descent_l1(X_train, y_train, coeff, eta, alpha1, j)\n",
    "                acc_l1[j] = accuracy(theta_l1, X_test, y_test)\n",
    "\n",
    "            return acc_l1\n",
    "    \n",
    "    elif(reg == 'none'):\n",
    "        print('Without regularization (Train, Validation, Test) : ',\n",
    "                                                 accuracy(w_theta, X_train, y_train), \n",
    "                                                 accuracy(w_theta, X_valid, y_valid),\n",
    "                                                 accuracy(w_theta, X_test, y_test))\n",
    "    \n",
    "    return \n",
    "    "
   ]
  },
  {
   "cell_type": "code",
   "execution_count": 403,
   "metadata": {},
   "outputs": [
    {
     "name": "stdout",
     "output_type": "stream",
     "text": [
      "alpha2 0.0001  L2 (Train, Validation, Test) :  0.8477414007459594 0.8506299734748011 0.845551128818061\n",
      "alpha2 0.1  L2 (Train, Validation, Test) :  0.8477828429341069 0.8506299734748011 0.845551128818061\n",
      "alpha2 0.9  L2 (Train, Validation, Test) :  0.8476585163696643 0.8507957559681698 0.845551128818061\n",
      "alpha2 1  L2 (Train, Validation, Test) :  0.8476585163696643 0.8507957559681698 0.845551128818061\n",
      "alpha2 12  L2 (Train, Validation, Test) :  0.8479486116866971 0.8509615384615384 0.845551128818061\n",
      "alpha2 50  L2 (Train, Validation, Test) :  0.8471612101118939 0.8504641909814323 0.8453519256308101\n"
     ]
    }
   ],
   "source": [
    "X_test = test_data[:, :-1]\n",
    "y_test = test_data[:, -1]\n",
    "\n",
    "eta = 0.9\n",
    "alpha2_list = [0.0001, 0.1, 0.9, 1, 12, 50] #best one is 12\n",
    "niter = 100\n",
    "\n",
    "graph = False\n",
    "for alpha2 in alpha2_list:\n",
    "    LogisticRegression(X_train, y_train, X_valid, y_valid, X_test, y_test, eta, 0, alpha2, niter, 'l2') # On validation"
   ]
  },
  {
   "cell_type": "code",
   "execution_count": 405,
   "metadata": {},
   "outputs": [
    {
     "name": "stdout",
     "output_type": "stream",
     "text": [
      "With Reduced features\n",
      "--------------------\n",
      "alpha2 0.0001  L2 (Train, Validation, Test) :  0.8463738085370908 0.8514588859416445 0.8454183266932271\n",
      "alpha2 0.1  L2 (Train, Validation, Test) :  0.8463738085370908 0.8514588859416445 0.8454183266932271\n",
      "alpha2 0.9  L2 (Train, Validation, Test) :  0.8464566929133859 0.8514588859416445 0.8453519256308101\n",
      "alpha2 1  L2 (Train, Validation, Test) :  0.8464566929133859 0.8514588859416445 0.8453519256308101\n",
      "alpha2 12  L2 (Train, Validation, Test) :  0.8465395772896809 0.8516246684350133 0.845551128818061\n",
      "alpha2 50  L2 (Train, Validation, Test) :  0.8457107335267302 0.8512931034482759 0.8453519256308101\n"
     ]
    }
   ],
   "source": [
    "print('With Reduced features')\n",
    "print('-'*20)\n",
    "for alpha2 in alpha2_list:\n",
    "    LogisticRegression(train_x, y_train, valid_x, y_valid, test_x, y_test, eta, 0, alpha2, niter, 'l2') # On validation"
   ]
  },
  {
   "cell_type": "code",
   "execution_count": 406,
   "metadata": {},
   "outputs": [
    {
     "name": "stdout",
     "output_type": "stream",
     "text": [
      "alpha1 0.0001  L1  (Train, Validation, Test) :  0.8477414007459594 0.8506299734748011 0.845551128818061\n",
      "alpha1 0.001  L1  (Train, Validation, Test) :  0.8477414007459594 0.8506299734748011 0.845551128818061\n",
      "alpha1 0.1  L1  (Train, Validation, Test) :  0.8477414007459594 0.8506299734748011 0.845551128818061\n",
      "alpha1 0.8  L1  (Train, Validation, Test) :  0.8478242851222545 0.8511273209549072 0.845551128818061\n",
      "alpha1 1  L1  (Train, Validation, Test) :  0.8478242851222545 0.8509615384615384 0.8456839309428951\n",
      "alpha1 2  L1  (Train, Validation, Test) :  0.8479486116866971 0.8507957559681698 0.8460823373173971\n",
      "alpha1 10  L1  (Train, Validation, Test) :  0.847865727310402 0.8504641909814323 0.8468127490039841\n"
     ]
    }
   ],
   "source": [
    "eta = 0.9\n",
    "alpha1_list = [0.0001, 0.001, 0.1, 0.8, 1, 2, 10] # best one is 0.8\n",
    "niter = 100\n",
    "\n",
    "for alpha1 in alpha1_list:\n",
    "    LogisticRegression(X_train, y_train, X_valid, y_valid, X_test, y_test, eta, alpha1, 0, niter, 'l1') # On validation"
   ]
  },
  {
   "cell_type": "code",
   "execution_count": 407,
   "metadata": {},
   "outputs": [
    {
     "name": "stdout",
     "output_type": "stream",
     "text": [
      "With Reduced features\n",
      "--------------------\n",
      "alpha1 0.0001  L1  (Train, Validation, Test) :  0.8463738085370908 0.8514588859416445 0.8454183266932271\n",
      "alpha1 0.001  L1  (Train, Validation, Test) :  0.8463738085370908 0.8514588859416445 0.8454183266932271\n",
      "alpha1 0.1  L1  (Train, Validation, Test) :  0.8463738085370908 0.8516246684350133 0.8454847277556441\n",
      "alpha1 0.8  L1  (Train, Validation, Test) :  0.8463323663489433 0.8514588859416445 0.845551128818061\n",
      "alpha1 1  L1  (Train, Validation, Test) :  0.8464152507252383 0.8514588859416445 0.845551128818061\n",
      "alpha1 2  L1  (Train, Validation, Test) :  0.8463323663489433 0.8514588859416445 0.8456839309428951\n",
      "alpha1 10  L1  (Train, Validation, Test) :  0.8463323663489433 0.8511273209549072 0.8469455511288181\n"
     ]
    }
   ],
   "source": [
    "print('With Reduced features')\n",
    "print('-'*20)\n",
    "for alpha1 in alpha1_list:\n",
    "    LogisticRegression(train_x, y_train, valid_x, y_valid, test_x, y_test, eta, alpha1, 0, niter, 'l1') # On validation"
   ]
  },
  {
   "cell_type": "code",
   "execution_count": 201,
   "metadata": {},
   "outputs": [
    {
     "name": "stdout",
     "output_type": "stream",
     "text": [
      "Without regularization (Train, Validation, Test) :  0.8477414007459594 0.8506299734748011 0.845551128818061\n"
     ]
    }
   ],
   "source": [
    "eta = 0.9\n",
    "niter = 100\n",
    "LogisticRegression(X_train, y_train, X_valid, y_valid, X_test, y_test, eta, 0, 0, niter, 'none') # On validation"
   ]
  },
  {
   "cell_type": "code",
   "execution_count": 207,
   "metadata": {},
   "outputs": [
    {
     "name": "stdout",
     "output_type": "stream",
     "text": [
      "alpha2 12  L2 (Train, Validation, Test) :  0.8479486116866971 0.8509615384615384 0.845551128818061\n"
     ]
    }
   ],
   "source": [
    "graph = True\n",
    "acc_pts_l2 = LogisticRegression(X_train, y_train, X_valid, y_valid, X_test, y_test, eta, 0, 12, niter, 'l2') # On validation"
   ]
  },
  {
   "cell_type": "code",
   "execution_count": 220,
   "metadata": {},
   "outputs": [
    {
     "name": "stdout",
     "output_type": "stream",
     "text": [
      "alpha1 0.8  L1  (Train, Validation, Test) :  0.8478242851222545 0.8511273209549072 0.845551128818061\n"
     ]
    }
   ],
   "source": [
    "graph = True\n",
    "acc_pts_l1 = LogisticRegression(X_train, y_train, X_valid, y_valid, X_test, y_test, eta, 0.8, 0, niter, 'l1') # On validation"
   ]
  },
  {
   "cell_type": "code",
   "execution_count": 221,
   "metadata": {},
   "outputs": [],
   "source": [
    "test_acc_l2 = np.hstack((np.arange(niter)[:, np.newaxis]+1, acc_pts_l2[:, np.newaxis]))\n",
    "test_acc_l2 = pd.DataFrame(test_acc_l2, columns=['iteration_number', 'accuracy'])\n",
    "\n",
    "test_acc_l1 = np.hstack((np.arange(niter)[:, np.newaxis]+1, acc_pts_l1[:, np.newaxis]))\n",
    "test_acc_l1 = pd.DataFrame(test_acc_l1, columns=['iteration_number', 'accuracy'])"
   ]
  },
  {
   "cell_type": "code",
   "execution_count": 222,
   "metadata": {},
   "outputs": [
    {
     "data": {
      "application/vnd.plotly.v1+json": {
       "config": {
        "plotlyServerURL": "https://plot.ly"
       },
       "data": [
        {
         "customdata": [
          [
           0,
           1
          ],
          [
           0.74867197875166,
           2
          ],
          [
           0.7919654714475431,
           3
          ],
          [
           0.8139442231075698,
           4
          ],
          [
           0.8255644090305445,
           5
          ],
          [
           0.8309428950863214,
           6
          ],
          [
           0.8326029216467463,
           7
          ],
          [
           0.8355909694555113,
           8
          ],
          [
           0.8374501992031872,
           9
          ],
          [
           0.8383134130146083,
           10
          ],
          [
           0.8388446215139442,
           11
          ],
          [
           0.8388446215139442,
           12
          ],
          [
           0.8388446215139442,
           13
          ],
          [
           0.8392430278884462,
           14
          ],
          [
           0.8403718459495352,
           15
          ],
          [
           0.8407038512616202,
           16
          ],
          [
           0.8409694555112882,
           17
          ],
          [
           0.8411022576361222,
           18
          ],
          [
           0.8413678618857902,
           19
          ],
          [
           0.8409694555112882,
           20
          ],
          [
           0.8408366533864542,
           21
          ],
          [
           0.8413014608233732,
           22
          ],
          [
           0.8416998671978752,
           23
          ],
          [
           0.8422974767596282,
           24
          ],
          [
           0.8426294820717132,
           25
          ],
          [
           0.8433598937583001,
           26
          ],
          [
           0.8433598937583001,
           27
          ],
          [
           0.8435590969455511,
           28
          ],
          [
           0.8435590969455511,
           29
          ],
          [
           0.8435590969455511,
           30
          ],
          [
           0.8434926958831341,
           31
          ],
          [
           0.8434926958831341,
           32
          ],
          [
           0.8436918990703851,
           33
          ],
          [
           0.8435590969455511,
           34
          ],
          [
           0.8436918990703851,
           35
          ],
          [
           0.8438911022576361,
           36
          ],
          [
           0.8442895086321381,
           37
          ],
          [
           0.8442895086321381,
           38
          ],
          [
           0.8442231075697211,
           39
          ],
          [
           0.8443559096945551,
           40
          ],
          [
           0.8444223107569722,
           41
          ],
          [
           0.8442895086321381,
           42
          ],
          [
           0.8443559096945551,
           43
          ],
          [
           0.8444223107569722,
           44
          ],
          [
           0.8442895086321381,
           45
          ],
          [
           0.8444887118193891,
           46
          ],
          [
           0.8444223107569722,
           47
          ],
          [
           0.8446879150066401,
           48
          ],
          [
           0.8446879150066401,
           49
          ],
          [
           0.8448207171314741,
           50
          ],
          [
           0.8444887118193891,
           51
          ],
          [
           0.8445551128818061,
           52
          ],
          [
           0.8444887118193891,
           53
          ],
          [
           0.8444223107569722,
           54
          ],
          [
           0.8444223107569722,
           55
          ],
          [
           0.8445551128818061,
           56
          ],
          [
           0.8446879150066401,
           57
          ],
          [
           0.8446215139442231,
           58
          ],
          [
           0.8448207171314741,
           59
          ],
          [
           0.8448871181938911,
           60
          ],
          [
           0.8448871181938911,
           61
          ],
          [
           0.8449535192563081,
           62
          ],
          [
           0.8449535192563081,
           63
          ],
          [
           0.8448871181938911,
           64
          ],
          [
           0.8449535192563081,
           65
          ],
          [
           0.8450199203187251,
           66
          ],
          [
           0.8450863213811421,
           67
          ],
          [
           0.845219123505976,
           68
          ],
          [
           0.8454183266932271,
           69
          ],
          [
           0.8453519256308101,
           70
          ],
          [
           0.8454183266932271,
           71
          ],
          [
           0.845551128818061,
           72
          ],
          [
           0.8454847277556441,
           73
          ],
          [
           0.8454847277556441,
           74
          ],
          [
           0.8457503320053121,
           75
          ],
          [
           0.8459495351925631,
           76
          ],
          [
           0.845883134130146,
           77
          ],
          [
           0.8460823373173971,
           78
          ],
          [
           0.8460823373173971,
           79
          ],
          [
           0.8461487383798141,
           80
          ],
          [
           0.846215139442231,
           81
          ],
          [
           0.8461487383798141,
           82
          ],
          [
           0.846215139442231,
           83
          ],
          [
           0.8462815405046481,
           84
          ],
          [
           0.846347941567065,
           85
          ],
          [
           0.84667994687915,
           86
          ],
          [
           0.84667994687915,
           87
          ],
          [
           0.84667994687915,
           88
          ],
          [
           0.84667994687915,
           89
          ],
          [
           0.8467463479415671,
           90
          ],
          [
           0.84667994687915,
           91
          ],
          [
           0.84667994687915,
           92
          ],
          [
           0.84667994687915,
           93
          ],
          [
           0.847011952191235,
           94
          ],
          [
           0.8469455511288181,
           95
          ],
          [
           0.8471447543160691,
           96
          ],
          [
           0.847211155378486,
           97
          ],
          [
           0.847211155378486,
           98
          ],
          [
           0.847211155378486,
           99
          ],
          [
           0.847211155378486,
           100
          ]
         ],
         "hoverlabel": {
          "namelength": 0
         },
         "hovertemplate": "<b>%{hovertext}</b><br><br>iteration_number=%{customdata[1]}<br>accuracy=%{customdata[0]}",
         "hovertext": [
          0,
          0.74867197875166,
          0.7919654714475431,
          0.8139442231075698,
          0.8255644090305445,
          0.8309428950863214,
          0.8326029216467463,
          0.8355909694555113,
          0.8374501992031872,
          0.8383134130146083,
          0.8388446215139442,
          0.8388446215139442,
          0.8388446215139442,
          0.8392430278884462,
          0.8403718459495352,
          0.8407038512616202,
          0.8409694555112882,
          0.8411022576361222,
          0.8413678618857902,
          0.8409694555112882,
          0.8408366533864542,
          0.8413014608233732,
          0.8416998671978752,
          0.8422974767596282,
          0.8426294820717132,
          0.8433598937583001,
          0.8433598937583001,
          0.8435590969455511,
          0.8435590969455511,
          0.8435590969455511,
          0.8434926958831341,
          0.8434926958831341,
          0.8436918990703851,
          0.8435590969455511,
          0.8436918990703851,
          0.8438911022576361,
          0.8442895086321381,
          0.8442895086321381,
          0.8442231075697211,
          0.8443559096945551,
          0.8444223107569722,
          0.8442895086321381,
          0.8443559096945551,
          0.8444223107569722,
          0.8442895086321381,
          0.8444887118193891,
          0.8444223107569722,
          0.8446879150066401,
          0.8446879150066401,
          0.8448207171314741,
          0.8444887118193891,
          0.8445551128818061,
          0.8444887118193891,
          0.8444223107569722,
          0.8444223107569722,
          0.8445551128818061,
          0.8446879150066401,
          0.8446215139442231,
          0.8448207171314741,
          0.8448871181938911,
          0.8448871181938911,
          0.8449535192563081,
          0.8449535192563081,
          0.8448871181938911,
          0.8449535192563081,
          0.8450199203187251,
          0.8450863213811421,
          0.845219123505976,
          0.8454183266932271,
          0.8453519256308101,
          0.8454183266932271,
          0.845551128818061,
          0.8454847277556441,
          0.8454847277556441,
          0.8457503320053121,
          0.8459495351925631,
          0.845883134130146,
          0.8460823373173971,
          0.8460823373173971,
          0.8461487383798141,
          0.846215139442231,
          0.8461487383798141,
          0.846215139442231,
          0.8462815405046481,
          0.846347941567065,
          0.84667994687915,
          0.84667994687915,
          0.84667994687915,
          0.84667994687915,
          0.8467463479415671,
          0.84667994687915,
          0.84667994687915,
          0.84667994687915,
          0.847011952191235,
          0.8469455511288181,
          0.8471447543160691,
          0.847211155378486,
          0.847211155378486,
          0.847211155378486,
          0.847211155378486
         ],
         "legendgroup": "",
         "line": {
          "color": "#636efa",
          "dash": "solid"
         },
         "mode": "lines",
         "name": "",
         "showlegend": false,
         "type": "scatter",
         "x": [
          1,
          2,
          3,
          4,
          5,
          6,
          7,
          8,
          9,
          10,
          11,
          12,
          13,
          14,
          15,
          16,
          17,
          18,
          19,
          20,
          21,
          22,
          23,
          24,
          25,
          26,
          27,
          28,
          29,
          30,
          31,
          32,
          33,
          34,
          35,
          36,
          37,
          38,
          39,
          40,
          41,
          42,
          43,
          44,
          45,
          46,
          47,
          48,
          49,
          50,
          51,
          52,
          53,
          54,
          55,
          56,
          57,
          58,
          59,
          60,
          61,
          62,
          63,
          64,
          65,
          66,
          67,
          68,
          69,
          70,
          71,
          72,
          73,
          74,
          75,
          76,
          77,
          78,
          79,
          80,
          81,
          82,
          83,
          84,
          85,
          86,
          87,
          88,
          89,
          90,
          91,
          92,
          93,
          94,
          95,
          96,
          97,
          98,
          99,
          100
         ],
         "xaxis": "x",
         "y": [
          0,
          0.74867197875166,
          0.7919654714475431,
          0.8139442231075698,
          0.8255644090305445,
          0.8309428950863214,
          0.8326029216467463,
          0.8355909694555113,
          0.8374501992031872,
          0.8383134130146083,
          0.8388446215139442,
          0.8388446215139442,
          0.8388446215139442,
          0.8392430278884462,
          0.8403718459495352,
          0.8407038512616202,
          0.8409694555112882,
          0.8411022576361222,
          0.8413678618857902,
          0.8409694555112882,
          0.8408366533864542,
          0.8413014608233732,
          0.8416998671978752,
          0.8422974767596282,
          0.8426294820717132,
          0.8433598937583001,
          0.8433598937583001,
          0.8435590969455511,
          0.8435590969455511,
          0.8435590969455511,
          0.8434926958831341,
          0.8434926958831341,
          0.8436918990703851,
          0.8435590969455511,
          0.8436918990703851,
          0.8438911022576361,
          0.8442895086321381,
          0.8442895086321381,
          0.8442231075697211,
          0.8443559096945551,
          0.8444223107569722,
          0.8442895086321381,
          0.8443559096945551,
          0.8444223107569722,
          0.8442895086321381,
          0.8444887118193891,
          0.8444223107569722,
          0.8446879150066401,
          0.8446879150066401,
          0.8448207171314741,
          0.8444887118193891,
          0.8445551128818061,
          0.8444887118193891,
          0.8444223107569722,
          0.8444223107569722,
          0.8445551128818061,
          0.8446879150066401,
          0.8446215139442231,
          0.8448207171314741,
          0.8448871181938911,
          0.8448871181938911,
          0.8449535192563081,
          0.8449535192563081,
          0.8448871181938911,
          0.8449535192563081,
          0.8450199203187251,
          0.8450863213811421,
          0.845219123505976,
          0.8454183266932271,
          0.8453519256308101,
          0.8454183266932271,
          0.845551128818061,
          0.8454847277556441,
          0.8454847277556441,
          0.8457503320053121,
          0.8459495351925631,
          0.845883134130146,
          0.8460823373173971,
          0.8460823373173971,
          0.8461487383798141,
          0.846215139442231,
          0.8461487383798141,
          0.846215139442231,
          0.8462815405046481,
          0.846347941567065,
          0.84667994687915,
          0.84667994687915,
          0.84667994687915,
          0.84667994687915,
          0.8467463479415671,
          0.84667994687915,
          0.84667994687915,
          0.84667994687915,
          0.847011952191235,
          0.8469455511288181,
          0.8471447543160691,
          0.847211155378486,
          0.847211155378486,
          0.847211155378486,
          0.847211155378486
         ],
         "yaxis": "y"
        }
       ],
       "layout": {
        "autosize": true,
        "legend": {
         "tracegroupgap": 0
        },
        "template": {
         "data": {
          "bar": [
           {
            "error_x": {
             "color": "#2a3f5f"
            },
            "error_y": {
             "color": "#2a3f5f"
            },
            "marker": {
             "line": {
              "color": "#E5ECF6",
              "width": 0.5
             }
            },
            "type": "bar"
           }
          ],
          "barpolar": [
           {
            "marker": {
             "line": {
              "color": "#E5ECF6",
              "width": 0.5
             }
            },
            "type": "barpolar"
           }
          ],
          "carpet": [
           {
            "aaxis": {
             "endlinecolor": "#2a3f5f",
             "gridcolor": "white",
             "linecolor": "white",
             "minorgridcolor": "white",
             "startlinecolor": "#2a3f5f"
            },
            "baxis": {
             "endlinecolor": "#2a3f5f",
             "gridcolor": "white",
             "linecolor": "white",
             "minorgridcolor": "white",
             "startlinecolor": "#2a3f5f"
            },
            "type": "carpet"
           }
          ],
          "choropleth": [
           {
            "colorbar": {
             "outlinewidth": 0,
             "ticks": ""
            },
            "type": "choropleth"
           }
          ],
          "contour": [
           {
            "colorbar": {
             "outlinewidth": 0,
             "ticks": ""
            },
            "colorscale": [
             [
              0,
              "#0d0887"
             ],
             [
              0.1111111111111111,
              "#46039f"
             ],
             [
              0.2222222222222222,
              "#7201a8"
             ],
             [
              0.3333333333333333,
              "#9c179e"
             ],
             [
              0.4444444444444444,
              "#bd3786"
             ],
             [
              0.5555555555555556,
              "#d8576b"
             ],
             [
              0.6666666666666666,
              "#ed7953"
             ],
             [
              0.7777777777777778,
              "#fb9f3a"
             ],
             [
              0.8888888888888888,
              "#fdca26"
             ],
             [
              1,
              "#f0f921"
             ]
            ],
            "type": "contour"
           }
          ],
          "contourcarpet": [
           {
            "colorbar": {
             "outlinewidth": 0,
             "ticks": ""
            },
            "type": "contourcarpet"
           }
          ],
          "heatmap": [
           {
            "colorbar": {
             "outlinewidth": 0,
             "ticks": ""
            },
            "colorscale": [
             [
              0,
              "#0d0887"
             ],
             [
              0.1111111111111111,
              "#46039f"
             ],
             [
              0.2222222222222222,
              "#7201a8"
             ],
             [
              0.3333333333333333,
              "#9c179e"
             ],
             [
              0.4444444444444444,
              "#bd3786"
             ],
             [
              0.5555555555555556,
              "#d8576b"
             ],
             [
              0.6666666666666666,
              "#ed7953"
             ],
             [
              0.7777777777777778,
              "#fb9f3a"
             ],
             [
              0.8888888888888888,
              "#fdca26"
             ],
             [
              1,
              "#f0f921"
             ]
            ],
            "type": "heatmap"
           }
          ],
          "heatmapgl": [
           {
            "colorbar": {
             "outlinewidth": 0,
             "ticks": ""
            },
            "colorscale": [
             [
              0,
              "#0d0887"
             ],
             [
              0.1111111111111111,
              "#46039f"
             ],
             [
              0.2222222222222222,
              "#7201a8"
             ],
             [
              0.3333333333333333,
              "#9c179e"
             ],
             [
              0.4444444444444444,
              "#bd3786"
             ],
             [
              0.5555555555555556,
              "#d8576b"
             ],
             [
              0.6666666666666666,
              "#ed7953"
             ],
             [
              0.7777777777777778,
              "#fb9f3a"
             ],
             [
              0.8888888888888888,
              "#fdca26"
             ],
             [
              1,
              "#f0f921"
             ]
            ],
            "type": "heatmapgl"
           }
          ],
          "histogram": [
           {
            "marker": {
             "colorbar": {
              "outlinewidth": 0,
              "ticks": ""
             }
            },
            "type": "histogram"
           }
          ],
          "histogram2d": [
           {
            "colorbar": {
             "outlinewidth": 0,
             "ticks": ""
            },
            "colorscale": [
             [
              0,
              "#0d0887"
             ],
             [
              0.1111111111111111,
              "#46039f"
             ],
             [
              0.2222222222222222,
              "#7201a8"
             ],
             [
              0.3333333333333333,
              "#9c179e"
             ],
             [
              0.4444444444444444,
              "#bd3786"
             ],
             [
              0.5555555555555556,
              "#d8576b"
             ],
             [
              0.6666666666666666,
              "#ed7953"
             ],
             [
              0.7777777777777778,
              "#fb9f3a"
             ],
             [
              0.8888888888888888,
              "#fdca26"
             ],
             [
              1,
              "#f0f921"
             ]
            ],
            "type": "histogram2d"
           }
          ],
          "histogram2dcontour": [
           {
            "colorbar": {
             "outlinewidth": 0,
             "ticks": ""
            },
            "colorscale": [
             [
              0,
              "#0d0887"
             ],
             [
              0.1111111111111111,
              "#46039f"
             ],
             [
              0.2222222222222222,
              "#7201a8"
             ],
             [
              0.3333333333333333,
              "#9c179e"
             ],
             [
              0.4444444444444444,
              "#bd3786"
             ],
             [
              0.5555555555555556,
              "#d8576b"
             ],
             [
              0.6666666666666666,
              "#ed7953"
             ],
             [
              0.7777777777777778,
              "#fb9f3a"
             ],
             [
              0.8888888888888888,
              "#fdca26"
             ],
             [
              1,
              "#f0f921"
             ]
            ],
            "type": "histogram2dcontour"
           }
          ],
          "mesh3d": [
           {
            "colorbar": {
             "outlinewidth": 0,
             "ticks": ""
            },
            "type": "mesh3d"
           }
          ],
          "parcoords": [
           {
            "line": {
             "colorbar": {
              "outlinewidth": 0,
              "ticks": ""
             }
            },
            "type": "parcoords"
           }
          ],
          "scatter": [
           {
            "marker": {
             "colorbar": {
              "outlinewidth": 0,
              "ticks": ""
             }
            },
            "type": "scatter"
           }
          ],
          "scatter3d": [
           {
            "line": {
             "colorbar": {
              "outlinewidth": 0,
              "ticks": ""
             }
            },
            "marker": {
             "colorbar": {
              "outlinewidth": 0,
              "ticks": ""
             }
            },
            "type": "scatter3d"
           }
          ],
          "scattercarpet": [
           {
            "marker": {
             "colorbar": {
              "outlinewidth": 0,
              "ticks": ""
             }
            },
            "type": "scattercarpet"
           }
          ],
          "scattergeo": [
           {
            "marker": {
             "colorbar": {
              "outlinewidth": 0,
              "ticks": ""
             }
            },
            "type": "scattergeo"
           }
          ],
          "scattergl": [
           {
            "marker": {
             "colorbar": {
              "outlinewidth": 0,
              "ticks": ""
             }
            },
            "type": "scattergl"
           }
          ],
          "scattermapbox": [
           {
            "marker": {
             "colorbar": {
              "outlinewidth": 0,
              "ticks": ""
             }
            },
            "type": "scattermapbox"
           }
          ],
          "scatterpolar": [
           {
            "marker": {
             "colorbar": {
              "outlinewidth": 0,
              "ticks": ""
             }
            },
            "type": "scatterpolar"
           }
          ],
          "scatterpolargl": [
           {
            "marker": {
             "colorbar": {
              "outlinewidth": 0,
              "ticks": ""
             }
            },
            "type": "scatterpolargl"
           }
          ],
          "scatterternary": [
           {
            "marker": {
             "colorbar": {
              "outlinewidth": 0,
              "ticks": ""
             }
            },
            "type": "scatterternary"
           }
          ],
          "surface": [
           {
            "colorbar": {
             "outlinewidth": 0,
             "ticks": ""
            },
            "colorscale": [
             [
              0,
              "#0d0887"
             ],
             [
              0.1111111111111111,
              "#46039f"
             ],
             [
              0.2222222222222222,
              "#7201a8"
             ],
             [
              0.3333333333333333,
              "#9c179e"
             ],
             [
              0.4444444444444444,
              "#bd3786"
             ],
             [
              0.5555555555555556,
              "#d8576b"
             ],
             [
              0.6666666666666666,
              "#ed7953"
             ],
             [
              0.7777777777777778,
              "#fb9f3a"
             ],
             [
              0.8888888888888888,
              "#fdca26"
             ],
             [
              1,
              "#f0f921"
             ]
            ],
            "type": "surface"
           }
          ],
          "table": [
           {
            "cells": {
             "fill": {
              "color": "#EBF0F8"
             },
             "line": {
              "color": "white"
             }
            },
            "header": {
             "fill": {
              "color": "#C8D4E3"
             },
             "line": {
              "color": "white"
             }
            },
            "type": "table"
           }
          ]
         },
         "layout": {
          "annotationdefaults": {
           "arrowcolor": "#2a3f5f",
           "arrowhead": 0,
           "arrowwidth": 1
          },
          "colorscale": {
           "diverging": [
            [
             0,
             "#8e0152"
            ],
            [
             0.1,
             "#c51b7d"
            ],
            [
             0.2,
             "#de77ae"
            ],
            [
             0.3,
             "#f1b6da"
            ],
            [
             0.4,
             "#fde0ef"
            ],
            [
             0.5,
             "#f7f7f7"
            ],
            [
             0.6,
             "#e6f5d0"
            ],
            [
             0.7,
             "#b8e186"
            ],
            [
             0.8,
             "#7fbc41"
            ],
            [
             0.9,
             "#4d9221"
            ],
            [
             1,
             "#276419"
            ]
           ],
           "sequential": [
            [
             0,
             "#0d0887"
            ],
            [
             0.1111111111111111,
             "#46039f"
            ],
            [
             0.2222222222222222,
             "#7201a8"
            ],
            [
             0.3333333333333333,
             "#9c179e"
            ],
            [
             0.4444444444444444,
             "#bd3786"
            ],
            [
             0.5555555555555556,
             "#d8576b"
            ],
            [
             0.6666666666666666,
             "#ed7953"
            ],
            [
             0.7777777777777778,
             "#fb9f3a"
            ],
            [
             0.8888888888888888,
             "#fdca26"
            ],
            [
             1,
             "#f0f921"
            ]
           ],
           "sequentialminus": [
            [
             0,
             "#0d0887"
            ],
            [
             0.1111111111111111,
             "#46039f"
            ],
            [
             0.2222222222222222,
             "#7201a8"
            ],
            [
             0.3333333333333333,
             "#9c179e"
            ],
            [
             0.4444444444444444,
             "#bd3786"
            ],
            [
             0.5555555555555556,
             "#d8576b"
            ],
            [
             0.6666666666666666,
             "#ed7953"
            ],
            [
             0.7777777777777778,
             "#fb9f3a"
            ],
            [
             0.8888888888888888,
             "#fdca26"
            ],
            [
             1,
             "#f0f921"
            ]
           ]
          },
          "colorway": [
           "#636efa",
           "#EF553B",
           "#00cc96",
           "#ab63fa",
           "#FFA15A",
           "#19d3f3",
           "#FF6692",
           "#B6E880",
           "#FF97FF",
           "#FECB52"
          ],
          "font": {
           "color": "#2a3f5f"
          },
          "geo": {
           "bgcolor": "white",
           "lakecolor": "white",
           "landcolor": "#E5ECF6",
           "showlakes": true,
           "showland": true,
           "subunitcolor": "white"
          },
          "hoverlabel": {
           "align": "left"
          },
          "hovermode": "closest",
          "mapbox": {
           "style": "light"
          },
          "paper_bgcolor": "white",
          "plot_bgcolor": "#E5ECF6",
          "polar": {
           "angularaxis": {
            "gridcolor": "white",
            "linecolor": "white",
            "ticks": ""
           },
           "bgcolor": "#E5ECF6",
           "radialaxis": {
            "gridcolor": "white",
            "linecolor": "white",
            "ticks": ""
           }
          },
          "scene": {
           "xaxis": {
            "backgroundcolor": "#E5ECF6",
            "gridcolor": "white",
            "gridwidth": 2,
            "linecolor": "white",
            "showbackground": true,
            "ticks": "",
            "zerolinecolor": "white"
           },
           "yaxis": {
            "backgroundcolor": "#E5ECF6",
            "gridcolor": "white",
            "gridwidth": 2,
            "linecolor": "white",
            "showbackground": true,
            "ticks": "",
            "zerolinecolor": "white"
           },
           "zaxis": {
            "backgroundcolor": "#E5ECF6",
            "gridcolor": "white",
            "gridwidth": 2,
            "linecolor": "white",
            "showbackground": true,
            "ticks": "",
            "zerolinecolor": "white"
           }
          },
          "shapedefaults": {
           "line": {
            "color": "#2a3f5f"
           }
          },
          "ternary": {
           "aaxis": {
            "gridcolor": "white",
            "linecolor": "white",
            "ticks": ""
           },
           "baxis": {
            "gridcolor": "white",
            "linecolor": "white",
            "ticks": ""
           },
           "bgcolor": "#E5ECF6",
           "caxis": {
            "gridcolor": "white",
            "linecolor": "white",
            "ticks": ""
           }
          },
          "title": {
           "x": 0.05
          },
          "xaxis": {
           "automargin": true,
           "gridcolor": "white",
           "linecolor": "white",
           "ticks": "",
           "zerolinecolor": "white",
           "zerolinewidth": 2
          },
          "yaxis": {
           "automargin": true,
           "gridcolor": "white",
           "linecolor": "white",
           "ticks": "",
           "zerolinecolor": "white",
           "zerolinewidth": 2
          }
         }
        },
        "title": {
         "text": "Test set accuracy vs Gradient descent iterations with L2 regularization"
        },
        "xaxis": {
         "anchor": "y",
         "autorange": true,
         "domain": [
          0,
          0.98
         ],
         "range": [
          1,
          100
         ],
         "title": {
          "text": "iteration_number"
         },
         "type": "linear"
        },
        "yaxis": {
         "anchor": "x",
         "autorange": true,
         "domain": [
          0,
          1
         ],
         "range": [
          -0.04706728640991589,
          0.8942784417884019
         ],
         "title": {
          "text": "accuracy"
         },
         "type": "linear"
        }
       }
      },
      "image/png": "[encoded data removed]",
      "text/html": [
       "<div>\n",
       "        \n",
       "        \n",
       "            <div id=\"38be891f-a4b3-421f-84bc-a7e337794c0a\" class=\"plotly-graph-div\" style=\"height:600px; width:100%;\"></div>\n",
       "            <script type=\"text/javascript\">\n",
       "                require([\"plotly\"], function(Plotly) {\n",
       "                    window.PLOTLYENV=window.PLOTLYENV || {};\n",
       "                    \n",
       "                if (document.getElementById(\"38be891f-a4b3-421f-84bc-a7e337794c0a\")) {\n",
       "                    Plotly.newPlot(\n",
       "                        '38be891f-a4b3-421f-84bc-a7e337794c0a',\n",
       "                        [{\"customdata\": [[0.0, 1.0], [0.74867197875166, 2.0], [0.7919654714475431, 3.0], [0.8139442231075698, 4.0], [0.8255644090305445, 5.0], [0.8309428950863214, 6.0], [0.8326029216467463, 7.0], [0.8355909694555113, 8.0], [0.8374501992031872, 9.0], [0.8383134130146083, 10.0], [0.8388446215139442, 11.0], [0.8388446215139442, 12.0], [0.8388446215139442, 13.0], [0.8392430278884462, 14.0], [0.8403718459495352, 15.0], [0.8407038512616202, 16.0], [0.8409694555112882, 17.0], [0.8411022576361222, 18.0], [0.8413678618857902, 19.0], [0.8409694555112882, 20.0], [0.8408366533864542, 21.0], [0.8413014608233732, 22.0], [0.8416998671978752, 23.0], [0.8422974767596282, 24.0], [0.8426294820717132, 25.0], [0.8433598937583001, 26.0], [0.8433598937583001, 27.0], [0.8435590969455511, 28.0], [0.8435590969455511, 29.0], [0.8435590969455511, 30.0], [0.8434926958831341, 31.0], [0.8434926958831341, 32.0], [0.8436918990703851, 33.0], [0.8435590969455511, 34.0], [0.8436918990703851, 35.0], [0.8438911022576361, 36.0], [0.8442895086321381, 37.0], [0.8442895086321381, 38.0], [0.8442231075697211, 39.0], [0.8443559096945551, 40.0], [0.8444223107569722, 41.0], [0.8442895086321381, 42.0], [0.8443559096945551, 43.0], [0.8444223107569722, 44.0], [0.8442895086321381, 45.0], [0.8444887118193891, 46.0], [0.8444223107569722, 47.0], [0.8446879150066401, 48.0], [0.8446879150066401, 49.0], [0.8448207171314741, 50.0], [0.8444887118193891, 51.0], [0.8445551128818061, 52.0], [0.8444887118193891, 53.0], [0.8444223107569722, 54.0], [0.8444223107569722, 55.0], [0.8445551128818061, 56.0], [0.8446879150066401, 57.0], [0.8446215139442231, 58.0], [0.8448207171314741, 59.0], [0.8448871181938911, 60.0], [0.8448871181938911, 61.0], [0.8449535192563081, 62.0], [0.8449535192563081, 63.0], [0.8448871181938911, 64.0], [0.8449535192563081, 65.0], [0.8450199203187251, 66.0], [0.8450863213811421, 67.0], [0.845219123505976, 68.0], [0.8454183266932271, 69.0], [0.8453519256308101, 70.0], [0.8454183266932271, 71.0], [0.845551128818061, 72.0], [0.8454847277556441, 73.0], [0.8454847277556441, 74.0], [0.8457503320053121, 75.0], [0.8459495351925631, 76.0], [0.845883134130146, 77.0], [0.8460823373173971, 78.0], [0.8460823373173971, 79.0], [0.8461487383798141, 80.0], [0.846215139442231, 81.0], [0.8461487383798141, 82.0], [0.846215139442231, 83.0], [0.8462815405046481, 84.0], [0.846347941567065, 85.0], [0.84667994687915, 86.0], [0.84667994687915, 87.0], [0.84667994687915, 88.0], [0.84667994687915, 89.0], [0.8467463479415671, 90.0], [0.84667994687915, 91.0], [0.84667994687915, 92.0], [0.84667994687915, 93.0], [0.847011952191235, 94.0], [0.8469455511288181, 95.0], [0.8471447543160691, 96.0], [0.847211155378486, 97.0], [0.847211155378486, 98.0], [0.847211155378486, 99.0], [0.847211155378486, 100.0]], \"hoverlabel\": {\"namelength\": 0}, \"hovertemplate\": \"<b>%{hovertext}</b><br><br>iteration_number=%{customdata[1]}<br>accuracy=%{customdata[0]}\", \"hovertext\": [0.0, 0.74867197875166, 0.7919654714475431, 0.8139442231075698, 0.8255644090305445, 0.8309428950863214, 0.8326029216467463, 0.8355909694555113, 0.8374501992031872, 0.8383134130146083, 0.8388446215139442, 0.8388446215139442, 0.8388446215139442, 0.8392430278884462, 0.8403718459495352, 0.8407038512616202, 0.8409694555112882, 0.8411022576361222, 0.8413678618857902, 0.8409694555112882, 0.8408366533864542, 0.8413014608233732, 0.8416998671978752, 0.8422974767596282, 0.8426294820717132, 0.8433598937583001, 0.8433598937583001, 0.8435590969455511, 0.8435590969455511, 0.8435590969455511, 0.8434926958831341, 0.8434926958831341, 0.8436918990703851, 0.8435590969455511, 0.8436918990703851, 0.8438911022576361, 0.8442895086321381, 0.8442895086321381, 0.8442231075697211, 0.8443559096945551, 0.8444223107569722, 0.8442895086321381, 0.8443559096945551, 0.8444223107569722, 0.8442895086321381, 0.8444887118193891, 0.8444223107569722, 0.8446879150066401, 0.8446879150066401, 0.8448207171314741, 0.8444887118193891, 0.8445551128818061, 0.8444887118193891, 0.8444223107569722, 0.8444223107569722, 0.8445551128818061, 0.8446879150066401, 0.8446215139442231, 0.8448207171314741, 0.8448871181938911, 0.8448871181938911, 0.8449535192563081, 0.8449535192563081, 0.8448871181938911, 0.8449535192563081, 0.8450199203187251, 0.8450863213811421, 0.845219123505976, 0.8454183266932271, 0.8453519256308101, 0.8454183266932271, 0.845551128818061, 0.8454847277556441, 0.8454847277556441, 0.8457503320053121, 0.8459495351925631, 0.845883134130146, 0.8460823373173971, 0.8460823373173971, 0.8461487383798141, 0.846215139442231, 0.8461487383798141, 0.846215139442231, 0.8462815405046481, 0.846347941567065, 0.84667994687915, 0.84667994687915, 0.84667994687915, 0.84667994687915, 0.8467463479415671, 0.84667994687915, 0.84667994687915, 0.84667994687915, 0.847011952191235, 0.8469455511288181, 0.8471447543160691, 0.847211155378486, 0.847211155378486, 0.847211155378486, 0.847211155378486], \"legendgroup\": \"\", \"line\": {\"color\": \"#636efa\", \"dash\": \"solid\"}, \"mode\": \"lines\", \"name\": \"\", \"showlegend\": false, \"type\": \"scatter\", \"x\": [1.0, 2.0, 3.0, 4.0, 5.0, 6.0, 7.0, 8.0, 9.0, 10.0, 11.0, 12.0, 13.0, 14.0, 15.0, 16.0, 17.0, 18.0, 19.0, 20.0, 21.0, 22.0, 23.0, 24.0, 25.0, 26.0, 27.0, 28.0, 29.0, 30.0, 31.0, 32.0, 33.0, 34.0, 35.0, 36.0, 37.0, 38.0, 39.0, 40.0, 41.0, 42.0, 43.0, 44.0, 45.0, 46.0, 47.0, 48.0, 49.0, 50.0, 51.0, 52.0, 53.0, 54.0, 55.0, 56.0, 57.0, 58.0, 59.0, 60.0, 61.0, 62.0, 63.0, 64.0, 65.0, 66.0, 67.0, 68.0, 69.0, 70.0, 71.0, 72.0, 73.0, 74.0, 75.0, 76.0, 77.0, 78.0, 79.0, 80.0, 81.0, 82.0, 83.0, 84.0, 85.0, 86.0, 87.0, 88.0, 89.0, 90.0, 91.0, 92.0, 93.0, 94.0, 95.0, 96.0, 97.0, 98.0, 99.0, 100.0], \"xaxis\": \"x\", \"y\": [0.0, 0.74867197875166, 0.7919654714475431, 0.8139442231075698, 0.8255644090305445, 0.8309428950863214, 0.8326029216467463, 0.8355909694555113, 0.8374501992031872, 0.8383134130146083, 0.8388446215139442, 0.8388446215139442, 0.8388446215139442, 0.8392430278884462, 0.8403718459495352, 0.8407038512616202, 0.8409694555112882, 0.8411022576361222, 0.8413678618857902, 0.8409694555112882, 0.8408366533864542, 0.8413014608233732, 0.8416998671978752, 0.8422974767596282, 0.8426294820717132, 0.8433598937583001, 0.8433598937583001, 0.8435590969455511, 0.8435590969455511, 0.8435590969455511, 0.8434926958831341, 0.8434926958831341, 0.8436918990703851, 0.8435590969455511, 0.8436918990703851, 0.8438911022576361, 0.8442895086321381, 0.8442895086321381, 0.8442231075697211, 0.8443559096945551, 0.8444223107569722, 0.8442895086321381, 0.8443559096945551, 0.8444223107569722, 0.8442895086321381, 0.8444887118193891, 0.8444223107569722, 0.8446879150066401, 0.8446879150066401, 0.8448207171314741, 0.8444887118193891, 0.8445551128818061, 0.8444887118193891, 0.8444223107569722, 0.8444223107569722, 0.8445551128818061, 0.8446879150066401, 0.8446215139442231, 0.8448207171314741, 0.8448871181938911, 0.8448871181938911, 0.8449535192563081, 0.8449535192563081, 0.8448871181938911, 0.8449535192563081, 0.8450199203187251, 0.8450863213811421, 0.845219123505976, 0.8454183266932271, 0.8453519256308101, 0.8454183266932271, 0.845551128818061, 0.8454847277556441, 0.8454847277556441, 0.8457503320053121, 0.8459495351925631, 0.845883134130146, 0.8460823373173971, 0.8460823373173971, 0.8461487383798141, 0.846215139442231, 0.8461487383798141, 0.846215139442231, 0.8462815405046481, 0.846347941567065, 0.84667994687915, 0.84667994687915, 0.84667994687915, 0.84667994687915, 0.8467463479415671, 0.84667994687915, 0.84667994687915, 0.84667994687915, 0.847011952191235, 0.8469455511288181, 0.8471447543160691, 0.847211155378486, 0.847211155378486, 0.847211155378486, 0.847211155378486], \"yaxis\": \"y\"}],\n",
       "                        {\"height\": 600, \"legend\": {\"tracegroupgap\": 0}, \"template\": {\"data\": {\"bar\": [{\"error_x\": {\"color\": \"#2a3f5f\"}, \"error_y\": {\"color\": \"#2a3f5f\"}, \"marker\": {\"line\": {\"color\": \"#E5ECF6\", \"width\": 0.5}}, \"type\": \"bar\"}], \"barpolar\": [{\"marker\": {\"line\": {\"color\": \"#E5ECF6\", \"width\": 0.5}}, \"type\": \"barpolar\"}], \"carpet\": [{\"aaxis\": {\"endlinecolor\": \"#2a3f5f\", \"gridcolor\": \"white\", \"linecolor\": \"white\", \"minorgridcolor\": \"white\", \"startlinecolor\": \"#2a3f5f\"}, \"baxis\": {\"endlinecolor\": \"#2a3f5f\", \"gridcolor\": \"white\", \"linecolor\": \"white\", \"minorgridcolor\": \"white\", \"startlinecolor\": \"#2a3f5f\"}, \"type\": \"carpet\"}], \"choropleth\": [{\"colorbar\": {\"outlinewidth\": 0, \"ticks\": \"\"}, \"type\": \"choropleth\"}], \"contour\": [{\"colorbar\": {\"outlinewidth\": 0, \"ticks\": \"\"}, \"colorscale\": [[0.0, \"#0d0887\"], [0.1111111111111111, \"#46039f\"], [0.2222222222222222, \"#7201a8\"], [0.3333333333333333, \"#9c179e\"], [0.4444444444444444, \"#bd3786\"], [0.5555555555555556, \"#d8576b\"], [0.6666666666666666, \"#ed7953\"], [0.7777777777777778, \"#fb9f3a\"], [0.8888888888888888, \"#fdca26\"], [1.0, \"#f0f921\"]], \"type\": \"contour\"}], \"contourcarpet\": [{\"colorbar\": {\"outlinewidth\": 0, \"ticks\": \"\"}, \"type\": \"contourcarpet\"}], \"heatmap\": [{\"colorbar\": {\"outlinewidth\": 0, \"ticks\": \"\"}, \"colorscale\": [[0.0, \"#0d0887\"], [0.1111111111111111, \"#46039f\"], [0.2222222222222222, \"#7201a8\"], [0.3333333333333333, \"#9c179e\"], [0.4444444444444444, \"#bd3786\"], [0.5555555555555556, \"#d8576b\"], [0.6666666666666666, \"#ed7953\"], [0.7777777777777778, \"#fb9f3a\"], [0.8888888888888888, \"#fdca26\"], [1.0, \"#f0f921\"]], \"type\": \"heatmap\"}], \"heatmapgl\": [{\"colorbar\": {\"outlinewidth\": 0, \"ticks\": \"\"}, \"colorscale\": [[0.0, \"#0d0887\"], [0.1111111111111111, \"#46039f\"], [0.2222222222222222, \"#7201a8\"], [0.3333333333333333, \"#9c179e\"], [0.4444444444444444, \"#bd3786\"], [0.5555555555555556, \"#d8576b\"], [0.6666666666666666, \"#ed7953\"], [0.7777777777777778, \"#fb9f3a\"], [0.8888888888888888, \"#fdca26\"], [1.0, \"#f0f921\"]], \"type\": \"heatmapgl\"}], \"histogram\": [{\"marker\": {\"colorbar\": {\"outlinewidth\": 0, \"ticks\": \"\"}}, \"type\": \"histogram\"}], \"histogram2d\": [{\"colorbar\": {\"outlinewidth\": 0, \"ticks\": \"\"}, \"colorscale\": [[0.0, \"#0d0887\"], [0.1111111111111111, \"#46039f\"], [0.2222222222222222, \"#7201a8\"], [0.3333333333333333, \"#9c179e\"], [0.4444444444444444, \"#bd3786\"], [0.5555555555555556, \"#d8576b\"], [0.6666666666666666, \"#ed7953\"], [0.7777777777777778, \"#fb9f3a\"], [0.8888888888888888, \"#fdca26\"], [1.0, \"#f0f921\"]], \"type\": \"histogram2d\"}], \"histogram2dcontour\": [{\"colorbar\": {\"outlinewidth\": 0, \"ticks\": \"\"}, \"colorscale\": [[0.0, \"#0d0887\"], [0.1111111111111111, \"#46039f\"], [0.2222222222222222, \"#7201a8\"], [0.3333333333333333, \"#9c179e\"], [0.4444444444444444, \"#bd3786\"], [0.5555555555555556, \"#d8576b\"], [0.6666666666666666, \"#ed7953\"], [0.7777777777777778, \"#fb9f3a\"], [0.8888888888888888, \"#fdca26\"], [1.0, \"#f0f921\"]], \"type\": \"histogram2dcontour\"}], \"mesh3d\": [{\"colorbar\": {\"outlinewidth\": 0, \"ticks\": \"\"}, \"type\": \"mesh3d\"}], \"parcoords\": [{\"line\": {\"colorbar\": {\"outlinewidth\": 0, \"ticks\": \"\"}}, \"type\": \"parcoords\"}], \"scatter\": [{\"marker\": {\"colorbar\": {\"outlinewidth\": 0, \"ticks\": \"\"}}, \"type\": \"scatter\"}], \"scatter3d\": [{\"line\": {\"colorbar\": {\"outlinewidth\": 0, \"ticks\": \"\"}}, \"marker\": {\"colorbar\": {\"outlinewidth\": 0, \"ticks\": \"\"}}, \"type\": \"scatter3d\"}], \"scattercarpet\": [{\"marker\": {\"colorbar\": {\"outlinewidth\": 0, \"ticks\": \"\"}}, \"type\": \"scattercarpet\"}], \"scattergeo\": [{\"marker\": {\"colorbar\": {\"outlinewidth\": 0, \"ticks\": \"\"}}, \"type\": \"scattergeo\"}], \"scattergl\": [{\"marker\": {\"colorbar\": {\"outlinewidth\": 0, \"ticks\": \"\"}}, \"type\": \"scattergl\"}], \"scattermapbox\": [{\"marker\": {\"colorbar\": {\"outlinewidth\": 0, \"ticks\": \"\"}}, \"type\": \"scattermapbox\"}], \"scatterpolar\": [{\"marker\": {\"colorbar\": {\"outlinewidth\": 0, \"ticks\": \"\"}}, \"type\": \"scatterpolar\"}], \"scatterpolargl\": [{\"marker\": {\"colorbar\": {\"outlinewidth\": 0, \"ticks\": \"\"}}, \"type\": \"scatterpolargl\"}], \"scatterternary\": [{\"marker\": {\"colorbar\": {\"outlinewidth\": 0, \"ticks\": \"\"}}, \"type\": \"scatterternary\"}], \"surface\": [{\"colorbar\": {\"outlinewidth\": 0, \"ticks\": \"\"}, \"colorscale\": [[0.0, \"#0d0887\"], [0.1111111111111111, \"#46039f\"], [0.2222222222222222, \"#7201a8\"], [0.3333333333333333, \"#9c179e\"], [0.4444444444444444, \"#bd3786\"], [0.5555555555555556, \"#d8576b\"], [0.6666666666666666, \"#ed7953\"], [0.7777777777777778, \"#fb9f3a\"], [0.8888888888888888, \"#fdca26\"], [1.0, \"#f0f921\"]], \"type\": \"surface\"}], \"table\": [{\"cells\": {\"fill\": {\"color\": \"#EBF0F8\"}, \"line\": {\"color\": \"white\"}}, \"header\": {\"fill\": {\"color\": \"#C8D4E3\"}, \"line\": {\"color\": \"white\"}}, \"type\": \"table\"}]}, \"layout\": {\"annotationdefaults\": {\"arrowcolor\": \"#2a3f5f\", \"arrowhead\": 0, \"arrowwidth\": 1}, \"colorscale\": {\"diverging\": [[0, \"#8e0152\"], [0.1, \"#c51b7d\"], [0.2, \"#de77ae\"], [0.3, \"#f1b6da\"], [0.4, \"#fde0ef\"], [0.5, \"#f7f7f7\"], [0.6, \"#e6f5d0\"], [0.7, \"#b8e186\"], [0.8, \"#7fbc41\"], [0.9, \"#4d9221\"], [1, \"#276419\"]], \"sequential\": [[0.0, \"#0d0887\"], [0.1111111111111111, \"#46039f\"], [0.2222222222222222, \"#7201a8\"], [0.3333333333333333, \"#9c179e\"], [0.4444444444444444, \"#bd3786\"], [0.5555555555555556, \"#d8576b\"], [0.6666666666666666, \"#ed7953\"], [0.7777777777777778, \"#fb9f3a\"], [0.8888888888888888, \"#fdca26\"], [1.0, \"#f0f921\"]], \"sequentialminus\": [[0.0, \"#0d0887\"], [0.1111111111111111, \"#46039f\"], [0.2222222222222222, \"#7201a8\"], [0.3333333333333333, \"#9c179e\"], [0.4444444444444444, \"#bd3786\"], [0.5555555555555556, \"#d8576b\"], [0.6666666666666666, \"#ed7953\"], [0.7777777777777778, \"#fb9f3a\"], [0.8888888888888888, \"#fdca26\"], [1.0, \"#f0f921\"]]}, \"colorway\": [\"#636efa\", \"#EF553B\", \"#00cc96\", \"#ab63fa\", \"#FFA15A\", \"#19d3f3\", \"#FF6692\", \"#B6E880\", \"#FF97FF\", \"#FECB52\"], \"font\": {\"color\": \"#2a3f5f\"}, \"geo\": {\"bgcolor\": \"white\", \"lakecolor\": \"white\", \"landcolor\": \"#E5ECF6\", \"showlakes\": true, \"showland\": true, \"subunitcolor\": \"white\"}, \"hoverlabel\": {\"align\": \"left\"}, \"hovermode\": \"closest\", \"mapbox\": {\"style\": \"light\"}, \"paper_bgcolor\": \"white\", \"plot_bgcolor\": \"#E5ECF6\", \"polar\": {\"angularaxis\": {\"gridcolor\": \"white\", \"linecolor\": \"white\", \"ticks\": \"\"}, \"bgcolor\": \"#E5ECF6\", \"radialaxis\": {\"gridcolor\": \"white\", \"linecolor\": \"white\", \"ticks\": \"\"}}, \"scene\": {\"xaxis\": {\"backgroundcolor\": \"#E5ECF6\", \"gridcolor\": \"white\", \"gridwidth\": 2, \"linecolor\": \"white\", \"showbackground\": true, \"ticks\": \"\", \"zerolinecolor\": \"white\"}, \"yaxis\": {\"backgroundcolor\": \"#E5ECF6\", \"gridcolor\": \"white\", \"gridwidth\": 2, \"linecolor\": \"white\", \"showbackground\": true, \"ticks\": \"\", \"zerolinecolor\": \"white\"}, \"zaxis\": {\"backgroundcolor\": \"#E5ECF6\", \"gridcolor\": \"white\", \"gridwidth\": 2, \"linecolor\": \"white\", \"showbackground\": true, \"ticks\": \"\", \"zerolinecolor\": \"white\"}}, \"shapedefaults\": {\"line\": {\"color\": \"#2a3f5f\"}}, \"ternary\": {\"aaxis\": {\"gridcolor\": \"white\", \"linecolor\": \"white\", \"ticks\": \"\"}, \"baxis\": {\"gridcolor\": \"white\", \"linecolor\": \"white\", \"ticks\": \"\"}, \"bgcolor\": \"#E5ECF6\", \"caxis\": {\"gridcolor\": \"white\", \"linecolor\": \"white\", \"ticks\": \"\"}}, \"title\": {\"x\": 0.05}, \"xaxis\": {\"automargin\": true, \"gridcolor\": \"white\", \"linecolor\": \"white\", \"ticks\": \"\", \"zerolinecolor\": \"white\", \"zerolinewidth\": 2}, \"yaxis\": {\"automargin\": true, \"gridcolor\": \"white\", \"linecolor\": \"white\", \"ticks\": \"\", \"zerolinecolor\": \"white\", \"zerolinewidth\": 2}}}, \"title\": {\"text\": \"Test set accuracy vs Gradient descent iterations with L2 regularization\"}, \"xaxis\": {\"anchor\": \"y\", \"domain\": [0.0, 0.98], \"title\": {\"text\": \"iteration_number\"}}, \"yaxis\": {\"anchor\": \"x\", \"domain\": [0.0, 1.0], \"title\": {\"text\": \"accuracy\"}}},\n",
       "                        {\"responsive\": true}\n",
       "                    ).then(function(){\n",
       "                            \n",
       "var gd = document.getElementById('38be891f-a4b3-421f-84bc-a7e337794c0a');\n",
       "var x = new MutationObserver(function (mutations, observer) {{\n",
       "        var display = window.getComputedStyle(gd).display;\n",
       "        if (!display || display === 'none') {{\n",
       "            console.log([gd, 'removed!']);\n",
       "            Plotly.purge(gd);\n",
       "            observer.disconnect();\n",
       "        }}\n",
       "}});\n",
       "\n",
       "// Listen for the removal of the full notebook cells\n",
       "var notebookContainer = gd.closest('#notebook-container');\n",
       "if (notebookContainer) {{\n",
       "    x.observe(notebookContainer, {childList: true});\n",
       "}}\n",
       "\n",
       "// Listen for the clearing of the current output cell\n",
       "var outputEl = gd.closest('.output');\n",
       "if (outputEl) {{\n",
       "    x.observe(outputEl, {childList: true});\n",
       "}}\n",
       "\n",
       "                        })\n",
       "                };\n",
       "                });\n",
       "            </script>\n",
       "        </div>"
      ]
     },
     "metadata": {},
     "output_type": "display_data"
    },
    {
     "data": {
      "application/vnd.plotly.v1+json": {
       "config": {
        "plotlyServerURL": "https://plot.ly"
       },
       "data": [
        {
         "customdata": [
          [
           0,
           1
          ],
          [
           0.74867197875166,
           2
          ],
          [
           0.7916334661354582,
           3
          ],
          [
           0.8138778220451527,
           4
          ],
          [
           0.8252324037184595,
           5
          ],
          [
           0.8304780876494023,
           6
          ],
          [
           0.8324037184594953,
           7
          ],
          [
           0.8353253652058433,
           8
          ],
          [
           0.8369189907038512,
           9
          ],
          [
           0.8376494023904383,
           10
          ],
          [
           0.8385126162018592,
           11
          ],
          [
           0.8386454183266933,
           12
          ],
          [
           0.8389110225763612,
           13
          ],
          [
           0.8393094289508632,
           14
          ],
          [
           0.8401062416998673,
           15
          ],
          [
           0.8408366533864542,
           16
          ],
          [
           0.8409030544488711,
           17
          ],
          [
           0.8411686586985392,
           18
          ],
          [
           0.8413014608233732,
           19
          ],
          [
           0.8414342629482072,
           20
          ],
          [
           0.8415670650730411,
           21
          ],
          [
           0.8416334661354582,
           22
          ],
          [
           0.8414342629482072,
           23
          ],
          [
           0.8416998671978752,
           24
          ],
          [
           0.8417662682602922,
           25
          ],
          [
           0.8422974767596282,
           26
          ],
          [
           0.8423638778220451,
           27
          ],
          [
           0.8426294820717132,
           28
          ],
          [
           0.8428950863213811,
           29
          ],
          [
           0.8428286852589641,
           30
          ],
          [
           0.8428950863213811,
           31
          ],
          [
           0.8429614873837982,
           32
          ],
          [
           0.8430278884462151,
           33
          ],
          [
           0.8430278884462151,
           34
          ],
          [
           0.8430278884462151,
           35
          ],
          [
           0.8430278884462151,
           36
          ],
          [
           0.8432270916334661,
           37
          ],
          [
           0.8432270916334661,
           38
          ],
          [
           0.8431606905710491,
           39
          ],
          [
           0.8432270916334661,
           40
          ],
          [
           0.8430278884462151,
           41
          ],
          [
           0.8431606905710491,
           42
          ],
          [
           0.8435590969455511,
           43
          ],
          [
           0.8436918990703851,
           44
          ],
          [
           0.8436918990703851,
           45
          ],
          [
           0.8438247011952191,
           46
          ],
          [
           0.8439575033200531,
           47
          ],
          [
           0.8441567065073041,
           48
          ],
          [
           0.8443559096945551,
           49
          ],
          [
           0.8443559096945551,
           50
          ],
          [
           0.8443559096945551,
           51
          ],
          [
           0.8442895086321381,
           52
          ],
          [
           0.8440903054448872,
           53
          ],
          [
           0.8441567065073041,
           54
          ],
          [
           0.8440903054448872,
           55
          ],
          [
           0.8441567065073041,
           56
          ],
          [
           0.8440239043824701,
           57
          ],
          [
           0.8442231075697211,
           58
          ],
          [
           0.8440903054448872,
           59
          ],
          [
           0.8440239043824701,
           60
          ],
          [
           0.8440903054448872,
           61
          ],
          [
           0.8441567065073041,
           62
          ],
          [
           0.8441567065073041,
           63
          ],
          [
           0.8443559096945551,
           64
          ],
          [
           0.8442895086321381,
           65
          ],
          [
           0.8444223107569722,
           66
          ],
          [
           0.8444887118193891,
           67
          ],
          [
           0.8445551128818061,
           68
          ],
          [
           0.8444887118193891,
           69
          ],
          [
           0.8447543160690572,
           70
          ],
          [
           0.8448871181938911,
           71
          ],
          [
           0.8448207171314741,
           72
          ],
          [
           0.8448871181938911,
           73
          ],
          [
           0.8448871181938911,
           74
          ],
          [
           0.8450199203187251,
           75
          ],
          [
           0.8450863213811421,
           76
          ],
          [
           0.8449535192563081,
           77
          ],
          [
           0.8448871181938911,
           78
          ],
          [
           0.8448871181938911,
           79
          ],
          [
           0.8449535192563081,
           80
          ],
          [
           0.8450863213811421,
           81
          ],
          [
           0.8453519256308101,
           82
          ],
          [
           0.8452855245683931,
           83
          ],
          [
           0.8454183266932271,
           84
          ],
          [
           0.8453519256308101,
           85
          ],
          [
           0.8453519256308101,
           86
          ],
          [
           0.8452855245683931,
           87
          ],
          [
           0.8452855245683931,
           88
          ],
          [
           0.8452855245683931,
           89
          ],
          [
           0.8452855245683931,
           90
          ],
          [
           0.845551128818061,
           91
          ],
          [
           0.8454847277556441,
           92
          ],
          [
           0.8456839309428951,
           93
          ],
          [
           0.8456839309428951,
           94
          ],
          [
           0.8456839309428951,
           95
          ],
          [
           0.8458167330677291,
           96
          ],
          [
           0.8457503320053121,
           97
          ],
          [
           0.8457503320053121,
           98
          ],
          [
           0.845551128818061,
           99
          ],
          [
           0.845551128818061,
           100
          ]
         ],
         "hoverlabel": {
          "namelength": 0
         },
         "hovertemplate": "<b>%{hovertext}</b><br><br>iteration_number=%{customdata[1]}<br>accuracy=%{customdata[0]}",
         "hovertext": [
          0,
          0.74867197875166,
          0.7916334661354582,
          0.8138778220451527,
          0.8252324037184595,
          0.8304780876494023,
          0.8324037184594953,
          0.8353253652058433,
          0.8369189907038512,
          0.8376494023904383,
          0.8385126162018592,
          0.8386454183266933,
          0.8389110225763612,
          0.8393094289508632,
          0.8401062416998673,
          0.8408366533864542,
          0.8409030544488711,
          0.8411686586985392,
          0.8413014608233732,
          0.8414342629482072,
          0.8415670650730411,
          0.8416334661354582,
          0.8414342629482072,
          0.8416998671978752,
          0.8417662682602922,
          0.8422974767596282,
          0.8423638778220451,
          0.8426294820717132,
          0.8428950863213811,
          0.8428286852589641,
          0.8428950863213811,
          0.8429614873837982,
          0.8430278884462151,
          0.8430278884462151,
          0.8430278884462151,
          0.8430278884462151,
          0.8432270916334661,
          0.8432270916334661,
          0.8431606905710491,
          0.8432270916334661,
          0.8430278884462151,
          0.8431606905710491,
          0.8435590969455511,
          0.8436918990703851,
          0.8436918990703851,
          0.8438247011952191,
          0.8439575033200531,
          0.8441567065073041,
          0.8443559096945551,
          0.8443559096945551,
          0.8443559096945551,
          0.8442895086321381,
          0.8440903054448872,
          0.8441567065073041,
          0.8440903054448872,
          0.8441567065073041,
          0.8440239043824701,
          0.8442231075697211,
          0.8440903054448872,
          0.8440239043824701,
          0.8440903054448872,
          0.8441567065073041,
          0.8441567065073041,
          0.8443559096945551,
          0.8442895086321381,
          0.8444223107569722,
          0.8444887118193891,
          0.8445551128818061,
          0.8444887118193891,
          0.8447543160690572,
          0.8448871181938911,
          0.8448207171314741,
          0.8448871181938911,
          0.8448871181938911,
          0.8450199203187251,
          0.8450863213811421,
          0.8449535192563081,
          0.8448871181938911,
          0.8448871181938911,
          0.8449535192563081,
          0.8450863213811421,
          0.8453519256308101,
          0.8452855245683931,
          0.8454183266932271,
          0.8453519256308101,
          0.8453519256308101,
          0.8452855245683931,
          0.8452855245683931,
          0.8452855245683931,
          0.8452855245683931,
          0.845551128818061,
          0.8454847277556441,
          0.8456839309428951,
          0.8456839309428951,
          0.8456839309428951,
          0.8458167330677291,
          0.8457503320053121,
          0.8457503320053121,
          0.845551128818061,
          0.845551128818061
         ],
         "legendgroup": "",
         "line": {
          "color": "#636efa",
          "dash": "solid"
         },
         "mode": "lines",
         "name": "",
         "showlegend": false,
         "type": "scatter",
         "x": [
          1,
          2,
          3,
          4,
          5,
          6,
          7,
          8,
          9,
          10,
          11,
          12,
          13,
          14,
          15,
          16,
          17,
          18,
          19,
          20,
          21,
          22,
          23,
          24,
          25,
          26,
          27,
          28,
          29,
          30,
          31,
          32,
          33,
          34,
          35,
          36,
          37,
          38,
          39,
          40,
          41,
          42,
          43,
          44,
          45,
          46,
          47,
          48,
          49,
          50,
          51,
          52,
          53,
          54,
          55,
          56,
          57,
          58,
          59,
          60,
          61,
          62,
          63,
          64,
          65,
          66,
          67,
          68,
          69,
          70,
          71,
          72,
          73,
          74,
          75,
          76,
          77,
          78,
          79,
          80,
          81,
          82,
          83,
          84,
          85,
          86,
          87,
          88,
          89,
          90,
          91,
          92,
          93,
          94,
          95,
          96,
          97,
          98,
          99,
          100
         ],
         "xaxis": "x",
         "y": [
          0,
          0.74867197875166,
          0.7916334661354582,
          0.8138778220451527,
          0.8252324037184595,
          0.8304780876494023,
          0.8324037184594953,
          0.8353253652058433,
          0.8369189907038512,
          0.8376494023904383,
          0.8385126162018592,
          0.8386454183266933,
          0.8389110225763612,
          0.8393094289508632,
          0.8401062416998673,
          0.8408366533864542,
          0.8409030544488711,
          0.8411686586985392,
          0.8413014608233732,
          0.8414342629482072,
          0.8415670650730411,
          0.8416334661354582,
          0.8414342629482072,
          0.8416998671978752,
          0.8417662682602922,
          0.8422974767596282,
          0.8423638778220451,
          0.8426294820717132,
          0.8428950863213811,
          0.8428286852589641,
          0.8428950863213811,
          0.8429614873837982,
          0.8430278884462151,
          0.8430278884462151,
          0.8430278884462151,
          0.8430278884462151,
          0.8432270916334661,
          0.8432270916334661,
          0.8431606905710491,
          0.8432270916334661,
          0.8430278884462151,
          0.8431606905710491,
          0.8435590969455511,
          0.8436918990703851,
          0.8436918990703851,
          0.8438247011952191,
          0.8439575033200531,
          0.8441567065073041,
          0.8443559096945551,
          0.8443559096945551,
          0.8443559096945551,
          0.8442895086321381,
          0.8440903054448872,
          0.8441567065073041,
          0.8440903054448872,
          0.8441567065073041,
          0.8440239043824701,
          0.8442231075697211,
          0.8440903054448872,
          0.8440239043824701,
          0.8440903054448872,
          0.8441567065073041,
          0.8441567065073041,
          0.8443559096945551,
          0.8442895086321381,
          0.8444223107569722,
          0.8444887118193891,
          0.8445551128818061,
          0.8444887118193891,
          0.8447543160690572,
          0.8448871181938911,
          0.8448207171314741,
          0.8448871181938911,
          0.8448871181938911,
          0.8450199203187251,
          0.8450863213811421,
          0.8449535192563081,
          0.8448871181938911,
          0.8448871181938911,
          0.8449535192563081,
          0.8450863213811421,
          0.8453519256308101,
          0.8452855245683931,
          0.8454183266932271,
          0.8453519256308101,
          0.8453519256308101,
          0.8452855245683931,
          0.8452855245683931,
          0.8452855245683931,
          0.8452855245683931,
          0.845551128818061,
          0.8454847277556441,
          0.8456839309428951,
          0.8456839309428951,
          0.8456839309428951,
          0.8458167330677291,
          0.8457503320053121,
          0.8457503320053121,
          0.845551128818061,
          0.845551128818061
         ],
         "yaxis": "y"
        }
       ],
       "layout": {
        "autosize": true,
        "legend": {
         "tracegroupgap": 0
        },
        "template": {
         "data": {
          "bar": [
           {
            "error_x": {
             "color": "#2a3f5f"
            },
            "error_y": {
             "color": "#2a3f5f"
            },
            "marker": {
             "line": {
              "color": "#E5ECF6",
              "width": 0.5
             }
            },
            "type": "bar"
           }
          ],
          "barpolar": [
           {
            "marker": {
             "line": {
              "color": "#E5ECF6",
              "width": 0.5
             }
            },
            "type": "barpolar"
           }
          ],
          "carpet": [
           {
            "aaxis": {
             "endlinecolor": "#2a3f5f",
             "gridcolor": "white",
             "linecolor": "white",
             "minorgridcolor": "white",
             "startlinecolor": "#2a3f5f"
            },
            "baxis": {
             "endlinecolor": "#2a3f5f",
             "gridcolor": "white",
             "linecolor": "white",
             "minorgridcolor": "white",
             "startlinecolor": "#2a3f5f"
            },
            "type": "carpet"
           }
          ],
          "choropleth": [
           {
            "colorbar": {
             "outlinewidth": 0,
             "ticks": ""
            },
            "type": "choropleth"
           }
          ],
          "contour": [
           {
            "colorbar": {
             "outlinewidth": 0,
             "ticks": ""
            },
            "colorscale": [
             [
              0,
              "#0d0887"
             ],
             [
              0.1111111111111111,
              "#46039f"
             ],
             [
              0.2222222222222222,
              "#7201a8"
             ],
             [
              0.3333333333333333,
              "#9c179e"
             ],
             [
              0.4444444444444444,
              "#bd3786"
             ],
             [
              0.5555555555555556,
              "#d8576b"
             ],
             [
              0.6666666666666666,
              "#ed7953"
             ],
             [
              0.7777777777777778,
              "#fb9f3a"
             ],
             [
              0.8888888888888888,
              "#fdca26"
             ],
             [
              1,
              "#f0f921"
             ]
            ],
            "type": "contour"
           }
          ],
          "contourcarpet": [
           {
            "colorbar": {
             "outlinewidth": 0,
             "ticks": ""
            },
            "type": "contourcarpet"
           }
          ],
          "heatmap": [
           {
            "colorbar": {
             "outlinewidth": 0,
             "ticks": ""
            },
            "colorscale": [
             [
              0,
              "#0d0887"
             ],
             [
              0.1111111111111111,
              "#46039f"
             ],
             [
              0.2222222222222222,
              "#7201a8"
             ],
             [
              0.3333333333333333,
              "#9c179e"
             ],
             [
              0.4444444444444444,
              "#bd3786"
             ],
             [
              0.5555555555555556,
              "#d8576b"
             ],
             [
              0.6666666666666666,
              "#ed7953"
             ],
             [
              0.7777777777777778,
              "#fb9f3a"
             ],
             [
              0.8888888888888888,
              "#fdca26"
             ],
             [
              1,
              "#f0f921"
             ]
            ],
            "type": "heatmap"
           }
          ],
          "heatmapgl": [
           {
            "colorbar": {
             "outlinewidth": 0,
             "ticks": ""
            },
            "colorscale": [
             [
              0,
              "#0d0887"
             ],
             [
              0.1111111111111111,
              "#46039f"
             ],
             [
              0.2222222222222222,
              "#7201a8"
             ],
             [
              0.3333333333333333,
              "#9c179e"
             ],
             [
              0.4444444444444444,
              "#bd3786"
             ],
             [
              0.5555555555555556,
              "#d8576b"
             ],
             [
              0.6666666666666666,
              "#ed7953"
             ],
             [
              0.7777777777777778,
              "#fb9f3a"
             ],
             [
              0.8888888888888888,
              "#fdca26"
             ],
             [
              1,
              "#f0f921"
             ]
            ],
            "type": "heatmapgl"
           }
          ],
          "histogram": [
           {
            "marker": {
             "colorbar": {
              "outlinewidth": 0,
              "ticks": ""
             }
            },
            "type": "histogram"
           }
          ],
          "histogram2d": [
           {
            "colorbar": {
             "outlinewidth": 0,
             "ticks": ""
            },
            "colorscale": [
             [
              0,
              "#0d0887"
             ],
             [
              0.1111111111111111,
              "#46039f"
             ],
             [
              0.2222222222222222,
              "#7201a8"
             ],
             [
              0.3333333333333333,
              "#9c179e"
             ],
             [
              0.4444444444444444,
              "#bd3786"
             ],
             [
              0.5555555555555556,
              "#d8576b"
             ],
             [
              0.6666666666666666,
              "#ed7953"
             ],
             [
              0.7777777777777778,
              "#fb9f3a"
             ],
             [
              0.8888888888888888,
              "#fdca26"
             ],
             [
              1,
              "#f0f921"
             ]
            ],
            "type": "histogram2d"
           }
          ],
          "histogram2dcontour": [
           {
            "colorbar": {
             "outlinewidth": 0,
             "ticks": ""
            },
            "colorscale": [
             [
              0,
              "#0d0887"
             ],
             [
              0.1111111111111111,
              "#46039f"
             ],
             [
              0.2222222222222222,
              "#7201a8"
             ],
             [
              0.3333333333333333,
              "#9c179e"
             ],
             [
              0.4444444444444444,
              "#bd3786"
             ],
             [
              0.5555555555555556,
              "#d8576b"
             ],
             [
              0.6666666666666666,
              "#ed7953"
             ],
             [
              0.7777777777777778,
              "#fb9f3a"
             ],
             [
              0.8888888888888888,
              "#fdca26"
             ],
             [
              1,
              "#f0f921"
             ]
            ],
            "type": "histogram2dcontour"
           }
          ],
          "mesh3d": [
           {
            "colorbar": {
             "outlinewidth": 0,
             "ticks": ""
            },
            "type": "mesh3d"
           }
          ],
          "parcoords": [
           {
            "line": {
             "colorbar": {
              "outlinewidth": 0,
              "ticks": ""
             }
            },
            "type": "parcoords"
           }
          ],
          "scatter": [
           {
            "marker": {
             "colorbar": {
              "outlinewidth": 0,
              "ticks": ""
             }
            },
            "type": "scatter"
           }
          ],
          "scatter3d": [
           {
            "line": {
             "colorbar": {
              "outlinewidth": 0,
              "ticks": ""
             }
            },
            "marker": {
             "colorbar": {
              "outlinewidth": 0,
              "ticks": ""
             }
            },
            "type": "scatter3d"
           }
          ],
          "scattercarpet": [
           {
            "marker": {
             "colorbar": {
              "outlinewidth": 0,
              "ticks": ""
             }
            },
            "type": "scattercarpet"
           }
          ],
          "scattergeo": [
           {
            "marker": {
             "colorbar": {
              "outlinewidth": 0,
              "ticks": ""
             }
            },
            "type": "scattergeo"
           }
          ],
          "scattergl": [
           {
            "marker": {
             "colorbar": {
              "outlinewidth": 0,
              "ticks": ""
             }
            },
            "type": "scattergl"
           }
          ],
          "scattermapbox": [
           {
            "marker": {
             "colorbar": {
              "outlinewidth": 0,
              "ticks": ""
             }
            },
            "type": "scattermapbox"
           }
          ],
          "scatterpolar": [
           {
            "marker": {
             "colorbar": {
              "outlinewidth": 0,
              "ticks": ""
             }
            },
            "type": "scatterpolar"
           }
          ],
          "scatterpolargl": [
           {
            "marker": {
             "colorbar": {
              "outlinewidth": 0,
              "ticks": ""
             }
            },
            "type": "scatterpolargl"
           }
          ],
          "scatterternary": [
           {
            "marker": {
             "colorbar": {
              "outlinewidth": 0,
              "ticks": ""
             }
            },
            "type": "scatterternary"
           }
          ],
          "surface": [
           {
            "colorbar": {
             "outlinewidth": 0,
             "ticks": ""
            },
            "colorscale": [
             [
              0,
              "#0d0887"
             ],
             [
              0.1111111111111111,
              "#46039f"
             ],
             [
              0.2222222222222222,
              "#7201a8"
             ],
             [
              0.3333333333333333,
              "#9c179e"
             ],
             [
              0.4444444444444444,
              "#bd3786"
             ],
             [
              0.5555555555555556,
              "#d8576b"
             ],
             [
              0.6666666666666666,
              "#ed7953"
             ],
             [
              0.7777777777777778,
              "#fb9f3a"
             ],
             [
              0.8888888888888888,
              "#fdca26"
             ],
             [
              1,
              "#f0f921"
             ]
            ],
            "type": "surface"
           }
          ],
          "table": [
           {
            "cells": {
             "fill": {
              "color": "#EBF0F8"
             },
             "line": {
              "color": "white"
             }
            },
            "header": {
             "fill": {
              "color": "#C8D4E3"
             },
             "line": {
              "color": "white"
             }
            },
            "type": "table"
           }
          ]
         },
         "layout": {
          "annotationdefaults": {
           "arrowcolor": "#2a3f5f",
           "arrowhead": 0,
           "arrowwidth": 1
          },
          "colorscale": {
           "diverging": [
            [
             0,
             "#8e0152"
            ],
            [
             0.1,
             "#c51b7d"
            ],
            [
             0.2,
             "#de77ae"
            ],
            [
             0.3,
             "#f1b6da"
            ],
            [
             0.4,
             "#fde0ef"
            ],
            [
             0.5,
             "#f7f7f7"
            ],
            [
             0.6,
             "#e6f5d0"
            ],
            [
             0.7,
             "#b8e186"
            ],
            [
             0.8,
             "#7fbc41"
            ],
            [
             0.9,
             "#4d9221"
            ],
            [
             1,
             "#276419"
            ]
           ],
           "sequential": [
            [
             0,
             "#0d0887"
            ],
            [
             0.1111111111111111,
             "#46039f"
            ],
            [
             0.2222222222222222,
             "#7201a8"
            ],
            [
             0.3333333333333333,
             "#9c179e"
            ],
            [
             0.4444444444444444,
             "#bd3786"
            ],
            [
             0.5555555555555556,
             "#d8576b"
            ],
            [
             0.6666666666666666,
             "#ed7953"
            ],
            [
             0.7777777777777778,
             "#fb9f3a"
            ],
            [
             0.8888888888888888,
             "#fdca26"
            ],
            [
             1,
             "#f0f921"
            ]
           ],
           "sequentialminus": [
            [
             0,
             "#0d0887"
            ],
            [
             0.1111111111111111,
             "#46039f"
            ],
            [
             0.2222222222222222,
             "#7201a8"
            ],
            [
             0.3333333333333333,
             "#9c179e"
            ],
            [
             0.4444444444444444,
             "#bd3786"
            ],
            [
             0.5555555555555556,
             "#d8576b"
            ],
            [
             0.6666666666666666,
             "#ed7953"
            ],
            [
             0.7777777777777778,
             "#fb9f3a"
            ],
            [
             0.8888888888888888,
             "#fdca26"
            ],
            [
             1,
             "#f0f921"
            ]
           ]
          },
          "colorway": [
           "#636efa",
           "#EF553B",
           "#00cc96",
           "#ab63fa",
           "#FFA15A",
           "#19d3f3",
           "#FF6692",
           "#B6E880",
           "#FF97FF",
           "#FECB52"
          ],
          "font": {
           "color": "#2a3f5f"
          },
          "geo": {
           "bgcolor": "white",
           "lakecolor": "white",
           "landcolor": "#E5ECF6",
           "showlakes": true,
           "showland": true,
           "subunitcolor": "white"
          },
          "hoverlabel": {
           "align": "left"
          },
          "hovermode": "closest",
          "mapbox": {
           "style": "light"
          },
          "paper_bgcolor": "white",
          "plot_bgcolor": "#E5ECF6",
          "polar": {
           "angularaxis": {
            "gridcolor": "white",
            "linecolor": "white",
            "ticks": ""
           },
           "bgcolor": "#E5ECF6",
           "radialaxis": {
            "gridcolor": "white",
            "linecolor": "white",
            "ticks": ""
           }
          },
          "scene": {
           "xaxis": {
            "backgroundcolor": "#E5ECF6",
            "gridcolor": "white",
            "gridwidth": 2,
            "linecolor": "white",
            "showbackground": true,
            "ticks": "",
            "zerolinecolor": "white"
           },
           "yaxis": {
            "backgroundcolor": "#E5ECF6",
            "gridcolor": "white",
            "gridwidth": 2,
            "linecolor": "white",
            "showbackground": true,
            "ticks": "",
            "zerolinecolor": "white"
           },
           "zaxis": {
            "backgroundcolor": "#E5ECF6",
            "gridcolor": "white",
            "gridwidth": 2,
            "linecolor": "white",
            "showbackground": true,
            "ticks": "",
            "zerolinecolor": "white"
           }
          },
          "shapedefaults": {
           "line": {
            "color": "#2a3f5f"
           }
          },
          "ternary": {
           "aaxis": {
            "gridcolor": "white",
            "linecolor": "white",
            "ticks": ""
           },
           "baxis": {
            "gridcolor": "white",
            "linecolor": "white",
            "ticks": ""
           },
           "bgcolor": "#E5ECF6",
           "caxis": {
            "gridcolor": "white",
            "linecolor": "white",
            "ticks": ""
           }
          },
          "title": {
           "x": 0.05
          },
          "xaxis": {
           "automargin": true,
           "gridcolor": "white",
           "linecolor": "white",
           "ticks": "",
           "zerolinecolor": "white",
           "zerolinewidth": 2
          },
          "yaxis": {
           "automargin": true,
           "gridcolor": "white",
           "linecolor": "white",
           "ticks": "",
           "zerolinecolor": "white",
           "zerolinewidth": 2
          }
         }
        },
        "title": {
         "text": "Test set accuracy vs Gradient descent iterations with L1 regularization"
        },
        "xaxis": {
         "anchor": "y",
         "autorange": true,
         "domain": [
          0,
          0.98
         ],
         "range": [
          1,
          100
         ],
         "title": {
          "text": "iteration_number"
         },
         "type": "linear"
        },
        "yaxis": {
         "anchor": "x",
         "autorange": true,
         "domain": [
          0,
          1
         ],
         "range": [
          -0.04698981850376273,
          0.8928065515714918
         ],
         "title": {
          "text": "accuracy"
         },
         "type": "linear"
        }
       }
      },
      "image/png": "[encoded data removed]",
      "text/html": [
       "<div>\n",
       "        \n",
       "        \n",
       "            <div id=\"febf12e8-c79a-47b7-aa54-5cd48c4af239\" class=\"plotly-graph-div\" style=\"height:600px; width:100%;\"></div>\n",
       "            <script type=\"text/javascript\">\n",
       "                require([\"plotly\"], function(Plotly) {\n",
       "                    window.PLOTLYENV=window.PLOTLYENV || {};\n",
       "                    \n",
       "                if (document.getElementById(\"febf12e8-c79a-47b7-aa54-5cd48c4af239\")) {\n",
       "                    Plotly.newPlot(\n",
       "                        'febf12e8-c79a-47b7-aa54-5cd48c4af239',\n",
       "                        [{\"customdata\": [[0.0, 1.0], [0.74867197875166, 2.0], [0.7916334661354582, 3.0], [0.8138778220451527, 4.0], [0.8252324037184595, 5.0], [0.8304780876494023, 6.0], [0.8324037184594953, 7.0], [0.8353253652058433, 8.0], [0.8369189907038512, 9.0], [0.8376494023904383, 10.0], [0.8385126162018592, 11.0], [0.8386454183266933, 12.0], [0.8389110225763612, 13.0], [0.8393094289508632, 14.0], [0.8401062416998673, 15.0], [0.8408366533864542, 16.0], [0.8409030544488711, 17.0], [0.8411686586985392, 18.0], [0.8413014608233732, 19.0], [0.8414342629482072, 20.0], [0.8415670650730411, 21.0], [0.8416334661354582, 22.0], [0.8414342629482072, 23.0], [0.8416998671978752, 24.0], [0.8417662682602922, 25.0], [0.8422974767596282, 26.0], [0.8423638778220451, 27.0], [0.8426294820717132, 28.0], [0.8428950863213811, 29.0], [0.8428286852589641, 30.0], [0.8428950863213811, 31.0], [0.8429614873837982, 32.0], [0.8430278884462151, 33.0], [0.8430278884462151, 34.0], [0.8430278884462151, 35.0], [0.8430278884462151, 36.0], [0.8432270916334661, 37.0], [0.8432270916334661, 38.0], [0.8431606905710491, 39.0], [0.8432270916334661, 40.0], [0.8430278884462151, 41.0], [0.8431606905710491, 42.0], [0.8435590969455511, 43.0], [0.8436918990703851, 44.0], [0.8436918990703851, 45.0], [0.8438247011952191, 46.0], [0.8439575033200531, 47.0], [0.8441567065073041, 48.0], [0.8443559096945551, 49.0], [0.8443559096945551, 50.0], [0.8443559096945551, 51.0], [0.8442895086321381, 52.0], [0.8440903054448872, 53.0], [0.8441567065073041, 54.0], [0.8440903054448872, 55.0], [0.8441567065073041, 56.0], [0.8440239043824701, 57.0], [0.8442231075697211, 58.0], [0.8440903054448872, 59.0], [0.8440239043824701, 60.0], [0.8440903054448872, 61.0], [0.8441567065073041, 62.0], [0.8441567065073041, 63.0], [0.8443559096945551, 64.0], [0.8442895086321381, 65.0], [0.8444223107569722, 66.0], [0.8444887118193891, 67.0], [0.8445551128818061, 68.0], [0.8444887118193891, 69.0], [0.8447543160690572, 70.0], [0.8448871181938911, 71.0], [0.8448207171314741, 72.0], [0.8448871181938911, 73.0], [0.8448871181938911, 74.0], [0.8450199203187251, 75.0], [0.8450863213811421, 76.0], [0.8449535192563081, 77.0], [0.8448871181938911, 78.0], [0.8448871181938911, 79.0], [0.8449535192563081, 80.0], [0.8450863213811421, 81.0], [0.8453519256308101, 82.0], [0.8452855245683931, 83.0], [0.8454183266932271, 84.0], [0.8453519256308101, 85.0], [0.8453519256308101, 86.0], [0.8452855245683931, 87.0], [0.8452855245683931, 88.0], [0.8452855245683931, 89.0], [0.8452855245683931, 90.0], [0.845551128818061, 91.0], [0.8454847277556441, 92.0], [0.8456839309428951, 93.0], [0.8456839309428951, 94.0], [0.8456839309428951, 95.0], [0.8458167330677291, 96.0], [0.8457503320053121, 97.0], [0.8457503320053121, 98.0], [0.845551128818061, 99.0], [0.845551128818061, 100.0]], \"hoverlabel\": {\"namelength\": 0}, \"hovertemplate\": \"<b>%{hovertext}</b><br><br>iteration_number=%{customdata[1]}<br>accuracy=%{customdata[0]}\", \"hovertext\": [0.0, 0.74867197875166, 0.7916334661354582, 0.8138778220451527, 0.8252324037184595, 0.8304780876494023, 0.8324037184594953, 0.8353253652058433, 0.8369189907038512, 0.8376494023904383, 0.8385126162018592, 0.8386454183266933, 0.8389110225763612, 0.8393094289508632, 0.8401062416998673, 0.8408366533864542, 0.8409030544488711, 0.8411686586985392, 0.8413014608233732, 0.8414342629482072, 0.8415670650730411, 0.8416334661354582, 0.8414342629482072, 0.8416998671978752, 0.8417662682602922, 0.8422974767596282, 0.8423638778220451, 0.8426294820717132, 0.8428950863213811, 0.8428286852589641, 0.8428950863213811, 0.8429614873837982, 0.8430278884462151, 0.8430278884462151, 0.8430278884462151, 0.8430278884462151, 0.8432270916334661, 0.8432270916334661, 0.8431606905710491, 0.8432270916334661, 0.8430278884462151, 0.8431606905710491, 0.8435590969455511, 0.8436918990703851, 0.8436918990703851, 0.8438247011952191, 0.8439575033200531, 0.8441567065073041, 0.8443559096945551, 0.8443559096945551, 0.8443559096945551, 0.8442895086321381, 0.8440903054448872, 0.8441567065073041, 0.8440903054448872, 0.8441567065073041, 0.8440239043824701, 0.8442231075697211, 0.8440903054448872, 0.8440239043824701, 0.8440903054448872, 0.8441567065073041, 0.8441567065073041, 0.8443559096945551, 0.8442895086321381, 0.8444223107569722, 0.8444887118193891, 0.8445551128818061, 0.8444887118193891, 0.8447543160690572, 0.8448871181938911, 0.8448207171314741, 0.8448871181938911, 0.8448871181938911, 0.8450199203187251, 0.8450863213811421, 0.8449535192563081, 0.8448871181938911, 0.8448871181938911, 0.8449535192563081, 0.8450863213811421, 0.8453519256308101, 0.8452855245683931, 0.8454183266932271, 0.8453519256308101, 0.8453519256308101, 0.8452855245683931, 0.8452855245683931, 0.8452855245683931, 0.8452855245683931, 0.845551128818061, 0.8454847277556441, 0.8456839309428951, 0.8456839309428951, 0.8456839309428951, 0.8458167330677291, 0.8457503320053121, 0.8457503320053121, 0.845551128818061, 0.845551128818061], \"legendgroup\": \"\", \"line\": {\"color\": \"#636efa\", \"dash\": \"solid\"}, \"mode\": \"lines\", \"name\": \"\", \"showlegend\": false, \"type\": \"scatter\", \"x\": [1.0, 2.0, 3.0, 4.0, 5.0, 6.0, 7.0, 8.0, 9.0, 10.0, 11.0, 12.0, 13.0, 14.0, 15.0, 16.0, 17.0, 18.0, 19.0, 20.0, 21.0, 22.0, 23.0, 24.0, 25.0, 26.0, 27.0, 28.0, 29.0, 30.0, 31.0, 32.0, 33.0, 34.0, 35.0, 36.0, 37.0, 38.0, 39.0, 40.0, 41.0, 42.0, 43.0, 44.0, 45.0, 46.0, 47.0, 48.0, 49.0, 50.0, 51.0, 52.0, 53.0, 54.0, 55.0, 56.0, 57.0, 58.0, 59.0, 60.0, 61.0, 62.0, 63.0, 64.0, 65.0, 66.0, 67.0, 68.0, 69.0, 70.0, 71.0, 72.0, 73.0, 74.0, 75.0, 76.0, 77.0, 78.0, 79.0, 80.0, 81.0, 82.0, 83.0, 84.0, 85.0, 86.0, 87.0, 88.0, 89.0, 90.0, 91.0, 92.0, 93.0, 94.0, 95.0, 96.0, 97.0, 98.0, 99.0, 100.0], \"xaxis\": \"x\", \"y\": [0.0, 0.74867197875166, 0.7916334661354582, 0.8138778220451527, 0.8252324037184595, 0.8304780876494023, 0.8324037184594953, 0.8353253652058433, 0.8369189907038512, 0.8376494023904383, 0.8385126162018592, 0.8386454183266933, 0.8389110225763612, 0.8393094289508632, 0.8401062416998673, 0.8408366533864542, 0.8409030544488711, 0.8411686586985392, 0.8413014608233732, 0.8414342629482072, 0.8415670650730411, 0.8416334661354582, 0.8414342629482072, 0.8416998671978752, 0.8417662682602922, 0.8422974767596282, 0.8423638778220451, 0.8426294820717132, 0.8428950863213811, 0.8428286852589641, 0.8428950863213811, 0.8429614873837982, 0.8430278884462151, 0.8430278884462151, 0.8430278884462151, 0.8430278884462151, 0.8432270916334661, 0.8432270916334661, 0.8431606905710491, 0.8432270916334661, 0.8430278884462151, 0.8431606905710491, 0.8435590969455511, 0.8436918990703851, 0.8436918990703851, 0.8438247011952191, 0.8439575033200531, 0.8441567065073041, 0.8443559096945551, 0.8443559096945551, 0.8443559096945551, 0.8442895086321381, 0.8440903054448872, 0.8441567065073041, 0.8440903054448872, 0.8441567065073041, 0.8440239043824701, 0.8442231075697211, 0.8440903054448872, 0.8440239043824701, 0.8440903054448872, 0.8441567065073041, 0.8441567065073041, 0.8443559096945551, 0.8442895086321381, 0.8444223107569722, 0.8444887118193891, 0.8445551128818061, 0.8444887118193891, 0.8447543160690572, 0.8448871181938911, 0.8448207171314741, 0.8448871181938911, 0.8448871181938911, 0.8450199203187251, 0.8450863213811421, 0.8449535192563081, 0.8448871181938911, 0.8448871181938911, 0.8449535192563081, 0.8450863213811421, 0.8453519256308101, 0.8452855245683931, 0.8454183266932271, 0.8453519256308101, 0.8453519256308101, 0.8452855245683931, 0.8452855245683931, 0.8452855245683931, 0.8452855245683931, 0.845551128818061, 0.8454847277556441, 0.8456839309428951, 0.8456839309428951, 0.8456839309428951, 0.8458167330677291, 0.8457503320053121, 0.8457503320053121, 0.845551128818061, 0.845551128818061], \"yaxis\": \"y\"}],\n",
       "                        {\"height\": 600, \"legend\": {\"tracegroupgap\": 0}, \"template\": {\"data\": {\"bar\": [{\"error_x\": {\"color\": \"#2a3f5f\"}, \"error_y\": {\"color\": \"#2a3f5f\"}, \"marker\": {\"line\": {\"color\": \"#E5ECF6\", \"width\": 0.5}}, \"type\": \"bar\"}], \"barpolar\": [{\"marker\": {\"line\": {\"color\": \"#E5ECF6\", \"width\": 0.5}}, \"type\": \"barpolar\"}], \"carpet\": [{\"aaxis\": {\"endlinecolor\": \"#2a3f5f\", \"gridcolor\": \"white\", \"linecolor\": \"white\", \"minorgridcolor\": \"white\", \"startlinecolor\": \"#2a3f5f\"}, \"baxis\": {\"endlinecolor\": \"#2a3f5f\", \"gridcolor\": \"white\", \"linecolor\": \"white\", \"minorgridcolor\": \"white\", \"startlinecolor\": \"#2a3f5f\"}, \"type\": \"carpet\"}], \"choropleth\": [{\"colorbar\": {\"outlinewidth\": 0, \"ticks\": \"\"}, \"type\": \"choropleth\"}], \"contour\": [{\"colorbar\": {\"outlinewidth\": 0, \"ticks\": \"\"}, \"colorscale\": [[0.0, \"#0d0887\"], [0.1111111111111111, \"#46039f\"], [0.2222222222222222, \"#7201a8\"], [0.3333333333333333, \"#9c179e\"], [0.4444444444444444, \"#bd3786\"], [0.5555555555555556, \"#d8576b\"], [0.6666666666666666, \"#ed7953\"], [0.7777777777777778, \"#fb9f3a\"], [0.8888888888888888, \"#fdca26\"], [1.0, \"#f0f921\"]], \"type\": \"contour\"}], \"contourcarpet\": [{\"colorbar\": {\"outlinewidth\": 0, \"ticks\": \"\"}, \"type\": \"contourcarpet\"}], \"heatmap\": [{\"colorbar\": {\"outlinewidth\": 0, \"ticks\": \"\"}, \"colorscale\": [[0.0, \"#0d0887\"], [0.1111111111111111, \"#46039f\"], [0.2222222222222222, \"#7201a8\"], [0.3333333333333333, \"#9c179e\"], [0.4444444444444444, \"#bd3786\"], [0.5555555555555556, \"#d8576b\"], [0.6666666666666666, \"#ed7953\"], [0.7777777777777778, \"#fb9f3a\"], [0.8888888888888888, \"#fdca26\"], [1.0, \"#f0f921\"]], \"type\": \"heatmap\"}], \"heatmapgl\": [{\"colorbar\": {\"outlinewidth\": 0, \"ticks\": \"\"}, \"colorscale\": [[0.0, \"#0d0887\"], [0.1111111111111111, \"#46039f\"], [0.2222222222222222, \"#7201a8\"], [0.3333333333333333, \"#9c179e\"], [0.4444444444444444, \"#bd3786\"], [0.5555555555555556, \"#d8576b\"], [0.6666666666666666, \"#ed7953\"], [0.7777777777777778, \"#fb9f3a\"], [0.8888888888888888, \"#fdca26\"], [1.0, \"#f0f921\"]], \"type\": \"heatmapgl\"}], \"histogram\": [{\"marker\": {\"colorbar\": {\"outlinewidth\": 0, \"ticks\": \"\"}}, \"type\": \"histogram\"}], \"histogram2d\": [{\"colorbar\": {\"outlinewidth\": 0, \"ticks\": \"\"}, \"colorscale\": [[0.0, \"#0d0887\"], [0.1111111111111111, \"#46039f\"], [0.2222222222222222, \"#7201a8\"], [0.3333333333333333, \"#9c179e\"], [0.4444444444444444, \"#bd3786\"], [0.5555555555555556, \"#d8576b\"], [0.6666666666666666, \"#ed7953\"], [0.7777777777777778, \"#fb9f3a\"], [0.8888888888888888, \"#fdca26\"], [1.0, \"#f0f921\"]], \"type\": \"histogram2d\"}], \"histogram2dcontour\": [{\"colorbar\": {\"outlinewidth\": 0, \"ticks\": \"\"}, \"colorscale\": [[0.0, \"#0d0887\"], [0.1111111111111111, \"#46039f\"], [0.2222222222222222, \"#7201a8\"], [0.3333333333333333, \"#9c179e\"], [0.4444444444444444, \"#bd3786\"], [0.5555555555555556, \"#d8576b\"], [0.6666666666666666, \"#ed7953\"], [0.7777777777777778, \"#fb9f3a\"], [0.8888888888888888, \"#fdca26\"], [1.0, \"#f0f921\"]], \"type\": \"histogram2dcontour\"}], \"mesh3d\": [{\"colorbar\": {\"outlinewidth\": 0, \"ticks\": \"\"}, \"type\": \"mesh3d\"}], \"parcoords\": [{\"line\": {\"colorbar\": {\"outlinewidth\": 0, \"ticks\": \"\"}}, \"type\": \"parcoords\"}], \"scatter\": [{\"marker\": {\"colorbar\": {\"outlinewidth\": 0, \"ticks\": \"\"}}, \"type\": \"scatter\"}], \"scatter3d\": [{\"line\": {\"colorbar\": {\"outlinewidth\": 0, \"ticks\": \"\"}}, \"marker\": {\"colorbar\": {\"outlinewidth\": 0, \"ticks\": \"\"}}, \"type\": \"scatter3d\"}], \"scattercarpet\": [{\"marker\": {\"colorbar\": {\"outlinewidth\": 0, \"ticks\": \"\"}}, \"type\": \"scattercarpet\"}], \"scattergeo\": [{\"marker\": {\"colorbar\": {\"outlinewidth\": 0, \"ticks\": \"\"}}, \"type\": \"scattergeo\"}], \"scattergl\": [{\"marker\": {\"colorbar\": {\"outlinewidth\": 0, \"ticks\": \"\"}}, \"type\": \"scattergl\"}], \"scattermapbox\": [{\"marker\": {\"colorbar\": {\"outlinewidth\": 0, \"ticks\": \"\"}}, \"type\": \"scattermapbox\"}], \"scatterpolar\": [{\"marker\": {\"colorbar\": {\"outlinewidth\": 0, \"ticks\": \"\"}}, \"type\": \"scatterpolar\"}], \"scatterpolargl\": [{\"marker\": {\"colorbar\": {\"outlinewidth\": 0, \"ticks\": \"\"}}, \"type\": \"scatterpolargl\"}], \"scatterternary\": [{\"marker\": {\"colorbar\": {\"outlinewidth\": 0, \"ticks\": \"\"}}, \"type\": \"scatterternary\"}], \"surface\": [{\"colorbar\": {\"outlinewidth\": 0, \"ticks\": \"\"}, \"colorscale\": [[0.0, \"#0d0887\"], [0.1111111111111111, \"#46039f\"], [0.2222222222222222, \"#7201a8\"], [0.3333333333333333, \"#9c179e\"], [0.4444444444444444, \"#bd3786\"], [0.5555555555555556, \"#d8576b\"], [0.6666666666666666, \"#ed7953\"], [0.7777777777777778, \"#fb9f3a\"], [0.8888888888888888, \"#fdca26\"], [1.0, \"#f0f921\"]], \"type\": \"surface\"}], \"table\": [{\"cells\": {\"fill\": {\"color\": \"#EBF0F8\"}, \"line\": {\"color\": \"white\"}}, \"header\": {\"fill\": {\"color\": \"#C8D4E3\"}, \"line\": {\"color\": \"white\"}}, \"type\": \"table\"}]}, \"layout\": {\"annotationdefaults\": {\"arrowcolor\": \"#2a3f5f\", \"arrowhead\": 0, \"arrowwidth\": 1}, \"colorscale\": {\"diverging\": [[0, \"#8e0152\"], [0.1, \"#c51b7d\"], [0.2, \"#de77ae\"], [0.3, \"#f1b6da\"], [0.4, \"#fde0ef\"], [0.5, \"#f7f7f7\"], [0.6, \"#e6f5d0\"], [0.7, \"#b8e186\"], [0.8, \"#7fbc41\"], [0.9, \"#4d9221\"], [1, \"#276419\"]], \"sequential\": [[0.0, \"#0d0887\"], [0.1111111111111111, \"#46039f\"], [0.2222222222222222, \"#7201a8\"], [0.3333333333333333, \"#9c179e\"], [0.4444444444444444, \"#bd3786\"], [0.5555555555555556, \"#d8576b\"], [0.6666666666666666, \"#ed7953\"], [0.7777777777777778, \"#fb9f3a\"], [0.8888888888888888, \"#fdca26\"], [1.0, \"#f0f921\"]], \"sequentialminus\": [[0.0, \"#0d0887\"], [0.1111111111111111, \"#46039f\"], [0.2222222222222222, \"#7201a8\"], [0.3333333333333333, \"#9c179e\"], [0.4444444444444444, \"#bd3786\"], [0.5555555555555556, \"#d8576b\"], [0.6666666666666666, \"#ed7953\"], [0.7777777777777778, \"#fb9f3a\"], [0.8888888888888888, \"#fdca26\"], [1.0, \"#f0f921\"]]}, \"colorway\": [\"#636efa\", \"#EF553B\", \"#00cc96\", \"#ab63fa\", \"#FFA15A\", \"#19d3f3\", \"#FF6692\", \"#B6E880\", \"#FF97FF\", \"#FECB52\"], \"font\": {\"color\": \"#2a3f5f\"}, \"geo\": {\"bgcolor\": \"white\", \"lakecolor\": \"white\", \"landcolor\": \"#E5ECF6\", \"showlakes\": true, \"showland\": true, \"subunitcolor\": \"white\"}, \"hoverlabel\": {\"align\": \"left\"}, \"hovermode\": \"closest\", \"mapbox\": {\"style\": \"light\"}, \"paper_bgcolor\": \"white\", \"plot_bgcolor\": \"#E5ECF6\", \"polar\": {\"angularaxis\": {\"gridcolor\": \"white\", \"linecolor\": \"white\", \"ticks\": \"\"}, \"bgcolor\": \"#E5ECF6\", \"radialaxis\": {\"gridcolor\": \"white\", \"linecolor\": \"white\", \"ticks\": \"\"}}, \"scene\": {\"xaxis\": {\"backgroundcolor\": \"#E5ECF6\", \"gridcolor\": \"white\", \"gridwidth\": 2, \"linecolor\": \"white\", \"showbackground\": true, \"ticks\": \"\", \"zerolinecolor\": \"white\"}, \"yaxis\": {\"backgroundcolor\": \"#E5ECF6\", \"gridcolor\": \"white\", \"gridwidth\": 2, \"linecolor\": \"white\", \"showbackground\": true, \"ticks\": \"\", \"zerolinecolor\": \"white\"}, \"zaxis\": {\"backgroundcolor\": \"#E5ECF6\", \"gridcolor\": \"white\", \"gridwidth\": 2, \"linecolor\": \"white\", \"showbackground\": true, \"ticks\": \"\", \"zerolinecolor\": \"white\"}}, \"shapedefaults\": {\"line\": {\"color\": \"#2a3f5f\"}}, \"ternary\": {\"aaxis\": {\"gridcolor\": \"white\", \"linecolor\": \"white\", \"ticks\": \"\"}, \"baxis\": {\"gridcolor\": \"white\", \"linecolor\": \"white\", \"ticks\": \"\"}, \"bgcolor\": \"#E5ECF6\", \"caxis\": {\"gridcolor\": \"white\", \"linecolor\": \"white\", \"ticks\": \"\"}}, \"title\": {\"x\": 0.05}, \"xaxis\": {\"automargin\": true, \"gridcolor\": \"white\", \"linecolor\": \"white\", \"ticks\": \"\", \"zerolinecolor\": \"white\", \"zerolinewidth\": 2}, \"yaxis\": {\"automargin\": true, \"gridcolor\": \"white\", \"linecolor\": \"white\", \"ticks\": \"\", \"zerolinecolor\": \"white\", \"zerolinewidth\": 2}}}, \"title\": {\"text\": \"Test set accuracy vs Gradient descent iterations with L1 regularization\"}, \"xaxis\": {\"anchor\": \"y\", \"domain\": [0.0, 0.98], \"title\": {\"text\": \"iteration_number\"}}, \"yaxis\": {\"anchor\": \"x\", \"domain\": [0.0, 1.0], \"title\": {\"text\": \"accuracy\"}}},\n",
       "                        {\"responsive\": true}\n",
       "                    ).then(function(){\n",
       "                            \n",
       "var gd = document.getElementById('febf12e8-c79a-47b7-aa54-5cd48c4af239');\n",
       "var x = new MutationObserver(function (mutations, observer) {{\n",
       "        var display = window.getComputedStyle(gd).display;\n",
       "        if (!display || display === 'none') {{\n",
       "            console.log([gd, 'removed!']);\n",
       "            Plotly.purge(gd);\n",
       "            observer.disconnect();\n",
       "        }}\n",
       "}});\n",
       "\n",
       "// Listen for the removal of the full notebook cells\n",
       "var notebookContainer = gd.closest('#notebook-container');\n",
       "if (notebookContainer) {{\n",
       "    x.observe(notebookContainer, {childList: true});\n",
       "}}\n",
       "\n",
       "// Listen for the clearing of the current output cell\n",
       "var outputEl = gd.closest('.output');\n",
       "if (outputEl) {{\n",
       "    x.observe(outputEl, {childList: true});\n",
       "}}\n",
       "\n",
       "                        })\n",
       "                };\n",
       "                });\n",
       "            </script>\n",
       "        </div>"
      ]
     },
     "metadata": {},
     "output_type": "display_data"
    }
   ],
   "source": [
    "fig = px.line(test_acc_l2, x='iteration_number', y='accuracy', hover_name='accuracy', \n",
    "              hover_data=['accuracy', 'iteration_number'],\n",
    "              title='Test set accuracy vs Gradient descent iterations with L2 regularization')\n",
    "\n",
    "fig.show()\n",
    "\n",
    "fig = px.line(test_acc_l1, x='iteration_number', y='accuracy', hover_name='accuracy', \n",
    "              hover_data=['accuracy', 'iteration_number'],\n",
    "              title='Test set accuracy vs Gradient descent iterations with L1 regularization')\n",
    "fig.show()"
   ]
  },
  {
   "cell_type": "code",
   "execution_count": 223,
   "metadata": {},
   "outputs": [
    {
     "data": {
      "application/vnd.plotly.v1+json": {
       "config": {
        "plotlyServerURL": "https://plot.ly"
       },
       "data": [
        {
         "customdata": [
          [
           1,
           1
          ],
          [
           0.25132802124834,
           2
          ],
          [
           0.20803452855245685,
           3
          ],
          [
           0.18605577689243025,
           4
          ],
          [
           0.1744355909694555,
           5
          ],
          [
           0.16905710491367865,
           6
          ],
          [
           0.16739707835325368,
           7
          ],
          [
           0.16440903054448874,
           8
          ],
          [
           0.1625498007968128,
           9
          ],
          [
           0.16168658698539173,
           10
          ],
          [
           0.16115537848605577,
           11
          ],
          [
           0.16115537848605577,
           12
          ],
          [
           0.16115537848605577,
           13
          ],
          [
           0.16075697211155382,
           14
          ],
          [
           0.15962815405046482,
           15
          ],
          [
           0.15929614873837983,
           16
          ],
          [
           0.1590305444887118,
           17
          ],
          [
           0.15889774236387777,
           18
          ],
          [
           0.15863213811420984,
           19
          ],
          [
           0.1590305444887118,
           20
          ],
          [
           0.1591633466135458,
           21
          ],
          [
           0.1586985391766268,
           22
          ],
          [
           0.15830013280212485,
           23
          ],
          [
           0.15770252324037182,
           24
          ],
          [
           0.15737051792828682,
           25
          ],
          [
           0.15664010624169988,
           26
          ],
          [
           0.15664010624169988,
           27
          ],
          [
           0.1564409030544489,
           28
          ],
          [
           0.1564409030544489,
           29
          ],
          [
           0.1564409030544489,
           30
          ],
          [
           0.15650730411686586,
           31
          ],
          [
           0.15650730411686586,
           32
          ],
          [
           0.1563081009296149,
           33
          ],
          [
           0.1564409030544489,
           34
          ],
          [
           0.1563081009296149,
           35
          ],
          [
           0.15610889774236392,
           36
          ],
          [
           0.15571049136786186,
           37
          ],
          [
           0.15571049136786186,
           38
          ],
          [
           0.15577689243027892,
           39
          ],
          [
           0.1556440903054449,
           40
          ],
          [
           0.15557768924302784,
           41
          ],
          [
           0.15571049136786186,
           42
          ],
          [
           0.1556440903054449,
           43
          ],
          [
           0.15557768924302784,
           44
          ],
          [
           0.15571049136786186,
           45
          ],
          [
           0.15551128818061088,
           46
          ],
          [
           0.15557768924302784,
           47
          ],
          [
           0.1553120849933599,
           48
          ],
          [
           0.1553120849933599,
           49
          ],
          [
           0.1551792828685259,
           50
          ],
          [
           0.15551128818061088,
           51
          ],
          [
           0.15544488711819393,
           52
          ],
          [
           0.15551128818061088,
           53
          ],
          [
           0.15557768924302784,
           54
          ],
          [
           0.15557768924302784,
           55
          ],
          [
           0.15544488711819393,
           56
          ],
          [
           0.1553120849933599,
           57
          ],
          [
           0.15537848605577687,
           58
          ],
          [
           0.1551792828685259,
           59
          ],
          [
           0.15511288180610894,
           60
          ],
          [
           0.15511288180610894,
           61
          ],
          [
           0.15504648074369187,
           62
          ],
          [
           0.15504648074369187,
           63
          ],
          [
           0.15511288180610894,
           64
          ],
          [
           0.15504648074369187,
           65
          ],
          [
           0.15498007968127492,
           66
          ],
          [
           0.15491367861885785,
           67
          ],
          [
           0.15478087649402394,
           68
          ],
          [
           0.15458167330677286,
           69
          ],
          [
           0.15464807436918993,
           70
          ],
          [
           0.15458167330677286,
           71
          ],
          [
           0.15444887118193895,
           72
          ],
          [
           0.1545152722443559,
           73
          ],
          [
           0.1545152722443559,
           74
          ],
          [
           0.15424966799468787,
           75
          ],
          [
           0.1540504648074369,
           76
          ],
          [
           0.15411686586985396,
           77
          ],
          [
           0.15391766268260287,
           78
          ],
          [
           0.15391766268260287,
           79
          ],
          [
           0.15385126162018592,
           80
          ],
          [
           0.15378486055776897,
           81
          ],
          [
           0.15385126162018592,
           82
          ],
          [
           0.15378486055776897,
           83
          ],
          [
           0.1537184594953519,
           84
          ],
          [
           0.15365205843293495,
           85
          ],
          [
           0.15332005312084995,
           86
          ],
          [
           0.15332005312084995,
           87
          ],
          [
           0.15332005312084995,
           88
          ],
          [
           0.15332005312084995,
           89
          ],
          [
           0.1532536520584329,
           90
          ],
          [
           0.15332005312084995,
           91
          ],
          [
           0.15332005312084995,
           92
          ],
          [
           0.15332005312084995,
           93
          ],
          [
           0.15298804780876496,
           94
          ],
          [
           0.15305444887118191,
           95
          ],
          [
           0.15285524568393094,
           96
          ],
          [
           0.152788844621514,
           97
          ],
          [
           0.152788844621514,
           98
          ],
          [
           0.152788844621514,
           99
          ],
          [
           0.152788844621514,
           100
          ]
         ],
         "hoverlabel": {
          "namelength": 0
         },
         "hovertemplate": "<b>%{hovertext}</b><br><br>iteration_number=%{customdata[1]}<br>error=%{customdata[0]}",
         "hovertext": [
          1,
          0.25132802124834,
          0.20803452855245685,
          0.18605577689243025,
          0.1744355909694555,
          0.16905710491367865,
          0.16739707835325368,
          0.16440903054448874,
          0.1625498007968128,
          0.16168658698539173,
          0.16115537848605577,
          0.16115537848605577,
          0.16115537848605577,
          0.16075697211155382,
          0.15962815405046482,
          0.15929614873837983,
          0.1590305444887118,
          0.15889774236387777,
          0.15863213811420984,
          0.1590305444887118,
          0.1591633466135458,
          0.1586985391766268,
          0.15830013280212485,
          0.15770252324037182,
          0.15737051792828682,
          0.15664010624169988,
          0.15664010624169988,
          0.1564409030544489,
          0.1564409030544489,
          0.1564409030544489,
          0.15650730411686586,
          0.15650730411686586,
          0.1563081009296149,
          0.1564409030544489,
          0.1563081009296149,
          0.15610889774236392,
          0.15571049136786186,
          0.15571049136786186,
          0.15577689243027892,
          0.1556440903054449,
          0.15557768924302784,
          0.15571049136786186,
          0.1556440903054449,
          0.15557768924302784,
          0.15571049136786186,
          0.15551128818061088,
          0.15557768924302784,
          0.1553120849933599,
          0.1553120849933599,
          0.1551792828685259,
          0.15551128818061088,
          0.15544488711819393,
          0.15551128818061088,
          0.15557768924302784,
          0.15557768924302784,
          0.15544488711819393,
          0.1553120849933599,
          0.15537848605577687,
          0.1551792828685259,
          0.15511288180610894,
          0.15511288180610894,
          0.15504648074369187,
          0.15504648074369187,
          0.15511288180610894,
          0.15504648074369187,
          0.15498007968127492,
          0.15491367861885785,
          0.15478087649402394,
          0.15458167330677286,
          0.15464807436918993,
          0.15458167330677286,
          0.15444887118193895,
          0.1545152722443559,
          0.1545152722443559,
          0.15424966799468787,
          0.1540504648074369,
          0.15411686586985396,
          0.15391766268260287,
          0.15391766268260287,
          0.15385126162018592,
          0.15378486055776897,
          0.15385126162018592,
          0.15378486055776897,
          0.1537184594953519,
          0.15365205843293495,
          0.15332005312084995,
          0.15332005312084995,
          0.15332005312084995,
          0.15332005312084995,
          0.1532536520584329,
          0.15332005312084995,
          0.15332005312084995,
          0.15332005312084995,
          0.15298804780876496,
          0.15305444887118191,
          0.15285524568393094,
          0.152788844621514,
          0.152788844621514,
          0.152788844621514,
          0.152788844621514
         ],
         "legendgroup": "",
         "line": {
          "color": "#636efa",
          "dash": "solid"
         },
         "mode": "lines",
         "name": "",
         "showlegend": false,
         "type": "scatter",
         "x": [
          1,
          2,
          3,
          4,
          5,
          6,
          7,
          8,
          9,
          10,
          11,
          12,
          13,
          14,
          15,
          16,
          17,
          18,
          19,
          20,
          21,
          22,
          23,
          24,
          25,
          26,
          27,
          28,
          29,
          30,
          31,
          32,
          33,
          34,
          35,
          36,
          37,
          38,
          39,
          40,
          41,
          42,
          43,
          44,
          45,
          46,
          47,
          48,
          49,
          50,
          51,
          52,
          53,
          54,
          55,
          56,
          57,
          58,
          59,
          60,
          61,
          62,
          63,
          64,
          65,
          66,
          67,
          68,
          69,
          70,
          71,
          72,
          73,
          74,
          75,
          76,
          77,
          78,
          79,
          80,
          81,
          82,
          83,
          84,
          85,
          86,
          87,
          88,
          89,
          90,
          91,
          92,
          93,
          94,
          95,
          96,
          97,
          98,
          99,
          100
         ],
         "xaxis": "x",
         "y": [
          1,
          0.25132802124834,
          0.20803452855245685,
          0.18605577689243025,
          0.1744355909694555,
          0.16905710491367865,
          0.16739707835325368,
          0.16440903054448874,
          0.1625498007968128,
          0.16168658698539173,
          0.16115537848605577,
          0.16115537848605577,
          0.16115537848605577,
          0.16075697211155382,
          0.15962815405046482,
          0.15929614873837983,
          0.1590305444887118,
          0.15889774236387777,
          0.15863213811420984,
          0.1590305444887118,
          0.1591633466135458,
          0.1586985391766268,
          0.15830013280212485,
          0.15770252324037182,
          0.15737051792828682,
          0.15664010624169988,
          0.15664010624169988,
          0.1564409030544489,
          0.1564409030544489,
          0.1564409030544489,
          0.15650730411686586,
          0.15650730411686586,
          0.1563081009296149,
          0.1564409030544489,
          0.1563081009296149,
          0.15610889774236392,
          0.15571049136786186,
          0.15571049136786186,
          0.15577689243027892,
          0.1556440903054449,
          0.15557768924302784,
          0.15571049136786186,
          0.1556440903054449,
          0.15557768924302784,
          0.15571049136786186,
          0.15551128818061088,
          0.15557768924302784,
          0.1553120849933599,
          0.1553120849933599,
          0.1551792828685259,
          0.15551128818061088,
          0.15544488711819393,
          0.15551128818061088,
          0.15557768924302784,
          0.15557768924302784,
          0.15544488711819393,
          0.1553120849933599,
          0.15537848605577687,
          0.1551792828685259,
          0.15511288180610894,
          0.15511288180610894,
          0.15504648074369187,
          0.15504648074369187,
          0.15511288180610894,
          0.15504648074369187,
          0.15498007968127492,
          0.15491367861885785,
          0.15478087649402394,
          0.15458167330677286,
          0.15464807436918993,
          0.15458167330677286,
          0.15444887118193895,
          0.1545152722443559,
          0.1545152722443559,
          0.15424966799468787,
          0.1540504648074369,
          0.15411686586985396,
          0.15391766268260287,
          0.15391766268260287,
          0.15385126162018592,
          0.15378486055776897,
          0.15385126162018592,
          0.15378486055776897,
          0.1537184594953519,
          0.15365205843293495,
          0.15332005312084995,
          0.15332005312084995,
          0.15332005312084995,
          0.15332005312084995,
          0.1532536520584329,
          0.15332005312084995,
          0.15332005312084995,
          0.15332005312084995,
          0.15298804780876496,
          0.15305444887118191,
          0.15285524568393094,
          0.152788844621514,
          0.152788844621514,
          0.152788844621514,
          0.152788844621514
         ],
         "yaxis": "y"
        }
       ],
       "layout": {
        "autosize": true,
        "legend": {
         "tracegroupgap": 0
        },
        "template": {
         "data": {
          "bar": [
           {
            "error_x": {
             "color": "#2a3f5f"
            },
            "error_y": {
             "color": "#2a3f5f"
            },
            "marker": {
             "line": {
              "color": "#E5ECF6",
              "width": 0.5
             }
            },
            "type": "bar"
           }
          ],
          "barpolar": [
           {
            "marker": {
             "line": {
              "color": "#E5ECF6",
              "width": 0.5
             }
            },
            "type": "barpolar"
           }
          ],
          "carpet": [
           {
            "aaxis": {
             "endlinecolor": "#2a3f5f",
             "gridcolor": "white",
             "linecolor": "white",
             "minorgridcolor": "white",
             "startlinecolor": "#2a3f5f"
            },
            "baxis": {
             "endlinecolor": "#2a3f5f",
             "gridcolor": "white",
             "linecolor": "white",
             "minorgridcolor": "white",
             "startlinecolor": "#2a3f5f"
            },
            "type": "carpet"
           }
          ],
          "choropleth": [
           {
            "colorbar": {
             "outlinewidth": 0,
             "ticks": ""
            },
            "type": "choropleth"
           }
          ],
          "contour": [
           {
            "colorbar": {
             "outlinewidth": 0,
             "ticks": ""
            },
            "colorscale": [
             [
              0,
              "#0d0887"
             ],
             [
              0.1111111111111111,
              "#46039f"
             ],
             [
              0.2222222222222222,
              "#7201a8"
             ],
             [
              0.3333333333333333,
              "#9c179e"
             ],
             [
              0.4444444444444444,
              "#bd3786"
             ],
             [
              0.5555555555555556,
              "#d8576b"
             ],
             [
              0.6666666666666666,
              "#ed7953"
             ],
             [
              0.7777777777777778,
              "#fb9f3a"
             ],
             [
              0.8888888888888888,
              "#fdca26"
             ],
             [
              1,
              "#f0f921"
             ]
            ],
            "type": "contour"
           }
          ],
          "contourcarpet": [
           {
            "colorbar": {
             "outlinewidth": 0,
             "ticks": ""
            },
            "type": "contourcarpet"
           }
          ],
          "heatmap": [
           {
            "colorbar": {
             "outlinewidth": 0,
             "ticks": ""
            },
            "colorscale": [
             [
              0,
              "#0d0887"
             ],
             [
              0.1111111111111111,
              "#46039f"
             ],
             [
              0.2222222222222222,
              "#7201a8"
             ],
             [
              0.3333333333333333,
              "#9c179e"
             ],
             [
              0.4444444444444444,
              "#bd3786"
             ],
             [
              0.5555555555555556,
              "#d8576b"
             ],
             [
              0.6666666666666666,
              "#ed7953"
             ],
             [
              0.7777777777777778,
              "#fb9f3a"
             ],
             [
              0.8888888888888888,
              "#fdca26"
             ],
             [
              1,
              "#f0f921"
             ]
            ],
            "type": "heatmap"
           }
          ],
          "heatmapgl": [
           {
            "colorbar": {
             "outlinewidth": 0,
             "ticks": ""
            },
            "colorscale": [
             [
              0,
              "#0d0887"
             ],
             [
              0.1111111111111111,
              "#46039f"
             ],
             [
              0.2222222222222222,
              "#7201a8"
             ],
             [
              0.3333333333333333,
              "#9c179e"
             ],
             [
              0.4444444444444444,
              "#bd3786"
             ],
             [
              0.5555555555555556,
              "#d8576b"
             ],
             [
              0.6666666666666666,
              "#ed7953"
             ],
             [
              0.7777777777777778,
              "#fb9f3a"
             ],
             [
              0.8888888888888888,
              "#fdca26"
             ],
             [
              1,
              "#f0f921"
             ]
            ],
            "type": "heatmapgl"
           }
          ],
          "histogram": [
           {
            "marker": {
             "colorbar": {
              "outlinewidth": 0,
              "ticks": ""
             }
            },
            "type": "histogram"
           }
          ],
          "histogram2d": [
           {
            "colorbar": {
             "outlinewidth": 0,
             "ticks": ""
            },
            "colorscale": [
             [
              0,
              "#0d0887"
             ],
             [
              0.1111111111111111,
              "#46039f"
             ],
             [
              0.2222222222222222,
              "#7201a8"
             ],
             [
              0.3333333333333333,
              "#9c179e"
             ],
             [
              0.4444444444444444,
              "#bd3786"
             ],
             [
              0.5555555555555556,
              "#d8576b"
             ],
             [
              0.6666666666666666,
              "#ed7953"
             ],
             [
              0.7777777777777778,
              "#fb9f3a"
             ],
             [
              0.8888888888888888,
              "#fdca26"
             ],
             [
              1,
              "#f0f921"
             ]
            ],
            "type": "histogram2d"
           }
          ],
          "histogram2dcontour": [
           {
            "colorbar": {
             "outlinewidth": 0,
             "ticks": ""
            },
            "colorscale": [
             [
              0,
              "#0d0887"
             ],
             [
              0.1111111111111111,
              "#46039f"
             ],
             [
              0.2222222222222222,
              "#7201a8"
             ],
             [
              0.3333333333333333,
              "#9c179e"
             ],
             [
              0.4444444444444444,
              "#bd3786"
             ],
             [
              0.5555555555555556,
              "#d8576b"
             ],
             [
              0.6666666666666666,
              "#ed7953"
             ],
             [
              0.7777777777777778,
              "#fb9f3a"
             ],
             [
              0.8888888888888888,
              "#fdca26"
             ],
             [
              1,
              "#f0f921"
             ]
            ],
            "type": "histogram2dcontour"
           }
          ],
          "mesh3d": [
           {
            "colorbar": {
             "outlinewidth": 0,
             "ticks": ""
            },
            "type": "mesh3d"
           }
          ],
          "parcoords": [
           {
            "line": {
             "colorbar": {
              "outlinewidth": 0,
              "ticks": ""
             }
            },
            "type": "parcoords"
           }
          ],
          "scatter": [
           {
            "marker": {
             "colorbar": {
              "outlinewidth": 0,
              "ticks": ""
             }
            },
            "type": "scatter"
           }
          ],
          "scatter3d": [
           {
            "line": {
             "colorbar": {
              "outlinewidth": 0,
              "ticks": ""
             }
            },
            "marker": {
             "colorbar": {
              "outlinewidth": 0,
              "ticks": ""
             }
            },
            "type": "scatter3d"
           }
          ],
          "scattercarpet": [
           {
            "marker": {
             "colorbar": {
              "outlinewidth": 0,
              "ticks": ""
             }
            },
            "type": "scattercarpet"
           }
          ],
          "scattergeo": [
           {
            "marker": {
             "colorbar": {
              "outlinewidth": 0,
              "ticks": ""
             }
            },
            "type": "scattergeo"
           }
          ],
          "scattergl": [
           {
            "marker": {
             "colorbar": {
              "outlinewidth": 0,
              "ticks": ""
             }
            },
            "type": "scattergl"
           }
          ],
          "scattermapbox": [
           {
            "marker": {
             "colorbar": {
              "outlinewidth": 0,
              "ticks": ""
             }
            },
            "type": "scattermapbox"
           }
          ],
          "scatterpolar": [
           {
            "marker": {
             "colorbar": {
              "outlinewidth": 0,
              "ticks": ""
             }
            },
            "type": "scatterpolar"
           }
          ],
          "scatterpolargl": [
           {
            "marker": {
             "colorbar": {
              "outlinewidth": 0,
              "ticks": ""
             }
            },
            "type": "scatterpolargl"
           }
          ],
          "scatterternary": [
           {
            "marker": {
             "colorbar": {
              "outlinewidth": 0,
              "ticks": ""
             }
            },
            "type": "scatterternary"
           }
          ],
          "surface": [
           {
            "colorbar": {
             "outlinewidth": 0,
             "ticks": ""
            },
            "colorscale": [
             [
              0,
              "#0d0887"
             ],
             [
              0.1111111111111111,
              "#46039f"
             ],
             [
              0.2222222222222222,
              "#7201a8"
             ],
             [
              0.3333333333333333,
              "#9c179e"
             ],
             [
              0.4444444444444444,
              "#bd3786"
             ],
             [
              0.5555555555555556,
              "#d8576b"
             ],
             [
              0.6666666666666666,
              "#ed7953"
             ],
             [
              0.7777777777777778,
              "#fb9f3a"
             ],
             [
              0.8888888888888888,
              "#fdca26"
             ],
             [
              1,
              "#f0f921"
             ]
            ],
            "type": "surface"
           }
          ],
          "table": [
           {
            "cells": {
             "fill": {
              "color": "#EBF0F8"
             },
             "line": {
              "color": "white"
             }
            },
            "header": {
             "fill": {
              "color": "#C8D4E3"
             },
             "line": {
              "color": "white"
             }
            },
            "type": "table"
           }
          ]
         },
         "layout": {
          "annotationdefaults": {
           "arrowcolor": "#2a3f5f",
           "arrowhead": 0,
           "arrowwidth": 1
          },
          "colorscale": {
           "diverging": [
            [
             0,
             "#8e0152"
            ],
            [
             0.1,
             "#c51b7d"
            ],
            [
             0.2,
             "#de77ae"
            ],
            [
             0.3,
             "#f1b6da"
            ],
            [
             0.4,
             "#fde0ef"
            ],
            [
             0.5,
             "#f7f7f7"
            ],
            [
             0.6,
             "#e6f5d0"
            ],
            [
             0.7,
             "#b8e186"
            ],
            [
             0.8,
             "#7fbc41"
            ],
            [
             0.9,
             "#4d9221"
            ],
            [
             1,
             "#276419"
            ]
           ],
           "sequential": [
            [
             0,
             "#0d0887"
            ],
            [
             0.1111111111111111,
             "#46039f"
            ],
            [
             0.2222222222222222,
             "#7201a8"
            ],
            [
             0.3333333333333333,
             "#9c179e"
            ],
            [
             0.4444444444444444,
             "#bd3786"
            ],
            [
             0.5555555555555556,
             "#d8576b"
            ],
            [
             0.6666666666666666,
             "#ed7953"
            ],
            [
             0.7777777777777778,
             "#fb9f3a"
            ],
            [
             0.8888888888888888,
             "#fdca26"
            ],
            [
             1,
             "#f0f921"
            ]
           ],
           "sequentialminus": [
            [
             0,
             "#0d0887"
            ],
            [
             0.1111111111111111,
             "#46039f"
            ],
            [
             0.2222222222222222,
             "#7201a8"
            ],
            [
             0.3333333333333333,
             "#9c179e"
            ],
            [
             0.4444444444444444,
             "#bd3786"
            ],
            [
             0.5555555555555556,
             "#d8576b"
            ],
            [
             0.6666666666666666,
             "#ed7953"
            ],
            [
             0.7777777777777778,
             "#fb9f3a"
            ],
            [
             0.8888888888888888,
             "#fdca26"
            ],
            [
             1,
             "#f0f921"
            ]
           ]
          },
          "colorway": [
           "#636efa",
           "#EF553B",
           "#00cc96",
           "#ab63fa",
           "#FFA15A",
           "#19d3f3",
           "#FF6692",
           "#B6E880",
           "#FF97FF",
           "#FECB52"
          ],
          "font": {
           "color": "#2a3f5f"
          },
          "geo": {
           "bgcolor": "white",
           "lakecolor": "white",
           "landcolor": "#E5ECF6",
           "showlakes": true,
           "showland": true,
           "subunitcolor": "white"
          },
          "hoverlabel": {
           "align": "left"
          },
          "hovermode": "closest",
          "mapbox": {
           "style": "light"
          },
          "paper_bgcolor": "white",
          "plot_bgcolor": "#E5ECF6",
          "polar": {
           "angularaxis": {
            "gridcolor": "white",
            "linecolor": "white",
            "ticks": ""
           },
           "bgcolor": "#E5ECF6",
           "radialaxis": {
            "gridcolor": "white",
            "linecolor": "white",
            "ticks": ""
           }
          },
          "scene": {
           "xaxis": {
            "backgroundcolor": "#E5ECF6",
            "gridcolor": "white",
            "gridwidth": 2,
            "linecolor": "white",
            "showbackground": true,
            "ticks": "",
            "zerolinecolor": "white"
           },
           "yaxis": {
            "backgroundcolor": "#E5ECF6",
            "gridcolor": "white",
            "gridwidth": 2,
            "linecolor": "white",
            "showbackground": true,
            "ticks": "",
            "zerolinecolor": "white"
           },
           "zaxis": {
            "backgroundcolor": "#E5ECF6",
            "gridcolor": "white",
            "gridwidth": 2,
            "linecolor": "white",
            "showbackground": true,
            "ticks": "",
            "zerolinecolor": "white"
           }
          },
          "shapedefaults": {
           "line": {
            "color": "#2a3f5f"
           }
          },
          "ternary": {
           "aaxis": {
            "gridcolor": "white",
            "linecolor": "white",
            "ticks": ""
           },
           "baxis": {
            "gridcolor": "white",
            "linecolor": "white",
            "ticks": ""
           },
           "bgcolor": "#E5ECF6",
           "caxis": {
            "gridcolor": "white",
            "linecolor": "white",
            "ticks": ""
           }
          },
          "title": {
           "x": 0.05
          },
          "xaxis": {
           "automargin": true,
           "gridcolor": "white",
           "linecolor": "white",
           "ticks": "",
           "zerolinecolor": "white",
           "zerolinewidth": 2
          },
          "yaxis": {
           "automargin": true,
           "gridcolor": "white",
           "linecolor": "white",
           "ticks": "",
           "zerolinecolor": "white",
           "zerolinewidth": 2
          }
         }
        },
        "title": {
         "text": "Test set error vs Gradient descent iterations with L2 regularization"
        },
        "xaxis": {
         "anchor": "y",
         "autorange": true,
         "domain": [
          0,
          0.98
         ],
         "range": [
          1,
          100
         ],
         "title": {
          "text": "iteration_number"
         },
         "type": "linear"
        },
        "yaxis": {
         "anchor": "x",
         "autorange": true,
         "domain": [
          0,
          1
         ],
         "range": [
          0.1057215582115981,
          1.047067286409916
         ],
         "title": {
          "text": "error"
         },
         "type": "linear"
        }
       }
      },
      "image/png": "[encoded data removed]",
      "text/html": [
       "<div>\n",
       "        \n",
       "        \n",
       "            <div id=\"394c6068-7a26-4240-a96a-8e430718c922\" class=\"plotly-graph-div\" style=\"height:600px; width:100%;\"></div>\n",
       "            <script type=\"text/javascript\">\n",
       "                require([\"plotly\"], function(Plotly) {\n",
       "                    window.PLOTLYENV=window.PLOTLYENV || {};\n",
       "                    \n",
       "                if (document.getElementById(\"394c6068-7a26-4240-a96a-8e430718c922\")) {\n",
       "                    Plotly.newPlot(\n",
       "                        '394c6068-7a26-4240-a96a-8e430718c922',\n",
       "                        [{\"customdata\": [[1.0, 1.0], [0.25132802124834, 2.0], [0.20803452855245685, 3.0], [0.18605577689243025, 4.0], [0.1744355909694555, 5.0], [0.16905710491367865, 6.0], [0.16739707835325368, 7.0], [0.16440903054448874, 8.0], [0.1625498007968128, 9.0], [0.16168658698539173, 10.0], [0.16115537848605577, 11.0], [0.16115537848605577, 12.0], [0.16115537848605577, 13.0], [0.16075697211155382, 14.0], [0.15962815405046482, 15.0], [0.15929614873837983, 16.0], [0.1590305444887118, 17.0], [0.15889774236387777, 18.0], [0.15863213811420984, 19.0], [0.1590305444887118, 20.0], [0.1591633466135458, 21.0], [0.1586985391766268, 22.0], [0.15830013280212485, 23.0], [0.15770252324037182, 24.0], [0.15737051792828682, 25.0], [0.15664010624169988, 26.0], [0.15664010624169988, 27.0], [0.1564409030544489, 28.0], [0.1564409030544489, 29.0], [0.1564409030544489, 30.0], [0.15650730411686586, 31.0], [0.15650730411686586, 32.0], [0.1563081009296149, 33.0], [0.1564409030544489, 34.0], [0.1563081009296149, 35.0], [0.15610889774236392, 36.0], [0.15571049136786186, 37.0], [0.15571049136786186, 38.0], [0.15577689243027892, 39.0], [0.1556440903054449, 40.0], [0.15557768924302784, 41.0], [0.15571049136786186, 42.0], [0.1556440903054449, 43.0], [0.15557768924302784, 44.0], [0.15571049136786186, 45.0], [0.15551128818061088, 46.0], [0.15557768924302784, 47.0], [0.1553120849933599, 48.0], [0.1553120849933599, 49.0], [0.1551792828685259, 50.0], [0.15551128818061088, 51.0], [0.15544488711819393, 52.0], [0.15551128818061088, 53.0], [0.15557768924302784, 54.0], [0.15557768924302784, 55.0], [0.15544488711819393, 56.0], [0.1553120849933599, 57.0], [0.15537848605577687, 58.0], [0.1551792828685259, 59.0], [0.15511288180610894, 60.0], [0.15511288180610894, 61.0], [0.15504648074369187, 62.0], [0.15504648074369187, 63.0], [0.15511288180610894, 64.0], [0.15504648074369187, 65.0], [0.15498007968127492, 66.0], [0.15491367861885785, 67.0], [0.15478087649402394, 68.0], [0.15458167330677286, 69.0], [0.15464807436918993, 70.0], [0.15458167330677286, 71.0], [0.15444887118193895, 72.0], [0.1545152722443559, 73.0], [0.1545152722443559, 74.0], [0.15424966799468787, 75.0], [0.1540504648074369, 76.0], [0.15411686586985396, 77.0], [0.15391766268260287, 78.0], [0.15391766268260287, 79.0], [0.15385126162018592, 80.0], [0.15378486055776897, 81.0], [0.15385126162018592, 82.0], [0.15378486055776897, 83.0], [0.1537184594953519, 84.0], [0.15365205843293495, 85.0], [0.15332005312084995, 86.0], [0.15332005312084995, 87.0], [0.15332005312084995, 88.0], [0.15332005312084995, 89.0], [0.1532536520584329, 90.0], [0.15332005312084995, 91.0], [0.15332005312084995, 92.0], [0.15332005312084995, 93.0], [0.15298804780876496, 94.0], [0.15305444887118191, 95.0], [0.15285524568393094, 96.0], [0.152788844621514, 97.0], [0.152788844621514, 98.0], [0.152788844621514, 99.0], [0.152788844621514, 100.0]], \"hoverlabel\": {\"namelength\": 0}, \"hovertemplate\": \"<b>%{hovertext}</b><br><br>iteration_number=%{customdata[1]}<br>error=%{customdata[0]}\", \"hovertext\": [1.0, 0.25132802124834, 0.20803452855245685, 0.18605577689243025, 0.1744355909694555, 0.16905710491367865, 0.16739707835325368, 0.16440903054448874, 0.1625498007968128, 0.16168658698539173, 0.16115537848605577, 0.16115537848605577, 0.16115537848605577, 0.16075697211155382, 0.15962815405046482, 0.15929614873837983, 0.1590305444887118, 0.15889774236387777, 0.15863213811420984, 0.1590305444887118, 0.1591633466135458, 0.1586985391766268, 0.15830013280212485, 0.15770252324037182, 0.15737051792828682, 0.15664010624169988, 0.15664010624169988, 0.1564409030544489, 0.1564409030544489, 0.1564409030544489, 0.15650730411686586, 0.15650730411686586, 0.1563081009296149, 0.1564409030544489, 0.1563081009296149, 0.15610889774236392, 0.15571049136786186, 0.15571049136786186, 0.15577689243027892, 0.1556440903054449, 0.15557768924302784, 0.15571049136786186, 0.1556440903054449, 0.15557768924302784, 0.15571049136786186, 0.15551128818061088, 0.15557768924302784, 0.1553120849933599, 0.1553120849933599, 0.1551792828685259, 0.15551128818061088, 0.15544488711819393, 0.15551128818061088, 0.15557768924302784, 0.15557768924302784, 0.15544488711819393, 0.1553120849933599, 0.15537848605577687, 0.1551792828685259, 0.15511288180610894, 0.15511288180610894, 0.15504648074369187, 0.15504648074369187, 0.15511288180610894, 0.15504648074369187, 0.15498007968127492, 0.15491367861885785, 0.15478087649402394, 0.15458167330677286, 0.15464807436918993, 0.15458167330677286, 0.15444887118193895, 0.1545152722443559, 0.1545152722443559, 0.15424966799468787, 0.1540504648074369, 0.15411686586985396, 0.15391766268260287, 0.15391766268260287, 0.15385126162018592, 0.15378486055776897, 0.15385126162018592, 0.15378486055776897, 0.1537184594953519, 0.15365205843293495, 0.15332005312084995, 0.15332005312084995, 0.15332005312084995, 0.15332005312084995, 0.1532536520584329, 0.15332005312084995, 0.15332005312084995, 0.15332005312084995, 0.15298804780876496, 0.15305444887118191, 0.15285524568393094, 0.152788844621514, 0.152788844621514, 0.152788844621514, 0.152788844621514], \"legendgroup\": \"\", \"line\": {\"color\": \"#636efa\", \"dash\": \"solid\"}, \"mode\": \"lines\", \"name\": \"\", \"showlegend\": false, \"type\": \"scatter\", \"x\": [1, 2, 3, 4, 5, 6, 7, 8, 9, 10, 11, 12, 13, 14, 15, 16, 17, 18, 19, 20, 21, 22, 23, 24, 25, 26, 27, 28, 29, 30, 31, 32, 33, 34, 35, 36, 37, 38, 39, 40, 41, 42, 43, 44, 45, 46, 47, 48, 49, 50, 51, 52, 53, 54, 55, 56, 57, 58, 59, 60, 61, 62, 63, 64, 65, 66, 67, 68, 69, 70, 71, 72, 73, 74, 75, 76, 77, 78, 79, 80, 81, 82, 83, 84, 85, 86, 87, 88, 89, 90, 91, 92, 93, 94, 95, 96, 97, 98, 99, 100], \"xaxis\": \"x\", \"y\": [1.0, 0.25132802124834, 0.20803452855245685, 0.18605577689243025, 0.1744355909694555, 0.16905710491367865, 0.16739707835325368, 0.16440903054448874, 0.1625498007968128, 0.16168658698539173, 0.16115537848605577, 0.16115537848605577, 0.16115537848605577, 0.16075697211155382, 0.15962815405046482, 0.15929614873837983, 0.1590305444887118, 0.15889774236387777, 0.15863213811420984, 0.1590305444887118, 0.1591633466135458, 0.1586985391766268, 0.15830013280212485, 0.15770252324037182, 0.15737051792828682, 0.15664010624169988, 0.15664010624169988, 0.1564409030544489, 0.1564409030544489, 0.1564409030544489, 0.15650730411686586, 0.15650730411686586, 0.1563081009296149, 0.1564409030544489, 0.1563081009296149, 0.15610889774236392, 0.15571049136786186, 0.15571049136786186, 0.15577689243027892, 0.1556440903054449, 0.15557768924302784, 0.15571049136786186, 0.1556440903054449, 0.15557768924302784, 0.15571049136786186, 0.15551128818061088, 0.15557768924302784, 0.1553120849933599, 0.1553120849933599, 0.1551792828685259, 0.15551128818061088, 0.15544488711819393, 0.15551128818061088, 0.15557768924302784, 0.15557768924302784, 0.15544488711819393, 0.1553120849933599, 0.15537848605577687, 0.1551792828685259, 0.15511288180610894, 0.15511288180610894, 0.15504648074369187, 0.15504648074369187, 0.15511288180610894, 0.15504648074369187, 0.15498007968127492, 0.15491367861885785, 0.15478087649402394, 0.15458167330677286, 0.15464807436918993, 0.15458167330677286, 0.15444887118193895, 0.1545152722443559, 0.1545152722443559, 0.15424966799468787, 0.1540504648074369, 0.15411686586985396, 0.15391766268260287, 0.15391766268260287, 0.15385126162018592, 0.15378486055776897, 0.15385126162018592, 0.15378486055776897, 0.1537184594953519, 0.15365205843293495, 0.15332005312084995, 0.15332005312084995, 0.15332005312084995, 0.15332005312084995, 0.1532536520584329, 0.15332005312084995, 0.15332005312084995, 0.15332005312084995, 0.15298804780876496, 0.15305444887118191, 0.15285524568393094, 0.152788844621514, 0.152788844621514, 0.152788844621514, 0.152788844621514], \"yaxis\": \"y\"}],\n",
       "                        {\"height\": 600, \"legend\": {\"tracegroupgap\": 0}, \"template\": {\"data\": {\"bar\": [{\"error_x\": {\"color\": \"#2a3f5f\"}, \"error_y\": {\"color\": \"#2a3f5f\"}, \"marker\": {\"line\": {\"color\": \"#E5ECF6\", \"width\": 0.5}}, \"type\": \"bar\"}], \"barpolar\": [{\"marker\": {\"line\": {\"color\": \"#E5ECF6\", \"width\": 0.5}}, \"type\": \"barpolar\"}], \"carpet\": [{\"aaxis\": {\"endlinecolor\": \"#2a3f5f\", \"gridcolor\": \"white\", \"linecolor\": \"white\", \"minorgridcolor\": \"white\", \"startlinecolor\": \"#2a3f5f\"}, \"baxis\": {\"endlinecolor\": \"#2a3f5f\", \"gridcolor\": \"white\", \"linecolor\": \"white\", \"minorgridcolor\": \"white\", \"startlinecolor\": \"#2a3f5f\"}, \"type\": \"carpet\"}], \"choropleth\": [{\"colorbar\": {\"outlinewidth\": 0, \"ticks\": \"\"}, \"type\": \"choropleth\"}], \"contour\": [{\"colorbar\": {\"outlinewidth\": 0, \"ticks\": \"\"}, \"colorscale\": [[0.0, \"#0d0887\"], [0.1111111111111111, \"#46039f\"], [0.2222222222222222, \"#7201a8\"], [0.3333333333333333, \"#9c179e\"], [0.4444444444444444, \"#bd3786\"], [0.5555555555555556, \"#d8576b\"], [0.6666666666666666, \"#ed7953\"], [0.7777777777777778, \"#fb9f3a\"], [0.8888888888888888, \"#fdca26\"], [1.0, \"#f0f921\"]], \"type\": \"contour\"}], \"contourcarpet\": [{\"colorbar\": {\"outlinewidth\": 0, \"ticks\": \"\"}, \"type\": \"contourcarpet\"}], \"heatmap\": [{\"colorbar\": {\"outlinewidth\": 0, \"ticks\": \"\"}, \"colorscale\": [[0.0, \"#0d0887\"], [0.1111111111111111, \"#46039f\"], [0.2222222222222222, \"#7201a8\"], [0.3333333333333333, \"#9c179e\"], [0.4444444444444444, \"#bd3786\"], [0.5555555555555556, \"#d8576b\"], [0.6666666666666666, \"#ed7953\"], [0.7777777777777778, \"#fb9f3a\"], [0.8888888888888888, \"#fdca26\"], [1.0, \"#f0f921\"]], \"type\": \"heatmap\"}], \"heatmapgl\": [{\"colorbar\": {\"outlinewidth\": 0, \"ticks\": \"\"}, \"colorscale\": [[0.0, \"#0d0887\"], [0.1111111111111111, \"#46039f\"], [0.2222222222222222, \"#7201a8\"], [0.3333333333333333, \"#9c179e\"], [0.4444444444444444, \"#bd3786\"], [0.5555555555555556, \"#d8576b\"], [0.6666666666666666, \"#ed7953\"], [0.7777777777777778, \"#fb9f3a\"], [0.8888888888888888, \"#fdca26\"], [1.0, \"#f0f921\"]], \"type\": \"heatmapgl\"}], \"histogram\": [{\"marker\": {\"colorbar\": {\"outlinewidth\": 0, \"ticks\": \"\"}}, \"type\": \"histogram\"}], \"histogram2d\": [{\"colorbar\": {\"outlinewidth\": 0, \"ticks\": \"\"}, \"colorscale\": [[0.0, \"#0d0887\"], [0.1111111111111111, \"#46039f\"], [0.2222222222222222, \"#7201a8\"], [0.3333333333333333, \"#9c179e\"], [0.4444444444444444, \"#bd3786\"], [0.5555555555555556, \"#d8576b\"], [0.6666666666666666, \"#ed7953\"], [0.7777777777777778, \"#fb9f3a\"], [0.8888888888888888, \"#fdca26\"], [1.0, \"#f0f921\"]], \"type\": \"histogram2d\"}], \"histogram2dcontour\": [{\"colorbar\": {\"outlinewidth\": 0, \"ticks\": \"\"}, \"colorscale\": [[0.0, \"#0d0887\"], [0.1111111111111111, \"#46039f\"], [0.2222222222222222, \"#7201a8\"], [0.3333333333333333, \"#9c179e\"], [0.4444444444444444, \"#bd3786\"], [0.5555555555555556, \"#d8576b\"], [0.6666666666666666, \"#ed7953\"], [0.7777777777777778, \"#fb9f3a\"], [0.8888888888888888, \"#fdca26\"], [1.0, \"#f0f921\"]], \"type\": \"histogram2dcontour\"}], \"mesh3d\": [{\"colorbar\": {\"outlinewidth\": 0, \"ticks\": \"\"}, \"type\": \"mesh3d\"}], \"parcoords\": [{\"line\": {\"colorbar\": {\"outlinewidth\": 0, \"ticks\": \"\"}}, \"type\": \"parcoords\"}], \"scatter\": [{\"marker\": {\"colorbar\": {\"outlinewidth\": 0, \"ticks\": \"\"}}, \"type\": \"scatter\"}], \"scatter3d\": [{\"line\": {\"colorbar\": {\"outlinewidth\": 0, \"ticks\": \"\"}}, \"marker\": {\"colorbar\": {\"outlinewidth\": 0, \"ticks\": \"\"}}, \"type\": \"scatter3d\"}], \"scattercarpet\": [{\"marker\": {\"colorbar\": {\"outlinewidth\": 0, \"ticks\": \"\"}}, \"type\": \"scattercarpet\"}], \"scattergeo\": [{\"marker\": {\"colorbar\": {\"outlinewidth\": 0, \"ticks\": \"\"}}, \"type\": \"scattergeo\"}], \"scattergl\": [{\"marker\": {\"colorbar\": {\"outlinewidth\": 0, \"ticks\": \"\"}}, \"type\": \"scattergl\"}], \"scattermapbox\": [{\"marker\": {\"colorbar\": {\"outlinewidth\": 0, \"ticks\": \"\"}}, \"type\": \"scattermapbox\"}], \"scatterpolar\": [{\"marker\": {\"colorbar\": {\"outlinewidth\": 0, \"ticks\": \"\"}}, \"type\": \"scatterpolar\"}], \"scatterpolargl\": [{\"marker\": {\"colorbar\": {\"outlinewidth\": 0, \"ticks\": \"\"}}, \"type\": \"scatterpolargl\"}], \"scatterternary\": [{\"marker\": {\"colorbar\": {\"outlinewidth\": 0, \"ticks\": \"\"}}, \"type\": \"scatterternary\"}], \"surface\": [{\"colorbar\": {\"outlinewidth\": 0, \"ticks\": \"\"}, \"colorscale\": [[0.0, \"#0d0887\"], [0.1111111111111111, \"#46039f\"], [0.2222222222222222, \"#7201a8\"], [0.3333333333333333, \"#9c179e\"], [0.4444444444444444, \"#bd3786\"], [0.5555555555555556, \"#d8576b\"], [0.6666666666666666, \"#ed7953\"], [0.7777777777777778, \"#fb9f3a\"], [0.8888888888888888, \"#fdca26\"], [1.0, \"#f0f921\"]], \"type\": \"surface\"}], \"table\": [{\"cells\": {\"fill\": {\"color\": \"#EBF0F8\"}, \"line\": {\"color\": \"white\"}}, \"header\": {\"fill\": {\"color\": \"#C8D4E3\"}, \"line\": {\"color\": \"white\"}}, \"type\": \"table\"}]}, \"layout\": {\"annotationdefaults\": {\"arrowcolor\": \"#2a3f5f\", \"arrowhead\": 0, \"arrowwidth\": 1}, \"colorscale\": {\"diverging\": [[0, \"#8e0152\"], [0.1, \"#c51b7d\"], [0.2, \"#de77ae\"], [0.3, \"#f1b6da\"], [0.4, \"#fde0ef\"], [0.5, \"#f7f7f7\"], [0.6, \"#e6f5d0\"], [0.7, \"#b8e186\"], [0.8, \"#7fbc41\"], [0.9, \"#4d9221\"], [1, \"#276419\"]], \"sequential\": [[0.0, \"#0d0887\"], [0.1111111111111111, \"#46039f\"], [0.2222222222222222, \"#7201a8\"], [0.3333333333333333, \"#9c179e\"], [0.4444444444444444, \"#bd3786\"], [0.5555555555555556, \"#d8576b\"], [0.6666666666666666, \"#ed7953\"], [0.7777777777777778, \"#fb9f3a\"], [0.8888888888888888, \"#fdca26\"], [1.0, \"#f0f921\"]], \"sequentialminus\": [[0.0, \"#0d0887\"], [0.1111111111111111, \"#46039f\"], [0.2222222222222222, \"#7201a8\"], [0.3333333333333333, \"#9c179e\"], [0.4444444444444444, \"#bd3786\"], [0.5555555555555556, \"#d8576b\"], [0.6666666666666666, \"#ed7953\"], [0.7777777777777778, \"#fb9f3a\"], [0.8888888888888888, \"#fdca26\"], [1.0, \"#f0f921\"]]}, \"colorway\": [\"#636efa\", \"#EF553B\", \"#00cc96\", \"#ab63fa\", \"#FFA15A\", \"#19d3f3\", \"#FF6692\", \"#B6E880\", \"#FF97FF\", \"#FECB52\"], \"font\": {\"color\": \"#2a3f5f\"}, \"geo\": {\"bgcolor\": \"white\", \"lakecolor\": \"white\", \"landcolor\": \"#E5ECF6\", \"showlakes\": true, \"showland\": true, \"subunitcolor\": \"white\"}, \"hoverlabel\": {\"align\": \"left\"}, \"hovermode\": \"closest\", \"mapbox\": {\"style\": \"light\"}, \"paper_bgcolor\": \"white\", \"plot_bgcolor\": \"#E5ECF6\", \"polar\": {\"angularaxis\": {\"gridcolor\": \"white\", \"linecolor\": \"white\", \"ticks\": \"\"}, \"bgcolor\": \"#E5ECF6\", \"radialaxis\": {\"gridcolor\": \"white\", \"linecolor\": \"white\", \"ticks\": \"\"}}, \"scene\": {\"xaxis\": {\"backgroundcolor\": \"#E5ECF6\", \"gridcolor\": \"white\", \"gridwidth\": 2, \"linecolor\": \"white\", \"showbackground\": true, \"ticks\": \"\", \"zerolinecolor\": \"white\"}, \"yaxis\": {\"backgroundcolor\": \"#E5ECF6\", \"gridcolor\": \"white\", \"gridwidth\": 2, \"linecolor\": \"white\", \"showbackground\": true, \"ticks\": \"\", \"zerolinecolor\": \"white\"}, \"zaxis\": {\"backgroundcolor\": \"#E5ECF6\", \"gridcolor\": \"white\", \"gridwidth\": 2, \"linecolor\": \"white\", \"showbackground\": true, \"ticks\": \"\", \"zerolinecolor\": \"white\"}}, \"shapedefaults\": {\"line\": {\"color\": \"#2a3f5f\"}}, \"ternary\": {\"aaxis\": {\"gridcolor\": \"white\", \"linecolor\": \"white\", \"ticks\": \"\"}, \"baxis\": {\"gridcolor\": \"white\", \"linecolor\": \"white\", \"ticks\": \"\"}, \"bgcolor\": \"#E5ECF6\", \"caxis\": {\"gridcolor\": \"white\", \"linecolor\": \"white\", \"ticks\": \"\"}}, \"title\": {\"x\": 0.05}, \"xaxis\": {\"automargin\": true, \"gridcolor\": \"white\", \"linecolor\": \"white\", \"ticks\": \"\", \"zerolinecolor\": \"white\", \"zerolinewidth\": 2}, \"yaxis\": {\"automargin\": true, \"gridcolor\": \"white\", \"linecolor\": \"white\", \"ticks\": \"\", \"zerolinecolor\": \"white\", \"zerolinewidth\": 2}}}, \"title\": {\"text\": \"Test set error vs Gradient descent iterations with L2 regularization\"}, \"xaxis\": {\"anchor\": \"y\", \"domain\": [0.0, 0.98], \"title\": {\"text\": \"iteration_number\"}}, \"yaxis\": {\"anchor\": \"x\", \"domain\": [0.0, 1.0], \"title\": {\"text\": \"error\"}}},\n",
       "                        {\"responsive\": true}\n",
       "                    ).then(function(){\n",
       "                            \n",
       "var gd = document.getElementById('394c6068-7a26-4240-a96a-8e430718c922');\n",
       "var x = new MutationObserver(function (mutations, observer) {{\n",
       "        var display = window.getComputedStyle(gd).display;\n",
       "        if (!display || display === 'none') {{\n",
       "            console.log([gd, 'removed!']);\n",
       "            Plotly.purge(gd);\n",
       "            observer.disconnect();\n",
       "        }}\n",
       "}});\n",
       "\n",
       "// Listen for the removal of the full notebook cells\n",
       "var notebookContainer = gd.closest('#notebook-container');\n",
       "if (notebookContainer) {{\n",
       "    x.observe(notebookContainer, {childList: true});\n",
       "}}\n",
       "\n",
       "// Listen for the clearing of the current output cell\n",
       "var outputEl = gd.closest('.output');\n",
       "if (outputEl) {{\n",
       "    x.observe(outputEl, {childList: true});\n",
       "}}\n",
       "\n",
       "                        })\n",
       "                };\n",
       "                });\n",
       "            </script>\n",
       "        </div>"
      ]
     },
     "metadata": {},
     "output_type": "display_data"
    },
    {
     "data": {
      "application/vnd.plotly.v1+json": {
       "config": {
        "plotlyServerURL": "https://plot.ly"
       },
       "data": [
        {
         "customdata": [
          [
           1,
           1
          ],
          [
           0.25132802124834,
           2
          ],
          [
           0.20836653386454185,
           3
          ],
          [
           0.1861221779548473,
           4
          ],
          [
           0.17476759628154048,
           5
          ],
          [
           0.16952191235059766,
           6
          ],
          [
           0.16759628154050465,
           7
          ],
          [
           0.16467463479415667,
           8
          ],
          [
           0.16308100929614877,
           9
          ],
          [
           0.16235059760956172,
           10
          ],
          [
           0.16148738379814076,
           11
          ],
          [
           0.16135458167330674,
           12
          ],
          [
           0.1610889774236388,
           13
          ],
          [
           0.16069057104913675,
           14
          ],
          [
           0.15989375830013275,
           15
          ],
          [
           0.1591633466135458,
           16
          ],
          [
           0.15909694555112885,
           17
          ],
          [
           0.15883134130146082,
           18
          ],
          [
           0.1586985391766268,
           19
          ],
          [
           0.15856573705179278,
           20
          ],
          [
           0.15843293492695887,
           21
          ],
          [
           0.1583665338645418,
           22
          ],
          [
           0.15856573705179278,
           23
          ],
          [
           0.15830013280212485,
           24
          ],
          [
           0.15823373173970778,
           25
          ],
          [
           0.15770252324037182,
           26
          ],
          [
           0.15763612217795486,
           27
          ],
          [
           0.15737051792828682,
           28
          ],
          [
           0.1571049136786189,
           29
          ],
          [
           0.15717131474103585,
           30
          ],
          [
           0.1571049136786189,
           31
          ],
          [
           0.15703851261620183,
           32
          ],
          [
           0.15697211155378488,
           33
          ],
          [
           0.15697211155378488,
           34
          ],
          [
           0.15697211155378488,
           35
          ],
          [
           0.15697211155378488,
           36
          ],
          [
           0.1567729083665339,
           37
          ],
          [
           0.1567729083665339,
           38
          ],
          [
           0.15683930942895086,
           39
          ],
          [
           0.1567729083665339,
           40
          ],
          [
           0.15697211155378488,
           41
          ],
          [
           0.15683930942895086,
           42
          ],
          [
           0.1564409030544489,
           43
          ],
          [
           0.1563081009296149,
           44
          ],
          [
           0.1563081009296149,
           45
          ],
          [
           0.15617529880478087,
           46
          ],
          [
           0.15604249667994685,
           47
          ],
          [
           0.15584329349269588,
           48
          ],
          [
           0.1556440903054449,
           49
          ],
          [
           0.1556440903054449,
           50
          ],
          [
           0.1556440903054449,
           51
          ],
          [
           0.15571049136786186,
           52
          ],
          [
           0.15590969455511283,
           53
          ],
          [
           0.15584329349269588,
           54
          ],
          [
           0.15590969455511283,
           55
          ],
          [
           0.15584329349269588,
           56
          ],
          [
           0.1559760956175299,
           57
          ],
          [
           0.15577689243027892,
           58
          ],
          [
           0.15590969455511283,
           59
          ],
          [
           0.1559760956175299,
           60
          ],
          [
           0.15590969455511283,
           61
          ],
          [
           0.15584329349269588,
           62
          ],
          [
           0.15584329349269588,
           63
          ],
          [
           0.1556440903054449,
           64
          ],
          [
           0.15571049136786186,
           65
          ],
          [
           0.15557768924302784,
           66
          ],
          [
           0.15551128818061088,
           67
          ],
          [
           0.15544488711819393,
           68
          ],
          [
           0.15551128818061088,
           69
          ],
          [
           0.15524568393094285,
           70
          ],
          [
           0.15511288180610894,
           71
          ],
          [
           0.1551792828685259,
           72
          ],
          [
           0.15511288180610894,
           73
          ],
          [
           0.15511288180610894,
           74
          ],
          [
           0.15498007968127492,
           75
          ],
          [
           0.15491367861885785,
           76
          ],
          [
           0.15504648074369187,
           77
          ],
          [
           0.15511288180610894,
           78
          ],
          [
           0.15511288180610894,
           79
          ],
          [
           0.15504648074369187,
           80
          ],
          [
           0.15491367861885785,
           81
          ],
          [
           0.15464807436918993,
           82
          ],
          [
           0.15471447543160688,
           83
          ],
          [
           0.15458167330677286,
           84
          ],
          [
           0.15464807436918993,
           85
          ],
          [
           0.15464807436918993,
           86
          ],
          [
           0.15471447543160688,
           87
          ],
          [
           0.15471447543160688,
           88
          ],
          [
           0.15471447543160688,
           89
          ],
          [
           0.15471447543160688,
           90
          ],
          [
           0.15444887118193895,
           91
          ],
          [
           0.1545152722443559,
           92
          ],
          [
           0.15431606905710493,
           93
          ],
          [
           0.15431606905710493,
           94
          ],
          [
           0.15431606905710493,
           95
          ],
          [
           0.1541832669322709,
           96
          ],
          [
           0.15424966799468787,
           97
          ],
          [
           0.15424966799468787,
           98
          ],
          [
           0.15444887118193895,
           99
          ],
          [
           0.15444887118193895,
           100
          ]
         ],
         "hoverlabel": {
          "namelength": 0
         },
         "hovertemplate": "<b>%{hovertext}</b><br><br>iteration_number=%{customdata[1]}<br>error=%{customdata[0]}",
         "hovertext": [
          1,
          0.25132802124834,
          0.20836653386454185,
          0.1861221779548473,
          0.17476759628154048,
          0.16952191235059766,
          0.16759628154050465,
          0.16467463479415667,
          0.16308100929614877,
          0.16235059760956172,
          0.16148738379814076,
          0.16135458167330674,
          0.1610889774236388,
          0.16069057104913675,
          0.15989375830013275,
          0.1591633466135458,
          0.15909694555112885,
          0.15883134130146082,
          0.1586985391766268,
          0.15856573705179278,
          0.15843293492695887,
          0.1583665338645418,
          0.15856573705179278,
          0.15830013280212485,
          0.15823373173970778,
          0.15770252324037182,
          0.15763612217795486,
          0.15737051792828682,
          0.1571049136786189,
          0.15717131474103585,
          0.1571049136786189,
          0.15703851261620183,
          0.15697211155378488,
          0.15697211155378488,
          0.15697211155378488,
          0.15697211155378488,
          0.1567729083665339,
          0.1567729083665339,
          0.15683930942895086,
          0.1567729083665339,
          0.15697211155378488,
          0.15683930942895086,
          0.1564409030544489,
          0.1563081009296149,
          0.1563081009296149,
          0.15617529880478087,
          0.15604249667994685,
          0.15584329349269588,
          0.1556440903054449,
          0.1556440903054449,
          0.1556440903054449,
          0.15571049136786186,
          0.15590969455511283,
          0.15584329349269588,
          0.15590969455511283,
          0.15584329349269588,
          0.1559760956175299,
          0.15577689243027892,
          0.15590969455511283,
          0.1559760956175299,
          0.15590969455511283,
          0.15584329349269588,
          0.15584329349269588,
          0.1556440903054449,
          0.15571049136786186,
          0.15557768924302784,
          0.15551128818061088,
          0.15544488711819393,
          0.15551128818061088,
          0.15524568393094285,
          0.15511288180610894,
          0.1551792828685259,
          0.15511288180610894,
          0.15511288180610894,
          0.15498007968127492,
          0.15491367861885785,
          0.15504648074369187,
          0.15511288180610894,
          0.15511288180610894,
          0.15504648074369187,
          0.15491367861885785,
          0.15464807436918993,
          0.15471447543160688,
          0.15458167330677286,
          0.15464807436918993,
          0.15464807436918993,
          0.15471447543160688,
          0.15471447543160688,
          0.15471447543160688,
          0.15471447543160688,
          0.15444887118193895,
          0.1545152722443559,
          0.15431606905710493,
          0.15431606905710493,
          0.15431606905710493,
          0.1541832669322709,
          0.15424966799468787,
          0.15424966799468787,
          0.15444887118193895,
          0.15444887118193895
         ],
         "legendgroup": "",
         "line": {
          "color": "#636efa",
          "dash": "solid"
         },
         "mode": "lines",
         "name": "",
         "showlegend": false,
         "type": "scatter",
         "x": [
          1,
          2,
          3,
          4,
          5,
          6,
          7,
          8,
          9,
          10,
          11,
          12,
          13,
          14,
          15,
          16,
          17,
          18,
          19,
          20,
          21,
          22,
          23,
          24,
          25,
          26,
          27,
          28,
          29,
          30,
          31,
          32,
          33,
          34,
          35,
          36,
          37,
          38,
          39,
          40,
          41,
          42,
          43,
          44,
          45,
          46,
          47,
          48,
          49,
          50,
          51,
          52,
          53,
          54,
          55,
          56,
          57,
          58,
          59,
          60,
          61,
          62,
          63,
          64,
          65,
          66,
          67,
          68,
          69,
          70,
          71,
          72,
          73,
          74,
          75,
          76,
          77,
          78,
          79,
          80,
          81,
          82,
          83,
          84,
          85,
          86,
          87,
          88,
          89,
          90,
          91,
          92,
          93,
          94,
          95,
          96,
          97,
          98,
          99,
          100
         ],
         "xaxis": "x",
         "y": [
          1,
          0.25132802124834,
          0.20836653386454185,
          0.1861221779548473,
          0.17476759628154048,
          0.16952191235059766,
          0.16759628154050465,
          0.16467463479415667,
          0.16308100929614877,
          0.16235059760956172,
          0.16148738379814076,
          0.16135458167330674,
          0.1610889774236388,
          0.16069057104913675,
          0.15989375830013275,
          0.1591633466135458,
          0.15909694555112885,
          0.15883134130146082,
          0.1586985391766268,
          0.15856573705179278,
          0.15843293492695887,
          0.1583665338645418,
          0.15856573705179278,
          0.15830013280212485,
          0.15823373173970778,
          0.15770252324037182,
          0.15763612217795486,
          0.15737051792828682,
          0.1571049136786189,
          0.15717131474103585,
          0.1571049136786189,
          0.15703851261620183,
          0.15697211155378488,
          0.15697211155378488,
          0.15697211155378488,
          0.15697211155378488,
          0.1567729083665339,
          0.1567729083665339,
          0.15683930942895086,
          0.1567729083665339,
          0.15697211155378488,
          0.15683930942895086,
          0.1564409030544489,
          0.1563081009296149,
          0.1563081009296149,
          0.15617529880478087,
          0.15604249667994685,
          0.15584329349269588,
          0.1556440903054449,
          0.1556440903054449,
          0.1556440903054449,
          0.15571049136786186,
          0.15590969455511283,
          0.15584329349269588,
          0.15590969455511283,
          0.15584329349269588,
          0.1559760956175299,
          0.15577689243027892,
          0.15590969455511283,
          0.1559760956175299,
          0.15590969455511283,
          0.15584329349269588,
          0.15584329349269588,
          0.1556440903054449,
          0.15571049136786186,
          0.15557768924302784,
          0.15551128818061088,
          0.15544488711819393,
          0.15551128818061088,
          0.15524568393094285,
          0.15511288180610894,
          0.1551792828685259,
          0.15511288180610894,
          0.15511288180610894,
          0.15498007968127492,
          0.15491367861885785,
          0.15504648074369187,
          0.15511288180610894,
          0.15511288180610894,
          0.15504648074369187,
          0.15491367861885785,
          0.15464807436918993,
          0.15471447543160688,
          0.15458167330677286,
          0.15464807436918993,
          0.15464807436918993,
          0.15471447543160688,
          0.15471447543160688,
          0.15471447543160688,
          0.15471447543160688,
          0.15444887118193895,
          0.1545152722443559,
          0.15431606905710493,
          0.15431606905710493,
          0.15431606905710493,
          0.1541832669322709,
          0.15424966799468787,
          0.15424966799468787,
          0.15444887118193895,
          0.15444887118193895
         ],
         "yaxis": "y"
        }
       ],
       "layout": {
        "autosize": true,
        "legend": {
         "tracegroupgap": 0
        },
        "template": {
         "data": {
          "bar": [
           {
            "error_x": {
             "color": "#2a3f5f"
            },
            "error_y": {
             "color": "#2a3f5f"
            },
            "marker": {
             "line": {
              "color": "#E5ECF6",
              "width": 0.5
             }
            },
            "type": "bar"
           }
          ],
          "barpolar": [
           {
            "marker": {
             "line": {
              "color": "#E5ECF6",
              "width": 0.5
             }
            },
            "type": "barpolar"
           }
          ],
          "carpet": [
           {
            "aaxis": {
             "endlinecolor": "#2a3f5f",
             "gridcolor": "white",
             "linecolor": "white",
             "minorgridcolor": "white",
             "startlinecolor": "#2a3f5f"
            },
            "baxis": {
             "endlinecolor": "#2a3f5f",
             "gridcolor": "white",
             "linecolor": "white",
             "minorgridcolor": "white",
             "startlinecolor": "#2a3f5f"
            },
            "type": "carpet"
           }
          ],
          "choropleth": [
           {
            "colorbar": {
             "outlinewidth": 0,
             "ticks": ""
            },
            "type": "choropleth"
           }
          ],
          "contour": [
           {
            "colorbar": {
             "outlinewidth": 0,
             "ticks": ""
            },
            "colorscale": [
             [
              0,
              "#0d0887"
             ],
             [
              0.1111111111111111,
              "#46039f"
             ],
             [
              0.2222222222222222,
              "#7201a8"
             ],
             [
              0.3333333333333333,
              "#9c179e"
             ],
             [
              0.4444444444444444,
              "#bd3786"
             ],
             [
              0.5555555555555556,
              "#d8576b"
             ],
             [
              0.6666666666666666,
              "#ed7953"
             ],
             [
              0.7777777777777778,
              "#fb9f3a"
             ],
             [
              0.8888888888888888,
              "#fdca26"
             ],
             [
              1,
              "#f0f921"
             ]
            ],
            "type": "contour"
           }
          ],
          "contourcarpet": [
           {
            "colorbar": {
             "outlinewidth": 0,
             "ticks": ""
            },
            "type": "contourcarpet"
           }
          ],
          "heatmap": [
           {
            "colorbar": {
             "outlinewidth": 0,
             "ticks": ""
            },
            "colorscale": [
             [
              0,
              "#0d0887"
             ],
             [
              0.1111111111111111,
              "#46039f"
             ],
             [
              0.2222222222222222,
              "#7201a8"
             ],
             [
              0.3333333333333333,
              "#9c179e"
             ],
             [
              0.4444444444444444,
              "#bd3786"
             ],
             [
              0.5555555555555556,
              "#d8576b"
             ],
             [
              0.6666666666666666,
              "#ed7953"
             ],
             [
              0.7777777777777778,
              "#fb9f3a"
             ],
             [
              0.8888888888888888,
              "#fdca26"
             ],
             [
              1,
              "#f0f921"
             ]
            ],
            "type": "heatmap"
           }
          ],
          "heatmapgl": [
           {
            "colorbar": {
             "outlinewidth": 0,
             "ticks": ""
            },
            "colorscale": [
             [
              0,
              "#0d0887"
             ],
             [
              0.1111111111111111,
              "#46039f"
             ],
             [
              0.2222222222222222,
              "#7201a8"
             ],
             [
              0.3333333333333333,
              "#9c179e"
             ],
             [
              0.4444444444444444,
              "#bd3786"
             ],
             [
              0.5555555555555556,
              "#d8576b"
             ],
             [
              0.6666666666666666,
              "#ed7953"
             ],
             [
              0.7777777777777778,
              "#fb9f3a"
             ],
             [
              0.8888888888888888,
              "#fdca26"
             ],
             [
              1,
              "#f0f921"
             ]
            ],
            "type": "heatmapgl"
           }
          ],
          "histogram": [
           {
            "marker": {
             "colorbar": {
              "outlinewidth": 0,
              "ticks": ""
             }
            },
            "type": "histogram"
           }
          ],
          "histogram2d": [
           {
            "colorbar": {
             "outlinewidth": 0,
             "ticks": ""
            },
            "colorscale": [
             [
              0,
              "#0d0887"
             ],
             [
              0.1111111111111111,
              "#46039f"
             ],
             [
              0.2222222222222222,
              "#7201a8"
             ],
             [
              0.3333333333333333,
              "#9c179e"
             ],
             [
              0.4444444444444444,
              "#bd3786"
             ],
             [
              0.5555555555555556,
              "#d8576b"
             ],
             [
              0.6666666666666666,
              "#ed7953"
             ],
             [
              0.7777777777777778,
              "#fb9f3a"
             ],
             [
              0.8888888888888888,
              "#fdca26"
             ],
             [
              1,
              "#f0f921"
             ]
            ],
            "type": "histogram2d"
           }
          ],
          "histogram2dcontour": [
           {
            "colorbar": {
             "outlinewidth": 0,
             "ticks": ""
            },
            "colorscale": [
             [
              0,
              "#0d0887"
             ],
             [
              0.1111111111111111,
              "#46039f"
             ],
             [
              0.2222222222222222,
              "#7201a8"
             ],
             [
              0.3333333333333333,
              "#9c179e"
             ],
             [
              0.4444444444444444,
              "#bd3786"
             ],
             [
              0.5555555555555556,
              "#d8576b"
             ],
             [
              0.6666666666666666,
              "#ed7953"
             ],
             [
              0.7777777777777778,
              "#fb9f3a"
             ],
             [
              0.8888888888888888,
              "#fdca26"
             ],
             [
              1,
              "#f0f921"
             ]
            ],
            "type": "histogram2dcontour"
           }
          ],
          "mesh3d": [
           {
            "colorbar": {
             "outlinewidth": 0,
             "ticks": ""
            },
            "type": "mesh3d"
           }
          ],
          "parcoords": [
           {
            "line": {
             "colorbar": {
              "outlinewidth": 0,
              "ticks": ""
             }
            },
            "type": "parcoords"
           }
          ],
          "scatter": [
           {
            "marker": {
             "colorbar": {
              "outlinewidth": 0,
              "ticks": ""
             }
            },
            "type": "scatter"
           }
          ],
          "scatter3d": [
           {
            "line": {
             "colorbar": {
              "outlinewidth": 0,
              "ticks": ""
             }
            },
            "marker": {
             "colorbar": {
              "outlinewidth": 0,
              "ticks": ""
             }
            },
            "type": "scatter3d"
           }
          ],
          "scattercarpet": [
           {
            "marker": {
             "colorbar": {
              "outlinewidth": 0,
              "ticks": ""
             }
            },
            "type": "scattercarpet"
           }
          ],
          "scattergeo": [
           {
            "marker": {
             "colorbar": {
              "outlinewidth": 0,
              "ticks": ""
             }
            },
            "type": "scattergeo"
           }
          ],
          "scattergl": [
           {
            "marker": {
             "colorbar": {
              "outlinewidth": 0,
              "ticks": ""
             }
            },
            "type": "scattergl"
           }
          ],
          "scattermapbox": [
           {
            "marker": {
             "colorbar": {
              "outlinewidth": 0,
              "ticks": ""
             }
            },
            "type": "scattermapbox"
           }
          ],
          "scatterpolar": [
           {
            "marker": {
             "colorbar": {
              "outlinewidth": 0,
              "ticks": ""
             }
            },
            "type": "scatterpolar"
           }
          ],
          "scatterpolargl": [
           {
            "marker": {
             "colorbar": {
              "outlinewidth": 0,
              "ticks": ""
             }
            },
            "type": "scatterpolargl"
           }
          ],
          "scatterternary": [
           {
            "marker": {
             "colorbar": {
              "outlinewidth": 0,
              "ticks": ""
             }
            },
            "type": "scatterternary"
           }
          ],
          "surface": [
           {
            "colorbar": {
             "outlinewidth": 0,
             "ticks": ""
            },
            "colorscale": [
             [
              0,
              "#0d0887"
             ],
             [
              0.1111111111111111,
              "#46039f"
             ],
             [
              0.2222222222222222,
              "#7201a8"
             ],
             [
              0.3333333333333333,
              "#9c179e"
             ],
             [
              0.4444444444444444,
              "#bd3786"
             ],
             [
              0.5555555555555556,
              "#d8576b"
             ],
             [
              0.6666666666666666,
              "#ed7953"
             ],
             [
              0.7777777777777778,
              "#fb9f3a"
             ],
             [
              0.8888888888888888,
              "#fdca26"
             ],
             [
              1,
              "#f0f921"
             ]
            ],
            "type": "surface"
           }
          ],
          "table": [
           {
            "cells": {
             "fill": {
              "color": "#EBF0F8"
             },
             "line": {
              "color": "white"
             }
            },
            "header": {
             "fill": {
              "color": "#C8D4E3"
             },
             "line": {
              "color": "white"
             }
            },
            "type": "table"
           }
          ]
         },
         "layout": {
          "annotationdefaults": {
           "arrowcolor": "#2a3f5f",
           "arrowhead": 0,
           "arrowwidth": 1
          },
          "colorscale": {
           "diverging": [
            [
             0,
             "#8e0152"
            ],
            [
             0.1,
             "#c51b7d"
            ],
            [
             0.2,
             "#de77ae"
            ],
            [
             0.3,
             "#f1b6da"
            ],
            [
             0.4,
             "#fde0ef"
            ],
            [
             0.5,
             "#f7f7f7"
            ],
            [
             0.6,
             "#e6f5d0"
            ],
            [
             0.7,
             "#b8e186"
            ],
            [
             0.8,
             "#7fbc41"
            ],
            [
             0.9,
             "#4d9221"
            ],
            [
             1,
             "#276419"
            ]
           ],
           "sequential": [
            [
             0,
             "#0d0887"
            ],
            [
             0.1111111111111111,
             "#46039f"
            ],
            [
             0.2222222222222222,
             "#7201a8"
            ],
            [
             0.3333333333333333,
             "#9c179e"
            ],
            [
             0.4444444444444444,
             "#bd3786"
            ],
            [
             0.5555555555555556,
             "#d8576b"
            ],
            [
             0.6666666666666666,
             "#ed7953"
            ],
            [
             0.7777777777777778,
             "#fb9f3a"
            ],
            [
             0.8888888888888888,
             "#fdca26"
            ],
            [
             1,
             "#f0f921"
            ]
           ],
           "sequentialminus": [
            [
             0,
             "#0d0887"
            ],
            [
             0.1111111111111111,
             "#46039f"
            ],
            [
             0.2222222222222222,
             "#7201a8"
            ],
            [
             0.3333333333333333,
             "#9c179e"
            ],
            [
             0.4444444444444444,
             "#bd3786"
            ],
            [
             0.5555555555555556,
             "#d8576b"
            ],
            [
             0.6666666666666666,
             "#ed7953"
            ],
            [
             0.7777777777777778,
             "#fb9f3a"
            ],
            [
             0.8888888888888888,
             "#fdca26"
            ],
            [
             1,
             "#f0f921"
            ]
           ]
          },
          "colorway": [
           "#636efa",
           "#EF553B",
           "#00cc96",
           "#ab63fa",
           "#FFA15A",
           "#19d3f3",
           "#FF6692",
           "#B6E880",
           "#FF97FF",
           "#FECB52"
          ],
          "font": {
           "color": "#2a3f5f"
          },
          "geo": {
           "bgcolor": "white",
           "lakecolor": "white",
           "landcolor": "#E5ECF6",
           "showlakes": true,
           "showland": true,
           "subunitcolor": "white"
          },
          "hoverlabel": {
           "align": "left"
          },
          "hovermode": "closest",
          "mapbox": {
           "style": "light"
          },
          "paper_bgcolor": "white",
          "plot_bgcolor": "#E5ECF6",
          "polar": {
           "angularaxis": {
            "gridcolor": "white",
            "linecolor": "white",
            "ticks": ""
           },
           "bgcolor": "#E5ECF6",
           "radialaxis": {
            "gridcolor": "white",
            "linecolor": "white",
            "ticks": ""
           }
          },
          "scene": {
           "xaxis": {
            "backgroundcolor": "#E5ECF6",
            "gridcolor": "white",
            "gridwidth": 2,
            "linecolor": "white",
            "showbackground": true,
            "ticks": "",
            "zerolinecolor": "white"
           },
           "yaxis": {
            "backgroundcolor": "#E5ECF6",
            "gridcolor": "white",
            "gridwidth": 2,
            "linecolor": "white",
            "showbackground": true,
            "ticks": "",
            "zerolinecolor": "white"
           },
           "zaxis": {
            "backgroundcolor": "#E5ECF6",
            "gridcolor": "white",
            "gridwidth": 2,
            "linecolor": "white",
            "showbackground": true,
            "ticks": "",
            "zerolinecolor": "white"
           }
          },
          "shapedefaults": {
           "line": {
            "color": "#2a3f5f"
           }
          },
          "ternary": {
           "aaxis": {
            "gridcolor": "white",
            "linecolor": "white",
            "ticks": ""
           },
           "baxis": {
            "gridcolor": "white",
            "linecolor": "white",
            "ticks": ""
           },
           "bgcolor": "#E5ECF6",
           "caxis": {
            "gridcolor": "white",
            "linecolor": "white",
            "ticks": ""
           }
          },
          "title": {
           "x": 0.05
          },
          "xaxis": {
           "automargin": true,
           "gridcolor": "white",
           "linecolor": "white",
           "ticks": "",
           "zerolinecolor": "white",
           "zerolinewidth": 2
          },
          "yaxis": {
           "automargin": true,
           "gridcolor": "white",
           "linecolor": "white",
           "ticks": "",
           "zerolinecolor": "white",
           "zerolinewidth": 2
          }
         }
        },
        "title": {
         "text": "Test set error vs Gradient descent iterations with L1 regularization"
        },
        "xaxis": {
         "anchor": "y",
         "autorange": true,
         "domain": [
          0,
          0.98
         ],
         "range": [
          1,
          100
         ],
         "title": {
          "text": "iteration_number"
         },
         "type": "linear"
        },
        "yaxis": {
         "anchor": "x",
         "autorange": true,
         "domain": [
          0,
          1
         ],
         "range": [
          0.10719344842850818,
          1.0469898185037627
         ],
         "title": {
          "text": "error"
         },
         "type": "linear"
        }
       }
      },
      "image/png": "[encoded data removed]",
      "text/html": [
       "<div>\n",
       "        \n",
       "        \n",
       "            <div id=\"12d71488-5645-4348-b81f-61ea9b9d624c\" class=\"plotly-graph-div\" style=\"height:600px; width:100%;\"></div>\n",
       "            <script type=\"text/javascript\">\n",
       "                require([\"plotly\"], function(Plotly) {\n",
       "                    window.PLOTLYENV=window.PLOTLYENV || {};\n",
       "                    \n",
       "                if (document.getElementById(\"12d71488-5645-4348-b81f-61ea9b9d624c\")) {\n",
       "                    Plotly.newPlot(\n",
       "                        '12d71488-5645-4348-b81f-61ea9b9d624c',\n",
       "                        [{\"customdata\": [[1.0, 1.0], [0.25132802124834, 2.0], [0.20836653386454185, 3.0], [0.1861221779548473, 4.0], [0.17476759628154048, 5.0], [0.16952191235059766, 6.0], [0.16759628154050465, 7.0], [0.16467463479415667, 8.0], [0.16308100929614877, 9.0], [0.16235059760956172, 10.0], [0.16148738379814076, 11.0], [0.16135458167330674, 12.0], [0.1610889774236388, 13.0], [0.16069057104913675, 14.0], [0.15989375830013275, 15.0], [0.1591633466135458, 16.0], [0.15909694555112885, 17.0], [0.15883134130146082, 18.0], [0.1586985391766268, 19.0], [0.15856573705179278, 20.0], [0.15843293492695887, 21.0], [0.1583665338645418, 22.0], [0.15856573705179278, 23.0], [0.15830013280212485, 24.0], [0.15823373173970778, 25.0], [0.15770252324037182, 26.0], [0.15763612217795486, 27.0], [0.15737051792828682, 28.0], [0.1571049136786189, 29.0], [0.15717131474103585, 30.0], [0.1571049136786189, 31.0], [0.15703851261620183, 32.0], [0.15697211155378488, 33.0], [0.15697211155378488, 34.0], [0.15697211155378488, 35.0], [0.15697211155378488, 36.0], [0.1567729083665339, 37.0], [0.1567729083665339, 38.0], [0.15683930942895086, 39.0], [0.1567729083665339, 40.0], [0.15697211155378488, 41.0], [0.15683930942895086, 42.0], [0.1564409030544489, 43.0], [0.1563081009296149, 44.0], [0.1563081009296149, 45.0], [0.15617529880478087, 46.0], [0.15604249667994685, 47.0], [0.15584329349269588, 48.0], [0.1556440903054449, 49.0], [0.1556440903054449, 50.0], [0.1556440903054449, 51.0], [0.15571049136786186, 52.0], [0.15590969455511283, 53.0], [0.15584329349269588, 54.0], [0.15590969455511283, 55.0], [0.15584329349269588, 56.0], [0.1559760956175299, 57.0], [0.15577689243027892, 58.0], [0.15590969455511283, 59.0], [0.1559760956175299, 60.0], [0.15590969455511283, 61.0], [0.15584329349269588, 62.0], [0.15584329349269588, 63.0], [0.1556440903054449, 64.0], [0.15571049136786186, 65.0], [0.15557768924302784, 66.0], [0.15551128818061088, 67.0], [0.15544488711819393, 68.0], [0.15551128818061088, 69.0], [0.15524568393094285, 70.0], [0.15511288180610894, 71.0], [0.1551792828685259, 72.0], [0.15511288180610894, 73.0], [0.15511288180610894, 74.0], [0.15498007968127492, 75.0], [0.15491367861885785, 76.0], [0.15504648074369187, 77.0], [0.15511288180610894, 78.0], [0.15511288180610894, 79.0], [0.15504648074369187, 80.0], [0.15491367861885785, 81.0], [0.15464807436918993, 82.0], [0.15471447543160688, 83.0], [0.15458167330677286, 84.0], [0.15464807436918993, 85.0], [0.15464807436918993, 86.0], [0.15471447543160688, 87.0], [0.15471447543160688, 88.0], [0.15471447543160688, 89.0], [0.15471447543160688, 90.0], [0.15444887118193895, 91.0], [0.1545152722443559, 92.0], [0.15431606905710493, 93.0], [0.15431606905710493, 94.0], [0.15431606905710493, 95.0], [0.1541832669322709, 96.0], [0.15424966799468787, 97.0], [0.15424966799468787, 98.0], [0.15444887118193895, 99.0], [0.15444887118193895, 100.0]], \"hoverlabel\": {\"namelength\": 0}, \"hovertemplate\": \"<b>%{hovertext}</b><br><br>iteration_number=%{customdata[1]}<br>error=%{customdata[0]}\", \"hovertext\": [1.0, 0.25132802124834, 0.20836653386454185, 0.1861221779548473, 0.17476759628154048, 0.16952191235059766, 0.16759628154050465, 0.16467463479415667, 0.16308100929614877, 0.16235059760956172, 0.16148738379814076, 0.16135458167330674, 0.1610889774236388, 0.16069057104913675, 0.15989375830013275, 0.1591633466135458, 0.15909694555112885, 0.15883134130146082, 0.1586985391766268, 0.15856573705179278, 0.15843293492695887, 0.1583665338645418, 0.15856573705179278, 0.15830013280212485, 0.15823373173970778, 0.15770252324037182, 0.15763612217795486, 0.15737051792828682, 0.1571049136786189, 0.15717131474103585, 0.1571049136786189, 0.15703851261620183, 0.15697211155378488, 0.15697211155378488, 0.15697211155378488, 0.15697211155378488, 0.1567729083665339, 0.1567729083665339, 0.15683930942895086, 0.1567729083665339, 0.15697211155378488, 0.15683930942895086, 0.1564409030544489, 0.1563081009296149, 0.1563081009296149, 0.15617529880478087, 0.15604249667994685, 0.15584329349269588, 0.1556440903054449, 0.1556440903054449, 0.1556440903054449, 0.15571049136786186, 0.15590969455511283, 0.15584329349269588, 0.15590969455511283, 0.15584329349269588, 0.1559760956175299, 0.15577689243027892, 0.15590969455511283, 0.1559760956175299, 0.15590969455511283, 0.15584329349269588, 0.15584329349269588, 0.1556440903054449, 0.15571049136786186, 0.15557768924302784, 0.15551128818061088, 0.15544488711819393, 0.15551128818061088, 0.15524568393094285, 0.15511288180610894, 0.1551792828685259, 0.15511288180610894, 0.15511288180610894, 0.15498007968127492, 0.15491367861885785, 0.15504648074369187, 0.15511288180610894, 0.15511288180610894, 0.15504648074369187, 0.15491367861885785, 0.15464807436918993, 0.15471447543160688, 0.15458167330677286, 0.15464807436918993, 0.15464807436918993, 0.15471447543160688, 0.15471447543160688, 0.15471447543160688, 0.15471447543160688, 0.15444887118193895, 0.1545152722443559, 0.15431606905710493, 0.15431606905710493, 0.15431606905710493, 0.1541832669322709, 0.15424966799468787, 0.15424966799468787, 0.15444887118193895, 0.15444887118193895], \"legendgroup\": \"\", \"line\": {\"color\": \"#636efa\", \"dash\": \"solid\"}, \"mode\": \"lines\", \"name\": \"\", \"showlegend\": false, \"type\": \"scatter\", \"x\": [1, 2, 3, 4, 5, 6, 7, 8, 9, 10, 11, 12, 13, 14, 15, 16, 17, 18, 19, 20, 21, 22, 23, 24, 25, 26, 27, 28, 29, 30, 31, 32, 33, 34, 35, 36, 37, 38, 39, 40, 41, 42, 43, 44, 45, 46, 47, 48, 49, 50, 51, 52, 53, 54, 55, 56, 57, 58, 59, 60, 61, 62, 63, 64, 65, 66, 67, 68, 69, 70, 71, 72, 73, 74, 75, 76, 77, 78, 79, 80, 81, 82, 83, 84, 85, 86, 87, 88, 89, 90, 91, 92, 93, 94, 95, 96, 97, 98, 99, 100], \"xaxis\": \"x\", \"y\": [1.0, 0.25132802124834, 0.20836653386454185, 0.1861221779548473, 0.17476759628154048, 0.16952191235059766, 0.16759628154050465, 0.16467463479415667, 0.16308100929614877, 0.16235059760956172, 0.16148738379814076, 0.16135458167330674, 0.1610889774236388, 0.16069057104913675, 0.15989375830013275, 0.1591633466135458, 0.15909694555112885, 0.15883134130146082, 0.1586985391766268, 0.15856573705179278, 0.15843293492695887, 0.1583665338645418, 0.15856573705179278, 0.15830013280212485, 0.15823373173970778, 0.15770252324037182, 0.15763612217795486, 0.15737051792828682, 0.1571049136786189, 0.15717131474103585, 0.1571049136786189, 0.15703851261620183, 0.15697211155378488, 0.15697211155378488, 0.15697211155378488, 0.15697211155378488, 0.1567729083665339, 0.1567729083665339, 0.15683930942895086, 0.1567729083665339, 0.15697211155378488, 0.15683930942895086, 0.1564409030544489, 0.1563081009296149, 0.1563081009296149, 0.15617529880478087, 0.15604249667994685, 0.15584329349269588, 0.1556440903054449, 0.1556440903054449, 0.1556440903054449, 0.15571049136786186, 0.15590969455511283, 0.15584329349269588, 0.15590969455511283, 0.15584329349269588, 0.1559760956175299, 0.15577689243027892, 0.15590969455511283, 0.1559760956175299, 0.15590969455511283, 0.15584329349269588, 0.15584329349269588, 0.1556440903054449, 0.15571049136786186, 0.15557768924302784, 0.15551128818061088, 0.15544488711819393, 0.15551128818061088, 0.15524568393094285, 0.15511288180610894, 0.1551792828685259, 0.15511288180610894, 0.15511288180610894, 0.15498007968127492, 0.15491367861885785, 0.15504648074369187, 0.15511288180610894, 0.15511288180610894, 0.15504648074369187, 0.15491367861885785, 0.15464807436918993, 0.15471447543160688, 0.15458167330677286, 0.15464807436918993, 0.15464807436918993, 0.15471447543160688, 0.15471447543160688, 0.15471447543160688, 0.15471447543160688, 0.15444887118193895, 0.1545152722443559, 0.15431606905710493, 0.15431606905710493, 0.15431606905710493, 0.1541832669322709, 0.15424966799468787, 0.15424966799468787, 0.15444887118193895, 0.15444887118193895], \"yaxis\": \"y\"}],\n",
       "                        {\"height\": 600, \"legend\": {\"tracegroupgap\": 0}, \"template\": {\"data\": {\"bar\": [{\"error_x\": {\"color\": \"#2a3f5f\"}, \"error_y\": {\"color\": \"#2a3f5f\"}, \"marker\": {\"line\": {\"color\": \"#E5ECF6\", \"width\": 0.5}}, \"type\": \"bar\"}], \"barpolar\": [{\"marker\": {\"line\": {\"color\": \"#E5ECF6\", \"width\": 0.5}}, \"type\": \"barpolar\"}], \"carpet\": [{\"aaxis\": {\"endlinecolor\": \"#2a3f5f\", \"gridcolor\": \"white\", \"linecolor\": \"white\", \"minorgridcolor\": \"white\", \"startlinecolor\": \"#2a3f5f\"}, \"baxis\": {\"endlinecolor\": \"#2a3f5f\", \"gridcolor\": \"white\", \"linecolor\": \"white\", \"minorgridcolor\": \"white\", \"startlinecolor\": \"#2a3f5f\"}, \"type\": \"carpet\"}], \"choropleth\": [{\"colorbar\": {\"outlinewidth\": 0, \"ticks\": \"\"}, \"type\": \"choropleth\"}], \"contour\": [{\"colorbar\": {\"outlinewidth\": 0, \"ticks\": \"\"}, \"colorscale\": [[0.0, \"#0d0887\"], [0.1111111111111111, \"#46039f\"], [0.2222222222222222, \"#7201a8\"], [0.3333333333333333, \"#9c179e\"], [0.4444444444444444, \"#bd3786\"], [0.5555555555555556, \"#d8576b\"], [0.6666666666666666, \"#ed7953\"], [0.7777777777777778, \"#fb9f3a\"], [0.8888888888888888, \"#fdca26\"], [1.0, \"#f0f921\"]], \"type\": \"contour\"}], \"contourcarpet\": [{\"colorbar\": {\"outlinewidth\": 0, \"ticks\": \"\"}, \"type\": \"contourcarpet\"}], \"heatmap\": [{\"colorbar\": {\"outlinewidth\": 0, \"ticks\": \"\"}, \"colorscale\": [[0.0, \"#0d0887\"], [0.1111111111111111, \"#46039f\"], [0.2222222222222222, \"#7201a8\"], [0.3333333333333333, \"#9c179e\"], [0.4444444444444444, \"#bd3786\"], [0.5555555555555556, \"#d8576b\"], [0.6666666666666666, \"#ed7953\"], [0.7777777777777778, \"#fb9f3a\"], [0.8888888888888888, \"#fdca26\"], [1.0, \"#f0f921\"]], \"type\": \"heatmap\"}], \"heatmapgl\": [{\"colorbar\": {\"outlinewidth\": 0, \"ticks\": \"\"}, \"colorscale\": [[0.0, \"#0d0887\"], [0.1111111111111111, \"#46039f\"], [0.2222222222222222, \"#7201a8\"], [0.3333333333333333, \"#9c179e\"], [0.4444444444444444, \"#bd3786\"], [0.5555555555555556, \"#d8576b\"], [0.6666666666666666, \"#ed7953\"], [0.7777777777777778, \"#fb9f3a\"], [0.8888888888888888, \"#fdca26\"], [1.0, \"#f0f921\"]], \"type\": \"heatmapgl\"}], \"histogram\": [{\"marker\": {\"colorbar\": {\"outlinewidth\": 0, \"ticks\": \"\"}}, \"type\": \"histogram\"}], \"histogram2d\": [{\"colorbar\": {\"outlinewidth\": 0, \"ticks\": \"\"}, \"colorscale\": [[0.0, \"#0d0887\"], [0.1111111111111111, \"#46039f\"], [0.2222222222222222, \"#7201a8\"], [0.3333333333333333, \"#9c179e\"], [0.4444444444444444, \"#bd3786\"], [0.5555555555555556, \"#d8576b\"], [0.6666666666666666, \"#ed7953\"], [0.7777777777777778, \"#fb9f3a\"], [0.8888888888888888, \"#fdca26\"], [1.0, \"#f0f921\"]], \"type\": \"histogram2d\"}], \"histogram2dcontour\": [{\"colorbar\": {\"outlinewidth\": 0, \"ticks\": \"\"}, \"colorscale\": [[0.0, \"#0d0887\"], [0.1111111111111111, \"#46039f\"], [0.2222222222222222, \"#7201a8\"], [0.3333333333333333, \"#9c179e\"], [0.4444444444444444, \"#bd3786\"], [0.5555555555555556, \"#d8576b\"], [0.6666666666666666, \"#ed7953\"], [0.7777777777777778, \"#fb9f3a\"], [0.8888888888888888, \"#fdca26\"], [1.0, \"#f0f921\"]], \"type\": \"histogram2dcontour\"}], \"mesh3d\": [{\"colorbar\": {\"outlinewidth\": 0, \"ticks\": \"\"}, \"type\": \"mesh3d\"}], \"parcoords\": [{\"line\": {\"colorbar\": {\"outlinewidth\": 0, \"ticks\": \"\"}}, \"type\": \"parcoords\"}], \"scatter\": [{\"marker\": {\"colorbar\": {\"outlinewidth\": 0, \"ticks\": \"\"}}, \"type\": \"scatter\"}], \"scatter3d\": [{\"line\": {\"colorbar\": {\"outlinewidth\": 0, \"ticks\": \"\"}}, \"marker\": {\"colorbar\": {\"outlinewidth\": 0, \"ticks\": \"\"}}, \"type\": \"scatter3d\"}], \"scattercarpet\": [{\"marker\": {\"colorbar\": {\"outlinewidth\": 0, \"ticks\": \"\"}}, \"type\": \"scattercarpet\"}], \"scattergeo\": [{\"marker\": {\"colorbar\": {\"outlinewidth\": 0, \"ticks\": \"\"}}, \"type\": \"scattergeo\"}], \"scattergl\": [{\"marker\": {\"colorbar\": {\"outlinewidth\": 0, \"ticks\": \"\"}}, \"type\": \"scattergl\"}], \"scattermapbox\": [{\"marker\": {\"colorbar\": {\"outlinewidth\": 0, \"ticks\": \"\"}}, \"type\": \"scattermapbox\"}], \"scatterpolar\": [{\"marker\": {\"colorbar\": {\"outlinewidth\": 0, \"ticks\": \"\"}}, \"type\": \"scatterpolar\"}], \"scatterpolargl\": [{\"marker\": {\"colorbar\": {\"outlinewidth\": 0, \"ticks\": \"\"}}, \"type\": \"scatterpolargl\"}], \"scatterternary\": [{\"marker\": {\"colorbar\": {\"outlinewidth\": 0, \"ticks\": \"\"}}, \"type\": \"scatterternary\"}], \"surface\": [{\"colorbar\": {\"outlinewidth\": 0, \"ticks\": \"\"}, \"colorscale\": [[0.0, \"#0d0887\"], [0.1111111111111111, \"#46039f\"], [0.2222222222222222, \"#7201a8\"], [0.3333333333333333, \"#9c179e\"], [0.4444444444444444, \"#bd3786\"], [0.5555555555555556, \"#d8576b\"], [0.6666666666666666, \"#ed7953\"], [0.7777777777777778, \"#fb9f3a\"], [0.8888888888888888, \"#fdca26\"], [1.0, \"#f0f921\"]], \"type\": \"surface\"}], \"table\": [{\"cells\": {\"fill\": {\"color\": \"#EBF0F8\"}, \"line\": {\"color\": \"white\"}}, \"header\": {\"fill\": {\"color\": \"#C8D4E3\"}, \"line\": {\"color\": \"white\"}}, \"type\": \"table\"}]}, \"layout\": {\"annotationdefaults\": {\"arrowcolor\": \"#2a3f5f\", \"arrowhead\": 0, \"arrowwidth\": 1}, \"colorscale\": {\"diverging\": [[0, \"#8e0152\"], [0.1, \"#c51b7d\"], [0.2, \"#de77ae\"], [0.3, \"#f1b6da\"], [0.4, \"#fde0ef\"], [0.5, \"#f7f7f7\"], [0.6, \"#e6f5d0\"], [0.7, \"#b8e186\"], [0.8, \"#7fbc41\"], [0.9, \"#4d9221\"], [1, \"#276419\"]], \"sequential\": [[0.0, \"#0d0887\"], [0.1111111111111111, \"#46039f\"], [0.2222222222222222, \"#7201a8\"], [0.3333333333333333, \"#9c179e\"], [0.4444444444444444, \"#bd3786\"], [0.5555555555555556, \"#d8576b\"], [0.6666666666666666, \"#ed7953\"], [0.7777777777777778, \"#fb9f3a\"], [0.8888888888888888, \"#fdca26\"], [1.0, \"#f0f921\"]], \"sequentialminus\": [[0.0, \"#0d0887\"], [0.1111111111111111, \"#46039f\"], [0.2222222222222222, \"#7201a8\"], [0.3333333333333333, \"#9c179e\"], [0.4444444444444444, \"#bd3786\"], [0.5555555555555556, \"#d8576b\"], [0.6666666666666666, \"#ed7953\"], [0.7777777777777778, \"#fb9f3a\"], [0.8888888888888888, \"#fdca26\"], [1.0, \"#f0f921\"]]}, \"colorway\": [\"#636efa\", \"#EF553B\", \"#00cc96\", \"#ab63fa\", \"#FFA15A\", \"#19d3f3\", \"#FF6692\", \"#B6E880\", \"#FF97FF\", \"#FECB52\"], \"font\": {\"color\": \"#2a3f5f\"}, \"geo\": {\"bgcolor\": \"white\", \"lakecolor\": \"white\", \"landcolor\": \"#E5ECF6\", \"showlakes\": true, \"showland\": true, \"subunitcolor\": \"white\"}, \"hoverlabel\": {\"align\": \"left\"}, \"hovermode\": \"closest\", \"mapbox\": {\"style\": \"light\"}, \"paper_bgcolor\": \"white\", \"plot_bgcolor\": \"#E5ECF6\", \"polar\": {\"angularaxis\": {\"gridcolor\": \"white\", \"linecolor\": \"white\", \"ticks\": \"\"}, \"bgcolor\": \"#E5ECF6\", \"radialaxis\": {\"gridcolor\": \"white\", \"linecolor\": \"white\", \"ticks\": \"\"}}, \"scene\": {\"xaxis\": {\"backgroundcolor\": \"#E5ECF6\", \"gridcolor\": \"white\", \"gridwidth\": 2, \"linecolor\": \"white\", \"showbackground\": true, \"ticks\": \"\", \"zerolinecolor\": \"white\"}, \"yaxis\": {\"backgroundcolor\": \"#E5ECF6\", \"gridcolor\": \"white\", \"gridwidth\": 2, \"linecolor\": \"white\", \"showbackground\": true, \"ticks\": \"\", \"zerolinecolor\": \"white\"}, \"zaxis\": {\"backgroundcolor\": \"#E5ECF6\", \"gridcolor\": \"white\", \"gridwidth\": 2, \"linecolor\": \"white\", \"showbackground\": true, \"ticks\": \"\", \"zerolinecolor\": \"white\"}}, \"shapedefaults\": {\"line\": {\"color\": \"#2a3f5f\"}}, \"ternary\": {\"aaxis\": {\"gridcolor\": \"white\", \"linecolor\": \"white\", \"ticks\": \"\"}, \"baxis\": {\"gridcolor\": \"white\", \"linecolor\": \"white\", \"ticks\": \"\"}, \"bgcolor\": \"#E5ECF6\", \"caxis\": {\"gridcolor\": \"white\", \"linecolor\": \"white\", \"ticks\": \"\"}}, \"title\": {\"x\": 0.05}, \"xaxis\": {\"automargin\": true, \"gridcolor\": \"white\", \"linecolor\": \"white\", \"ticks\": \"\", \"zerolinecolor\": \"white\", \"zerolinewidth\": 2}, \"yaxis\": {\"automargin\": true, \"gridcolor\": \"white\", \"linecolor\": \"white\", \"ticks\": \"\", \"zerolinecolor\": \"white\", \"zerolinewidth\": 2}}}, \"title\": {\"text\": \"Test set error vs Gradient descent iterations with L1 regularization\"}, \"xaxis\": {\"anchor\": \"y\", \"domain\": [0.0, 0.98], \"title\": {\"text\": \"iteration_number\"}}, \"yaxis\": {\"anchor\": \"x\", \"domain\": [0.0, 1.0], \"title\": {\"text\": \"error\"}}},\n",
       "                        {\"responsive\": true}\n",
       "                    ).then(function(){\n",
       "                            \n",
       "var gd = document.getElementById('12d71488-5645-4348-b81f-61ea9b9d624c');\n",
       "var x = new MutationObserver(function (mutations, observer) {{\n",
       "        var display = window.getComputedStyle(gd).display;\n",
       "        if (!display || display === 'none') {{\n",
       "            console.log([gd, 'removed!']);\n",
       "            Plotly.purge(gd);\n",
       "            observer.disconnect();\n",
       "        }}\n",
       "}});\n",
       "\n",
       "// Listen for the removal of the full notebook cells\n",
       "var notebookContainer = gd.closest('#notebook-container');\n",
       "if (notebookContainer) {{\n",
       "    x.observe(notebookContainer, {childList: true});\n",
       "}}\n",
       "\n",
       "// Listen for the clearing of the current output cell\n",
       "var outputEl = gd.closest('.output');\n",
       "if (outputEl) {{\n",
       "    x.observe(outputEl, {childList: true});\n",
       "}}\n",
       "\n",
       "                        })\n",
       "                };\n",
       "                });\n",
       "            </script>\n",
       "        </div>"
      ]
     },
     "metadata": {},
     "output_type": "display_data"
    }
   ],
   "source": [
    "test_error_l2 = pd.DataFrame(columns=['iteration_number', 'error']) \n",
    "test_error_l2['error'] = 1-test_acc_l2['accuracy']\n",
    "test_error_l2['iteration_number'] = np.arange(niter) + 1\n",
    "\n",
    "test_error_l1 = pd.DataFrame(columns=['iteration_number', 'error']) \n",
    "test_error_l1['error'] = 1-test_acc_l1['accuracy']\n",
    "test_error_l1['iteration_number'] = np.arange(niter) + 1\n",
    "\n",
    "fig = px.line(test_error_l2, x='iteration_number', y='error', hover_name='error', \n",
    "              hover_data=['error', 'iteration_number'],\n",
    "              title='Test set error vs Gradient descent iterations with L2 regularization')\n",
    "\n",
    "fig.show()\n",
    "\n",
    "fig = px.line(test_error_l1, x='iteration_number', y='error', hover_name='error', \n",
    "              hover_data=['error', 'iteration_number'],\n",
    "              title='Test set error vs Gradient descent iterations with L1 regularization')\n",
    "fig.show()"
   ]
  },
  {
   "cell_type": "code",
   "execution_count": null,
   "metadata": {},
   "outputs": [],
   "source": []
  },
  {
   "cell_type": "code",
   "execution_count": null,
   "metadata": {},
   "outputs": [],
   "source": []
  }
 ],
 "metadata": {
  "kernelspec": {
   "display_name": "Python 3",
   "language": "python",
   "name": "python3"
  },
  "language_info": {
   "codemirror_mode": {
    "name": "ipython",
    "version": 3
   },
   "file_extension": ".py",
   "mimetype": "text/x-python",
   "name": "python",
   "nbconvert_exporter": "python",
   "pygments_lexer": "ipython3",
   "version": "3.6.8"
  }
 },
 "nbformat": 4,
 "nbformat_minor": 4
}
